{
 "cells": [
  {
   "cell_type": "code",
   "execution_count": 14,
   "metadata": {},
   "outputs": [
    {
     "name": "stdout",
     "output_type": "stream",
     "text": [
      "there were  3984 guests\n",
      "there were    15 venues to visit\n",
      "\n",
      "Venue Names and types:\n",
      "----------------------\n",
      "Walt Disney Railroad  ride\n",
      "Harmony Barber Shop  service\n",
      "Plaza Restaurant  restaurant\n",
      "Crystal Palace  restaurant\n",
      "Swiss Family Treehouse  ride\n",
      "Magic Carpets of Aladdin  ride\n",
      "Jungle Cruise  ride\n",
      "Enchanted Tiki Room  ride\n",
      "Pirates of the Caribbean  ride\n",
      "Sunshine Tree Terrace  restaurant\n",
      "Splash Mountain  ride\n",
      "Big Thunder Mountain Railroad  ride\n",
      "Haunted Mansion  ride\n",
      "Hall of Presidents  ride\n",
      "Space Mountain  ride\n"
     ]
    }
   ],
   "source": [
    "import pickle\n",
    "\n",
    "simArchive = pickle.load(open( \"/Users/clisle/Dropbox/dataScience/parksim/parksim_records.p\", \"rb\" ) )\n",
    "visitors = simArchive['guests']\n",
    "venues = simArchive['attractions']\n",
    "\n",
    "print('there were %5d guests' % len(visitors))\n",
    "print('there were %5d venues to visit' % len(venues))\n",
    "print()\n",
    "print('Venue Names and types:')\n",
    "print('----------------------')\n",
    "for i in venues:\n",
    "    print(venues[i]['name'],venues[i]['type'])"
   ]
  },
  {
   "cell_type": "code",
   "execution_count": 17,
   "metadata": {},
   "outputs": [],
   "source": [
    "import pandas as pd\n",
    "\n",
    "vizdata = []\n",
    "for event in venues['Space Mountain']['events']:\n",
    "    #print(event)\n",
    "    vizdata.append({'type':event[0],'time':event[1],'queuelength':event[2]})\n",
    "space_mountain_events = pd.DataFrame(vizdata)"
   ]
  },
  {
   "cell_type": "markdown",
   "metadata": {},
   "source": [
    "Oh no, it looks like the queue length was longer than 1160 visitors multiple times during the day:"
   ]
  },
  {
   "cell_type": "code",
   "execution_count": 32,
   "metadata": {},
   "outputs": [
    {
     "data": {
      "text/html": [
       "<div>\n",
       "<style scoped>\n",
       "    .dataframe tbody tr th:only-of-type {\n",
       "        vertical-align: middle;\n",
       "    }\n",
       "\n",
       "    .dataframe tbody tr th {\n",
       "        vertical-align: top;\n",
       "    }\n",
       "\n",
       "    .dataframe thead th {\n",
       "        text-align: right;\n",
       "    }\n",
       "</style>\n",
       "<table border=\"1\" class=\"dataframe\">\n",
       "  <thead>\n",
       "    <tr style=\"text-align: right;\">\n",
       "      <th></th>\n",
       "      <th>queuelength</th>\n",
       "      <th>time</th>\n",
       "      <th>type</th>\n",
       "    </tr>\n",
       "  </thead>\n",
       "  <tbody>\n",
       "    <tr>\n",
       "      <th>1925</th>\n",
       "      <td>1161</td>\n",
       "      <td>67.077091</td>\n",
       "      <td>release</td>\n",
       "    </tr>\n",
       "    <tr>\n",
       "      <th>1927</th>\n",
       "      <td>1161</td>\n",
       "      <td>67.277391</td>\n",
       "      <td>request</td>\n",
       "    </tr>\n",
       "    <tr>\n",
       "      <th>1928</th>\n",
       "      <td>1162</td>\n",
       "      <td>67.285076</td>\n",
       "      <td>request</td>\n",
       "    </tr>\n",
       "    <tr>\n",
       "      <th>1929</th>\n",
       "      <td>1163</td>\n",
       "      <td>67.529645</td>\n",
       "      <td>request</td>\n",
       "    </tr>\n",
       "    <tr>\n",
       "      <th>1930</th>\n",
       "      <td>1163</td>\n",
       "      <td>67.596852</td>\n",
       "      <td>release</td>\n",
       "    </tr>\n",
       "    <tr>\n",
       "      <th>1931</th>\n",
       "      <td>1163</td>\n",
       "      <td>67.622806</td>\n",
       "      <td>release</td>\n",
       "    </tr>\n",
       "    <tr>\n",
       "      <th>1932</th>\n",
       "      <td>1161</td>\n",
       "      <td>67.640502</td>\n",
       "      <td>release</td>\n",
       "    </tr>\n",
       "    <tr>\n",
       "      <th>1933</th>\n",
       "      <td>1161</td>\n",
       "      <td>67.685254</td>\n",
       "      <td>request</td>\n",
       "    </tr>\n",
       "    <tr>\n",
       "      <th>1934</th>\n",
       "      <td>1162</td>\n",
       "      <td>67.739899</td>\n",
       "      <td>request</td>\n",
       "    </tr>\n",
       "    <tr>\n",
       "      <th>1935</th>\n",
       "      <td>1163</td>\n",
       "      <td>67.757354</td>\n",
       "      <td>request</td>\n",
       "    </tr>\n",
       "    <tr>\n",
       "      <th>1936</th>\n",
       "      <td>1164</td>\n",
       "      <td>67.796454</td>\n",
       "      <td>request</td>\n",
       "    </tr>\n",
       "    <tr>\n",
       "      <th>1937</th>\n",
       "      <td>1165</td>\n",
       "      <td>67.814658</td>\n",
       "      <td>release</td>\n",
       "    </tr>\n",
       "    <tr>\n",
       "      <th>1938</th>\n",
       "      <td>1164</td>\n",
       "      <td>68.231017</td>\n",
       "      <td>release</td>\n",
       "    </tr>\n",
       "    <tr>\n",
       "      <th>1939</th>\n",
       "      <td>1163</td>\n",
       "      <td>68.302092</td>\n",
       "      <td>request</td>\n",
       "    </tr>\n",
       "    <tr>\n",
       "      <th>1940</th>\n",
       "      <td>1164</td>\n",
       "      <td>68.342307</td>\n",
       "      <td>release</td>\n",
       "    </tr>\n",
       "    <tr>\n",
       "      <th>1941</th>\n",
       "      <td>1162</td>\n",
       "      <td>68.529999</td>\n",
       "      <td>release</td>\n",
       "    </tr>\n",
       "    <tr>\n",
       "      <th>1942</th>\n",
       "      <td>1162</td>\n",
       "      <td>68.690496</td>\n",
       "      <td>request</td>\n",
       "    </tr>\n",
       "    <tr>\n",
       "      <th>1943</th>\n",
       "      <td>1163</td>\n",
       "      <td>68.732157</td>\n",
       "      <td>request</td>\n",
       "    </tr>\n",
       "    <tr>\n",
       "      <th>1944</th>\n",
       "      <td>1164</td>\n",
       "      <td>68.765974</td>\n",
       "      <td>release</td>\n",
       "    </tr>\n",
       "    <tr>\n",
       "      <th>1945</th>\n",
       "      <td>1163</td>\n",
       "      <td>68.783636</td>\n",
       "      <td>request</td>\n",
       "    </tr>\n",
       "    <tr>\n",
       "      <th>1946</th>\n",
       "      <td>1164</td>\n",
       "      <td>68.798497</td>\n",
       "      <td>request</td>\n",
       "    </tr>\n",
       "    <tr>\n",
       "      <th>1947</th>\n",
       "      <td>1164</td>\n",
       "      <td>68.830986</td>\n",
       "      <td>release</td>\n",
       "    </tr>\n",
       "    <tr>\n",
       "      <th>1948</th>\n",
       "      <td>1164</td>\n",
       "      <td>68.906072</td>\n",
       "      <td>release</td>\n",
       "    </tr>\n",
       "    <tr>\n",
       "      <th>1949</th>\n",
       "      <td>1163</td>\n",
       "      <td>68.910684</td>\n",
       "      <td>request</td>\n",
       "    </tr>\n",
       "    <tr>\n",
       "      <th>1950</th>\n",
       "      <td>1164</td>\n",
       "      <td>68.910684</td>\n",
       "      <td>request</td>\n",
       "    </tr>\n",
       "    <tr>\n",
       "      <th>1951</th>\n",
       "      <td>1165</td>\n",
       "      <td>69.267096</td>\n",
       "      <td>release</td>\n",
       "    </tr>\n",
       "    <tr>\n",
       "      <th>1952</th>\n",
       "      <td>1164</td>\n",
       "      <td>69.330072</td>\n",
       "      <td>request</td>\n",
       "    </tr>\n",
       "    <tr>\n",
       "      <th>1953</th>\n",
       "      <td>1165</td>\n",
       "      <td>69.331142</td>\n",
       "      <td>release</td>\n",
       "    </tr>\n",
       "    <tr>\n",
       "      <th>1954</th>\n",
       "      <td>1164</td>\n",
       "      <td>69.338085</td>\n",
       "      <td>request</td>\n",
       "    </tr>\n",
       "    <tr>\n",
       "      <th>1955</th>\n",
       "      <td>1165</td>\n",
       "      <td>69.374867</td>\n",
       "      <td>release</td>\n",
       "    </tr>\n",
       "    <tr>\n",
       "      <th>1956</th>\n",
       "      <td>1164</td>\n",
       "      <td>69.395726</td>\n",
       "      <td>request</td>\n",
       "    </tr>\n",
       "    <tr>\n",
       "      <th>1957</th>\n",
       "      <td>1165</td>\n",
       "      <td>69.417699</td>\n",
       "      <td>release</td>\n",
       "    </tr>\n",
       "    <tr>\n",
       "      <th>1958</th>\n",
       "      <td>1164</td>\n",
       "      <td>69.436897</td>\n",
       "      <td>release</td>\n",
       "    </tr>\n",
       "    <tr>\n",
       "      <th>1959</th>\n",
       "      <td>1163</td>\n",
       "      <td>69.505753</td>\n",
       "      <td>request</td>\n",
       "    </tr>\n",
       "    <tr>\n",
       "      <th>1960</th>\n",
       "      <td>1164</td>\n",
       "      <td>69.622639</td>\n",
       "      <td>request</td>\n",
       "    </tr>\n",
       "    <tr>\n",
       "      <th>1961</th>\n",
       "      <td>1165</td>\n",
       "      <td>69.652006</td>\n",
       "      <td>request</td>\n",
       "    </tr>\n",
       "    <tr>\n",
       "      <th>1962</th>\n",
       "      <td>1166</td>\n",
       "      <td>69.659098</td>\n",
       "      <td>request</td>\n",
       "    </tr>\n",
       "    <tr>\n",
       "      <th>1963</th>\n",
       "      <td>1167</td>\n",
       "      <td>69.730526</td>\n",
       "      <td>request</td>\n",
       "    </tr>\n",
       "    <tr>\n",
       "      <th>1964</th>\n",
       "      <td>1167</td>\n",
       "      <td>69.808789</td>\n",
       "      <td>release</td>\n",
       "    </tr>\n",
       "    <tr>\n",
       "      <th>1965</th>\n",
       "      <td>1167</td>\n",
       "      <td>69.856588</td>\n",
       "      <td>release</td>\n",
       "    </tr>\n",
       "    <tr>\n",
       "      <th>1966</th>\n",
       "      <td>1165</td>\n",
       "      <td>69.882512</td>\n",
       "      <td>release</td>\n",
       "    </tr>\n",
       "    <tr>\n",
       "      <th>1967</th>\n",
       "      <td>1165</td>\n",
       "      <td>70.056715</td>\n",
       "      <td>release</td>\n",
       "    </tr>\n",
       "    <tr>\n",
       "      <th>1968</th>\n",
       "      <td>1163</td>\n",
       "      <td>70.059883</td>\n",
       "      <td>release</td>\n",
       "    </tr>\n",
       "    <tr>\n",
       "      <th>1969</th>\n",
       "      <td>1163</td>\n",
       "      <td>70.075119</td>\n",
       "      <td>release</td>\n",
       "    </tr>\n",
       "    <tr>\n",
       "      <th>1970</th>\n",
       "      <td>1162</td>\n",
       "      <td>70.080100</td>\n",
       "      <td>release</td>\n",
       "    </tr>\n",
       "    <tr>\n",
       "      <th>1971</th>\n",
       "      <td>1161</td>\n",
       "      <td>70.191133</td>\n",
       "      <td>release</td>\n",
       "    </tr>\n",
       "    <tr>\n",
       "      <th>1973</th>\n",
       "      <td>1161</td>\n",
       "      <td>70.209266</td>\n",
       "      <td>request</td>\n",
       "    </tr>\n",
       "    <tr>\n",
       "      <th>1974</th>\n",
       "      <td>1162</td>\n",
       "      <td>70.235616</td>\n",
       "      <td>release</td>\n",
       "    </tr>\n",
       "    <tr>\n",
       "      <th>1975</th>\n",
       "      <td>1161</td>\n",
       "      <td>70.240474</td>\n",
       "      <td>request</td>\n",
       "    </tr>\n",
       "    <tr>\n",
       "      <th>1976</th>\n",
       "      <td>1162</td>\n",
       "      <td>70.276937</td>\n",
       "      <td>request</td>\n",
       "    </tr>\n",
       "    <tr>\n",
       "      <th>1977</th>\n",
       "      <td>1163</td>\n",
       "      <td>70.307721</td>\n",
       "      <td>release</td>\n",
       "    </tr>\n",
       "    <tr>\n",
       "      <th>1978</th>\n",
       "      <td>1162</td>\n",
       "      <td>70.345843</td>\n",
       "      <td>request</td>\n",
       "    </tr>\n",
       "    <tr>\n",
       "      <th>1979</th>\n",
       "      <td>1163</td>\n",
       "      <td>70.426314</td>\n",
       "      <td>release</td>\n",
       "    </tr>\n",
       "    <tr>\n",
       "      <th>1980</th>\n",
       "      <td>1162</td>\n",
       "      <td>70.508177</td>\n",
       "      <td>release</td>\n",
       "    </tr>\n",
       "    <tr>\n",
       "      <th>1981</th>\n",
       "      <td>1161</td>\n",
       "      <td>70.608382</td>\n",
       "      <td>release</td>\n",
       "    </tr>\n",
       "    <tr>\n",
       "      <th>1983</th>\n",
       "      <td>1161</td>\n",
       "      <td>70.902819</td>\n",
       "      <td>release</td>\n",
       "    </tr>\n",
       "  </tbody>\n",
       "</table>\n",
       "</div>"
      ],
      "text/plain": [
       "      queuelength       time     type\n",
       "1925         1161  67.077091  release\n",
       "1927         1161  67.277391  request\n",
       "1928         1162  67.285076  request\n",
       "1929         1163  67.529645  request\n",
       "1930         1163  67.596852  release\n",
       "1931         1163  67.622806  release\n",
       "1932         1161  67.640502  release\n",
       "1933         1161  67.685254  request\n",
       "1934         1162  67.739899  request\n",
       "1935         1163  67.757354  request\n",
       "1936         1164  67.796454  request\n",
       "1937         1165  67.814658  release\n",
       "1938         1164  68.231017  release\n",
       "1939         1163  68.302092  request\n",
       "1940         1164  68.342307  release\n",
       "1941         1162  68.529999  release\n",
       "1942         1162  68.690496  request\n",
       "1943         1163  68.732157  request\n",
       "1944         1164  68.765974  release\n",
       "1945         1163  68.783636  request\n",
       "1946         1164  68.798497  request\n",
       "1947         1164  68.830986  release\n",
       "1948         1164  68.906072  release\n",
       "1949         1163  68.910684  request\n",
       "1950         1164  68.910684  request\n",
       "1951         1165  69.267096  release\n",
       "1952         1164  69.330072  request\n",
       "1953         1165  69.331142  release\n",
       "1954         1164  69.338085  request\n",
       "1955         1165  69.374867  release\n",
       "1956         1164  69.395726  request\n",
       "1957         1165  69.417699  release\n",
       "1958         1164  69.436897  release\n",
       "1959         1163  69.505753  request\n",
       "1960         1164  69.622639  request\n",
       "1961         1165  69.652006  request\n",
       "1962         1166  69.659098  request\n",
       "1963         1167  69.730526  request\n",
       "1964         1167  69.808789  release\n",
       "1965         1167  69.856588  release\n",
       "1966         1165  69.882512  release\n",
       "1967         1165  70.056715  release\n",
       "1968         1163  70.059883  release\n",
       "1969         1163  70.075119  release\n",
       "1970         1162  70.080100  release\n",
       "1971         1161  70.191133  release\n",
       "1973         1161  70.209266  request\n",
       "1974         1162  70.235616  release\n",
       "1975         1161  70.240474  request\n",
       "1976         1162  70.276937  request\n",
       "1977         1163  70.307721  release\n",
       "1978         1162  70.345843  request\n",
       "1979         1163  70.426314  release\n",
       "1980         1162  70.508177  release\n",
       "1981         1161  70.608382  release\n",
       "1983         1161  70.902819  release"
      ]
     },
     "execution_count": 32,
     "metadata": {},
     "output_type": "execute_result"
    }
   ],
   "source": [
    "space_mountain_events[space_mountain_events.queuelength> 1160]"
   ]
  },
  {
   "cell_type": "markdown",
   "metadata": {},
   "source": [
    "It is easier to see the results graphically, so lets count up the times that the queue reached length 900 and bin this according to the time of the day to see how the flow changed throughout the day"
   ]
  },
  {
   "cell_type": "code",
   "execution_count": 27,
   "metadata": {},
   "outputs": [
    {
     "data": {
      "application/vnd.vegalite.v2+json": {
       "$schema": "https://vega.github.io/schema/vega-lite/v2.4.3.json",
       "config": {
        "view": {
         "height": 300,
         "width": 400
        }
       },
       "data": {
        "values": [
         {
          "queuelength": 901,
          "time": 57.77076881743748,
          "type": "request"
         },
         {
          "queuelength": 902,
          "time": 57.77076881743748,
          "type": "request"
         },
         {
          "queuelength": 903,
          "time": 57.77076881743748,
          "type": "request"
         },
         {
          "queuelength": 904,
          "time": 57.77076881743748,
          "type": "request"
         },
         {
          "queuelength": 905,
          "time": 57.77076881743748,
          "type": "request"
         },
         {
          "queuelength": 906,
          "time": 57.77076881743748,
          "type": "request"
         },
         {
          "queuelength": 907,
          "time": 57.845800135889796,
          "type": "release"
         },
         {
          "queuelength": 906,
          "time": 57.93876179342367,
          "type": "release"
         },
         {
          "queuelength": 905,
          "time": 57.94351713835418,
          "type": "request"
         },
         {
          "queuelength": 906,
          "time": 57.94351713835418,
          "type": "request"
         },
         {
          "queuelength": 907,
          "time": 57.94351713835418,
          "type": "request"
         },
         {
          "queuelength": 908,
          "time": 57.94351713835418,
          "type": "request"
         },
         {
          "queuelength": 909,
          "time": 57.94351713835418,
          "type": "request"
         },
         {
          "queuelength": 910,
          "time": 57.94351713835418,
          "type": "request"
         },
         {
          "queuelength": 911,
          "time": 58.049995983727555,
          "type": "request"
         },
         {
          "queuelength": 912,
          "time": 58.10461251940281,
          "type": "request"
         },
         {
          "queuelength": 913,
          "time": 58.122188259699655,
          "type": "request"
         },
         {
          "queuelength": 914,
          "time": 58.122188259699655,
          "type": "request"
         },
         {
          "queuelength": 915,
          "time": 58.122188259699655,
          "type": "request"
         },
         {
          "queuelength": 916,
          "time": 58.122188259699655,
          "type": "request"
         },
         {
          "queuelength": 917,
          "time": 58.159968363752824,
          "type": "release"
         },
         {
          "queuelength": 916,
          "time": 58.19364456784774,
          "type": "release"
         },
         {
          "queuelength": 915,
          "time": 58.315607076295535,
          "type": "request"
         },
         {
          "queuelength": 916,
          "time": 58.326053340573964,
          "type": "request"
         },
         {
          "queuelength": 917,
          "time": 58.34505684918439,
          "type": "request"
         },
         {
          "queuelength": 918,
          "time": 58.34505684918439,
          "type": "request"
         },
         {
          "queuelength": 919,
          "time": 58.34505684918439,
          "type": "request"
         },
         {
          "queuelength": 920,
          "time": 58.34505684918439,
          "type": "request"
         },
         {
          "queuelength": 921,
          "time": 58.34505684918439,
          "type": "request"
         },
         {
          "queuelength": 922,
          "time": 58.420036880142305,
          "type": "release"
         },
         {
          "queuelength": 921,
          "time": 58.453193958600494,
          "type": "release"
         },
         {
          "queuelength": 920,
          "time": 58.45777617834453,
          "type": "release"
         },
         {
          "queuelength": 919,
          "time": 58.46785237133039,
          "type": "release"
         },
         {
          "queuelength": 918,
          "time": 58.51601130316493,
          "type": "release"
         },
         {
          "queuelength": 917,
          "time": 58.532597927107,
          "type": "request"
         },
         {
          "queuelength": 918,
          "time": 58.532597927107,
          "type": "request"
         },
         {
          "queuelength": 919,
          "time": 58.56387210531814,
          "type": "release"
         },
         {
          "queuelength": 918,
          "time": 58.57581426609188,
          "type": "request"
         },
         {
          "queuelength": 919,
          "time": 58.674556942722546,
          "type": "request"
         },
         {
          "queuelength": 920,
          "time": 58.68143926609188,
          "type": "request"
         },
         {
          "queuelength": 921,
          "time": 58.68143926609188,
          "type": "request"
         },
         {
          "queuelength": 922,
          "time": 58.68143926609188,
          "type": "request"
         },
         {
          "queuelength": 923,
          "time": 58.68143926609188,
          "type": "request"
         },
         {
          "queuelength": 924,
          "time": 58.7572136125565,
          "type": "request"
         },
         {
          "queuelength": 925,
          "time": 58.788552567670244,
          "type": "request"
         },
         {
          "queuelength": 926,
          "time": 58.788552567670244,
          "type": "request"
         },
         {
          "queuelength": 927,
          "time": 58.788552567670244,
          "type": "request"
         },
         {
          "queuelength": 928,
          "time": 58.788552567670244,
          "type": "request"
         },
         {
          "queuelength": 929,
          "time": 58.788552567670244,
          "type": "request"
         },
         {
          "queuelength": 930,
          "time": 58.788552567670244,
          "type": "request"
         },
         {
          "queuelength": 931,
          "time": 58.788552567670244,
          "type": "request"
         },
         {
          "queuelength": 932,
          "time": 58.788552567670244,
          "type": "request"
         },
         {
          "queuelength": 933,
          "time": 58.880496383107804,
          "type": "request"
         },
         {
          "queuelength": 934,
          "time": 58.88950956936628,
          "type": "request"
         },
         {
          "queuelength": 935,
          "time": 58.94575301204655,
          "type": "request"
         },
         {
          "queuelength": 936,
          "time": 58.9808652803295,
          "type": "release"
         },
         {
          "queuelength": 935,
          "time": 59.051378012046555,
          "type": "request"
         },
         {
          "queuelength": 936,
          "time": 59.051378012046555,
          "type": "request"
         },
         {
          "queuelength": 937,
          "time": 59.051378012046555,
          "type": "request"
         },
         {
          "queuelength": 938,
          "time": 59.051378012046555,
          "type": "request"
         },
         {
          "queuelength": 939,
          "time": 59.051378012046555,
          "type": "request"
         },
         {
          "queuelength": 940,
          "time": 59.051378012046555,
          "type": "request"
         },
         {
          "queuelength": 941,
          "time": 59.051378012046555,
          "type": "request"
         },
         {
          "queuelength": 942,
          "time": 59.061848869819244,
          "type": "request"
         },
         {
          "queuelength": 943,
          "time": 59.079337148795936,
          "type": "release"
         },
         {
          "queuelength": 942,
          "time": 59.11444119550319,
          "type": "release"
         },
         {
          "queuelength": 941,
          "time": 59.16747386981925,
          "type": "request"
         },
         {
          "queuelength": 942,
          "time": 59.16747386981925,
          "type": "request"
         },
         {
          "queuelength": 943,
          "time": 59.16747386981925,
          "type": "request"
         },
         {
          "queuelength": 944,
          "time": 59.16747386981925,
          "type": "request"
         },
         {
          "queuelength": 945,
          "time": 59.16747386981925,
          "type": "request"
         },
         {
          "queuelength": 946,
          "time": 59.16747386981925,
          "type": "request"
         },
         {
          "queuelength": 947,
          "time": 59.16747386981925,
          "type": "request"
         },
         {
          "queuelength": 948,
          "time": 59.16747386981925,
          "type": "request"
         },
         {
          "queuelength": 949,
          "time": 59.16747386981925,
          "type": "request"
         },
         {
          "queuelength": 950,
          "time": 59.16747386981925,
          "type": "request"
         },
         {
          "queuelength": 951,
          "time": 59.20387417990447,
          "type": "request"
         },
         {
          "queuelength": 952,
          "time": 59.25873872211373,
          "type": "request"
         },
         {
          "queuelength": 953,
          "time": 59.27770066661989,
          "type": "request"
         },
         {
          "queuelength": 954,
          "time": 59.29453352104166,
          "type": "release"
         },
         {
          "queuelength": 953,
          "time": 59.351653328740774,
          "type": "request"
         },
         {
          "queuelength": 954,
          "time": 59.351653328740774,
          "type": "request"
         },
         {
          "queuelength": 955,
          "time": 59.36885263655538,
          "type": "request"
         },
         {
          "queuelength": 956,
          "time": 59.4328485687486,
          "type": "request"
         },
         {
          "queuelength": 957,
          "time": 59.43652140738111,
          "type": "request"
         },
         {
          "queuelength": 958,
          "time": 59.448655645627134,
          "type": "release"
         },
         {
          "queuelength": 957,
          "time": 59.54783105955384,
          "type": "request"
         },
         {
          "queuelength": 958,
          "time": 59.54783105955384,
          "type": "request"
         },
         {
          "queuelength": 959,
          "time": 59.54783105955384,
          "type": "request"
         },
         {
          "queuelength": 960,
          "time": 59.54783105955384,
          "type": "request"
         },
         {
          "queuelength": 961,
          "time": 59.54783105955384,
          "type": "request"
         },
         {
          "queuelength": 962,
          "time": 59.54783105955384,
          "type": "request"
         },
         {
          "queuelength": 963,
          "time": 59.54783105955384,
          "type": "request"
         },
         {
          "queuelength": 964,
          "time": 59.55470964838949,
          "type": "request"
         },
         {
          "queuelength": 965,
          "time": 59.58689750636266,
          "type": "release"
         },
         {
          "queuelength": 964,
          "time": 59.61785816257791,
          "type": "release"
         },
         {
          "queuelength": 963,
          "time": 59.639729550463144,
          "type": "request"
         },
         {
          "queuelength": 964,
          "time": 59.64861389564102,
          "type": "request"
         },
         {
          "queuelength": 965,
          "time": 59.64861389564102,
          "type": "request"
         },
         {
          "queuelength": 966,
          "time": 59.64861389564102,
          "type": "request"
         },
         {
          "queuelength": 967,
          "time": 59.64861389564102,
          "type": "request"
         },
         {
          "queuelength": 968,
          "time": 59.66389667742789,
          "type": "release"
         },
         {
          "queuelength": 967,
          "time": 59.80545152594702,
          "type": "request"
         },
         {
          "queuelength": 968,
          "time": 59.80545152594702,
          "type": "request"
         },
         {
          "queuelength": 969,
          "time": 59.80545152594702,
          "type": "request"
         },
         {
          "queuelength": 970,
          "time": 59.80545152594702,
          "type": "request"
         },
         {
          "queuelength": 971,
          "time": 59.80545152594702,
          "type": "request"
         },
         {
          "queuelength": 972,
          "time": 59.80545152594702,
          "type": "request"
         },
         {
          "queuelength": 973,
          "time": 59.80545152594702,
          "type": "request"
         },
         {
          "queuelength": 974,
          "time": 59.84220124035231,
          "type": "release"
         },
         {
          "queuelength": 973,
          "time": 59.93123960585837,
          "type": "request"
         },
         {
          "queuelength": 974,
          "time": 59.93517498605833,
          "type": "request"
         },
         {
          "queuelength": 975,
          "time": 60.007530635615716,
          "type": "request"
         },
         {
          "queuelength": 976,
          "time": 60.03686460585837,
          "type": "request"
         },
         {
          "queuelength": 977,
          "time": 60.03686460585837,
          "type": "request"
         },
         {
          "queuelength": 978,
          "time": 60.03686460585837,
          "type": "request"
         },
         {
          "queuelength": 979,
          "time": 60.03686460585837,
          "type": "request"
         },
         {
          "queuelength": 980,
          "time": 60.05656290241055,
          "type": "release"
         },
         {
          "queuelength": 979,
          "time": 60.0593479154537,
          "type": "release"
         },
         {
          "queuelength": 978,
          "time": 60.13532268996762,
          "type": "release"
         },
         {
          "queuelength": 977,
          "time": 60.15816143219956,
          "type": "release"
         },
         {
          "queuelength": 976,
          "time": 60.23442072590569,
          "type": "request"
         },
         {
          "queuelength": 977,
          "time": 60.23442072590569,
          "type": "request"
         },
         {
          "queuelength": 978,
          "time": 60.23442072590569,
          "type": "request"
         },
         {
          "queuelength": 979,
          "time": 60.23442072590569,
          "type": "request"
         },
         {
          "queuelength": 980,
          "time": 60.423652179686755,
          "type": "release"
         },
         {
          "queuelength": 979,
          "time": 60.449753925132754,
          "type": "request"
         },
         {
          "queuelength": 980,
          "time": 60.449753925132754,
          "type": "request"
         },
         {
          "queuelength": 981,
          "time": 60.449753925132754,
          "type": "request"
         },
         {
          "queuelength": 982,
          "time": 60.488004147674395,
          "type": "request"
         },
         {
          "queuelength": 983,
          "time": 60.62801205362775,
          "type": "release"
         },
         {
          "queuelength": 982,
          "time": 60.66155559616268,
          "type": "request"
         },
         {
          "queuelength": 983,
          "time": 60.66374023056447,
          "type": "request"
         },
         {
          "queuelength": 984,
          "time": 60.67383789057062,
          "type": "release"
         },
         {
          "queuelength": 983,
          "time": 60.6832119463534,
          "type": "release"
         },
         {
          "queuelength": 982,
          "time": 60.68592787620808,
          "type": "request"
         },
         {
          "queuelength": 983,
          "time": 60.68592787620808,
          "type": "request"
         },
         {
          "queuelength": 984,
          "time": 60.68592787620808,
          "type": "request"
         },
         {
          "queuelength": 985,
          "time": 60.68592787620808,
          "type": "request"
         },
         {
          "queuelength": 986,
          "time": 60.68592787620808,
          "type": "request"
         },
         {
          "queuelength": 987,
          "time": 60.68592787620808,
          "type": "request"
         },
         {
          "queuelength": 988,
          "time": 60.68592787620808,
          "type": "request"
         },
         {
          "queuelength": 989,
          "time": 60.68592787620808,
          "type": "request"
         },
         {
          "queuelength": 990,
          "time": 60.68592787620808,
          "type": "request"
         },
         {
          "queuelength": 991,
          "time": 60.74595036463745,
          "type": "request"
         },
         {
          "queuelength": 992,
          "time": 60.77270121596621,
          "type": "request"
         },
         {
          "queuelength": 993,
          "time": 60.848875656988504,
          "type": "request"
         },
         {
          "queuelength": 994,
          "time": 60.9545006569885,
          "type": "request"
         },
         {
          "queuelength": 995,
          "time": 61.04143876919801,
          "type": "release"
         },
         {
          "queuelength": 994,
          "time": 61.06019807209661,
          "type": "release"
         },
         {
          "queuelength": 993,
          "time": 61.09516226244555,
          "type": "release"
         },
         {
          "queuelength": 992,
          "time": 61.101227275740186,
          "type": "request"
         },
         {
          "queuelength": 993,
          "time": 61.151175019402814,
          "type": "request"
         },
         {
          "queuelength": 994,
          "time": 61.151175019402814,
          "type": "request"
         },
         {
          "queuelength": 995,
          "time": 61.151175019402814,
          "type": "request"
         },
         {
          "queuelength": 996,
          "time": 61.151175019402814,
          "type": "request"
         },
         {
          "queuelength": 997,
          "time": 61.151175019402814,
          "type": "request"
         },
         {
          "queuelength": 998,
          "time": 61.151175019402814,
          "type": "request"
         },
         {
          "queuelength": 999,
          "time": 61.159219170313065,
          "type": "request"
         },
         {
          "queuelength": 1000,
          "time": 61.271183701863386,
          "type": "request"
         },
         {
          "queuelength": 1001,
          "time": 61.37261584057397,
          "type": "request"
         },
         {
          "queuelength": 1002,
          "time": 61.37261584057397,
          "type": "request"
         },
         {
          "queuelength": 1003,
          "time": 61.41597616918665,
          "type": "release"
         },
         {
          "queuelength": 1002,
          "time": 61.53258128056386,
          "type": "request"
         },
         {
          "queuelength": 1003,
          "time": 61.53258128056386,
          "type": "request"
         },
         {
          "queuelength": 1004,
          "time": 61.53258128056386,
          "type": "request"
         },
         {
          "queuelength": 1005,
          "time": 61.53258128056386,
          "type": "request"
         },
         {
          "queuelength": 1006,
          "time": 61.53258128056386,
          "type": "request"
         },
         {
          "queuelength": 1007,
          "time": 61.53354064917964,
          "type": "release"
         },
         {
          "queuelength": 1006,
          "time": 61.58973545642516,
          "type": "request"
         },
         {
          "queuelength": 1007,
          "time": 61.67466739562964,
          "type": "request"
         },
         {
          "queuelength": 1008,
          "time": 61.721119442722554,
          "type": "request"
         },
         {
          "queuelength": 1009,
          "time": 61.721119442722554,
          "type": "request"
         },
         {
          "queuelength": 1010,
          "time": 61.721119442722554,
          "type": "request"
         },
         {
          "queuelength": 1011,
          "time": 61.721119442722554,
          "type": "request"
         },
         {
          "queuelength": 1012,
          "time": 61.78065657898698,
          "type": "release"
         },
         {
          "queuelength": 1011,
          "time": 61.80236196737309,
          "type": "request"
         },
         {
          "queuelength": 1012,
          "time": 61.84023617185777,
          "type": "request"
         },
         {
          "queuelength": 1013,
          "time": 61.849461254759646,
          "type": "request"
         },
         {
          "queuelength": 1014,
          "time": 61.849461254759646,
          "type": "request"
         },
         {
          "queuelength": 1015,
          "time": 61.849461254759646,
          "type": "request"
         },
         {
          "queuelength": 1016,
          "time": 61.849461254759646,
          "type": "request"
         },
         {
          "queuelength": 1017,
          "time": 61.849461254759646,
          "type": "request"
         },
         {
          "queuelength": 1018,
          "time": 61.916565622566566,
          "type": "release"
         },
         {
          "queuelength": 1017,
          "time": 62.02504168372029,
          "type": "release"
         },
         {
          "queuelength": 1016,
          "time": 62.04544642737341,
          "type": "release"
         },
         {
          "queuelength": 1015,
          "time": 62.07954443874661,
          "type": "request"
         },
         {
          "queuelength": 1016,
          "time": 62.07954443874661,
          "type": "request"
         },
         {
          "queuelength": 1017,
          "time": 62.08819593885383,
          "type": "release"
         },
         {
          "queuelength": 1016,
          "time": 62.10711700143425,
          "type": "request"
         },
         {
          "queuelength": 1017,
          "time": 62.14191301267605,
          "type": "release"
         },
         {
          "queuelength": 1016,
          "time": 62.20847027280444,
          "type": "release"
         },
         {
          "queuelength": 1015,
          "time": 62.22407238689525,
          "type": "release"
         },
         {
          "queuelength": 1014,
          "time": 62.30530122211373,
          "type": "request"
         },
         {
          "queuelength": 1015,
          "time": 62.30530122211373,
          "type": "request"
         },
         {
          "queuelength": 1016,
          "time": 62.30530122211373,
          "type": "request"
         },
         {
          "queuelength": 1017,
          "time": 62.30530122211373,
          "type": "request"
         },
         {
          "queuelength": 1018,
          "time": 62.30530122211373,
          "type": "request"
         },
         {
          "queuelength": 1019,
          "time": 62.30530122211373,
          "type": "request"
         },
         {
          "queuelength": 1020,
          "time": 62.36246196485995,
          "type": "release"
         },
         {
          "queuelength": 1019,
          "time": 62.37745890738111,
          "type": "request"
         },
         {
          "queuelength": 1020,
          "time": 62.38344894866492,
          "type": "release"
         },
         {
          "queuelength": 1019,
          "time": 62.40422676261963,
          "type": "release"
         },
         {
          "queuelength": 1018,
          "time": 62.483083907381115,
          "type": "request"
         },
         {
          "queuelength": 1019,
          "time": 62.483083907381115,
          "type": "request"
         },
         {
          "queuelength": 1020,
          "time": 62.483083907381115,
          "type": "request"
         },
         {
          "queuelength": 1021,
          "time": 62.483083907381115,
          "type": "request"
         },
         {
          "queuelength": 1022,
          "time": 62.483083907381115,
          "type": "request"
         },
         {
          "queuelength": 1023,
          "time": 62.483083907381115,
          "type": "request"
         },
         {
          "queuelength": 1024,
          "time": 62.483083907381115,
          "type": "request"
         },
         {
          "queuelength": 1025,
          "time": 62.57164805822559,
          "type": "request"
         },
         {
          "queuelength": 1026,
          "time": 62.64570917362062,
          "type": "request"
         },
         {
          "queuelength": 1027,
          "time": 62.64570917362062,
          "type": "request"
         },
         {
          "queuelength": 1028,
          "time": 62.64570917362062,
          "type": "request"
         },
         {
          "queuelength": 1029,
          "time": 62.77739524703232,
          "type": "release"
         },
         {
          "queuelength": 1028,
          "time": 62.848269375835145,
          "type": "request"
         },
         {
          "queuelength": 1029,
          "time": 62.848269375835145,
          "type": "request"
         },
         {
          "queuelength": 1030,
          "time": 62.848269375835145,
          "type": "request"
         },
         {
          "queuelength": 1031,
          "time": 62.848269375835145,
          "type": "request"
         },
         {
          "queuelength": 1032,
          "time": 62.848269375835145,
          "type": "request"
         },
         {
          "queuelength": 1033,
          "time": 62.848269375835145,
          "type": "request"
         },
         {
          "queuelength": 1034,
          "time": 62.848269375835145,
          "type": "request"
         },
         {
          "queuelength": 1035,
          "time": 62.84934082874077,
          "type": "request"
         },
         {
          "queuelength": 1036,
          "time": 62.90394953333525,
          "type": "request"
         },
         {
          "queuelength": 1037,
          "time": 62.91841877229871,
          "type": "release"
         },
         {
          "queuelength": 1036,
          "time": 62.92948238771077,
          "type": "request"
         },
         {
          "queuelength": 1037,
          "time": 62.94599476058722,
          "type": "release"
         },
         {
          "queuelength": 1036,
          "time": 62.96527059285626,
          "type": "request"
         },
         {
          "queuelength": 1037,
          "time": 63.02128631013274,
          "type": "request"
         },
         {
          "queuelength": 1038,
          "time": 63.02128631013274,
          "type": "request"
         },
         {
          "queuelength": 1039,
          "time": 63.02128631013274,
          "type": "request"
         },
         {
          "queuelength": 1040,
          "time": 63.02128631013274,
          "type": "request"
         },
         {
          "queuelength": 1041,
          "time": 63.02128631013274,
          "type": "request"
         },
         {
          "queuelength": 1042,
          "time": 63.02128631013274,
          "type": "request"
         },
         {
          "queuelength": 1043,
          "time": 63.02128631013274,
          "type": "request"
         },
         {
          "queuelength": 1044,
          "time": 63.02128631013274,
          "type": "request"
         },
         {
          "queuelength": 1045,
          "time": 63.02128631013274,
          "type": "request"
         },
         {
          "queuelength": 1046,
          "time": 63.02128631013274,
          "type": "request"
         },
         {
          "queuelength": 1047,
          "time": 63.02128631013274,
          "type": "request"
         },
         {
          "queuelength": 1048,
          "time": 63.05487462557383,
          "type": "request"
         },
         {
          "queuelength": 1049,
          "time": 63.06000125902005,
          "type": "release"
         },
         {
          "queuelength": 1048,
          "time": 63.062307626748314,
          "type": "release"
         },
         {
          "queuelength": 1047,
          "time": 63.109828976579145,
          "type": "release"
         },
         {
          "queuelength": 1046,
          "time": 63.11034281029981,
          "type": "request"
         },
         {
          "queuelength": 1047,
          "time": 63.11034281029981,
          "type": "request"
         },
         {
          "queuelength": 1048,
          "time": 63.11034281029981,
          "type": "request"
         },
         {
          "queuelength": 1049,
          "time": 63.16337028755832,
          "type": "request"
         },
         {
          "queuelength": 1050,
          "time": 63.25967239019016,
          "type": "request"
         },
         {
          "queuelength": 1051,
          "time": 63.25967239019016,
          "type": "request"
         },
         {
          "queuelength": 1052,
          "time": 63.25967239019016,
          "type": "request"
         },
         {
          "queuelength": 1053,
          "time": 63.25967239019016,
          "type": "request"
         },
         {
          "queuelength": 1054,
          "time": 63.25967239019016,
          "type": "request"
         },
         {
          "queuelength": 1055,
          "time": 63.25967239019016,
          "type": "request"
         },
         {
          "queuelength": 1056,
          "time": 63.25967239019016,
          "type": "request"
         },
         {
          "queuelength": 1057,
          "time": 63.25967239019016,
          "type": "request"
         },
         {
          "queuelength": 1058,
          "time": 63.25967239019016,
          "type": "request"
         },
         {
          "queuelength": 1059,
          "time": 63.25967239019016,
          "type": "request"
         },
         {
          "queuelength": 1060,
          "time": 63.3427702427183,
          "type": "release"
         },
         {
          "queuelength": 1059,
          "time": 63.40884952141066,
          "type": "request"
         },
         {
          "queuelength": 1060,
          "time": 63.416952494900855,
          "type": "request"
         },
         {
          "queuelength": 1061,
          "time": 63.416952494900855,
          "type": "request"
         },
         {
          "queuelength": 1062,
          "time": 63.416952494900855,
          "type": "request"
         },
         {
          "queuelength": 1063,
          "time": 63.416952494900855,
          "type": "request"
         },
         {
          "queuelength": 1064,
          "time": 63.416952494900855,
          "type": "request"
         },
         {
          "queuelength": 1065,
          "time": 63.42189679648082,
          "type": "request"
         },
         {
          "queuelength": 1066,
          "time": 63.464945294313154,
          "type": "request"
         },
         {
          "queuelength": 1067,
          "time": 63.57057029431316,
          "type": "request"
         },
         {
          "queuelength": 1068,
          "time": 63.57057029431316,
          "type": "request"
         },
         {
          "queuelength": 1069,
          "time": 63.57057029431316,
          "type": "request"
         },
         {
          "queuelength": 1070,
          "time": 63.57057029431316,
          "type": "request"
         },
         {
          "queuelength": 1071,
          "time": 63.57057029431316,
          "type": "request"
         },
         {
          "queuelength": 1072,
          "time": 63.57057029431316,
          "type": "request"
         },
         {
          "queuelength": 1073,
          "time": 63.67649306994763,
          "type": "release"
         },
         {
          "queuelength": 1072,
          "time": 63.71500052344698,
          "type": "release"
         },
         {
          "queuelength": 1071,
          "time": 63.76108825150605,
          "type": "release"
         },
         {
          "queuelength": 1070,
          "time": 63.76518823420415,
          "type": "request"
         },
         {
          "queuelength": 1071,
          "time": 63.80539511736565,
          "type": "release"
         },
         {
          "queuelength": 1070,
          "time": 63.824666334418794,
          "type": "request"
         },
         {
          "queuelength": 1071,
          "time": 63.824666334418794,
          "type": "request"
         },
         {
          "queuelength": 1072,
          "time": 63.824666334418794,
          "type": "request"
         },
         {
          "queuelength": 1073,
          "time": 63.824666334418794,
          "type": "request"
         },
         {
          "queuelength": 1074,
          "time": 63.824666334418794,
          "type": "request"
         },
         {
          "queuelength": 1075,
          "time": 63.850171065450596,
          "type": "request"
         },
         {
          "queuelength": 1076,
          "time": 63.87643637714109,
          "type": "request"
         },
         {
          "queuelength": 1077,
          "time": 63.88016557819242,
          "type": "release"
         },
         {
          "queuelength": 1076,
          "time": 63.94744142513275,
          "type": "request"
         },
         {
          "queuelength": 1077,
          "time": 63.99410852502665,
          "type": "request"
         },
         {
          "queuelength": 1078,
          "time": 63.99410852502665,
          "type": "request"
         },
         {
          "queuelength": 1079,
          "time": 63.99410852502665,
          "type": "request"
         },
         {
          "queuelength": 1080,
          "time": 63.99410852502665,
          "type": "request"
         },
         {
          "queuelength": 1081,
          "time": 63.99410852502665,
          "type": "request"
         },
         {
          "queuelength": 1082,
          "time": 63.99410852502665,
          "type": "request"
         },
         {
          "queuelength": 1083,
          "time": 63.99410852502665,
          "type": "request"
         },
         {
          "queuelength": 1084,
          "time": 63.99867303871793,
          "type": "request"
         },
         {
          "queuelength": 1085,
          "time": 64.11100063552885,
          "type": "release"
         },
         {
          "queuelength": 1084,
          "time": 64.1346593730314,
          "type": "request"
         },
         {
          "queuelength": 1085,
          "time": 64.1346593730314,
          "type": "request"
         },
         {
          "queuelength": 1086,
          "time": 64.1346593730314,
          "type": "request"
         },
         {
          "queuelength": 1087,
          "time": 64.1346593730314,
          "type": "request"
         },
         {
          "queuelength": 1088,
          "time": 64.2522721237342,
          "type": "request"
         },
         {
          "queuelength": 1089,
          "time": 64.2812925170784,
          "type": "request"
         },
         {
          "queuelength": 1090,
          "time": 64.2849027899095,
          "type": "release"
         },
         {
          "queuelength": 1089,
          "time": 64.29670028474145,
          "type": "request"
         },
         {
          "queuelength": 1090,
          "time": 64.32214157299657,
          "type": "request"
         },
         {
          "queuelength": 1091,
          "time": 64.32214157299657,
          "type": "request"
         },
         {
          "queuelength": 1092,
          "time": 64.32214157299657,
          "type": "request"
         },
         {
          "queuelength": 1093,
          "time": 64.32214157299657,
          "type": "request"
         },
         {
          "queuelength": 1094,
          "time": 64.32214157299657,
          "type": "request"
         },
         {
          "queuelength": 1095,
          "time": 64.32214157299657,
          "type": "request"
         },
         {
          "queuelength": 1096,
          "time": 64.32371515232853,
          "type": "request"
         },
         {
          "queuelength": 1097,
          "time": 64.41780678308214,
          "type": "release"
         },
         {
          "queuelength": 1096,
          "time": 64.4710831933033,
          "type": "release"
         },
         {
          "queuelength": 1095,
          "time": 64.47985807952784,
          "type": "release"
         },
         {
          "queuelength": 1094,
          "time": 64.52999099792288,
          "type": "request"
         },
         {
          "queuelength": 1095,
          "time": 64.52999099792288,
          "type": "request"
         },
         {
          "queuelength": 1096,
          "time": 64.55978377489215,
          "type": "request"
         },
         {
          "queuelength": 1097,
          "time": 64.56484085212779,
          "type": "release"
         },
         {
          "queuelength": 1096,
          "time": 64.59073866672962,
          "type": "release"
         },
         {
          "queuelength": 1095,
          "time": 64.59512073695484,
          "type": "release"
         },
         {
          "queuelength": 1094,
          "time": 64.66241845183167,
          "type": "release"
         },
         {
          "queuelength": 1093,
          "time": 64.705210150744,
          "type": "release"
         },
         {
          "queuelength": 1092,
          "time": 64.72122989562963,
          "type": "request"
         },
         {
          "queuelength": 1093,
          "time": 64.72122989562963,
          "type": "request"
         },
         {
          "queuelength": 1094,
          "time": 64.72122989562963,
          "type": "request"
         },
         {
          "queuelength": 1095,
          "time": 64.72122989562963,
          "type": "request"
         },
         {
          "queuelength": 1096,
          "time": 64.72122989562963,
          "type": "request"
         },
         {
          "queuelength": 1097,
          "time": 64.72122989562963,
          "type": "request"
         },
         {
          "queuelength": 1098,
          "time": 64.72122989562963,
          "type": "request"
         },
         {
          "queuelength": 1099,
          "time": 64.72122989562963,
          "type": "request"
         },
         {
          "queuelength": 1100,
          "time": 64.77838064510117,
          "type": "request"
         },
         {
          "queuelength": 1101,
          "time": 64.88679867185776,
          "type": "request"
         },
         {
          "queuelength": 1102,
          "time": 64.88679867185776,
          "type": "request"
         },
         {
          "queuelength": 1103,
          "time": 64.9014060670518,
          "type": "release"
         },
         {
          "queuelength": 1102,
          "time": 64.91249013854015,
          "type": "request"
         },
         {
          "queuelength": 1103,
          "time": 64.96884237123781,
          "type": "release"
         },
         {
          "queuelength": 1102,
          "time": 64.9890363918341,
          "type": "release"
         },
         {
          "queuelength": 1101,
          "time": 65.08322495768785,
          "type": "release"
         },
         {
          "queuelength": 1100,
          "time": 65.08670383263326,
          "type": "request"
         },
         {
          "queuelength": 1101,
          "time": 65.08670383263326,
          "type": "request"
         },
         {
          "queuelength": 1102,
          "time": 65.08670383263326,
          "type": "request"
         },
         {
          "queuelength": 1103,
          "time": 65.08670383263326,
          "type": "request"
         },
         {
          "queuelength": 1104,
          "time": 65.08670383263326,
          "type": "request"
         },
         {
          "queuelength": 1105,
          "time": 65.08670383263326,
          "type": "request"
         },
         {
          "queuelength": 1106,
          "time": 65.08670383263326,
          "type": "request"
         },
         {
          "queuelength": 1107,
          "time": 65.08670383263326,
          "type": "request"
         },
         {
          "queuelength": 1108,
          "time": 65.08670383263326,
          "type": "request"
         },
         {
          "queuelength": 1109,
          "time": 65.10333424924741,
          "type": "release"
         },
         {
          "queuelength": 1108,
          "time": 65.14072780210063,
          "type": "release"
         },
         {
          "queuelength": 1107,
          "time": 65.3333760903507,
          "type": "request"
         },
         {
          "queuelength": 1108,
          "time": 65.3333760903507,
          "type": "request"
         },
         {
          "queuelength": 1109,
          "time": 65.3333760903507,
          "type": "request"
         },
         {
          "queuelength": 1110,
          "time": 65.3333760903507,
          "type": "request"
         },
         {
          "queuelength": 1111,
          "time": 65.3333760903507,
          "type": "request"
         },
         {
          "queuelength": 1112,
          "time": 65.3333760903507,
          "type": "request"
         },
         {
          "queuelength": 1113,
          "time": 65.35280092006644,
          "type": "release"
         },
         {
          "queuelength": 1112,
          "time": 65.36080834787674,
          "type": "request"
         },
         {
          "queuelength": 1113,
          "time": 65.52857447284677,
          "type": "release"
         },
         {
          "queuelength": 1112,
          "time": 65.55386199534097,
          "type": "request"
         },
         {
          "queuelength": 1113,
          "time": 65.55633276564011,
          "type": "request"
         },
         {
          "queuelength": 1114,
          "time": 65.55633276564011,
          "type": "request"
         },
         {
          "queuelength": 1115,
          "time": 65.55633276564011,
          "type": "request"
         },
         {
          "queuelength": 1116,
          "time": 65.55633276564011,
          "type": "request"
         },
         {
          "queuelength": 1117,
          "time": 65.55633276564011,
          "type": "request"
         },
         {
          "queuelength": 1118,
          "time": 65.55633276564011,
          "type": "request"
         },
         {
          "queuelength": 1119,
          "time": 65.55633276564011,
          "type": "request"
         },
         {
          "queuelength": 1120,
          "time": 65.55633276564011,
          "type": "request"
         },
         {
          "queuelength": 1121,
          "time": 65.55633276564011,
          "type": "request"
         },
         {
          "queuelength": 1122,
          "time": 65.56187623268177,
          "type": "release"
         },
         {
          "queuelength": 1121,
          "time": 65.58602513986119,
          "type": "release"
         },
         {
          "queuelength": 1120,
          "time": 65.694506508854,
          "type": "release"
         },
         {
          "queuelength": 1119,
          "time": 65.70477122807003,
          "type": "request"
         },
         {
          "queuelength": 1120,
          "time": 65.70477122807003,
          "type": "request"
         },
         {
          "queuelength": 1121,
          "time": 65.70477122807003,
          "type": "request"
         },
         {
          "queuelength": 1122,
          "time": 65.70477122807003,
          "type": "request"
         },
         {
          "queuelength": 1123,
          "time": 65.70477122807003,
          "type": "request"
         },
         {
          "queuelength": 1124,
          "time": 65.83465093674113,
          "type": "request"
         },
         {
          "queuelength": 1125,
          "time": 65.83989019839979,
          "type": "release"
         },
         {
          "queuelength": 1124,
          "time": 65.89921974692885,
          "type": "release"
         },
         {
          "queuelength": 1123,
          "time": 65.94027593674113,
          "type": "request"
         },
         {
          "queuelength": 1124,
          "time": 65.94027593674113,
          "type": "request"
         },
         {
          "queuelength": 1125,
          "time": 65.94027593674113,
          "type": "request"
         },
         {
          "queuelength": 1126,
          "time": 65.94027593674113,
          "type": "request"
         },
         {
          "queuelength": 1127,
          "time": 65.94027593674113,
          "type": "request"
         },
         {
          "queuelength": 1128,
          "time": 65.94027593674113,
          "type": "request"
         },
         {
          "queuelength": 1129,
          "time": 65.95697263182501,
          "type": "request"
         },
         {
          "queuelength": 1130,
          "time": 65.95777683139205,
          "type": "release"
         },
         {
          "queuelength": 1129,
          "time": 65.96552430495721,
          "type": "release"
         },
         {
          "queuelength": 1128,
          "time": 65.9903952064507,
          "type": "request"
         },
         {
          "queuelength": 1129,
          "time": 66.04152704742995,
          "type": "request"
         },
         {
          "queuelength": 1130,
          "time": 66.05062901228892,
          "type": "release"
         },
         {
          "queuelength": 1129,
          "time": 66.10143712557382,
          "type": "request"
         },
         {
          "queuelength": 1130,
          "time": 66.10143712557382,
          "type": "request"
         },
         {
          "queuelength": 1131,
          "time": 66.10143712557382,
          "type": "request"
         },
         {
          "queuelength": 1132,
          "time": 66.10143712557382,
          "type": "request"
         },
         {
          "queuelength": 1133,
          "time": 66.10143712557382,
          "type": "request"
         },
         {
          "queuelength": 1134,
          "time": 66.10143712557382,
          "type": "request"
         },
         {
          "queuelength": 1135,
          "time": 66.10143712557382,
          "type": "request"
         },
         {
          "queuelength": 1136,
          "time": 66.11592984362272,
          "type": "release"
         },
         {
          "queuelength": 1135,
          "time": 66.32763975651635,
          "type": "request"
         },
         {
          "queuelength": 1136,
          "time": 66.32763975651635,
          "type": "request"
         },
         {
          "queuelength": 1137,
          "time": 66.32763975651635,
          "type": "request"
         },
         {
          "queuelength": 1138,
          "time": 66.32763975651635,
          "type": "request"
         },
         {
          "queuelength": 1139,
          "time": 66.32763975651635,
          "type": "request"
         },
         {
          "queuelength": 1140,
          "time": 66.32763975651635,
          "type": "request"
         },
         {
          "queuelength": 1141,
          "time": 66.32763975651635,
          "type": "request"
         },
         {
          "queuelength": 1142,
          "time": 66.32763975651635,
          "type": "request"
         },
         {
          "queuelength": 1143,
          "time": 66.32763975651635,
          "type": "request"
         },
         {
          "queuelength": 1144,
          "time": 66.32763975651635,
          "type": "request"
         },
         {
          "queuelength": 1145,
          "time": 66.3826574277622,
          "type": "release"
         },
         {
          "queuelength": 1144,
          "time": 66.47106922730904,
          "type": "release"
         },
         {
          "queuelength": 1143,
          "time": 66.48330062182124,
          "type": "release"
         },
         {
          "queuelength": 1142,
          "time": 66.52195556322944,
          "type": "release"
         },
         {
          "queuelength": 1141,
          "time": 66.52282554330469,
          "type": "release"
         },
         {
          "queuelength": 1140,
          "time": 66.52790492953514,
          "type": "request"
         },
         {
          "queuelength": 1141,
          "time": 66.52790492953514,
          "type": "request"
         },
         {
          "queuelength": 1142,
          "time": 66.52790492953514,
          "type": "request"
         },
         {
          "queuelength": 1143,
          "time": 66.52790492953514,
          "type": "request"
         },
         {
          "queuelength": 1144,
          "time": 66.52790492953514,
          "type": "request"
         },
         {
          "queuelength": 1145,
          "time": 66.70891594720503,
          "type": "release"
         },
         {
          "queuelength": 1144,
          "time": 66.7301453823618,
          "type": "request"
         },
         {
          "queuelength": 1145,
          "time": 66.73431714776973,
          "type": "request"
         },
         {
          "queuelength": 1146,
          "time": 66.75928050755704,
          "type": "request"
         },
         {
          "queuelength": 1147,
          "time": 66.75928050755704,
          "type": "request"
         },
         {
          "queuelength": 1148,
          "time": 66.75928050755704,
          "type": "request"
         },
         {
          "queuelength": 1149,
          "time": 66.75928050755704,
          "type": "request"
         },
         {
          "queuelength": 1150,
          "time": 66.75928050755704,
          "type": "request"
         },
         {
          "queuelength": 1151,
          "time": 66.91463999490085,
          "type": "request"
         },
         {
          "queuelength": 1152,
          "time": 66.97927375393328,
          "type": "request"
         },
         {
          "queuelength": 1153,
          "time": 67.00351256332064,
          "type": "release"
         },
         {
          "queuelength": 1152,
          "time": 67.01670403135476,
          "type": "request"
         },
         {
          "queuelength": 1153,
          "time": 67.01670403135476,
          "type": "request"
         },
         {
          "queuelength": 1154,
          "time": 67.01670403135476,
          "type": "request"
         },
         {
          "queuelength": 1155,
          "time": 67.01670403135476,
          "type": "request"
         },
         {
          "queuelength": 1156,
          "time": 67.01670403135476,
          "type": "request"
         },
         {
          "queuelength": 1157,
          "time": 67.01670403135476,
          "type": "request"
         },
         {
          "queuelength": 1158,
          "time": 67.01670403135476,
          "type": "request"
         },
         {
          "queuelength": 1159,
          "time": 67.01670403135476,
          "type": "request"
         },
         {
          "queuelength": 1160,
          "time": 67.01670403135476,
          "type": "request"
         },
         {
          "queuelength": 1161,
          "time": 67.07709126910355,
          "type": "release"
         },
         {
          "queuelength": 1160,
          "time": 67.27236460585837,
          "type": "request"
         },
         {
          "queuelength": 1161,
          "time": 67.2773909029627,
          "type": "request"
         },
         {
          "queuelength": 1162,
          "time": 67.28507583443853,
          "type": "request"
         },
         {
          "queuelength": 1163,
          "time": 67.52964544678997,
          "type": "request"
         },
         {
          "queuelength": 1163,
          "time": 67.59685180819422,
          "type": "release"
         },
         {
          "queuelength": 1163,
          "time": 67.62280637874512,
          "type": "release"
         },
         {
          "queuelength": 1161,
          "time": 67.64050153647455,
          "type": "release"
         },
         {
          "queuelength": 1161,
          "time": 67.68525392513274,
          "type": "request"
         },
         {
          "queuelength": 1162,
          "time": 67.73989851512295,
          "type": "request"
         },
         {
          "queuelength": 1163,
          "time": 67.75735368940946,
          "type": "request"
         },
         {
          "queuelength": 1164,
          "time": 67.79645354353424,
          "type": "request"
         },
         {
          "queuelength": 1165,
          "time": 67.81465788320253,
          "type": "release"
         },
         {
          "queuelength": 1164,
          "time": 68.23101714453833,
          "type": "release"
         },
         {
          "queuelength": 1163,
          "time": 68.30209160945391,
          "type": "request"
         },
         {
          "queuelength": 1164,
          "time": 68.34230737324903,
          "type": "release"
         },
         {
          "queuelength": 1162,
          "time": 68.5299987123418,
          "type": "release"
         },
         {
          "queuelength": 1162,
          "time": 68.69049636186094,
          "type": "request"
         },
         {
          "queuelength": 1163,
          "time": 68.7321573060812,
          "type": "request"
         },
         {
          "queuelength": 1164,
          "time": 68.76597448747525,
          "type": "release"
         },
         {
          "queuelength": 1163,
          "time": 68.78363588817595,
          "type": "request"
         },
         {
          "queuelength": 1164,
          "time": 68.79849709798991,
          "type": "request"
         },
         {
          "queuelength": 1164,
          "time": 68.83098632830993,
          "type": "release"
         },
         {
          "queuelength": 1164,
          "time": 68.90607156748828,
          "type": "release"
         },
         {
          "queuelength": 1163,
          "time": 68.91068353009841,
          "type": "request"
         },
         {
          "queuelength": 1164,
          "time": 68.91068353009841,
          "type": "request"
         },
         {
          "queuelength": 1165,
          "time": 69.26709647477972,
          "type": "release"
         },
         {
          "queuelength": 1164,
          "time": 69.33007172705841,
          "type": "request"
         },
         {
          "queuelength": 1165,
          "time": 69.33114164396798,
          "type": "release"
         },
         {
          "queuelength": 1164,
          "time": 69.33808549661862,
          "type": "request"
         },
         {
          "queuelength": 1165,
          "time": 69.37486748118977,
          "type": "release"
         },
         {
          "queuelength": 1164,
          "time": 69.39572623981614,
          "type": "request"
         },
         {
          "queuelength": 1165,
          "time": 69.4176993028293,
          "type": "release"
         },
         {
          "queuelength": 1164,
          "time": 69.4368973579098,
          "type": "release"
         },
         {
          "queuelength": 1163,
          "time": 69.50575277611135,
          "type": "request"
         },
         {
          "queuelength": 1164,
          "time": 69.62263914304556,
          "type": "request"
         },
         {
          "queuelength": 1165,
          "time": 69.65200644574793,
          "type": "request"
         },
         {
          "queuelength": 1166,
          "time": 69.65909845301161,
          "type": "request"
         },
         {
          "queuelength": 1167,
          "time": 69.73052636038202,
          "type": "request"
         },
         {
          "queuelength": 1167,
          "time": 69.80878858613123,
          "type": "release"
         },
         {
          "queuelength": 1167,
          "time": 69.85658834973509,
          "type": "release"
         },
         {
          "queuelength": 1165,
          "time": 69.88251189991666,
          "type": "release"
         },
         {
          "queuelength": 1165,
          "time": 70.05671503745407,
          "type": "release"
         },
         {
          "queuelength": 1163,
          "time": 70.05988305905709,
          "type": "release"
         },
         {
          "queuelength": 1163,
          "time": 70.07511869931358,
          "type": "release"
         },
         {
          "queuelength": 1162,
          "time": 70.08009956286234,
          "type": "release"
         },
         {
          "queuelength": 1161,
          "time": 70.19113255164629,
          "type": "release"
         },
         {
          "queuelength": 1160,
          "time": 70.19952375393328,
          "type": "request"
         },
         {
          "queuelength": 1161,
          "time": 70.20926587514509,
          "type": "request"
         },
         {
          "queuelength": 1162,
          "time": 70.23561581947519,
          "type": "release"
         },
         {
          "queuelength": 1161,
          "time": 70.24047386981924,
          "type": "request"
         },
         {
          "queuelength": 1162,
          "time": 70.27693654888013,
          "type": "request"
         },
         {
          "queuelength": 1163,
          "time": 70.30772121224228,
          "type": "release"
         },
         {
          "queuelength": 1162,
          "time": 70.34584281029981,
          "type": "request"
         },
         {
          "queuelength": 1163,
          "time": 70.42631378371411,
          "type": "release"
         },
         {
          "queuelength": 1162,
          "time": 70.50817678917431,
          "type": "release"
         },
         {
          "queuelength": 1161,
          "time": 70.60838195548703,
          "type": "release"
         },
         {
          "queuelength": 1160,
          "time": 70.86072463386083,
          "type": "request"
         },
         {
          "queuelength": 1161,
          "time": 70.9028189147308,
          "type": "release"
         },
         {
          "queuelength": 1159,
          "time": 70.90864297530766,
          "type": "release"
         },
         {
          "queuelength": 1159,
          "time": 71.02390495974849,
          "type": "release"
         },
         {
          "queuelength": 1158,
          "time": 71.03112022912642,
          "type": "request"
         },
         {
          "queuelength": 1159,
          "time": 71.0674675862979,
          "type": "release"
         },
         {
          "queuelength": 1158,
          "time": 71.07037208093158,
          "type": "release"
         },
         {
          "queuelength": 1157,
          "time": 71.09015575182461,
          "type": "release"
         },
         {
          "queuelength": 1156,
          "time": 71.11194952198537,
          "type": "release"
         },
         {
          "queuelength": 1155,
          "time": 71.13311298776155,
          "type": "release"
         },
         {
          "queuelength": 1153,
          "time": 71.18747925760064,
          "type": "release"
         },
         {
          "queuelength": 1152,
          "time": 71.3163169781626,
          "type": "release"
         },
         {
          "queuelength": 1152,
          "time": 71.33933070056662,
          "type": "release"
         },
         {
          "queuelength": 1150,
          "time": 71.39090580432398,
          "type": "release"
         },
         {
          "queuelength": 1150,
          "time": 71.40721677550488,
          "type": "release"
         },
         {
          "queuelength": 1149,
          "time": 71.41049160958094,
          "type": "request"
         },
         {
          "queuelength": 1149,
          "time": 71.41357185699516,
          "type": "release"
         },
         {
          "queuelength": 1149,
          "time": 71.45838253159405,
          "type": "request"
         },
         {
          "queuelength": 1150,
          "time": 71.45981150072043,
          "type": "request"
         },
         {
          "queuelength": 1151,
          "time": 71.46049107654362,
          "type": "request"
         },
         {
          "queuelength": 1152,
          "time": 71.57222996863923,
          "type": "release"
         },
         {
          "queuelength": 1151,
          "time": 71.59001792249167,
          "type": "release"
         },
         {
          "queuelength": 1150,
          "time": 71.66307986989267,
          "type": "release"
         },
         {
          "queuelength": 1149,
          "time": 71.71004060108531,
          "type": "request"
         },
         {
          "queuelength": 1150,
          "time": 71.71004060108531,
          "type": "request"
         },
         {
          "queuelength": 1151,
          "time": 71.7219407063825,
          "type": "request"
         },
         {
          "queuelength": 1152,
          "time": 71.7310491749902,
          "type": "release"
         },
         {
          "queuelength": 1151,
          "time": 71.77559345741213,
          "type": "request"
         },
         {
          "queuelength": 1152,
          "time": 71.80320339612133,
          "type": "request"
         },
         {
          "queuelength": 1152,
          "time": 71.87857183052904,
          "type": "release"
         },
         {
          "queuelength": 1152,
          "time": 71.9468874443653,
          "type": "request"
         },
         {
          "queuelength": 1153,
          "time": 71.9568779851316,
          "type": "request"
         },
         {
          "queuelength": 1154,
          "time": 71.96848943800157,
          "type": "request"
         },
         {
          "queuelength": 1155,
          "time": 72.01308463885138,
          "type": "release"
         },
         {
          "queuelength": 1153,
          "time": 72.05169525404682,
          "type": "release"
         },
         {
          "queuelength": 1153,
          "time": 72.11915937937205,
          "type": "release"
         },
         {
          "queuelength": 1151,
          "time": 72.13195629592241,
          "type": "release"
         },
         {
          "queuelength": 1151,
          "time": 72.15212573420416,
          "type": "request"
         },
         {
          "queuelength": 1152,
          "time": 72.15952129035574,
          "type": "release"
         },
         {
          "queuelength": 1151,
          "time": 72.16362625482387,
          "type": "release"
         },
         {
          "queuelength": 1150,
          "time": 72.2317301061904,
          "type": "request"
         },
         {
          "queuelength": 1151,
          "time": 72.27580425274226,
          "type": "request"
         },
         {
          "queuelength": 1152,
          "time": 72.27611878174541,
          "type": "release"
         },
         {
          "queuelength": 1151,
          "time": 72.35459415507201,
          "type": "request"
         },
         {
          "queuelength": 1151,
          "time": 72.39958813005461,
          "type": "release"
         },
         {
          "queuelength": 1151,
          "time": 72.40637696580995,
          "type": "release"
         },
         {
          "queuelength": 1150,
          "time": 72.41840162721422,
          "type": "release"
         },
         {
          "queuelength": 1149,
          "time": 72.45088519042807,
          "type": "request"
         },
         {
          "queuelength": 1150,
          "time": 72.47883815499135,
          "type": "request"
         },
         {
          "queuelength": 1150,
          "time": 72.48607044948955,
          "type": "release"
         },
         {
          "queuelength": 1150,
          "time": 72.50745178214825,
          "type": "request"
         },
         {
          "queuelength": 1151,
          "time": 72.50745178214825,
          "type": "request"
         },
         {
          "queuelength": 1151,
          "time": 72.52623619393096,
          "type": "release"
         },
         {
          "queuelength": 1151,
          "time": 72.60558128056385,
          "type": "request"
         },
         {
          "queuelength": 1152,
          "time": 72.64339691725296,
          "type": "release"
         },
         {
          "queuelength": 1151,
          "time": 72.6982932141051,
          "type": "request"
         },
         {
          "queuelength": 1152,
          "time": 72.70066439058547,
          "type": "request"
         },
         {
          "queuelength": 1153,
          "time": 72.74462858986588,
          "type": "request"
         },
         {
          "queuelength": 1153,
          "time": 72.77157632716188,
          "type": "release"
         },
         {
          "queuelength": 1153,
          "time": 72.83244433424133,
          "type": "request"
         },
         {
          "queuelength": 1154,
          "time": 72.91822932767482,
          "type": "release"
         },
         {
          "queuelength": 1153,
          "time": 73.00927446135734,
          "type": "release"
         },
         {
          "queuelength": 1152,
          "time": 73.04612136574661,
          "type": "release"
         },
         {
          "queuelength": 1150,
          "time": 73.04622228308634,
          "type": "release"
         },
         {
          "queuelength": 1149,
          "time": 73.11214970039136,
          "type": "release"
         },
         {
          "queuelength": 1149,
          "time": 73.1242156380371,
          "type": "request"
         },
         {
          "queuelength": 1150,
          "time": 73.24808471870894,
          "type": "release"
         },
         {
          "queuelength": 1148,
          "time": 73.27245613368638,
          "type": "release"
         },
         {
          "queuelength": 1148,
          "time": 73.42185774297492,
          "type": "request"
         },
         {
          "queuelength": 1149,
          "time": 73.45151263800958,
          "type": "release"
         },
         {
          "queuelength": 1147,
          "time": 73.48442082554963,
          "type": "release"
         },
         {
          "queuelength": 1147,
          "time": 73.50712694128259,
          "type": "request"
         },
         {
          "queuelength": 1148,
          "time": 73.52259314190043,
          "type": "request"
         },
         {
          "queuelength": 1149,
          "time": 73.533514085028,
          "type": "request"
         },
         {
          "queuelength": 1149,
          "time": 73.7344633715468,
          "type": "release"
         },
         {
          "queuelength": 1148,
          "time": 73.73555649115282,
          "type": "release"
         },
         {
          "queuelength": 1148,
          "time": 73.82926696119684,
          "type": "release"
         },
         {
          "queuelength": 1147,
          "time": 73.87809290103877,
          "type": "release"
         },
         {
          "queuelength": 1146,
          "time": 73.88583628011443,
          "type": "release"
         },
         {
          "queuelength": 1145,
          "time": 73.92343184918438,
          "type": "request"
         },
         {
          "queuelength": 1146,
          "time": 74.02663440136729,
          "type": "request"
         },
         {
          "queuelength": 1147,
          "time": 74.02757609086377,
          "type": "request"
         },
         {
          "queuelength": 1148,
          "time": 74.04649614510097,
          "type": "request"
         },
         {
          "queuelength": 1149,
          "time": 74.191642652105,
          "type": "release"
         },
         {
          "queuelength": 1148,
          "time": 74.30387676609188,
          "type": "request"
         },
         {
          "queuelength": 1149,
          "time": 74.32079538264111,
          "type": "release"
         },
         {
          "queuelength": 1147,
          "time": 74.33535230131201,
          "type": "release"
         },
         {
          "queuelength": 1147,
          "time": 74.35696938813912,
          "type": "release"
         },
         {
          "queuelength": 1145,
          "time": 74.38014470174139,
          "type": "release"
         },
         {
          "queuelength": 1145,
          "time": 74.39528894421267,
          "type": "request"
         },
         {
          "queuelength": 1145,
          "time": 74.44597941132662,
          "type": "release"
         },
         {
          "queuelength": 1145,
          "time": 74.5673165592909,
          "type": "request"
         },
         {
          "queuelength": 1145,
          "time": 74.62638243847131,
          "type": "release"
         },
         {
          "queuelength": 1145,
          "time": 74.62965870409101,
          "type": "request"
         },
         {
          "queuelength": 1146,
          "time": 74.7632619036615,
          "type": "request"
         },
         {
          "queuelength": 1147,
          "time": 74.78079707000822,
          "type": "release"
         },
         {
          "queuelength": 1146,
          "time": 74.80878858613123,
          "type": "request"
         },
         {
          "queuelength": 1147,
          "time": 74.82939563779755,
          "type": "request"
         },
         {
          "queuelength": 1148,
          "time": 74.86928544489282,
          "type": "release"
         },
         {
          "queuelength": 1147,
          "time": 74.883129110006,
          "type": "release"
         },
         {
          "queuelength": 1146,
          "time": 74.89424374845221,
          "type": "request"
         },
         {
          "queuelength": 1147,
          "time": 74.89722853230856,
          "type": "release"
         },
         {
          "queuelength": 1146,
          "time": 74.89766633441879,
          "type": "request"
         },
         {
          "queuelength": 1147,
          "time": 74.9296169809468,
          "type": "request"
         },
         {
          "queuelength": 1148,
          "time": 74.95668491832714,
          "type": "request"
         },
         {
          "queuelength": 1149,
          "time": 75.01456656354809,
          "type": "request"
         },
         {
          "queuelength": 1149,
          "time": 75.01565926552487,
          "type": "release"
         },
         {
          "queuelength": 1148,
          "time": 75.05201112511418,
          "type": "release"
         },
         {
          "queuelength": 1148,
          "time": 75.10057100127221,
          "type": "release"
         },
         {
          "queuelength": 1147,
          "time": 75.1427112666959,
          "type": "release"
         },
         {
          "queuelength": 1146,
          "time": 75.17026855955385,
          "type": "request"
         },
         {
          "queuelength": 1147,
          "time": 75.18372308678721,
          "type": "request"
         },
         {
          "queuelength": 1147,
          "time": 75.18391325134195,
          "type": "release"
         },
         {
          "queuelength": 1146,
          "time": 75.21385250400742,
          "type": "release"
         },
         {
          "queuelength": 1146,
          "time": 75.25304074886509,
          "type": "request"
         },
         {
          "queuelength": 1147,
          "time": 75.26333186587587,
          "type": "release"
         },
         {
          "queuelength": 1145,
          "time": 75.27136451812314,
          "type": "release"
         },
         {
          "queuelength": 1145,
          "time": 75.29417747624419,
          "type": "request"
         },
         {
          "queuelength": 1145,
          "time": 75.33732489920962,
          "type": "release"
         },
         {
          "queuelength": 1144,
          "time": 75.37725855207292,
          "type": "release"
         },
         {
          "queuelength": 1144,
          "time": 75.39458094797114,
          "type": "request"
         },
         {
          "queuelength": 1145,
          "time": 75.39514157299658,
          "type": "request"
         },
         {
          "queuelength": 1145,
          "time": 75.45064227891675,
          "type": "release"
         },
         {
          "queuelength": 1145,
          "time": 75.47157187276096,
          "type": "release"
         },
         {
          "queuelength": 1144,
          "time": 75.51764573924689,
          "type": "release"
         },
         {
          "queuelength": 1143,
          "time": 75.52170049354764,
          "type": "release"
         },
         {
          "queuelength": 1141,
          "time": 75.52261586967043,
          "type": "release"
         },
         {
          "queuelength": 1141,
          "time": 75.52925164866743,
          "type": "release"
         },
         {
          "queuelength": 1140,
          "time": 75.52940741230543,
          "type": "request"
         },
         {
          "queuelength": 1141,
          "time": 75.60299099792289,
          "type": "request"
         },
         {
          "queuelength": 1142,
          "time": 75.61523960585836,
          "type": "request"
         },
         {
          "queuelength": 1143,
          "time": 75.64846617267652,
          "type": "release"
         },
         {
          "queuelength": 1141,
          "time": 75.65901825782389,
          "type": "release"
         },
         {
          "queuelength": 1141,
          "time": 75.73878308379717,
          "type": "request"
         },
         {
          "queuelength": 1142,
          "time": 75.7487790255554,
          "type": "request"
         },
         {
          "queuelength": 1142,
          "time": 75.78445056943656,
          "type": "release"
         },
         {
          "queuelength": 1142,
          "time": 75.78786677190001,
          "type": "release"
         },
         {
          "queuelength": 1141,
          "time": 75.79422989562963,
          "type": "request"
         },
         {
          "queuelength": 1141,
          "time": 75.84126141521024,
          "type": "release"
         },
         {
          "queuelength": 1141,
          "time": 75.8568582259057,
          "type": "request"
         },
         {
          "queuelength": 1141,
          "time": 75.88750692142163,
          "type": "release"
         },
         {
          "queuelength": 1140,
          "time": 75.93182656627621,
          "type": "release"
         },
         {
          "queuelength": 1140,
          "time": 75.95979867185775,
          "type": "request"
         },
         {
          "queuelength": 1141,
          "time": 75.97740814587647,
          "type": "request"
         },
         {
          "queuelength": 1142,
          "time": 76.01199151884548,
          "type": "request"
         },
         {
          "queuelength": 1142,
          "time": 76.02686403786696,
          "type": "release"
         },
         {
          "queuelength": 1142,
          "time": 76.02812892513275,
          "type": "request"
         },
         {
          "queuelength": 1143,
          "time": 76.02812892513275,
          "type": "request"
         },
         {
          "queuelength": 1144,
          "time": 76.06756161592634,
          "type": "request"
         },
         {
          "queuelength": 1145,
          "time": 76.12072454275197,
          "type": "release"
         },
         {
          "queuelength": 1144,
          "time": 76.14561982435406,
          "type": "release"
         },
         {
          "queuelength": 1142,
          "time": 76.1479003764317,
          "type": "release"
         },
         {
          "queuelength": 1142,
          "time": 76.15374330327009,
          "type": "request"
         },
         {
          "queuelength": 1143,
          "time": 76.15626055139305,
          "type": "request"
         },
         {
          "queuelength": 1143,
          "time": 76.16277514539141,
          "type": "release"
         },
         {
          "queuelength": 1143,
          "time": 76.18988254393969,
          "type": "request"
         },
         {
          "queuelength": 1144,
          "time": 76.19199702304448,
          "type": "release"
         },
         {
          "queuelength": 1143,
          "time": 76.19554960043976,
          "type": "request"
         },
         {
          "queuelength": 1143,
          "time": 76.23504872104412,
          "type": "release"
         },
         {
          "queuelength": 1143,
          "time": 76.2549144499203,
          "type": "request"
         },
         {
          "queuelength": 1144,
          "time": 76.25700037282294,
          "type": "request"
         },
         {
          "queuelength": 1144,
          "time": 76.3106962641677,
          "type": "release"
         },
         {
          "queuelength": 1144,
          "time": 76.32647502327274,
          "type": "release"
         },
         {
          "queuelength": 1142,
          "time": 76.33175260209788,
          "type": "release"
         },
         {
          "queuelength": 1142,
          "time": 76.34145441894714,
          "type": "release"
         },
         {
          "queuelength": 1140,
          "time": 76.3539506819962,
          "type": "release"
         },
         {
          "queuelength": 1140,
          "time": 76.37906479039998,
          "type": "release"
         },
         {
          "queuelength": 1139,
          "time": 76.40285885832529,
          "type": "release"
         },
         {
          "queuelength": 1137,
          "time": 76.40380430352238,
          "type": "release"
         },
         {
          "queuelength": 1137,
          "time": 76.40630203563569,
          "type": "request"
         },
         {
          "queuelength": 1138,
          "time": 76.43256620012714,
          "type": "release"
         },
         {
          "queuelength": 1136,
          "time": 76.50665351966347,
          "type": "release"
         },
         {
          "queuelength": 1135,
          "time": 76.54414732613316,
          "type": "release"
         },
         {
          "queuelength": 1134,
          "time": 76.55574763119594,
          "type": "release"
         },
         {
          "queuelength": 1134,
          "time": 76.55992565005697,
          "type": "release"
         },
         {
          "queuelength": 1132,
          "time": 76.57467492023545,
          "type": "release"
         },
         {
          "queuelength": 1132,
          "time": 76.58042625094279,
          "type": "release"
         },
         {
          "queuelength": 1130,
          "time": 76.58132485990765,
          "type": "release"
         },
         {
          "queuelength": 1130,
          "time": 76.58330776936467,
          "type": "release"
         },
         {
          "queuelength": 1128,
          "time": 76.59142738559305,
          "type": "release"
         },
         {
          "queuelength": 1127,
          "time": 76.60873689721075,
          "type": "release"
         },
         {
          "queuelength": 1127,
          "time": 76.68681599079888,
          "type": "request"
         },
         {
          "queuelength": 1128,
          "time": 76.69450789608422,
          "type": "request"
         },
         {
          "queuelength": 1129,
          "time": 76.74171529435861,
          "type": "request"
         },
         {
          "queuelength": 1130,
          "time": 76.77164259525962,
          "type": "release"
         },
         {
          "queuelength": 1129,
          "time": 76.78558007426889,
          "type": "request"
         },
         {
          "queuelength": 1130,
          "time": 76.83850959543881,
          "type": "request"
         },
         {
          "queuelength": 1130,
          "time": 76.91526098717401,
          "type": "release"
         },
         {
          "queuelength": 1130,
          "time": 76.97084347343805,
          "type": "release"
         },
         {
          "queuelength": 1128,
          "time": 76.98184140172117,
          "type": "release"
         },
         {
          "queuelength": 1127,
          "time": 76.98620081193002,
          "type": "release"
         },
         {
          "queuelength": 1127,
          "time": 77.01357180521518,
          "type": "request"
         },
         {
          "queuelength": 1128,
          "time": 77.05415779346798,
          "type": "request"
         },
         {
          "queuelength": 1129,
          "time": 77.06532572773816,
          "type": "request"
         },
         {
          "queuelength": 1130,
          "time": 77.09450100308197,
          "type": "request"
         },
         {
          "queuelength": 1131,
          "time": 77.15501878056386,
          "type": "request"
         },
         {
          "queuelength": 1132,
          "time": 77.17240151349768,
          "type": "release"
         },
         {
          "queuelength": 1131,
          "time": 77.18735644703358,
          "type": "request"
         },
         {
          "queuelength": 1132,
          "time": 77.2843236225601,
          "type": "release"
         },
         {
          "queuelength": 1131,
          "time": 77.28852876210604,
          "type": "release"
         },
         {
          "queuelength": 1130,
          "time": 77.31062842697916,
          "type": "request"
         },
         {
          "queuelength": 1131,
          "time": 77.32677184080234,
          "type": "request"
         },
         {
          "queuelength": 1132,
          "time": 77.37653168643513,
          "type": "request"
         },
         {
          "queuelength": 1133,
          "time": 77.37705882144219,
          "type": "request"
         },
         {
          "queuelength": 1133,
          "time": 77.4096033609809,
          "type": "release"
         },
         {
          "queuelength": 1133,
          "time": 77.43423552917338,
          "type": "release"
         },
         {
          "queuelength": 1131,
          "time": 77.45985184195905,
          "type": "release"
         },
         {
          "queuelength": 1131,
          "time": 77.48458989328824,
          "type": "release"
         },
         {
          "queuelength": 1130,
          "time": 77.53711181355047,
          "type": "release"
         },
         {
          "queuelength": 1129,
          "time": 77.56332477542692,
          "type": "request"
         },
         {
          "queuelength": 1130,
          "time": 77.5830129616194,
          "type": "request"
         },
         {
          "queuelength": 1131,
          "time": 77.60090492953515,
          "type": "request"
         },
         {
          "queuelength": 1132,
          "time": 77.60090492953515,
          "type": "request"
         },
         {
          "queuelength": 1133,
          "time": 77.70614007697586,
          "type": "request"
         },
         {
          "queuelength": 1134,
          "time": 77.73622967971498,
          "type": "request"
         },
         {
          "queuelength": 1135,
          "time": 77.73684902960306,
          "type": "release"
         },
         {
          "queuelength": 1134,
          "time": 77.75087844939058,
          "type": "release"
         },
         {
          "queuelength": 1132,
          "time": 77.7618516128703,
          "type": "release"
         },
         {
          "queuelength": 1132,
          "time": 77.77710796343632,
          "type": "release"
         },
         {
          "queuelength": 1131,
          "time": 77.79619706127173,
          "type": "request"
         },
         {
          "queuelength": 1131,
          "time": 77.80044000514744,
          "type": "release"
         },
         {
          "queuelength": 1131,
          "time": 77.8477782866719,
          "type": "request"
         },
         {
          "queuelength": 1131,
          "time": 77.86404286164071,
          "type": "release"
         },
         {
          "queuelength": 1130,
          "time": 77.87790609350617,
          "type": "release"
         },
         {
          "queuelength": 1130,
          "time": 77.88367622211373,
          "type": "request"
         },
         {
          "queuelength": 1130,
          "time": 77.89261724595244,
          "type": "release"
         },
         {
          "queuelength": 1130,
          "time": 77.9102148165246,
          "type": "release"
         },
         {
          "queuelength": 1128,
          "time": 77.91679327162863,
          "type": "release"
         },
         {
          "queuelength": 1128,
          "time": 77.94099243415515,
          "type": "release"
         },
         {
          "queuelength": 1127,
          "time": 77.96225457051783,
          "type": "request"
         },
         {
          "queuelength": 1128,
          "time": 77.9857646219112,
          "type": "request"
         },
         {
          "queuelength": 1128,
          "time": 78.01947065133581,
          "type": "release"
         },
         {
          "queuelength": 1128,
          "time": 78.05381482830037,
          "type": "request"
         },
         {
          "queuelength": 1128,
          "time": 78.06509859445435,
          "type": "release"
         },
         {
          "queuelength": 1127,
          "time": 78.06569761326489,
          "type": "release"
         },
         {
          "queuelength": 1127,
          "time": 78.07716130302451,
          "type": "request"
         },
         {
          "queuelength": 1128,
          "time": 78.1055214073811,
          "type": "request"
         },
         {
          "queuelength": 1128,
          "time": 78.11562344968522,
          "type": "release"
         },
         {
          "queuelength": 1128,
          "time": 78.13551519008635,
          "type": "release"
         },
         {
          "queuelength": 1127,
          "time": 78.14585087590059,
          "type": "release"
         },
         {
          "queuelength": 1126,
          "time": 78.15378399055321,
          "type": "release"
         },
         {
          "queuelength": 1124,
          "time": 78.22110533007844,
          "type": "release"
         },
         {
          "queuelength": 1124,
          "time": 78.22408417362061,
          "type": "request"
         },
         {
          "queuelength": 1125,
          "time": 78.27422055656444,
          "type": "request"
         },
         {
          "queuelength": 1126,
          "time": 78.31432201624943,
          "type": "release"
         },
         {
          "queuelength": 1125,
          "time": 78.31859538193223,
          "type": "request"
         },
         {
          "queuelength": 1126,
          "time": 78.3186847811,
          "type": "release"
         },
         {
          "queuelength": 1125,
          "time": 78.32016059730047,
          "type": "request"
         },
         {
          "queuelength": 1126,
          "time": 78.36364754840623,
          "type": "request"
         },
         {
          "queuelength": 1127,
          "time": 78.36989335474847,
          "type": "release"
         },
         {
          "queuelength": 1126,
          "time": 78.40145843872214,
          "type": "request"
         },
         {
          "queuelength": 1127,
          "time": 78.40199901910118,
          "type": "request"
         },
         {
          "queuelength": 1127,
          "time": 78.40579421665629,
          "type": "release"
         },
         {
          "queuelength": 1127,
          "time": 78.40693971103516,
          "type": "request"
         },
         {
          "queuelength": 1128,
          "time": 78.40792100557987,
          "type": "request"
         },
         {
          "queuelength": 1129,
          "time": 78.44000559855857,
          "type": "release"
         },
         {
          "queuelength": 1128,
          "time": 78.47684328814928,
          "type": "request"
         },
         {
          "queuelength": 1129,
          "time": 78.49388568700566,
          "type": "request"
         },
         {
          "queuelength": 1129,
          "time": 78.49688186578621,
          "type": "release"
         },
         {
          "queuelength": 1129,
          "time": 78.50677006879161,
          "type": "release"
         },
         {
          "queuelength": 1127,
          "time": 78.55912185417432,
          "type": "release"
         },
         {
          "queuelength": 1127,
          "time": 78.62056003428924,
          "type": "request"
         },
         {
          "queuelength": 1127,
          "time": 78.65133405674054,
          "type": "release"
         },
         {
          "queuelength": 1127,
          "time": 78.66441682665346,
          "type": "release"
         },
         {
          "queuelength": 1125,
          "time": 78.67328477407672,
          "type": "release"
         },
         {
          "queuelength": 1124,
          "time": 78.69020762854478,
          "type": "release"
         },
         {
          "queuelength": 1124,
          "time": 78.69391263564799,
          "type": "release"
         },
         {
          "queuelength": 1122,
          "time": 78.77042645903424,
          "type": "release"
         },
         {
          "queuelength": 1122,
          "time": 78.77323173959567,
          "type": "release"
         },
         {
          "queuelength": 1121,
          "time": 78.78203547692397,
          "type": "release"
         },
         {
          "queuelength": 1119,
          "time": 78.8583106408777,
          "type": "release"
         },
         {
          "queuelength": 1119,
          "time": 78.88666941124775,
          "type": "release"
         },
         {
          "queuelength": 1117,
          "time": 78.9490629069242,
          "type": "release"
         },
         {
          "queuelength": 1117,
          "time": 78.96362151813864,
          "type": "release"
         },
         {
          "queuelength": 1116,
          "time": 78.98913430793431,
          "type": "request"
         },
         {
          "queuelength": 1117,
          "time": 79.0771082259057,
          "type": "request"
         },
         {
          "queuelength": 1117,
          "time": 79.11426283382325,
          "type": "release"
         },
         {
          "queuelength": 1117,
          "time": 79.11719584158766,
          "type": "release"
         },
         {
          "queuelength": 1116,
          "time": 79.14894529431315,
          "type": "request"
         },
         {
          "queuelength": 1117,
          "time": 79.16291224833714,
          "type": "request"
         },
         {
          "queuelength": 1118,
          "time": 79.2179044538517,
          "type": "release"
         },
         {
          "queuelength": 1116,
          "time": 79.22204714268867,
          "type": "release"
         },
         {
          "queuelength": 1116,
          "time": 79.2305794261427,
          "type": "release"
         },
         {
          "queuelength": 1114,
          "time": 79.26023356971541,
          "type": "release"
         },
         {
          "queuelength": 1113,
          "time": 79.29990777722345,
          "type": "release"
         },
         {
          "queuelength": 1112,
          "time": 79.3019203366051,
          "type": "release"
         },
         {
          "queuelength": 1111,
          "time": 79.35340304758913,
          "type": "release"
         },
         {
          "queuelength": 1111,
          "time": 79.3545468193507,
          "type": "request"
         },
         {
          "queuelength": 1112,
          "time": 79.38968941289339,
          "type": "request"
         },
         {
          "queuelength": 1113,
          "time": 79.40304133441879,
          "type": "request"
         },
         {
          "queuelength": 1113,
          "time": 79.40455237727608,
          "type": "release"
         },
         {
          "queuelength": 1113,
          "time": 79.45179317954594,
          "type": "request"
         },
         {
          "queuelength": 1113,
          "time": 79.46966434146147,
          "type": "release"
         },
         {
          "queuelength": 1112,
          "time": 79.47512605745514,
          "type": "release"
         },
         {
          "queuelength": 1111,
          "time": 79.47954270203158,
          "type": "release"
         },
         {
          "queuelength": 1110,
          "time": 79.49212120763903,
          "type": "release"
         },
         {
          "queuelength": 1110,
          "time": 79.52581020614952,
          "type": "request"
         },
         {
          "queuelength": 1111,
          "time": 79.59265126686029,
          "type": "request"
         },
         {
          "queuelength": 1112,
          "time": 79.60048361680201,
          "type": "release"
         },
         {
          "queuelength": 1111,
          "time": 79.61913955412334,
          "type": "request"
         },
         {
          "queuelength": 1112,
          "time": 79.68748626171428,
          "type": "request"
         },
         {
          "queuelength": 1112,
          "time": 79.72698063268297,
          "type": "release"
         },
         {
          "queuelength": 1112,
          "time": 79.73760211238846,
          "type": "request"
         },
         {
          "queuelength": 1113,
          "time": 79.75670654410054,
          "type": "release"
         },
         {
          "queuelength": 1112,
          "time": 79.7570968730314,
          "type": "request"
         },
         {
          "queuelength": 1112,
          "time": 79.7805918443375,
          "type": "release"
         },
         {
          "queuelength": 1111,
          "time": 79.78153542482951,
          "type": "release"
         },
         {
          "queuelength": 1110,
          "time": 79.88319137865759,
          "type": "release"
         },
         {
          "queuelength": 1110,
          "time": 79.91062986019878,
          "type": "request"
         },
         {
          "queuelength": 1110,
          "time": 79.92114051984905,
          "type": "release"
         },
         {
          "queuelength": 1110,
          "time": 79.94457907299658,
          "type": "request"
         },
         {
          "queuelength": 1110,
          "time": 79.95655953515607,
          "type": "release"
         },
         {
          "queuelength": 1110,
          "time": 79.9944110408272,
          "type": "release"
         },
         {
          "queuelength": 1109,
          "time": 79.99982907146384,
          "type": "request"
         },
         {
          "queuelength": 1110,
          "time": 80.02104560339923,
          "type": "request"
         },
         {
          "queuelength": 1111,
          "time": 80.04045964940397,
          "type": "request"
         },
         {
          "queuelength": 1111,
          "time": 80.06202446179239,
          "type": "release"
         },
         {
          "queuelength": 1111,
          "time": 80.0625393414241,
          "type": "request"
         },
         {
          "queuelength": 1112,
          "time": 80.10836599792287,
          "type": "request"
         },
         {
          "queuelength": 1112,
          "time": 80.11338622708634,
          "type": "release"
         },
         {
          "queuelength": 1111,
          "time": 80.11523766944607,
          "type": "release"
         },
         {
          "queuelength": 1111,
          "time": 80.12843405169308,
          "type": "release"
         },
         {
          "queuelength": 1110,
          "time": 80.14239224888716,
          "type": "release"
         },
         {
          "queuelength": 1109,
          "time": 80.15242849792288,
          "type": "request"
         },
         {
          "queuelength": 1110,
          "time": 80.16184067732522,
          "type": "release"
         },
         {
          "queuelength": 1108,
          "time": 80.2314013144142,
          "type": "release"
         },
         {
          "queuelength": 1108,
          "time": 80.23760800167028,
          "type": "request"
         },
         {
          "queuelength": 1108,
          "time": 80.23762317152378,
          "type": "release"
         },
         {
          "queuelength": 1107,
          "time": 80.24058738437581,
          "type": "release"
         },
         {
          "queuelength": 1107,
          "time": 80.2598368074579,
          "type": "request"
         },
         {
          "queuelength": 1108,
          "time": 80.25984668442887,
          "type": "release"
         },
         {
          "queuelength": 1107,
          "time": 80.27065836164242,
          "type": "request"
         },
         {
          "queuelength": 1108,
          "time": 80.28168654077645,
          "type": "request"
         },
         {
          "queuelength": 1109,
          "time": 80.32828673174936,
          "type": "request"
         },
         {
          "queuelength": 1109,
          "time": 80.33960440636478,
          "type": "release"
         },
         {
          "queuelength": 1108,
          "time": 80.34421094061027,
          "type": "release"
         },
         {
          "queuelength": 1108,
          "time": 80.37526878056386,
          "type": "request"
         },
         {
          "queuelength": 1109,
          "time": 80.41598561817648,
          "type": "request"
         },
         {
          "queuelength": 1110,
          "time": 80.43854600557735,
          "type": "release"
         },
         {
          "queuelength": 1108,
          "time": 80.44299268359238,
          "type": "release"
         },
         {
          "queuelength": 1107,
          "time": 80.44364636872515,
          "type": "release"
         },
         {
          "queuelength": 1107,
          "time": 80.45996827276429,
          "type": "release"
         },
         {
          "queuelength": 1106,
          "time": 80.46517367185777,
          "type": "request"
         },
         {
          "queuelength": 1106,
          "time": 80.50794710533,
          "type": "release"
         },
         {
          "queuelength": 1105,
          "time": 80.53925771700298,
          "type": "release"
         },
         {
          "queuelength": 1104,
          "time": 80.57539474731789,
          "type": "release"
         },
         {
          "queuelength": 1103,
          "time": 80.62087923687514,
          "type": "release"
         },
         {
          "queuelength": 1103,
          "time": 80.68687306250953,
          "type": "request"
         },
         {
          "queuelength": 1104,
          "time": 80.7062853082723,
          "type": "request"
         },
         {
          "queuelength": 1104,
          "time": 80.72622889624597,
          "type": "release"
         },
         {
          "queuelength": 1103,
          "time": 80.74293518874627,
          "type": "release"
         },
         {
          "queuelength": 1103,
          "time": 80.7709186737028,
          "type": "request"
         },
         {
          "queuelength": 1104,
          "time": 80.80002393401494,
          "type": "request"
         },
         {
          "queuelength": 1104,
          "time": 80.80323925626881,
          "type": "release"
         },
         {
          "queuelength": 1104,
          "time": 80.80493354872144,
          "type": "request"
         },
         {
          "queuelength": 1104,
          "time": 80.85351217465264,
          "type": "release"
         },
         {
          "queuelength": 1104,
          "time": 80.865755621959,
          "type": "release"
         },
         {
          "queuelength": 1103,
          "time": 80.92223193874662,
          "type": "request"
         },
         {
          "queuelength": 1104,
          "time": 80.9558135903507,
          "type": "request"
         },
         {
          "queuelength": 1105,
          "time": 80.96679324353674,
          "type": "release"
         },
         {
          "queuelength": 1103,
          "time": 80.97624773555732,
          "type": "release"
         },
         {
          "queuelength": 1103,
          "time": 81.01316008653437,
          "type": "release"
         },
         {
          "queuelength": 1102,
          "time": 81.02686403786696,
          "type": "request"
         },
         {
          "queuelength": 1103,
          "time": 81.10314039904524,
          "type": "request"
         },
         {
          "queuelength": 1104,
          "time": 81.12618532484493,
          "type": "request"
         },
         {
          "queuelength": 1105,
          "time": 81.12893918440363,
          "type": "release"
         },
         {
          "queuelength": 1104,
          "time": 81.13232852073338,
          "type": "release"
         },
         {
          "queuelength": 1102,
          "time": 81.20371837690601,
          "type": "release"
         },
         {
          "queuelength": 1102,
          "time": 81.2470087128249,
          "type": "release"
         },
         {
          "queuelength": 1100,
          "time": 81.25718069549143,
          "type": "release"
         },
         {
          "queuelength": 1099,
          "time": 81.29537661330079,
          "type": "release"
         },
         {
          "queuelength": 1099,
          "time": 81.31966444964932,
          "type": "release"
         },
         {
          "queuelength": 1098,
          "time": 81.32317089069237,
          "type": "release"
         },
         {
          "queuelength": 1096,
          "time": 81.38343971822842,
          "type": "release"
         },
         {
          "queuelength": 1096,
          "time": 81.39839345633906,
          "type": "release"
         },
         {
          "queuelength": 1094,
          "time": 81.46019227688657,
          "type": "release"
         },
         {
          "queuelength": 1094,
          "time": 81.46168405896003,
          "type": "request"
         },
         {
          "queuelength": 1094,
          "time": 81.46197343705126,
          "type": "release"
         },
         {
          "queuelength": 1094,
          "time": 81.48778001141105,
          "type": "request"
         },
         {
          "queuelength": 1095,
          "time": 81.50994755613863,
          "type": "release"
         },
         {
          "queuelength": 1094,
          "time": 81.57047360850592,
          "type": "release"
         },
         {
          "queuelength": 1093,
          "time": 81.595539233367,
          "type": "release"
         },
         {
          "queuelength": 1091,
          "time": 81.6443410298757,
          "type": "release"
         },
         {
          "queuelength": 1091,
          "time": 81.67981212557382,
          "type": "request"
         },
         {
          "queuelength": 1092,
          "time": 81.687418322822,
          "type": "release"
         },
         {
          "queuelength": 1090,
          "time": 81.69957231873525,
          "type": "release"
         },
         {
          "queuelength": 1090,
          "time": 81.75516792586981,
          "type": "release"
         },
         {
          "queuelength": 1089,
          "time": 81.77440701075268,
          "type": "request"
         },
         {
          "queuelength": 1089,
          "time": 81.78734576968989,
          "type": "release"
         },
         {
          "queuelength": 1089,
          "time": 81.84404409065111,
          "type": "release"
         },
         {
          "queuelength": 1087,
          "time": 81.85065464015318,
          "type": "release"
         },
         {
          "queuelength": 1087,
          "time": 81.91948799052882,
          "type": "request"
         },
         {
          "queuelength": 1088,
          "time": 81.92579802019571,
          "type": "request"
         },
         {
          "queuelength": 1088,
          "time": 81.98023207427374,
          "type": "release"
         },
         {
          "queuelength": 1087,
          "time": 81.98372563283364,
          "type": "release"
         },
         {
          "queuelength": 1086,
          "time": 82.01728878747713,
          "type": "release"
         },
         {
          "queuelength": 1085,
          "time": 82.04612367138677,
          "type": "release"
         },
         {
          "queuelength": 1085,
          "time": 82.07849294510851,
          "type": "release"
         },
         {
          "queuelength": 1084,
          "time": 82.12217094606335,
          "type": "request"
         },
         {
          "queuelength": 1085,
          "time": 82.17636292883513,
          "type": "request"
         },
         {
          "queuelength": 1086,
          "time": 82.20640735344861,
          "type": "release"
         },
         {
          "queuelength": 1084,
          "time": 82.22727927276594,
          "type": "release"
         },
         {
          "queuelength": 1083,
          "time": 82.23115167978543,
          "type": "release"
         },
         {
          "queuelength": 1083,
          "time": 82.24458442910797,
          "type": "request"
         },
         {
          "queuelength": 1083,
          "time": 82.25383641118671,
          "type": "release"
         },
         {
          "queuelength": 1083,
          "time": 82.25963999490085,
          "type": "request"
         },
         {
          "queuelength": 1084,
          "time": 82.26170709862808,
          "type": "request"
         },
         {
          "queuelength": 1084,
          "time": 82.26334812996643,
          "type": "release"
         },
         {
          "queuelength": 1084,
          "time": 82.29398234734006,
          "type": "request"
         },
         {
          "queuelength": 1085,
          "time": 82.30712231222972,
          "type": "request"
         },
         {
          "queuelength": 1085,
          "time": 82.31065627648366,
          "type": "release"
         },
         {
          "queuelength": 1084,
          "time": 82.31444697127264,
          "type": "release"
         },
         {
          "queuelength": 1083,
          "time": 82.32786736866873,
          "type": "release"
         },
         {
          "queuelength": 1082,
          "time": 82.32932330183363,
          "type": "release"
         },
         {
          "queuelength": 1081,
          "time": 82.33021897309217,
          "type": "release"
         },
         {
          "queuelength": 1080,
          "time": 82.38273860009616,
          "type": "release"
         },
         {
          "queuelength": 1080,
          "time": 82.4096033609809,
          "type": "request"
         },
         {
          "queuelength": 1081,
          "time": 82.41325779431315,
          "type": "request"
         },
         {
          "queuelength": 1081,
          "time": 82.44076645596834,
          "type": "release"
         },
         {
          "queuelength": 1081,
          "time": 82.46834471340779,
          "type": "request"
         },
         {
          "queuelength": 1081,
          "time": 82.47465553561358,
          "type": "release"
         },
         {
          "queuelength": 1081,
          "time": 82.48261901985566,
          "type": "release"
         },
         {
          "queuelength": 1080,
          "time": 82.52738250089395,
          "type": "release"
         },
         {
          "queuelength": 1078,
          "time": 82.53846981923056,
          "type": "release"
         },
         {
          "queuelength": 1078,
          "time": 82.54068330112989,
          "type": "request"
         },
         {
          "queuelength": 1078,
          "time": 82.5688391310374,
          "type": "release"
         },
         {
          "queuelength": 1078,
          "time": 82.59507903135477,
          "type": "request"
         },
         {
          "queuelength": 1078,
          "time": 82.61658123658185,
          "type": "release"
         },
         {
          "queuelength": 1078,
          "time": 82.6210037262244,
          "type": "request"
         },
         {
          "queuelength": 1078,
          "time": 82.64261608197549,
          "type": "release"
         },
         {
          "queuelength": 1077,
          "time": 82.65144904272722,
          "type": "release"
         },
         {
          "queuelength": 1077,
          "time": 82.7715073705094,
          "type": "release"
         },
         {
          "queuelength": 1076,
          "time": 82.80652667904113,
          "type": "request"
         },
         {
          "queuelength": 1076,
          "time": 82.8164276266686,
          "type": "release"
         },
         {
          "queuelength": 1075,
          "time": 82.81663581661743,
          "type": "release"
         },
         {
          "queuelength": 1075,
          "time": 82.83679602502664,
          "type": "request"
         },
         {
          "queuelength": 1076,
          "time": 82.83679602502664,
          "type": "request"
         },
         {
          "queuelength": 1076,
          "time": 82.94613879024291,
          "type": "release"
         },
         {
          "queuelength": 1076,
          "time": 82.95645760098488,
          "type": "release"
         },
         {
          "queuelength": 1075,
          "time": 82.96416447801049,
          "type": "request"
         },
         {
          "queuelength": 1076,
          "time": 82.98905193397721,
          "type": "release"
         },
         {
          "queuelength": 1075,
          "time": 83.04726308423156,
          "type": "request"
         },
         {
          "queuelength": 1076,
          "time": 83.04978730920473,
          "type": "release"
         },
         {
          "queuelength": 1075,
          "time": 83.09969412305625,
          "type": "release"
         },
         {
          "queuelength": 1073,
          "time": 83.10687865711225,
          "type": "release"
         },
         {
          "queuelength": 1072,
          "time": 83.10748122633264,
          "type": "release"
         },
         {
          "queuelength": 1071,
          "time": 83.11945019513271,
          "type": "release"
         },
         {
          "queuelength": 1071,
          "time": 83.13232029499626,
          "type": "release"
         },
         {
          "queuelength": 1070,
          "time": 83.1426938136692,
          "type": "request"
         },
         {
          "queuelength": 1070,
          "time": 83.16389720664378,
          "type": "release"
         },
         {
          "queuelength": 1070,
          "time": 83.1645722203559,
          "type": "request"
         },
         {
          "queuelength": 1070,
          "time": 83.19654439337569,
          "type": "release"
         },
         {
          "queuelength": 1069,
          "time": 83.2368496284529,
          "type": "release"
         },
         {
          "queuelength": 1069,
          "time": 83.2783549106372,
          "type": "request"
         },
         {
          "queuelength": 1070,
          "time": 83.31384814465616,
          "type": "request"
         },
         {
          "queuelength": 1071,
          "time": 83.36415620198262,
          "type": "release"
         },
         {
          "queuelength": 1069,
          "time": 83.40969307362748,
          "type": "release"
         },
         {
          "queuelength": 1068,
          "time": 83.43292958256406,
          "type": "release"
         },
         {
          "queuelength": 1067,
          "time": 83.51439244752075,
          "type": "release"
         },
         {
          "queuelength": 1066,
          "time": 83.52502587501836,
          "type": "release"
         },
         {
          "queuelength": 1065,
          "time": 83.53154156645863,
          "type": "release"
         },
         {
          "queuelength": 1065,
          "time": 83.53385060292939,
          "type": "request"
         },
         {
          "queuelength": 1066,
          "time": 83.53695378543352,
          "type": "release"
         },
         {
          "queuelength": 1065,
          "time": 83.55393405279256,
          "type": "request"
         },
         {
          "queuelength": 1065,
          "time": 83.60275127092693,
          "type": "release"
         },
         {
          "queuelength": 1064,
          "time": 83.61339194717294,
          "type": "release"
         },
         {
          "queuelength": 1063,
          "time": 83.63223932026798,
          "type": "release"
         },
         {
          "queuelength": 1062,
          "time": 83.6556484137781,
          "type": "release"
         },
         {
          "queuelength": 1061,
          "time": 83.66812307335319,
          "type": "release"
         },
         {
          "queuelength": 1061,
          "time": 83.70240268456031,
          "type": "release"
         },
         {
          "queuelength": 1060,
          "time": 83.71227939685102,
          "type": "request"
         },
         {
          "queuelength": 1061,
          "time": 83.7507037555513,
          "type": "request"
         },
         {
          "queuelength": 1061,
          "time": 83.7575808584401,
          "type": "release"
         },
         {
          "queuelength": 1061,
          "time": 83.75782000452975,
          "type": "request"
         },
         {
          "queuelength": 1062,
          "time": 83.76001842365199,
          "type": "request"
         },
         {
          "queuelength": 1063,
          "time": 83.78033379985484,
          "type": "request"
         },
         {
          "queuelength": 1064,
          "time": 83.83741230812727,
          "type": "release"
         },
         {
          "queuelength": 1063,
          "time": 83.89984287251328,
          "type": "release"
         },
         {
          "queuelength": 1062,
          "time": 83.90895178214825,
          "type": "request"
         },
         {
          "queuelength": 1063,
          "time": 83.92647783395894,
          "type": "request"
         },
         {
          "queuelength": 1064,
          "time": 83.98732518983635,
          "type": "request"
         },
         {
          "queuelength": 1064,
          "time": 83.98829993413455,
          "type": "release"
         },
         {
          "queuelength": 1064,
          "time": 84.07087009865464,
          "type": "request"
         },
         {
          "queuelength": 1065,
          "time": 84.10206608986587,
          "type": "request"
         },
         {
          "queuelength": 1066,
          "time": 84.11513509861416,
          "type": "release"
         },
         {
          "queuelength": 1064,
          "time": 84.12122332158552,
          "type": "release"
         },
         {
          "queuelength": 1063,
          "time": 84.1554786570614,
          "type": "release"
         },
         {
          "queuelength": 1062,
          "time": 84.15580419198888,
          "type": "release"
         },
         {
          "queuelength": 1062,
          "time": 84.18827411849946,
          "type": "release"
         },
         {
          "queuelength": 1061,
          "time": 84.23297384270836,
          "type": "release"
         },
         {
          "queuelength": 1060,
          "time": 84.31018405440916,
          "type": "request"
         },
         {
          "queuelength": 1061,
          "time": 84.34824411928152,
          "type": "release"
         },
         {
          "queuelength": 1060,
          "time": 84.35340304758913,
          "type": "request"
         },
         {
          "queuelength": 1061,
          "time": 84.36104549123104,
          "type": "release"
         },
         {
          "queuelength": 1060,
          "time": 84.36495039184855,
          "type": "request"
         },
         {
          "queuelength": 1061,
          "time": 84.40758263355941,
          "type": "request"
         },
         {
          "queuelength": 1061,
          "time": 84.47040542502063,
          "type": "release"
         },
         {
          "queuelength": 1060,
          "time": 84.47688909134278,
          "type": "release"
         },
         {
          "queuelength": 1060,
          "time": 84.49512508957451,
          "type": "request"
         },
         {
          "queuelength": 1061,
          "time": 84.50444685213893,
          "type": "request"
         },
         {
          "queuelength": 1062,
          "time": 84.50480910806853,
          "type": "release"
         },
         {
          "queuelength": 1061,
          "time": 84.51384504182337,
          "type": "release"
         },
         {
          "queuelength": 1060,
          "time": 84.54745872807004,
          "type": "request"
         },
         {
          "queuelength": 1061,
          "time": 84.54745872807004,
          "type": "request"
         },
         {
          "queuelength": 1062,
          "time": 84.58338148892533,
          "type": "request"
         },
         {
          "queuelength": 1063,
          "time": 84.60883524971251,
          "type": "request"
         },
         {
          "queuelength": 1064,
          "time": 84.62607215505936,
          "type": "request"
         },
         {
          "queuelength": 1065,
          "time": 84.64588055180924,
          "type": "release"
         },
         {
          "queuelength": 1064,
          "time": 84.65676361334177,
          "type": "request"
         },
         {
          "queuelength": 1065,
          "time": 84.66422471737566,
          "type": "request"
         },
         {
          "queuelength": 1065,
          "time": 84.6738959800195,
          "type": "release"
         },
         {
          "queuelength": 1065,
          "time": 84.68655130413396,
          "type": "request"
         },
         {
          "queuelength": 1066,
          "time": 84.7224509157184,
          "type": "request"
         },
         {
          "queuelength": 1066,
          "time": 84.73011701987495,
          "type": "release"
         },
         {
          "queuelength": 1065,
          "time": 84.73898494274272,
          "type": "release"
         },
         {
          "queuelength": 1064,
          "time": 84.74013755715185,
          "type": "release"
         },
         {
          "queuelength": 1063,
          "time": 84.75638951976595,
          "type": "release"
         },
         {
          "queuelength": 1062,
          "time": 84.75900776690733,
          "type": "release"
         },
         {
          "queuelength": 1062,
          "time": 84.7852514119823,
          "type": "request"
         },
         {
          "queuelength": 1063,
          "time": 84.85857794604482,
          "type": "request"
         },
         {
          "queuelength": 1064,
          "time": 84.8634937412162,
          "type": "release"
         },
         {
          "queuelength": 1062,
          "time": 84.86369666361378,
          "type": "release"
         },
         {
          "queuelength": 1062,
          "time": 84.87090717004281,
          "type": "release"
         },
         {
          "queuelength": 1060,
          "time": 84.91645053144185,
          "type": "release"
         },
         {
          "queuelength": 1060,
          "time": 84.9821972737385,
          "type": "release"
         },
         {
          "queuelength": 1058,
          "time": 85.00985255103187,
          "type": "release"
         },
         {
          "queuelength": 1058,
          "time": 85.03306228388524,
          "type": "release"
         },
         {
          "queuelength": 1057,
          "time": 85.03350279948373,
          "type": "release"
         },
         {
          "queuelength": 1056,
          "time": 85.0425404110341,
          "type": "request"
         },
         {
          "queuelength": 1057,
          "time": 85.06729995164089,
          "type": "request"
         },
         {
          "queuelength": 1057,
          "time": 85.08041644194866,
          "type": "release"
         },
         {
          "queuelength": 1057,
          "time": 85.09452329509571,
          "type": "request"
         },
         {
          "queuelength": 1058,
          "time": 85.10206325969965,
          "type": "request"
         },
         {
          "queuelength": 1059,
          "time": 85.18418876903108,
          "type": "release"
         },
         {
          "queuelength": 1058,
          "time": 85.19967483986409,
          "type": "request"
         },
         {
          "queuelength": 1059,
          "time": 85.20858845731503,
          "type": "request"
         },
         {
          "queuelength": 1060,
          "time": 85.23222582992061,
          "type": "request"
         },
         {
          "queuelength": 1060,
          "time": 85.24855318400672,
          "type": "release"
         },
         {
          "queuelength": 1059,
          "time": 85.27312808881194,
          "type": "release"
         },
         {
          "queuelength": 1059,
          "time": 85.30757232203372,
          "type": "release"
         },
         {
          "queuelength": 1058,
          "time": 85.33432651012826,
          "type": "request"
         },
         {
          "queuelength": 1058,
          "time": 85.392321269545,
          "type": "release"
         },
         {
          "queuelength": 1057,
          "time": 85.47853765572884,
          "type": "release"
         },
         {
          "queuelength": 1057,
          "time": 85.512472927107,
          "type": "request"
         },
         {
          "queuelength": 1057,
          "time": 85.51815397634984,
          "type": "release"
         },
         {
          "queuelength": 1057,
          "time": 85.5328164341885,
          "type": "request"
         },
         {
          "queuelength": 1058,
          "time": 85.53679586575005,
          "type": "request"
         },
         {
          "queuelength": 1059,
          "time": 85.54288236548928,
          "type": "release"
         },
         {
          "queuelength": 1058,
          "time": 85.54808549626344,
          "type": "request"
         },
         {
          "queuelength": 1058,
          "time": 85.56493853621774,
          "type": "release"
         },
         {
          "queuelength": 1057,
          "time": 85.57892873241082,
          "type": "release"
         },
         {
          "queuelength": 1057,
          "time": 85.57959862026482,
          "type": "release"
         },
         {
          "queuelength": 1055,
          "time": 85.5877556837075,
          "type": "release"
         },
         {
          "queuelength": 1054,
          "time": 85.66754915151168,
          "type": "release"
         },
         {
          "queuelength": 1054,
          "time": 85.73143593162193,
          "type": "release"
         },
         {
          "queuelength": 1052,
          "time": 85.73471983604414,
          "type": "release"
         },
         {
          "queuelength": 1051,
          "time": 85.75289036805619,
          "type": "release"
         },
         {
          "queuelength": 1051,
          "time": 85.76892596733548,
          "type": "request"
         },
         {
          "queuelength": 1051,
          "time": 85.79178304996879,
          "type": "release"
         },
         {
          "queuelength": 1050,
          "time": 85.79283755034619,
          "type": "release"
         },
         {
          "queuelength": 1050,
          "time": 85.83447179440633,
          "type": "release"
         },
         {
          "queuelength": 1048,
          "time": 85.86688267832275,
          "type": "release"
         },
         {
          "queuelength": 1048,
          "time": 85.8963472375491,
          "type": "request"
         },
         {
          "queuelength": 1048,
          "time": 85.94080911144957,
          "type": "release"
         },
         {
          "queuelength": 1048,
          "time": 85.98348012912962,
          "type": "request"
         },
         {
          "queuelength": 1048,
          "time": 86.02512426399844,
          "type": "release"
         },
         {
          "queuelength": 1048,
          "time": 86.02555688514887,
          "type": "release"
         },
         {
          "queuelength": 1047,
          "time": 86.06446204929547,
          "type": "request"
         },
         {
          "queuelength": 1047,
          "time": 86.0831605327208,
          "type": "release"
         },
         {
          "queuelength": 1046,
          "time": 86.08870197433134,
          "type": "release"
         },
         {
          "queuelength": 1045,
          "time": 86.14369850823388,
          "type": "release"
         },
         {
          "queuelength": 1044,
          "time": 86.14965246502682,
          "type": "release"
         },
         {
          "queuelength": 1044,
          "time": 86.18400832727465,
          "type": "release"
         },
         {
          "queuelength": 1042,
          "time": 86.2374591192563,
          "type": "release"
         },
         {
          "queuelength": 1041,
          "time": 86.26841202913447,
          "type": "release"
         },
         {
          "queuelength": 1040,
          "time": 86.2916742433751,
          "type": "release"
         },
         {
          "queuelength": 1040,
          "time": 86.29537661330079,
          "type": "request"
         },
         {
          "queuelength": 1040,
          "time": 86.29877506851567,
          "type": "release"
         },
         {
          "queuelength": 1039,
          "time": 86.33353151459747,
          "type": "release"
         },
         {
          "queuelength": 1038,
          "time": 86.33841097550481,
          "type": "release"
         },
         {
          "queuelength": 1038,
          "time": 86.34745017150723,
          "type": "request"
         },
         {
          "queuelength": 1038,
          "time": 86.35502629302218,
          "type": "release"
         },
         {
          "queuelength": 1038,
          "time": 86.37334145570185,
          "type": "release"
         },
         {
          "queuelength": 1036,
          "time": 86.37700399430757,
          "type": "release"
         },
         {
          "queuelength": 1036,
          "time": 86.38032745197656,
          "type": "release"
         },
         {
          "queuelength": 1034,
          "time": 86.41474493547025,
          "type": "release"
         },
         {
          "queuelength": 1034,
          "time": 86.4228654897878,
          "type": "request"
         },
         {
          "queuelength": 1035,
          "time": 86.428229297895,
          "type": "request"
         },
         {
          "queuelength": 1036,
          "time": 86.42848762114951,
          "type": "release"
         },
         {
          "queuelength": 1035,
          "time": 86.43188420577208,
          "type": "request"
         },
         {
          "queuelength": 1036,
          "time": 86.47863056363433,
          "type": "request"
         },
         {
          "queuelength": 1036,
          "time": 86.48765448155243,
          "type": "release"
         },
         {
          "queuelength": 1035,
          "time": 86.52744187110031,
          "type": "release"
         },
         {
          "queuelength": 1034,
          "time": 86.53256449712038,
          "type": "release"
         },
         {
          "queuelength": 1034,
          "time": 86.5423116115211,
          "type": "request"
         },
         {
          "queuelength": 1035,
          "time": 86.5527046061521,
          "type": "request"
         },
         {
          "queuelength": 1035,
          "time": 86.55396558449695,
          "type": "release"
         },
         {
          "queuelength": 1034,
          "time": 86.57414961435481,
          "type": "release"
         },
         {
          "queuelength": 1034,
          "time": 86.60097997994416,
          "type": "request"
         },
         {
          "queuelength": 1034,
          "time": 86.6065309858223,
          "type": "release"
         },
         {
          "queuelength": 1033,
          "time": 86.62310096900697,
          "type": "release"
         },
         {
          "queuelength": 1033,
          "time": 86.64515858681943,
          "type": "release"
         },
         {
          "queuelength": 1032,
          "time": 86.68068968768131,
          "type": "release"
         },
         {
          "queuelength": 1030,
          "time": 86.68226227109965,
          "type": "release"
         },
         {
          "queuelength": 1030,
          "time": 86.71772924526769,
          "type": "request"
         },
         {
          "queuelength": 1031,
          "time": 86.76067588228507,
          "type": "release"
         },
         {
          "queuelength": 1030,
          "time": 86.81144897210297,
          "type": "request"
         },
         {
          "queuelength": 1030,
          "time": 86.86493424541145,
          "type": "release"
         },
         {
          "queuelength": 1030,
          "time": 86.9233298883414,
          "type": "request"
         },
         {
          "queuelength": 1030,
          "time": 86.94440830339884,
          "type": "release"
         },
         {
          "queuelength": 1029,
          "time": 86.96560848560091,
          "type": "release"
         },
         {
          "queuelength": 1029,
          "time": 86.99362828575484,
          "type": "release"
         },
         {
          "queuelength": 1027,
          "time": 86.99715465611582,
          "type": "release"
         },
         {
          "queuelength": 1027,
          "time": 87.03273791303393,
          "type": "request"
         },
         {
          "queuelength": 1027,
          "time": 87.07524701969803,
          "type": "release"
         },
         {
          "queuelength": 1026,
          "time": 87.10111342582319,
          "type": "release"
         },
         {
          "queuelength": 1025,
          "time": 87.13617280677937,
          "type": "release"
         },
         {
          "queuelength": 1025,
          "time": 87.15678485138024,
          "type": "release"
         },
         {
          "queuelength": 1024,
          "time": 87.21012702948681,
          "type": "release"
         },
         {
          "queuelength": 1022,
          "time": 87.2126193467733,
          "type": "release"
         },
         {
          "queuelength": 1022,
          "time": 87.21429572590569,
          "type": "request"
         },
         {
          "queuelength": 1023,
          "time": 87.21686054770251,
          "type": "request"
         },
         {
          "queuelength": 1023,
          "time": 87.22360788132013,
          "type": "release"
         },
         {
          "queuelength": 1023,
          "time": 87.25383641118671,
          "type": "request"
         },
         {
          "queuelength": 1024,
          "time": 87.29840170392906,
          "type": "release"
         },
         {
          "queuelength": 1023,
          "time": 87.3281423943533,
          "type": "release"
         },
         {
          "queuelength": 1022,
          "time": 87.38581942142163,
          "type": "request"
         },
         {
          "queuelength": 1023,
          "time": 87.500552025274,
          "type": "request"
         },
         {
          "queuelength": 1024,
          "time": 87.50411099144874,
          "type": "request"
         },
         {
          "queuelength": 1025,
          "time": 87.55853392695634,
          "type": "request"
         },
         {
          "queuelength": 1026,
          "time": 87.58374374240135,
          "type": "release"
         },
         {
          "queuelength": 1024,
          "time": 87.70325956264267,
          "type": "release"
         },
         {
          "queuelength": 1023,
          "time": 87.70896638293169,
          "type": "release"
         },
         {
          "queuelength": 1023,
          "time": 87.7445913664652,
          "type": "release"
         },
         {
          "queuelength": 1022,
          "time": 87.78147453881375,
          "type": "request"
         },
         {
          "queuelength": 1022,
          "time": 87.78625272189777,
          "type": "release"
         },
         {
          "queuelength": 1022,
          "time": 87.8164276266686,
          "type": "request"
         },
         {
          "queuelength": 1023,
          "time": 87.81987512889734,
          "type": "release"
         },
         {
          "queuelength": 1022,
          "time": 87.86700979518403,
          "type": "request"
         },
         {
          "queuelength": 1023,
          "time": 87.91361939765059,
          "type": "release"
         },
         {
          "queuelength": 1022,
          "time": 87.92144168233614,
          "type": "request"
         },
         {
          "queuelength": 1023,
          "time": 87.95460528541588,
          "type": "request"
         },
         {
          "queuelength": 1024,
          "time": 87.96040680120235,
          "type": "release"
         },
         {
          "queuelength": 1022,
          "time": 87.9741587639486,
          "type": "release"
         },
         {
          "queuelength": 1022,
          "time": 87.98130423671208,
          "type": "release"
         },
         {
          "queuelength": 1020,
          "time": 88.02485612025748,
          "type": "release"
         },
         {
          "queuelength": 1020,
          "time": 88.02587968438374,
          "type": "request"
         },
         {
          "queuelength": 1020,
          "time": 88.02770966592868,
          "type": "release"
         },
         {
          "queuelength": 1019,
          "time": 88.0482000226219,
          "type": "release"
         },
         {
          "queuelength": 1018,
          "time": 88.05447269371088,
          "type": "release"
         },
         {
          "queuelength": 1018,
          "time": 88.0836849790364,
          "type": "request"
         },
         {
          "queuelength": 1018,
          "time": 88.10035261698211,
          "type": "release"
         },
         {
          "queuelength": 1018,
          "time": 88.10748122633264,
          "type": "request"
         },
         {
          "queuelength": 1018,
          "time": 88.11250805188594,
          "type": "release"
         },
         {
          "queuelength": 1018,
          "time": 88.15633121628619,
          "type": "request"
         },
         {
          "queuelength": 1019,
          "time": 88.16852748920225,
          "type": "request"
         },
         {
          "queuelength": 1020,
          "time": 88.19421836833118,
          "type": "release"
         },
         {
          "queuelength": 1018,
          "time": 88.26834784209275,
          "type": "release"
         },
         {
          "queuelength": 1017,
          "time": 88.28346144481515,
          "type": "release"
         },
         {
          "queuelength": 1017,
          "time": 88.30685210716503,
          "type": "request"
         },
         {
          "queuelength": 1017,
          "time": 88.32868278096794,
          "type": "release"
         },
         {
          "queuelength": 1016,
          "time": 88.39253832983103,
          "type": "release"
         },
         {
          "queuelength": 1015,
          "time": 88.40524443595609,
          "type": "release"
         },
         {
          "queuelength": 1014,
          "time": 88.43134894915812,
          "type": "release"
         },
         {
          "queuelength": 1013,
          "time": 88.43980743956686,
          "type": "release"
         },
         {
          "queuelength": 1013,
          "time": 88.44601593789979,
          "type": "request"
         },
         {
          "queuelength": 1013,
          "time": 88.46699215563675,
          "type": "release"
         },
         {
          "queuelength": 1012,
          "time": 88.4958681960874,
          "type": "release"
         },
         {
          "queuelength": 1012,
          "time": 88.51103855752763,
          "type": "release"
         },
         {
          "queuelength": 1010,
          "time": 88.56074982264514,
          "type": "release"
         },
         {
          "queuelength": 1009,
          "time": 88.63941688821933,
          "type": "release"
         },
         {
          "queuelength": 1009,
          "time": 88.68649156392165,
          "type": "release"
         },
         {
          "queuelength": 1007,
          "time": 88.69012569957353,
          "type": "release"
         },
         {
          "queuelength": 1007,
          "time": 88.69305390500502,
          "type": "request"
         },
         {
          "queuelength": 1007,
          "time": 88.7086096925512,
          "type": "release"
         },
         {
          "queuelength": 1007,
          "time": 88.7575808584401,
          "type": "request"
         },
         {
          "queuelength": 1007,
          "time": 88.7896590737301,
          "type": "release"
         },
         {
          "queuelength": 1007,
          "time": 88.83608412249346,
          "type": "request"
         },
         {
          "queuelength": 1007,
          "time": 88.8812635797581,
          "type": "release"
         },
         {
          "queuelength": 1006,
          "time": 88.90462145884149,
          "type": "release"
         },
         {
          "queuelength": 1006,
          "time": 88.94185246314595,
          "type": "release"
         },
         {
          "queuelength": 1004,
          "time": 88.94257796073704,
          "type": "release"
         },
         {
          "queuelength": 1004,
          "time": 88.95816434195905,
          "type": "request"
         },
         {
          "queuelength": 1005,
          "time": 88.96879695496436,
          "type": "release"
         },
         {
          "queuelength": 1003,
          "time": 88.99161817026288,
          "type": "release"
         },
         {
          "queuelength": 1002,
          "time": 88.99777642886676,
          "type": "release"
         },
         {
          "queuelength": 1002,
          "time": 89.03186712709874,
          "type": "request"
         },
         {
          "queuelength": 1003,
          "time": 89.04045884755246,
          "type": "request"
         },
         {
          "queuelength": 1003,
          "time": 89.05957783695581,
          "type": "release"
         },
         {
          "queuelength": 1002,
          "time": 89.07100687288838,
          "type": "release"
         },
         {
          "queuelength": 1002,
          "time": 89.12918340449673,
          "type": "release"
         },
         {
          "queuelength": 1001,
          "time": 89.18556210888293,
          "type": "release"
         },
         {
          "queuelength": 1000,
          "time": 89.18916695710993,
          "type": "request"
         },
         {
          "queuelength": 1001,
          "time": 89.20041192532553,
          "type": "release"
         },
         {
          "queuelength": 999,
          "time": 89.2051105331922,
          "type": "release"
         },
         {
          "queuelength": 999,
          "time": 89.23909216498015,
          "type": "request"
         },
         {
          "queuelength": 1000,
          "time": 89.28517622211373,
          "type": "request"
         },
         {
          "queuelength": 1000,
          "time": 89.28903129965815,
          "type": "release"
         },
         {
          "queuelength": 1000,
          "time": 89.3010729781066,
          "type": "release"
         },
         {
          "queuelength": 998,
          "time": 89.30944022663068,
          "type": "release"
         },
         {
          "queuelength": 998,
          "time": 89.32332991527207,
          "type": "release"
         },
         {
          "queuelength": 996,
          "time": 89.32667443338022,
          "type": "release"
         },
         {
          "queuelength": 996,
          "time": 89.34553885604541,
          "type": "request"
         },
         {
          "queuelength": 996,
          "time": 89.40261528163771,
          "type": "release"
         },
         {
          "queuelength": 995,
          "time": 89.4052224119973,
          "type": "release"
         },
         {
          "queuelength": 994,
          "time": 89.44484510084115,
          "type": "release"
         },
         {
          "queuelength": 994,
          "time": 89.45025031414407,
          "type": "release"
         },
         {
          "queuelength": 993,
          "time": 89.5593845549086,
          "type": "release"
         },
         {
          "queuelength": 991,
          "time": 89.59714307732187,
          "type": "release"
         },
         {
          "queuelength": 990,
          "time": 89.61678627815229,
          "type": "release"
         },
         {
          "queuelength": 990,
          "time": 89.63768787356202,
          "type": "request"
         },
         {
          "queuelength": 990,
          "time": 89.67798551612185,
          "type": "release"
         },
         {
          "queuelength": 990,
          "time": 89.70575297742164,
          "type": "request"
         },
         {
          "queuelength": 990,
          "time": 89.72187846886358,
          "type": "release"
         },
         {
          "queuelength": 989,
          "time": 89.77019432097624,
          "type": "release"
         },
         {
          "queuelength": 989,
          "time": 89.82137198903702,
          "type": "release"
         },
         {
          "queuelength": 987,
          "time": 89.8249897125656,
          "type": "release"
         },
         {
          "queuelength": 986,
          "time": 89.827459044424,
          "type": "release"
         },
         {
          "queuelength": 985,
          "time": 89.83194636824297,
          "type": "release"
         },
         {
          "queuelength": 985,
          "time": 89.85651347882433,
          "type": "request"
         },
         {
          "queuelength": 986,
          "time": 89.90288392527566,
          "type": "release"
         },
         {
          "queuelength": 984,
          "time": 89.93164274615363,
          "type": "release"
         },
         {
          "queuelength": 984,
          "time": 89.9403511950303,
          "type": "request"
         },
         {
          "queuelength": 984,
          "time": 89.95582391536283,
          "type": "release"
         },
         {
          "queuelength": 983,
          "time": 89.99705973323648,
          "type": "release"
         },
         {
          "queuelength": 982,
          "time": 90.01027162170315,
          "type": "release"
         },
         {
          "queuelength": 982,
          "time": 90.04888908202089,
          "type": "request"
         },
         {
          "queuelength": 983,
          "time": 90.07793493228556,
          "type": "request"
         },
         {
          "queuelength": 984,
          "time": 90.09251969038093,
          "type": "request"
         },
         {
          "queuelength": 985,
          "time": 90.10516468636351,
          "type": "request"
         },
         {
          "queuelength": 986,
          "time": 90.1136706996355,
          "type": "request"
         },
         {
          "queuelength": 987,
          "time": 90.15062691317297,
          "type": "request"
         },
         {
          "queuelength": 988,
          "time": 90.18498163955579,
          "type": "release"
         },
         {
          "queuelength": 986,
          "time": 90.18830349495693,
          "type": "release"
         },
         {
          "queuelength": 985,
          "time": 90.19076593078347,
          "type": "release"
         },
         {
          "queuelength": 984,
          "time": 90.25115242224865,
          "type": "release"
         },
         {
          "queuelength": 983,
          "time": 90.25572976731291,
          "type": "release"
         },
         {
          "queuelength": 983,
          "time": 90.26235396652044,
          "type": "request"
         },
         {
          "queuelength": 983,
          "time": 90.276972951674,
          "type": "release"
         },
         {
          "queuelength": 982,
          "time": 90.28709817094477,
          "type": "release"
         },
         {
          "queuelength": 981,
          "time": 90.37079926099543,
          "type": "release"
         },
         {
          "queuelength": 981,
          "time": 90.38024444024725,
          "type": "request"
         },
         {
          "queuelength": 982,
          "time": 90.39682749490085,
          "type": "request"
         },
         {
          "queuelength": 982,
          "time": 90.40153855299435,
          "type": "release"
         },
         {
          "queuelength": 982,
          "time": 90.42227380412989,
          "type": "release"
         },
         {
          "queuelength": 980,
          "time": 90.42981418369962,
          "type": "release"
         },
         {
          "queuelength": 979,
          "time": 90.43355654804722,
          "type": "release"
         },
         {
          "queuelength": 979,
          "time": 90.46892938086295,
          "type": "request"
         },
         {
          "queuelength": 979,
          "time": 90.4781998307626,
          "type": "release"
         },
         {
          "queuelength": 979,
          "time": 90.4945737159106,
          "type": "release"
         },
         {
          "queuelength": 978,
          "time": 90.53399198235957,
          "type": "request"
         },
         {
          "queuelength": 979,
          "time": 90.55044529431315,
          "type": "request"
         },
         {
          "queuelength": 980,
          "time": 90.56001527176127,
          "type": "release"
         },
         {
          "queuelength": 978,
          "time": 90.57092991486952,
          "type": "release"
         },
         {
          "queuelength": 977,
          "time": 90.59610596003046,
          "type": "release"
         },
         {
          "queuelength": 976,
          "time": 90.59915100942229,
          "type": "release"
         },
         {
          "queuelength": 976,
          "time": 90.60615967438181,
          "type": "release"
         },
         {
          "queuelength": 974,
          "time": 90.61625041494177,
          "type": "release"
         },
         {
          "queuelength": 974,
          "time": 90.65328127289638,
          "type": "request"
         },
         {
          "queuelength": 975,
          "time": 90.65724719836973,
          "type": "release"
         },
         {
          "queuelength": 974,
          "time": 90.71164672260157,
          "type": "release"
         },
         {
          "queuelength": 973,
          "time": 90.72694516346235,
          "type": "request"
         },
         {
          "queuelength": 974,
          "time": 90.73338586097202,
          "type": "release"
         },
         {
          "queuelength": 973,
          "time": 90.79178304996879,
          "type": "request"
         },
         {
          "queuelength": 974,
          "time": 90.82253536124668,
          "type": "request"
         },
         {
          "queuelength": 975,
          "time": 90.8434426324176,
          "type": "release"
         },
         {
          "queuelength": 973,
          "time": 90.86536571966286,
          "type": "release"
         },
         {
          "queuelength": 973,
          "time": 90.86688267832275,
          "type": "request"
         },
         {
          "queuelength": 973,
          "time": 90.91447857275409,
          "type": "release"
         },
         {
          "queuelength": 972,
          "time": 90.92183181359886,
          "type": "release"
         },
         {
          "queuelength": 971,
          "time": 90.93491619981486,
          "type": "release"
         },
         {
          "queuelength": 971,
          "time": 90.96598847771372,
          "type": "request"
         },
         {
          "queuelength": 972,
          "time": 90.96713243874896,
          "type": "release"
         },
         {
          "queuelength": 971,
          "time": 90.97398352502664,
          "type": "request"
         },
         {
          "queuelength": 972,
          "time": 90.97398352502664,
          "type": "request"
         },
         {
          "queuelength": 973,
          "time": 90.9893632075692,
          "type": "release"
         },
         {
          "queuelength": 971,
          "time": 90.99960641642582,
          "type": "release"
         },
         {
          "queuelength": 971,
          "time": 91.00633356655838,
          "type": "release"
         },
         {
          "queuelength": 970,
          "time": 91.03498259031493,
          "type": "release"
         },
         {
          "queuelength": 968,
          "time": 91.09304613520068,
          "type": "release"
         },
         {
          "queuelength": 968,
          "time": 91.10083928967106,
          "type": "release"
         },
         {
          "queuelength": 967,
          "time": 91.1145343730314,
          "type": "request"
         },
         {
          "queuelength": 968,
          "time": 91.11711440714862,
          "type": "request"
         },
         {
          "queuelength": 968,
          "time": 91.12245150209367,
          "type": "release"
         },
         {
          "queuelength": 967,
          "time": 91.16684719664833,
          "type": "release"
         },
         {
          "queuelength": 967,
          "time": 91.18380531834117,
          "type": "release"
         },
         {
          "queuelength": 965,
          "time": 91.1990464526726,
          "type": "release"
         },
         {
          "queuelength": 964,
          "time": 91.2085973936738,
          "type": "release"
         },
         {
          "queuelength": 964,
          "time": 91.21005610454887,
          "type": "request"
         },
         {
          "queuelength": 964,
          "time": 91.23161458155863,
          "type": "release"
         },
         {
          "queuelength": 964,
          "time": 91.28797571489558,
          "type": "request"
         },
         {
          "queuelength": 964,
          "time": 91.30766184215076,
          "type": "release"
         },
         {
          "queuelength": 964,
          "time": 91.40908205633603,
          "type": "release"
         },
         {
          "queuelength": 962,
          "time": 91.50533541457295,
          "type": "release"
         },
         {
          "queuelength": 962,
          "time": 91.5529932091251,
          "type": "release"
         },
         {
          "queuelength": 960,
          "time": 91.55525396997282,
          "type": "release"
         },
         {
          "queuelength": 959,
          "time": 91.55765430193671,
          "type": "release"
         },
         {
          "queuelength": 959,
          "time": 91.57414961435481,
          "type": "request"
         },
         {
          "queuelength": 960,
          "time": 91.6917351802856,
          "type": "request"
         },
         {
          "queuelength": 961,
          "time": 91.72271634317383,
          "type": "release"
         },
         {
          "queuelength": 960,
          "time": 91.75218604660884,
          "type": "request"
         },
         {
          "queuelength": 960,
          "time": 91.7638407265209,
          "type": "release"
         },
         {
          "queuelength": 959,
          "time": 91.766387519962,
          "type": "release"
         },
         {
          "queuelength": 958,
          "time": 91.7684069767883,
          "type": "release"
         },
         {
          "queuelength": 958,
          "time": 91.78055684918439,
          "type": "request"
         },
         {
          "queuelength": 958,
          "time": 91.83853676167503,
          "type": "release"
         },
         {
          "queuelength": 957,
          "time": 91.83927060887927,
          "type": "release"
         },
         {
          "queuelength": 957,
          "time": 91.85909688297949,
          "type": "request"
         },
         {
          "queuelength": 958,
          "time": 91.86667367185777,
          "type": "request"
         },
         {
          "queuelength": 958,
          "time": 91.87068061234261,
          "type": "release"
         },
         {
          "queuelength": 957,
          "time": 91.88424995896762,
          "type": "release"
         },
         {
          "queuelength": 956,
          "time": 91.95130842773186,
          "type": "release"
         },
         {
          "queuelength": 956,
          "time": 91.95595117393226,
          "type": "request"
         },
         {
          "queuelength": 957,
          "time": 91.96445677819095,
          "type": "release"
         },
         {
          "queuelength": 956,
          "time": 91.9744054704419,
          "type": "release"
         },
         {
          "queuelength": 954,
          "time": 91.99222310991652,
          "type": "release"
         },
         {
          "queuelength": 953,
          "time": 92.00797134473282,
          "type": "release"
         },
         {
          "queuelength": 953,
          "time": 92.03441662708377,
          "type": "request"
         },
         {
          "queuelength": 954,
          "time": 92.04613155877055,
          "type": "release"
         },
         {
          "queuelength": 952,
          "time": 92.08979767869758,
          "type": "release"
         },
         {
          "queuelength": 951,
          "time": 92.09386807989829,
          "type": "release"
         },
         {
          "queuelength": 950,
          "time": 92.10985471142423,
          "type": "release"
         },
         {
          "queuelength": 950,
          "time": 92.11693926609188,
          "type": "request"
         },
         {
          "queuelength": 950,
          "time": 92.19658365839044,
          "type": "release"
         },
         {
          "queuelength": 950,
          "time": 92.20207214811981,
          "type": "request"
         },
         {
          "queuelength": 951,
          "time": 92.2322550221316,
          "type": "request"
         },
         {
          "queuelength": 951,
          "time": 92.23793533877796,
          "type": "release"
         },
         {
          "queuelength": 950,
          "time": 92.25136417881123,
          "type": "release"
         },
         {
          "queuelength": 950,
          "time": 92.31325109035069,
          "type": "request"
         },
         {
          "queuelength": 951,
          "time": 92.34424368720441,
          "type": "release"
         },
         {
          "queuelength": 950,
          "time": 92.38309332306432,
          "type": "release"
         },
         {
          "queuelength": 948,
          "time": 92.43265659662569,
          "type": "release"
         },
         {
          "queuelength": 948,
          "time": 92.4738955084988,
          "type": "release"
         },
         {
          "queuelength": 946,
          "time": 92.47698708076813,
          "type": "release"
         },
         {
          "queuelength": 945,
          "time": 92.5029826163795,
          "type": "release"
         },
         {
          "queuelength": 945,
          "time": 92.54908926954249,
          "type": "release"
         },
         {
          "queuelength": 944,
          "time": 92.58378630123872,
          "type": "request"
         },
         {
          "queuelength": 945,
          "time": 92.61907520164377,
          "type": "request"
         },
         {
          "queuelength": 946,
          "time": 92.6882322951898,
          "type": "request"
         },
         {
          "queuelength": 946,
          "time": 92.73419154845203,
          "type": "release"
         },
         {
          "queuelength": 945,
          "time": 92.8077171914365,
          "type": "release"
         },
         {
          "queuelength": 944,
          "time": 92.81495796515074,
          "type": "release"
         },
         {
          "queuelength": 944,
          "time": 92.86913598855284,
          "type": "release"
         },
         {
          "queuelength": 943,
          "time": 92.89861065063036,
          "type": "request"
         },
         {
          "queuelength": 943,
          "time": 92.90596575645162,
          "type": "release"
         },
         {
          "queuelength": 943,
          "time": 92.9079818815703,
          "type": "release"
         },
         {
          "queuelength": 942,
          "time": 92.91108080672996,
          "type": "request"
         },
         {
          "queuelength": 943,
          "time": 92.95635433010195,
          "type": "release"
         },
         {
          "queuelength": 942,
          "time": 92.96028593705125,
          "type": "request"
         },
         {
          "queuelength": 943,
          "time": 93.08233345888445,
          "type": "release"
         },
         {
          "queuelength": 941,
          "time": 93.13541421531158,
          "type": "release"
         },
         {
          "queuelength": 940,
          "time": 93.1426990699332,
          "type": "release"
         },
         {
          "queuelength": 939,
          "time": 93.14327133488663,
          "type": "release"
         },
         {
          "queuelength": 938,
          "time": 93.14621015545283,
          "type": "release"
         },
         {
          "queuelength": 937,
          "time": 93.1778067612785,
          "type": "release"
         },
         {
          "queuelength": 936,
          "time": 93.18189323939296,
          "type": "release"
         },
         {
          "queuelength": 935,
          "time": 93.1877834589244,
          "type": "release"
         },
         {
          "queuelength": 935,
          "time": 93.19052711240289,
          "type": "request"
         },
         {
          "queuelength": 935,
          "time": 93.20046119302,
          "type": "release"
         },
         {
          "queuelength": 935,
          "time": 93.22296550446372,
          "type": "release"
         },
         {
          "queuelength": 933,
          "time": 93.23633118996928,
          "type": "release"
         },
         {
          "queuelength": 933,
          "time": 93.29168363298167,
          "type": "request"
         },
         {
          "queuelength": 934,
          "time": 93.31014561426059,
          "type": "release"
         },
         {
          "queuelength": 932,
          "time": 93.34663373558784,
          "type": "release"
         },
         {
          "queuelength": 932,
          "time": 93.37128412382717,
          "type": "request"
         },
         {
          "queuelength": 932,
          "time": 93.37588372549445,
          "type": "release"
         },
         {
          "queuelength": 931,
          "time": 93.39360164677696,
          "type": "release"
         },
         {
          "queuelength": 931,
          "time": 93.41739800868982,
          "type": "request"
         },
         {
          "queuelength": 932,
          "time": 93.42824407397823,
          "type": "request"
         },
         {
          "queuelength": 933,
          "time": 93.42879905584228,
          "type": "request"
         },
         {
          "queuelength": 933,
          "time": 93.43496364140691,
          "type": "release"
         },
         {
          "queuelength": 932,
          "time": 93.45762207134919,
          "type": "release"
         },
         {
          "queuelength": 931,
          "time": 93.5052949348702,
          "type": "release"
         },
         {
          "queuelength": 930,
          "time": 93.542848251177,
          "type": "release"
         },
         {
          "queuelength": 929,
          "time": 93.5589792164819,
          "type": "release"
         },
         {
          "queuelength": 929,
          "time": 93.55947824813364,
          "type": "request"
         },
         {
          "queuelength": 930,
          "time": 93.57593858410534,
          "type": "release"
         },
         {
          "queuelength": 928,
          "time": 93.57659014820726,
          "type": "release"
         },
         {
          "queuelength": 928,
          "time": 93.59033691571523,
          "type": "request"
         },
         {
          "queuelength": 928,
          "time": 93.6069219939435,
          "type": "release"
         },
         {
          "queuelength": 928,
          "time": 93.62172089663905,
          "type": "request"
         },
         {
          "queuelength": 929,
          "time": 93.65380348882312,
          "type": "request"
         },
         {
          "queuelength": 929,
          "time": 93.65873120336235,
          "type": "release"
         },
         {
          "queuelength": 929,
          "time": 93.67601318212023,
          "type": "request"
         },
         {
          "queuelength": 930,
          "time": 93.69012569957353,
          "type": "request"
         },
         {
          "queuelength": 931,
          "time": 93.70378846554449,
          "type": "release"
         },
         {
          "queuelength": 930,
          "time": 93.71004838370528,
          "type": "release"
         },
         {
          "queuelength": 928,
          "time": 93.7282583988898,
          "type": "release"
         },
         {
          "queuelength": 927,
          "time": 93.76018555388114,
          "type": "release"
         },
         {
          "queuelength": 927,
          "time": 93.76143972545187,
          "type": "release"
         },
         {
          "queuelength": 926,
          "time": 93.7694607504931,
          "type": "request"
         },
         {
          "queuelength": 927,
          "time": 93.77914703980306,
          "type": "request"
         },
         {
          "queuelength": 927,
          "time": 93.7911374423181,
          "type": "release"
         },
         {
          "queuelength": 926,
          "time": 93.80179962377278,
          "type": "release"
         },
         {
          "queuelength": 925,
          "time": 93.81439231793047,
          "type": "release"
         },
         {
          "queuelength": 924,
          "time": 93.82770058561987,
          "type": "release"
         },
         {
          "queuelength": 923,
          "time": 93.84047015446603,
          "type": "release"
         },
         {
          "queuelength": 922,
          "time": 93.87490227895158,
          "type": "release"
         },
         {
          "queuelength": 921,
          "time": 93.87908797449295,
          "type": "release"
         },
         {
          "queuelength": 921,
          "time": 93.8812635797581,
          "type": "request"
         },
         {
          "queuelength": 922,
          "time": 93.93115379368894,
          "type": "request"
         },
         {
          "queuelength": 922,
          "time": 93.93842179934211,
          "type": "release"
         },
         {
          "queuelength": 921,
          "time": 93.9884281921675,
          "type": "release"
         },
         {
          "queuelength": 921,
          "time": 94.00301701667603,
          "type": "release"
         },
         {
          "queuelength": 919,
          "time": 94.06087712589616,
          "type": "release"
         },
         {
          "queuelength": 918,
          "time": 94.06658205907391,
          "type": "release"
         },
         {
          "queuelength": 917,
          "time": 94.12933908903366,
          "type": "release"
         },
         {
          "queuelength": 917,
          "time": 94.13742213768958,
          "type": "request"
         },
         {
          "queuelength": 918,
          "time": 94.1515786371767,
          "type": "request"
         },
         {
          "queuelength": 919,
          "time": 94.16274236717804,
          "type": "release"
         },
         {
          "queuelength": 917,
          "time": 94.19060095516825,
          "type": "release"
         },
         {
          "queuelength": 916,
          "time": 94.21524798291975,
          "type": "release"
         },
         {
          "queuelength": 916,
          "time": 94.23876071654934,
          "type": "request"
         },
         {
          "queuelength": 917,
          "time": 94.27770730841944,
          "type": "release"
         },
         {
          "queuelength": 916,
          "time": 94.27957616730454,
          "type": "request"
         },
         {
          "queuelength": 917,
          "time": 94.28470443751613,
          "type": "request"
         },
         {
          "queuelength": 917,
          "time": 94.28993090953023,
          "type": "release"
         },
         {
          "queuelength": 917,
          "time": 94.30399623403169,
          "type": "request"
         },
         {
          "queuelength": 918,
          "time": 94.30944022663068,
          "type": "request"
         },
         {
          "queuelength": 919,
          "time": 94.31705761987209,
          "type": "request"
         },
         {
          "queuelength": 920,
          "time": 94.33507969495648,
          "type": "release"
         },
         {
          "queuelength": 919,
          "time": 94.33722698747978,
          "type": "release"
         },
         {
          "queuelength": 917,
          "time": 94.3589556489826,
          "type": "release"
         },
         {
          "queuelength": 917,
          "time": 94.36058712296258,
          "type": "request"
         },
         {
          "queuelength": 918,
          "time": 94.3771032357842,
          "type": "release"
         },
         {
          "queuelength": 916,
          "time": 94.38979631424282,
          "type": "release"
         },
         {
          "queuelength": 916,
          "time": 94.41404404824208,
          "type": "request"
         },
         {
          "queuelength": 917,
          "time": 94.42016763549391,
          "type": "release"
         },
         {
          "queuelength": 916,
          "time": 94.4627330315596,
          "type": "request"
         },
         {
          "queuelength": 917,
          "time": 94.48041362162715,
          "type": "release"
         },
         {
          "queuelength": 915,
          "time": 94.48475218408505,
          "type": "release"
         },
         {
          "queuelength": 914,
          "time": 94.51504743168675,
          "type": "release"
         },
         {
          "queuelength": 913,
          "time": 94.5164653004128,
          "type": "release"
         },
         {
          "queuelength": 913,
          "time": 94.52353452611074,
          "type": "request"
         },
         {
          "queuelength": 913,
          "time": 94.53822607530688,
          "type": "release"
         },
         {
          "queuelength": 913,
          "time": 94.5396322236007,
          "type": "request"
         },
         {
          "queuelength": 914,
          "time": 94.57414638732895,
          "type": "request"
         },
         {
          "queuelength": 915,
          "time": 94.57425895177406,
          "type": "request"
         },
         {
          "queuelength": 915,
          "time": 94.57998935088148,
          "type": "release"
         },
         {
          "queuelength": 915,
          "time": 94.60032455134177,
          "type": "request"
         },
         {
          "queuelength": 915,
          "time": 94.64165268942689,
          "type": "release"
         },
         {
          "queuelength": 915,
          "time": 94.67699857823925,
          "type": "request"
         },
         {
          "queuelength": 916,
          "time": 94.6806181801717,
          "type": "request"
         },
         {
          "queuelength": 917,
          "time": 94.68827140953536,
          "type": "release"
         },
         {
          "queuelength": 915,
          "time": 94.70275550690066,
          "type": "release"
         },
         {
          "queuelength": 915,
          "time": 94.70308706740337,
          "type": "request"
         },
         {
          "queuelength": 915,
          "time": 94.73116056435882,
          "type": "release"
         },
         {
          "queuelength": 914,
          "time": 94.74261133168247,
          "type": "release"
         },
         {
          "queuelength": 913,
          "time": 94.7529063811898,
          "type": "release"
         },
         {
          "queuelength": 912,
          "time": 94.76725686015683,
          "type": "release"
         },
         {
          "queuelength": 911,
          "time": 94.76836778619298,
          "type": "release"
         },
         {
          "queuelength": 911,
          "time": 94.90187573420415,
          "type": "request"
         },
         {
          "queuelength": 911,
          "time": 94.94011340696545,
          "type": "release"
         },
         {
          "queuelength": 910,
          "time": 94.9735878074712,
          "type": "release"
         },
         {
          "queuelength": 910,
          "time": 94.9991221992755,
          "type": "release"
         },
         {
          "queuelength": 908,
          "time": 95.00569708649495,
          "type": "release"
         },
         {
          "queuelength": 908,
          "time": 95.05879894118634,
          "type": "request"
         },
         {
          "queuelength": 909,
          "time": 95.1242065344681,
          "type": "request"
         },
         {
          "queuelength": 910,
          "time": 95.1384499860151,
          "type": "release"
         },
         {
          "queuelength": 908,
          "time": 95.19225400345685,
          "type": "release"
         },
         {
          "queuelength": 908,
          "time": 95.19545477588322,
          "type": "request"
         },
         {
          "queuelength": 908,
          "time": 95.2187610160079,
          "type": "release"
         },
         {
          "queuelength": 908,
          "time": 95.2712533301465,
          "type": "request"
         },
         {
          "queuelength": 908,
          "time": 95.28398657209398,
          "type": "release"
         },
         {
          "queuelength": 907,
          "time": 95.3483199246277,
          "type": "release"
         },
         {
          "queuelength": 906,
          "time": 95.43001148897203,
          "type": "release"
         },
         {
          "queuelength": 906,
          "time": 95.43355654804722,
          "type": "request"
         },
         {
          "queuelength": 907,
          "time": 95.4781998307626,
          "type": "request"
         },
         {
          "queuelength": 908,
          "time": 95.53846220046992,
          "type": "request"
         },
         {
          "queuelength": 909,
          "time": 95.54843681112526,
          "type": "request"
         },
         {
          "queuelength": 910,
          "time": 95.57092991486952,
          "type": "request"
         },
         {
          "queuelength": 910,
          "time": 95.59073197174328,
          "type": "release"
         },
         {
          "queuelength": 910,
          "time": 95.59339308840538,
          "type": "request"
         },
         {
          "queuelength": 911,
          "time": 95.65486731729337,
          "type": "request"
         },
         {
          "queuelength": 912,
          "time": 95.66041486023593,
          "type": "request"
         },
         {
          "queuelength": 912,
          "time": 95.73911715588665,
          "type": "release"
         },
         {
          "queuelength": 912,
          "time": 95.7665737444457,
          "type": "request"
         },
         {
          "queuelength": 912,
          "time": 95.79448933984662,
          "type": "release"
         },
         {
          "queuelength": 912,
          "time": 95.8069776406288,
          "type": "release"
         },
         {
          "queuelength": 910,
          "time": 95.82610157018469,
          "type": "release"
         },
         {
          "queuelength": 910,
          "time": 95.84297821809919,
          "type": "request"
         },
         {
          "queuelength": 911,
          "time": 95.85471920716155,
          "type": "request"
         },
         {
          "queuelength": 912,
          "time": 95.87195897733265,
          "type": "release"
         },
         {
          "queuelength": 910,
          "time": 95.87478524491908,
          "type": "release"
         },
         {
          "queuelength": 909,
          "time": 95.89096435717613,
          "type": "release"
         },
         {
          "queuelength": 909,
          "time": 95.89637501380503,
          "type": "release"
         },
         {
          "queuelength": 908,
          "time": 95.9185839073811,
          "type": "request"
         },
         {
          "queuelength": 908,
          "time": 95.9221932633277,
          "type": "release"
         },
         {
          "queuelength": 908,
          "time": 95.94595347258067,
          "type": "request"
         },
         {
          "queuelength": 909,
          "time": 95.96409133929197,
          "type": "request"
         },
         {
          "queuelength": 910,
          "time": 95.97569398892533,
          "type": "request"
         },
         {
          "queuelength": 911,
          "time": 96.0012833750429,
          "type": "release"
         },
         {
          "queuelength": 910,
          "time": 96.01809858627762,
          "type": "request"
         },
         {
          "queuelength": 911,
          "time": 96.01941778257033,
          "type": "request"
         },
         {
          "queuelength": 912,
          "time": 96.03642045875735,
          "type": "request"
         },
         {
          "queuelength": 913,
          "time": 96.0491876796506,
          "type": "release"
         },
         {
          "queuelength": 911,
          "time": 96.0690303223627,
          "type": "release"
         },
         {
          "queuelength": 910,
          "time": 96.13391201899088,
          "type": "release"
         },
         {
          "queuelength": 909,
          "time": 96.13748135423253,
          "type": "release"
         },
         {
          "queuelength": 908,
          "time": 96.21247950440673,
          "type": "release"
         },
         {
          "queuelength": 908,
          "time": 96.24910692166053,
          "type": "release"
         },
         {
          "queuelength": 907,
          "time": 96.25364680754164,
          "type": "request"
         },
         {
          "queuelength": 908,
          "time": 96.25467277075822,
          "type": "request"
         },
         {
          "queuelength": 909,
          "time": 96.28763121125965,
          "type": "request"
         },
         {
          "queuelength": 910,
          "time": 96.29014394016559,
          "type": "request"
         },
         {
          "queuelength": 911,
          "time": 96.33230341295251,
          "type": "request"
         },
         {
          "queuelength": 911,
          "time": 96.38439925618158,
          "type": "release"
         },
         {
          "queuelength": 910,
          "time": 96.41481448016941,
          "type": "release"
         },
         {
          "queuelength": 909,
          "time": 96.41932243523902,
          "type": "release"
         },
         {
          "queuelength": 908,
          "time": 96.48158133939287,
          "type": "release"
         },
         {
          "queuelength": 907,
          "time": 96.49149417634017,
          "type": "release"
         },
         {
          "queuelength": 906,
          "time": 96.51853406510975,
          "type": "release"
         },
         {
          "queuelength": 906,
          "time": 96.53929550680752,
          "type": "release"
         },
         {
          "queuelength": 904,
          "time": 96.56884531622899,
          "type": "release"
         },
         {
          "queuelength": 903,
          "time": 96.59390599504515,
          "type": "release"
         },
         {
          "queuelength": 902,
          "time": 96.5950578948582,
          "type": "release"
         },
         {
          "queuelength": 901,
          "time": 96.59940746535439,
          "type": "release"
         },
         {
          "queuelength": 901,
          "time": 96.73779717187911,
          "type": "release"
         },
         {
          "queuelength": 901,
          "time": 166.29683153409226,
          "type": "release"
         },
         {
          "queuelength": 901,
          "time": 166.32873123324097,
          "type": "release"
         },
         {
          "queuelength": 901,
          "time": 168.1971196427494,
          "type": "request"
         },
         {
          "queuelength": 902,
          "time": 168.2202729286365,
          "type": "release"
         },
         {
          "queuelength": 901,
          "time": 168.22830349591266,
          "type": "request"
         },
         {
          "queuelength": 902,
          "time": 168.23199456857643,
          "type": "request"
         },
         {
          "queuelength": 903,
          "time": 168.240109289917,
          "type": "request"
         },
         {
          "queuelength": 904,
          "time": 168.25448526439874,
          "type": "request"
         },
         {
          "queuelength": 905,
          "time": 168.26300034427726,
          "type": "request"
         },
         {
          "queuelength": 906,
          "time": 168.27582427347372,
          "type": "request"
         },
         {
          "queuelength": 907,
          "time": 168.35096304221616,
          "type": "request"
         },
         {
          "queuelength": 907,
          "time": 168.3943639954558,
          "type": "release"
         },
         {
          "queuelength": 907,
          "time": 168.39786308874332,
          "type": "request"
         },
         {
          "queuelength": 908,
          "time": 168.3985016770805,
          "type": "request"
         },
         {
          "queuelength": 908,
          "time": 168.48403254615084,
          "type": "release"
         },
         {
          "queuelength": 908,
          "time": 168.4844060430352,
          "type": "request"
         },
         {
          "queuelength": 909,
          "time": 168.54916947748373,
          "type": "release"
         },
         {
          "queuelength": 908,
          "time": 168.55004940003874,
          "type": "request"
         },
         {
          "queuelength": 909,
          "time": 168.5857926777863,
          "type": "request"
         },
         {
          "queuelength": 910,
          "time": 168.5978591351279,
          "type": "request"
         },
         {
          "queuelength": 911,
          "time": 168.62814752911078,
          "type": "release"
         },
         {
          "queuelength": 909,
          "time": 168.62925413407115,
          "type": "release"
         },
         {
          "queuelength": 908,
          "time": 168.6345377252069,
          "type": "release"
         },
         {
          "queuelength": 908,
          "time": 168.66566550581643,
          "type": "release"
         },
         {
          "queuelength": 906,
          "time": 168.67530049910408,
          "type": "release"
         },
         {
          "queuelength": 906,
          "time": 168.68995447552334,
          "type": "request"
         },
         {
          "queuelength": 907,
          "time": 168.743352176725,
          "type": "request"
         },
         {
          "queuelength": 907,
          "time": 168.7803913189464,
          "type": "release"
         },
         {
          "queuelength": 907,
          "time": 168.84464043375488,
          "type": "request"
         },
         {
          "queuelength": 908,
          "time": 168.8877900716972,
          "type": "request"
         },
         {
          "queuelength": 908,
          "time": 168.89033054598826,
          "type": "release"
         },
         {
          "queuelength": 907,
          "time": 168.93255303924352,
          "type": "release"
         },
         {
          "queuelength": 906,
          "time": 168.9463114936883,
          "type": "release"
         },
         {
          "queuelength": 906,
          "time": 168.95241783159685,
          "type": "request"
         },
         {
          "queuelength": 907,
          "time": 168.97811527584673,
          "type": "release"
         },
         {
          "queuelength": 906,
          "time": 169.023188525551,
          "type": "release"
         },
         {
          "queuelength": 904,
          "time": 169.02936601292217,
          "type": "release"
         },
         {
          "queuelength": 903,
          "time": 169.0419751009066,
          "type": "release"
         },
         {
          "queuelength": 903,
          "time": 169.04543600118072,
          "type": "request"
         },
         {
          "queuelength": 904,
          "time": 169.0922060496997,
          "type": "release"
         },
         {
          "queuelength": 903,
          "time": 169.1157560634831,
          "type": "request"
         },
         {
          "queuelength": 904,
          "time": 169.13089711485677,
          "type": "request"
         },
         {
          "queuelength": 905,
          "time": 169.1420900325769,
          "type": "request"
         },
         {
          "queuelength": 906,
          "time": 169.15085234615614,
          "type": "release"
         },
         {
          "queuelength": 904,
          "time": 169.17378154532523,
          "type": "release"
         },
         {
          "queuelength": 903,
          "time": 169.179565950207,
          "type": "release"
         },
         {
          "queuelength": 902,
          "time": 169.18880116755537,
          "type": "release"
         },
         {
          "queuelength": 902,
          "time": 169.19030138431458,
          "type": "request"
         },
         {
          "queuelength": 903,
          "time": 169.19477481237797,
          "type": "release"
         },
         {
          "queuelength": 901,
          "time": 169.2241683731358,
          "type": "release"
         },
         {
          "queuelength": 901,
          "time": 169.2390440478508,
          "type": "request"
         },
         {
          "queuelength": 902,
          "time": 169.27352469596454,
          "type": "release"
         },
         {
          "queuelength": 901,
          "time": 169.2786421192972,
          "type": "release"
         },
         {
          "queuelength": 901,
          "time": 169.58615653144474,
          "type": "request"
         },
         {
          "queuelength": 902,
          "time": 169.59017866308702,
          "type": "request"
         },
         {
          "queuelength": 903,
          "time": 169.60872573653668,
          "type": "request"
         },
         {
          "queuelength": 903,
          "time": 169.65817415121163,
          "type": "release"
         },
         {
          "queuelength": 903,
          "time": 169.70466021999425,
          "type": "request"
         },
         {
          "queuelength": 903,
          "time": 169.71189636053515,
          "type": "release"
         },
         {
          "queuelength": 903,
          "time": 169.71936889606596,
          "type": "request"
         },
         {
          "queuelength": 903,
          "time": 169.74276692037515,
          "type": "release"
         },
         {
          "queuelength": 903,
          "time": 169.74497112073615,
          "type": "request"
         },
         {
          "queuelength": 903,
          "time": 169.78781380810847,
          "type": "release"
         },
         {
          "queuelength": 903,
          "time": 169.81754174963552,
          "type": "request"
         },
         {
          "queuelength": 904,
          "time": 169.8267919260419,
          "type": "request"
         },
         {
          "queuelength": 905,
          "time": 169.82849235837924,
          "type": "request"
         },
         {
          "queuelength": 906,
          "time": 169.8390195717813,
          "type": "release"
         },
         {
          "queuelength": 905,
          "time": 169.85249234368305,
          "type": "release"
         },
         {
          "queuelength": 904,
          "time": 169.85716565239082,
          "type": "request"
         },
         {
          "queuelength": 905,
          "time": 169.86300461173,
          "type": "request"
         },
         {
          "queuelength": 905,
          "time": 169.89514050706907,
          "type": "release"
         },
         {
          "queuelength": 904,
          "time": 169.89855857151025,
          "type": "release"
         },
         {
          "queuelength": 904,
          "time": 169.9583836734118,
          "type": "request"
         },
         {
          "queuelength": 905,
          "time": 169.96632624029692,
          "type": "release"
         },
         {
          "queuelength": 904,
          "time": 169.99079583365156,
          "type": "request"
         },
         {
          "queuelength": 905,
          "time": 169.99755994947384,
          "type": "request"
         },
         {
          "queuelength": 906,
          "time": 170.00020136501732,
          "type": "request"
         },
         {
          "queuelength": 906,
          "time": 170.00982582982962,
          "type": "release"
         },
         {
          "queuelength": 906,
          "time": 170.01709422521753,
          "type": "request"
         },
         {
          "queuelength": 907,
          "time": 170.0318055179874,
          "type": "request"
         },
         {
          "queuelength": 907,
          "time": 170.0365397708125,
          "type": "release"
         },
         {
          "queuelength": 906,
          "time": 170.03738832421075,
          "type": "release"
         },
         {
          "queuelength": 905,
          "time": 170.0396127734344,
          "type": "release"
         },
         {
          "queuelength": 905,
          "time": 170.0471719532539,
          "type": "release"
         },
         {
          "queuelength": 904,
          "time": 170.05712354230818,
          "type": "request"
         },
         {
          "queuelength": 905,
          "time": 170.07122348043262,
          "type": "release"
         },
         {
          "queuelength": 904,
          "time": 170.09069467105076,
          "type": "release"
         },
         {
          "queuelength": 903,
          "time": 170.12066970470525,
          "type": "release"
         },
         {
          "queuelength": 901,
          "time": 170.13452951901425,
          "type": "release"
         },
         {
          "queuelength": 901,
          "time": 170.1688592889057,
          "type": "release"
         },
         {
          "queuelength": 901,
          "time": 170.26795809176912,
          "type": "release"
         },
         {
          "queuelength": 901,
          "time": 170.48848381713725,
          "type": "request"
         },
         {
          "queuelength": 902,
          "time": 170.55543792526151,
          "type": "request"
         },
         {
          "queuelength": 903,
          "time": 170.5698667802157,
          "type": "request"
         },
         {
          "queuelength": 903,
          "time": 170.59074950362174,
          "type": "release"
         },
         {
          "queuelength": 903,
          "time": 170.6086302206204,
          "type": "request"
         },
         {
          "queuelength": 904,
          "time": 170.62673021992654,
          "type": "request"
         },
         {
          "queuelength": 905,
          "time": 170.64518552901532,
          "type": "release"
         },
         {
          "queuelength": 904,
          "time": 170.68386975724206,
          "type": "request"
         },
         {
          "queuelength": 905,
          "time": 170.70578061158557,
          "type": "request"
         },
         {
          "queuelength": 906,
          "time": 170.80141913556574,
          "type": "request"
         },
         {
          "queuelength": 906,
          "time": 170.83716155941275,
          "type": "release"
         },
         {
          "queuelength": 906,
          "time": 170.8608409015029,
          "type": "request"
         },
         {
          "queuelength": 907,
          "time": 170.86671577762294,
          "type": "release"
         },
         {
          "queuelength": 906,
          "time": 170.89571204508846,
          "type": "release"
         },
         {
          "queuelength": 905,
          "time": 170.91926098658757,
          "type": "request"
         },
         {
          "queuelength": 905,
          "time": 170.94387617731482,
          "type": "release"
         },
         {
          "queuelength": 905,
          "time": 170.97768967882345,
          "type": "request"
         },
         {
          "queuelength": 906,
          "time": 171.03498853094,
          "type": "request"
         },
         {
          "queuelength": 907,
          "time": 171.1146274995166,
          "type": "release"
         },
         {
          "queuelength": 906,
          "time": 171.15102750872626,
          "type": "release"
         },
         {
          "queuelength": 905,
          "time": 171.23221613698576,
          "type": "release"
         },
         {
          "queuelength": 904,
          "time": 171.2344938263517,
          "type": "request"
         },
         {
          "queuelength": 905,
          "time": 171.24022599562,
          "type": "request"
         },
         {
          "queuelength": 905,
          "time": 171.2596931760833,
          "type": "release"
         },
         {
          "queuelength": 905,
          "time": 171.26706642369263,
          "type": "request"
         },
         {
          "queuelength": 905,
          "time": 171.28701451951633,
          "type": "release"
         },
         {
          "queuelength": 905,
          "time": 171.36559329875587,
          "type": "request"
         },
         {
          "queuelength": 906,
          "time": 171.40439126286162,
          "type": "release"
         },
         {
          "queuelength": 905,
          "time": 171.41636369971818,
          "type": "release"
         },
         {
          "queuelength": 904,
          "time": 171.43302859242038,
          "type": "release"
         },
         {
          "queuelength": 903,
          "time": 171.4463732494837,
          "type": "request"
         },
         {
          "queuelength": 904,
          "time": 171.47952030055615,
          "type": "request"
         },
         {
          "queuelength": 905,
          "time": 171.48883815220108,
          "type": "request"
         },
         {
          "queuelength": 905,
          "time": 171.48931298845696,
          "type": "release"
         },
         {
          "queuelength": 905,
          "time": 171.50504245396974,
          "type": "request"
         },
         {
          "queuelength": 906,
          "time": 171.55497968996022,
          "type": "request"
         },
         {
          "queuelength": 906,
          "time": 171.55686737779493,
          "type": "release"
         },
         {
          "queuelength": 906,
          "time": 171.60782600287587,
          "type": "request"
         },
         {
          "queuelength": 907,
          "time": 171.6123568063207,
          "type": "request"
         },
         {
          "queuelength": 908,
          "time": 171.6281306438161,
          "type": "release"
         },
         {
          "queuelength": 907,
          "time": 171.65503408238428,
          "type": "request"
         },
         {
          "queuelength": 908,
          "time": 171.66379759618698,
          "type": "release"
         },
         {
          "queuelength": 906,
          "time": 171.73824830201534,
          "type": "release"
         },
         {
          "queuelength": 906,
          "time": 171.75793274587815,
          "type": "request"
         },
         {
          "queuelength": 906,
          "time": 171.80106169399278,
          "type": "release"
         },
         {
          "queuelength": 905,
          "time": 171.84672835818964,
          "type": "release"
         },
         {
          "queuelength": 905,
          "time": 171.84988417600346,
          "type": "request"
         },
         {
          "queuelength": 905,
          "time": 171.88464117373462,
          "type": "release"
         },
         {
          "queuelength": 904,
          "time": 171.88769720723093,
          "type": "release"
         },
         {
          "queuelength": 904,
          "time": 171.90140716537903,
          "type": "release"
         },
         {
          "queuelength": 902,
          "time": 171.93174610393896,
          "type": "release"
         },
         {
          "queuelength": 902,
          "time": 171.96616134856802,
          "type": "release"
         },
         {
          "queuelength": 901,
          "time": 171.99796871173942,
          "type": "release"
         },
         {
          "queuelength": 901,
          "time": 172.02302207501566,
          "type": "request"
         },
         {
          "queuelength": 902,
          "time": 172.04273768522947,
          "type": "request"
         },
         {
          "queuelength": 903,
          "time": 172.13755584872283,
          "type": "request"
         },
         {
          "queuelength": 903,
          "time": 172.1379764734283,
          "type": "release"
         },
         {
          "queuelength": 903,
          "time": 172.20185346013568,
          "type": "request"
         },
         {
          "queuelength": 904,
          "time": 172.24955953405495,
          "type": "request"
         },
         {
          "queuelength": 905,
          "time": 172.28583569893715,
          "type": "request"
         },
         {
          "queuelength": 906,
          "time": 172.29318934755537,
          "type": "request"
         },
         {
          "queuelength": 907,
          "time": 172.29724758949226,
          "type": "release"
         },
         {
          "queuelength": 906,
          "time": 172.34726051139288,
          "type": "request"
         },
         {
          "queuelength": 906,
          "time": 172.3529650896648,
          "type": "release"
         },
         {
          "queuelength": 905,
          "time": 172.3826175103851,
          "type": "release"
         },
         {
          "queuelength": 904,
          "time": 172.41866988102302,
          "type": "release"
         },
         {
          "queuelength": 904,
          "time": 172.47721075616795,
          "type": "release"
         },
         {
          "queuelength": 902,
          "time": 172.48310248055031,
          "type": "release"
         },
         {
          "queuelength": 902,
          "time": 172.48563748230663,
          "type": "release"
         },
         {
          "queuelength": 901,
          "time": 172.51756525881098,
          "type": "request"
         },
         {
          "queuelength": 901,
          "time": 172.5199465015584,
          "type": "release"
         },
         {
          "queuelength": 901,
          "time": 172.5203297303105,
          "type": "request"
         },
         {
          "queuelength": 902,
          "time": 172.56004682878682,
          "type": "request"
         },
         {
          "queuelength": 903,
          "time": 172.56133585377952,
          "type": "release"
         },
         {
          "queuelength": 902,
          "time": 172.58541960630964,
          "type": "release"
         },
         {
          "queuelength": 901,
          "time": 172.59739436533732,
          "type": "release"
         },
         {
          "queuelength": 901,
          "time": 172.71477080216954,
          "type": "request"
         },
         {
          "queuelength": 901,
          "time": 172.75361090871726,
          "type": "release"
         },
         {
          "queuelength": 901,
          "time": 172.76979094498336,
          "type": "release"
         },
         {
          "queuelength": 901,
          "time": 172.7865380172857,
          "type": "request"
         },
         {
          "queuelength": 902,
          "time": 172.88998047245173,
          "type": "request"
         },
         {
          "queuelength": 903,
          "time": 172.9035247456643,
          "type": "request"
         },
         {
          "queuelength": 904,
          "time": 172.91904689639108,
          "type": "release"
         },
         {
          "queuelength": 903,
          "time": 172.94396414105975,
          "type": "release"
         },
         {
          "queuelength": 902,
          "time": 172.94527217905312,
          "type": "release"
         },
         {
          "queuelength": 901,
          "time": 172.96396599187804,
          "type": "release"
         },
         {
          "queuelength": 901,
          "time": 176.7714029353351,
          "type": "release"
         },
         {
          "queuelength": 901,
          "time": 176.80106169399278,
          "type": "request"
         },
         {
          "queuelength": 901,
          "time": 176.83300844326257,
          "type": "release"
         },
         {
          "queuelength": 901,
          "time": 176.83509837335177,
          "type": "release"
         },
         {
          "queuelength": 901,
          "time": 176.88769720723093,
          "type": "request"
         },
         {
          "queuelength": 902,
          "time": 176.92805581285398,
          "type": "request"
         },
         {
          "queuelength": 903,
          "time": 176.93321373288086,
          "type": "request"
         },
         {
          "queuelength": 904,
          "time": 176.94583850314842,
          "type": "release"
         },
         {
          "queuelength": 903,
          "time": 176.95161560632488,
          "type": "request"
         },
         {
          "queuelength": 904,
          "time": 176.9594730250641,
          "type": "release"
         },
         {
          "queuelength": 903,
          "time": 176.98506848121497,
          "type": "request"
         },
         {
          "queuelength": 903,
          "time": 176.9988105455266,
          "type": "release"
         },
         {
          "queuelength": 903,
          "time": 177.01550928907744,
          "type": "request"
         },
         {
          "queuelength": 903,
          "time": 177.08639032336043,
          "type": "release"
         },
         {
          "queuelength": 902,
          "time": 177.08687398807018,
          "type": "release"
         },
         {
          "queuelength": 902,
          "time": 177.08794803254796,
          "type": "request"
         },
         {
          "queuelength": 903,
          "time": 177.09776342602171,
          "type": "request"
         },
         {
          "queuelength": 904,
          "time": 177.10073667311752,
          "type": "request"
         },
         {
          "queuelength": 905,
          "time": 177.10187259010615,
          "type": "request"
         },
         {
          "queuelength": 906,
          "time": 177.12617874597876,
          "type": "release"
         },
         {
          "queuelength": 905,
          "time": 177.1759169599656,
          "type": "request"
         },
         {
          "queuelength": 906,
          "time": 177.1892961701391,
          "type": "request"
         },
         {
          "queuelength": 906,
          "time": 177.21211636866138,
          "type": "release"
         },
         {
          "queuelength": 905,
          "time": 177.21719867853867,
          "type": "release"
         },
         {
          "queuelength": 905,
          "time": 177.26054283679898,
          "type": "release"
         },
         {
          "queuelength": 903,
          "time": 177.27537655217677,
          "type": "release"
         },
         {
          "queuelength": 903,
          "time": 177.27743196802373,
          "type": "request"
         },
         {
          "queuelength": 904,
          "time": 177.2834977713776,
          "type": "request"
         },
         {
          "queuelength": 905,
          "time": 177.32950096531135,
          "type": "release"
         },
         {
          "queuelength": 903,
          "time": 177.33018843482245,
          "type": "release"
         },
         {
          "queuelength": 903,
          "time": 177.35342331437124,
          "type": "request"
         },
         {
          "queuelength": 904,
          "time": 177.41395915398545,
          "type": "request"
         },
         {
          "queuelength": 905,
          "time": 177.43892801091096,
          "type": "request"
         },
         {
          "queuelength": 906,
          "time": 177.48310248055031,
          "type": "request"
         },
         {
          "queuelength": 907,
          "time": 177.50802876552333,
          "type": "release"
         },
         {
          "queuelength": 906,
          "time": 177.51826550250337,
          "type": "release"
         },
         {
          "queuelength": 905,
          "time": 177.5520682662871,
          "type": "request"
         },
         {
          "queuelength": 906,
          "time": 177.55216157009926,
          "type": "request"
         },
         {
          "queuelength": 907,
          "time": 177.56312101711248,
          "type": "release"
         },
         {
          "queuelength": 905,
          "time": 177.5653820453154,
          "type": "release"
         },
         {
          "queuelength": 905,
          "time": 177.58644884948507,
          "type": "request"
         },
         {
          "queuelength": 906,
          "time": 177.58652121997392,
          "type": "release"
         },
         {
          "queuelength": 905,
          "time": 177.5918586086865,
          "type": "request"
         },
         {
          "queuelength": 906,
          "time": 177.59472229622529,
          "type": "release"
         },
         {
          "queuelength": 905,
          "time": 177.60841587080301,
          "type": "request"
         },
         {
          "queuelength": 906,
          "time": 177.6414043533949,
          "type": "request"
         },
         {
          "queuelength": 907,
          "time": 177.65435253403675,
          "type": "request"
         },
         {
          "queuelength": 907,
          "time": 177.66334364532466,
          "type": "release"
         },
         {
          "queuelength": 907,
          "time": 177.69099125379196,
          "type": "release"
         },
         {
          "queuelength": 906,
          "time": 177.70398833448132,
          "type": "release"
         },
         {
          "queuelength": 905,
          "time": 177.7180217150023,
          "type": "request"
         },
         {
          "queuelength": 906,
          "time": 177.78508132109567,
          "type": "release"
         },
         {
          "queuelength": 905,
          "time": 177.79636137286437,
          "type": "request"
         },
         {
          "queuelength": 906,
          "time": 177.8167654286261,
          "type": "release"
         },
         {
          "queuelength": 905,
          "time": 177.83307216013537,
          "type": "request"
         },
         {
          "queuelength": 905,
          "time": 177.85040871576925,
          "type": "release"
         },
         {
          "queuelength": 905,
          "time": 177.86382324338797,
          "type": "request"
         },
         {
          "queuelength": 906,
          "time": 177.87837077572152,
          "type": "request"
         },
         {
          "queuelength": 907,
          "time": 177.92955377570183,
          "type": "release"
         },
         {
          "queuelength": 906,
          "time": 177.9560898250392,
          "type": "request"
         },
         {
          "queuelength": 907,
          "time": 177.9724119528604,
          "type": "request"
         },
         {
          "queuelength": 908,
          "time": 177.99015298377333,
          "type": "request"
         },
         {
          "queuelength": 909,
          "time": 178.0248254840723,
          "type": "request"
         },
         {
          "queuelength": 909,
          "time": 178.0299062520602,
          "type": "release"
         },
         {
          "queuelength": 908,
          "time": 178.0679837806386,
          "type": "release"
         },
         {
          "queuelength": 907,
          "time": 178.14515285780215,
          "type": "release"
         },
         {
          "queuelength": 906,
          "time": 178.24169344475274,
          "type": "release"
         },
         {
          "queuelength": 906,
          "time": 178.2980525082501,
          "type": "release"
         },
         {
          "queuelength": 905,
          "time": 178.3481291193448,
          "type": "release"
         },
         {
          "queuelength": 904,
          "time": 178.37072746535256,
          "type": "request"
         },
         {
          "queuelength": 905,
          "time": 178.37900545803362,
          "type": "release"
         },
         {
          "queuelength": 904,
          "time": 178.38366915415148,
          "type": "release"
         },
         {
          "queuelength": 903,
          "time": 178.41946055336956,
          "type": "release"
         },
         {
          "queuelength": 902,
          "time": 178.4299561263901,
          "type": "release"
         },
         {
          "queuelength": 901,
          "time": 178.4669997629092,
          "type": "request"
         },
         {
          "queuelength": 902,
          "time": 178.49147645964203,
          "type": "request"
         },
         {
          "queuelength": 902,
          "time": 178.53349851179095,
          "type": "release"
         },
         {
          "queuelength": 902,
          "time": 178.53496155791456,
          "type": "release"
         },
         {
          "queuelength": 901,
          "time": 178.61190507127435,
          "type": "release"
         },
         {
          "queuelength": 901,
          "time": 178.68754664175486,
          "type": "request"
         },
         {
          "queuelength": 902,
          "time": 178.6929261720257,
          "type": "request"
         },
         {
          "queuelength": 903,
          "time": 178.71438928437166,
          "type": "release"
         },
         {
          "queuelength": 901,
          "time": 178.7227590079599,
          "type": "release"
         },
         {
          "queuelength": 901,
          "time": 178.7835369107148,
          "type": "release"
         },
         {
          "queuelength": 901,
          "time": 179.72302207000783,
          "type": "release"
         },
         {
          "queuelength": 901,
          "time": 179.74835091367785,
          "type": "request"
         },
         {
          "queuelength": 902,
          "time": 179.76409007845032,
          "type": "request"
         },
         {
          "queuelength": 902,
          "time": 179.79112434194616,
          "type": "release"
         },
         {
          "queuelength": 902,
          "time": 179.80032536341952,
          "type": "request"
         },
         {
          "queuelength": 902,
          "time": 179.80046898890785,
          "type": "release"
         },
         {
          "queuelength": 902,
          "time": 179.81834028858128,
          "type": "request"
         },
         {
          "queuelength": 903,
          "time": 179.87011189627907,
          "type": "request"
         },
         {
          "queuelength": 904,
          "time": 179.87626914340163,
          "type": "request"
         },
         {
          "queuelength": 905,
          "time": 179.88917436641538,
          "type": "request"
         },
         {
          "queuelength": 905,
          "time": 179.89175488204916,
          "type": "release"
         },
         {
          "queuelength": 905,
          "time": 179.90262882649665,
          "type": "request"
         },
         {
          "queuelength": 906,
          "time": 179.9199620586433,
          "type": "release"
         },
         {
          "queuelength": 905,
          "time": 179.9342445074612,
          "type": "release"
         },
         {
          "queuelength": 904,
          "time": 179.9350542258526,
          "type": "request"
         },
         {
          "queuelength": 905,
          "time": 179.9726216462759,
          "type": "request"
         },
         {
          "queuelength": 906,
          "time": 179.9896975978336,
          "type": "request"
         },
         {
          "queuelength": 906,
          "time": 180.04178531637535,
          "type": "release"
         },
         {
          "queuelength": 906,
          "time": 180.06278067037846,
          "type": "request"
         },
         {
          "queuelength": 907,
          "time": 180.07646895195157,
          "type": "request"
         },
         {
          "queuelength": 908,
          "time": 180.09211378901264,
          "type": "request"
         },
         {
          "queuelength": 908,
          "time": 180.11419378707672,
          "type": "release"
         },
         {
          "queuelength": 908,
          "time": 180.17980742557558,
          "type": "request"
         },
         {
          "queuelength": 909,
          "time": 180.20371630599874,
          "type": "request"
         },
         {
          "queuelength": 910,
          "time": 180.25832944129763,
          "type": "request"
         },
         {
          "queuelength": 911,
          "time": 180.25856156870265,
          "type": "request"
         },
         {
          "queuelength": 911,
          "time": 180.2700019930755,
          "type": "release"
         },
         {
          "queuelength": 911,
          "time": 180.32408062017396,
          "type": "release"
         },
         {
          "queuelength": 909,
          "time": 180.33544294445267,
          "type": "release"
         },
         {
          "queuelength": 909,
          "time": 180.33838268842806,
          "type": "request"
         },
         {
          "queuelength": 909,
          "time": 180.43561727338772,
          "type": "release"
         },
         {
          "queuelength": 909,
          "time": 180.46172464086544,
          "type": "release"
         },
         {
          "queuelength": 907,
          "time": 180.50004987955668,
          "type": "release"
         },
         {
          "queuelength": 906,
          "time": 180.52080239273766,
          "type": "release"
         },
         {
          "queuelength": 905,
          "time": 180.57795418094096,
          "type": "release"
         },
         {
          "queuelength": 905,
          "time": 180.5970988718152,
          "type": "request"
         },
         {
          "queuelength": 906,
          "time": 180.62624111985258,
          "type": "request"
         },
         {
          "queuelength": 907,
          "time": 180.63193170406885,
          "type": "request"
         },
         {
          "queuelength": 907,
          "time": 180.66202580561983,
          "type": "release"
         },
         {
          "queuelength": 907,
          "time": 180.71931139801643,
          "type": "release"
         },
         {
          "queuelength": 906,
          "time": 180.7793948536395,
          "type": "request"
         },
         {
          "queuelength": 907,
          "time": 180.79052370134937,
          "type": "request"
         },
         {
          "queuelength": 908,
          "time": 180.85509665463752,
          "type": "request"
         },
         {
          "queuelength": 908,
          "time": 180.86273379776938,
          "type": "release"
         },
         {
          "queuelength": 908,
          "time": 180.89013755939968,
          "type": "request"
         },
         {
          "queuelength": 908,
          "time": 180.91030324796705,
          "type": "release"
         },
         {
          "queuelength": 908,
          "time": 180.95255111886095,
          "type": "release"
         },
         {
          "queuelength": 907,
          "time": 180.95643761417102,
          "type": "release"
         },
         {
          "queuelength": 906,
          "time": 180.96784147627403,
          "type": "release"
         },
         {
          "queuelength": 905,
          "time": 180.96785866481326,
          "type": "request"
         },
         {
          "queuelength": 906,
          "time": 181.09070517317892,
          "type": "request"
         },
         {
          "queuelength": 907,
          "time": 181.1046475546344,
          "type": "release"
         },
         {
          "queuelength": 906,
          "time": 181.12811434650797,
          "type": "release"
         },
         {
          "queuelength": 905,
          "time": 181.15625169450223,
          "type": "release"
         },
         {
          "queuelength": 903,
          "time": 181.1728007651478,
          "type": "release"
         },
         {
          "queuelength": 903,
          "time": 181.23759622866282,
          "type": "request"
         },
         {
          "queuelength": 903,
          "time": 181.24350623092138,
          "type": "release"
         },
         {
          "queuelength": 903,
          "time": 181.24539451055813,
          "type": "request"
         },
         {
          "queuelength": 904,
          "time": 181.2603508766715,
          "type": "request"
         },
         {
          "queuelength": 905,
          "time": 181.36756254566598,
          "type": "request"
         },
         {
          "queuelength": 906,
          "time": 181.3705929460985,
          "type": "request"
         },
         {
          "queuelength": 907,
          "time": 181.39568920980992,
          "type": "request"
         },
         {
          "queuelength": 908,
          "time": 181.41384706026307,
          "type": "request"
         },
         {
          "queuelength": 908,
          "time": 181.41677565986586,
          "type": "release"
         },
         {
          "queuelength": 907,
          "time": 181.46257612497402,
          "type": "release"
         },
         {
          "queuelength": 907,
          "time": 181.53138470592896,
          "type": "release"
         },
         {
          "queuelength": 906,
          "time": 181.5333872877681,
          "type": "request"
         },
         {
          "queuelength": 907,
          "time": 181.55330187021494,
          "type": "request"
         },
         {
          "queuelength": 908,
          "time": 181.55494524795157,
          "type": "request"
         },
         {
          "queuelength": 909,
          "time": 181.57928479013424,
          "type": "request"
         },
         {
          "queuelength": 910,
          "time": 181.57948142667948,
          "type": "release"
         },
         {
          "queuelength": 908,
          "time": 181.61369779207345,
          "type": "release"
         },
         {
          "queuelength": 908,
          "time": 181.62496871231025,
          "type": "request"
         },
         {
          "queuelength": 908,
          "time": 181.63257119573456,
          "type": "release"
         },
         {
          "queuelength": 908,
          "time": 181.71365214082357,
          "type": "request"
         },
         {
          "queuelength": 909,
          "time": 181.72916462091234,
          "type": "release"
         },
         {
          "queuelength": 907,
          "time": 181.77836168923935,
          "type": "release"
         },
         {
          "queuelength": 907,
          "time": 181.7818093222962,
          "type": "request"
         },
         {
          "queuelength": 908,
          "time": 181.79867862719016,
          "type": "request"
         },
         {
          "queuelength": 909,
          "time": 181.81290198298302,
          "type": "request"
         },
         {
          "queuelength": 910,
          "time": 181.8281156673452,
          "type": "request"
         },
         {
          "queuelength": 911,
          "time": 181.95171945019374,
          "type": "release"
         },
         {
          "queuelength": 909,
          "time": 182.00030394865954,
          "type": "release"
         },
         {
          "queuelength": 908,
          "time": 182.02473455093,
          "type": "release"
         },
         {
          "queuelength": 908,
          "time": 182.0637205763188,
          "type": "release"
         },
         {
          "queuelength": 907,
          "time": 182.1100741111361,
          "type": "release"
         },
         {
          "queuelength": 906,
          "time": 182.16597521479736,
          "type": "request"
         },
         {
          "queuelength": 907,
          "time": 182.17546080596782,
          "type": "release"
         },
         {
          "queuelength": 906,
          "time": 182.20228737568476,
          "type": "request"
         },
         {
          "queuelength": 907,
          "time": 182.21719867853867,
          "type": "request"
         },
         {
          "queuelength": 907,
          "time": 182.22979320771316,
          "type": "release"
         },
         {
          "queuelength": 907,
          "time": 182.27146850115616,
          "type": "release"
         },
         {
          "queuelength": 905,
          "time": 182.2783329850718,
          "type": "release"
         },
         {
          "queuelength": 905,
          "time": 182.28600052127564,
          "type": "request"
         },
         {
          "queuelength": 906,
          "time": 182.36590329566945,
          "type": "request"
         },
         {
          "queuelength": 907,
          "time": 182.37915609489824,
          "type": "request"
         },
         {
          "queuelength": 908,
          "time": 182.40873134546578,
          "type": "release"
         },
         {
          "queuelength": 907,
          "time": 182.51604641768108,
          "type": "release"
         },
         {
          "queuelength": 905,
          "time": 182.5221669335258,
          "type": "release"
         },
         {
          "queuelength": 905,
          "time": 182.5392831473692,
          "type": "release"
         },
         {
          "queuelength": 904,
          "time": 182.555295136766,
          "type": "request"
         },
         {
          "queuelength": 905,
          "time": 182.59360001904497,
          "type": "request"
         },
         {
          "queuelength": 906,
          "time": 182.62578998981894,
          "type": "release"
         },
         {
          "queuelength": 905,
          "time": 182.63945204661778,
          "type": "request"
         },
         {
          "queuelength": 906,
          "time": 182.66882971901663,
          "type": "request"
         },
         {
          "queuelength": 907,
          "time": 182.6855957740767,
          "type": "request"
         },
         {
          "queuelength": 908,
          "time": 182.70390531223666,
          "type": "request"
         },
         {
          "queuelength": 909,
          "time": 182.74834196209443,
          "type": "request"
         },
         {
          "queuelength": 910,
          "time": 182.7698080873759,
          "type": "release"
         },
         {
          "queuelength": 909,
          "time": 182.79634920454998,
          "type": "request"
         },
         {
          "queuelength": 909,
          "time": 182.79660167045358,
          "type": "release"
         },
         {
          "queuelength": 909,
          "time": 182.80594401397087,
          "type": "request"
         },
         {
          "queuelength": 910,
          "time": 182.82975395245936,
          "type": "release"
         },
         {
          "queuelength": 909,
          "time": 182.86423378728315,
          "type": "request"
         },
         {
          "queuelength": 910,
          "time": 182.8784386684725,
          "type": "release"
         },
         {
          "queuelength": 909,
          "time": 182.96089417147488,
          "type": "request"
         },
         {
          "queuelength": 909,
          "time": 182.97335718864312,
          "type": "release"
         },
         {
          "queuelength": 909,
          "time": 183.00277955105219,
          "type": "request"
         },
         {
          "queuelength": 909,
          "time": 183.06719685468155,
          "type": "release"
         },
         {
          "queuelength": 909,
          "time": 183.0679837806386,
          "type": "request"
         },
         {
          "queuelength": 909,
          "time": 183.07238445628587,
          "type": "release"
         },
         {
          "queuelength": 909,
          "time": 183.08627676640614,
          "type": "request"
         },
         {
          "queuelength": 910,
          "time": 183.10295204186104,
          "type": "request"
         },
         {
          "queuelength": 911,
          "time": 183.12718473861486,
          "type": "request"
         },
         {
          "queuelength": 911,
          "time": 183.15466558562375,
          "type": "release"
         },
         {
          "queuelength": 910,
          "time": 183.17795790174364,
          "type": "release"
         },
         {
          "queuelength": 910,
          "time": 183.19600688110864,
          "type": "request"
         },
         {
          "queuelength": 911,
          "time": 183.24065295250645,
          "type": "release"
         },
         {
          "queuelength": 909,
          "time": 183.26037605673875,
          "type": "release"
         },
         {
          "queuelength": 908,
          "time": 183.2733525697723,
          "type": "release"
         },
         {
          "queuelength": 908,
          "time": 183.30187008023879,
          "type": "request"
         },
         {
          "queuelength": 909,
          "time": 183.40114366060635,
          "type": "request"
         },
         {
          "queuelength": 910,
          "time": 183.40154307972705,
          "type": "request"
         },
         {
          "queuelength": 910,
          "time": 183.41804409499133,
          "type": "release"
         },
         {
          "queuelength": 910,
          "time": 183.48586700050436,
          "type": "release"
         },
         {
          "queuelength": 908,
          "time": 183.52687737065034,
          "type": "release"
         },
         {
          "queuelength": 908,
          "time": 183.55048996692082,
          "type": "request"
         },
         {
          "queuelength": 909,
          "time": 183.55407421656315,
          "type": "release"
         },
         {
          "queuelength": 908,
          "time": 183.5852887610726,
          "type": "request"
         },
         {
          "queuelength": 909,
          "time": 183.6057399524488,
          "type": "request"
         },
         {
          "queuelength": 909,
          "time": 183.63805962069887,
          "type": "release"
         },
         {
          "queuelength": 909,
          "time": 183.64154683981428,
          "type": "request"
         },
         {
          "queuelength": 909,
          "time": 183.64928955423989,
          "type": "release"
         },
         {
          "queuelength": 909,
          "time": 183.6845118790663,
          "type": "request"
         },
         {
          "queuelength": 909,
          "time": 183.72491059870202,
          "type": "release"
         },
         {
          "queuelength": 909,
          "time": 183.77185920240214,
          "type": "request"
         },
         {
          "queuelength": 910,
          "time": 183.78977713255856,
          "type": "request"
         },
         {
          "queuelength": 911,
          "time": 183.8286070406985,
          "type": "request"
         },
         {
          "queuelength": 912,
          "time": 183.8342713820986,
          "type": "request"
         },
         {
          "queuelength": 912,
          "time": 183.88514464115718,
          "type": "release"
         },
         {
          "queuelength": 911,
          "time": 183.89811527050907,
          "type": "release"
         },
         {
          "queuelength": 911,
          "time": 183.90747341739362,
          "type": "request"
         },
         {
          "queuelength": 912,
          "time": 183.9204142163772,
          "type": "request"
         },
         {
          "queuelength": 913,
          "time": 183.959737792648,
          "type": "request"
         },
         {
          "queuelength": 914,
          "time": 183.96686743553232,
          "type": "release"
         },
         {
          "queuelength": 913,
          "time": 184.00695653377494,
          "type": "request"
         },
         {
          "queuelength": 914,
          "time": 184.09060255333054,
          "type": "request"
         },
         {
          "queuelength": 915,
          "time": 184.09528845945897,
          "type": "request"
         },
         {
          "queuelength": 915,
          "time": 184.1206634677718,
          "type": "release"
         },
         {
          "queuelength": 915,
          "time": 184.1232615408078,
          "type": "request"
         },
         {
          "queuelength": 915,
          "time": 184.1355995295402,
          "type": "release"
         },
         {
          "queuelength": 915,
          "time": 184.13721543133676,
          "type": "request"
         },
         {
          "queuelength": 916,
          "time": 184.1389844519864,
          "type": "release"
         },
         {
          "queuelength": 914,
          "time": 184.1617454339958,
          "type": "release"
         },
         {
          "queuelength": 914,
          "time": 184.16227369603405,
          "type": "request"
         },
         {
          "queuelength": 915,
          "time": 184.18151932558405,
          "type": "release"
         },
         {
          "queuelength": 914,
          "time": 184.20485648143244,
          "type": "request"
         },
         {
          "queuelength": 915,
          "time": 184.23400484151801,
          "type": "request"
         },
         {
          "queuelength": 916,
          "time": 184.24382173493672,
          "type": "request"
         },
         {
          "queuelength": 917,
          "time": 184.2785167640776,
          "type": "request"
         },
         {
          "queuelength": 917,
          "time": 184.32764274459421,
          "type": "release"
         },
         {
          "queuelength": 917,
          "time": 184.35457625773137,
          "type": "request"
         },
         {
          "queuelength": 918,
          "time": 184.38054146008645,
          "type": "request"
         },
         {
          "queuelength": 919,
          "time": 184.38063420193524,
          "type": "request"
         },
         {
          "queuelength": 919,
          "time": 184.38234915109103,
          "type": "release"
         },
         {
          "queuelength": 919,
          "time": 184.4085540442403,
          "type": "release"
         },
         {
          "queuelength": 918,
          "time": 184.43848059008857,
          "type": "request"
         },
         {
          "queuelength": 918,
          "time": 184.53342807175932,
          "type": "release"
         },
         {
          "queuelength": 918,
          "time": 184.57874543522587,
          "type": "release"
         },
         {
          "queuelength": 917,
          "time": 184.61524045241103,
          "type": "release"
         },
         {
          "queuelength": 915,
          "time": 184.64657328760032,
          "type": "release"
         },
         {
          "queuelength": 915,
          "time": 184.6695326629715,
          "type": "request"
         },
         {
          "queuelength": 916,
          "time": 184.6835595030517,
          "type": "request"
         },
         {
          "queuelength": 917,
          "time": 184.68514897395477,
          "type": "request"
         },
         {
          "queuelength": 917,
          "time": 184.72952558068516,
          "type": "release"
         },
         {
          "queuelength": 916,
          "time": 184.74156679004028,
          "type": "release"
         },
         {
          "queuelength": 916,
          "time": 184.7688396150623,
          "type": "request"
         },
         {
          "queuelength": 917,
          "time": 184.77394319232826,
          "type": "request"
         },
         {
          "queuelength": 917,
          "time": 184.7841267124968,
          "type": "release"
         },
         {
          "queuelength": 917,
          "time": 184.79894898653555,
          "type": "release"
         },
         {
          "queuelength": 915,
          "time": 184.83996490462764,
          "type": "release"
         },
         {
          "queuelength": 914,
          "time": 184.85398180063817,
          "type": "release"
         },
         {
          "queuelength": 913,
          "time": 184.8683567173145,
          "type": "release"
         },
         {
          "queuelength": 913,
          "time": 184.889130285725,
          "type": "request"
         },
         {
          "queuelength": 913,
          "time": 184.91472068252392,
          "type": "release"
         },
         {
          "queuelength": 912,
          "time": 184.91501002036307,
          "type": "release"
         },
         {
          "queuelength": 912,
          "time": 184.924124653362,
          "type": "release"
         },
         {
          "queuelength": 911,
          "time": 184.93887413634695,
          "type": "request"
         },
         {
          "queuelength": 911,
          "time": 184.955043908419,
          "type": "release"
         },
         {
          "queuelength": 911,
          "time": 184.96109716420855,
          "type": "request"
         },
         {
          "queuelength": 912,
          "time": 185.024816380689,
          "type": "request"
         },
         {
          "queuelength": 913,
          "time": 185.03413985248653,
          "type": "release"
         },
         {
          "queuelength": 911,
          "time": 185.0496295168887,
          "type": "release"
         },
         {
          "queuelength": 911,
          "time": 185.0560750004778,
          "type": "request"
         },
         {
          "queuelength": 912,
          "time": 185.08278216867447,
          "type": "request"
         },
         {
          "queuelength": 913,
          "time": 185.11030330733615,
          "type": "request"
         },
         {
          "queuelength": 914,
          "time": 185.12989964179033,
          "type": "release"
         },
         {
          "queuelength": 912,
          "time": 185.13054268042376,
          "type": "release"
         },
         {
          "queuelength": 912,
          "time": 185.14279589378745,
          "type": "request"
         },
         {
          "queuelength": 913,
          "time": 185.1618252048279,
          "type": "release"
         },
         {
          "queuelength": 912,
          "time": 185.1804965334789,
          "type": "request"
         },
         {
          "queuelength": 913,
          "time": 185.19962358485515,
          "type": "request"
         },
         {
          "queuelength": 914,
          "time": 185.26214392902497,
          "type": "request"
         },
         {
          "queuelength": 915,
          "time": 185.2700019930755,
          "type": "request"
         },
         {
          "queuelength": 916,
          "time": 185.3010910068248,
          "type": "request"
         },
         {
          "queuelength": 916,
          "time": 185.31839530368217,
          "type": "release"
         },
         {
          "queuelength": 916,
          "time": 185.32011977728706,
          "type": "request"
         },
         {
          "queuelength": 917,
          "time": 185.3324231693707,
          "type": "release"
         },
         {
          "queuelength": 916,
          "time": 185.33791111278492,
          "type": "request"
         },
         {
          "queuelength": 917,
          "time": 185.34400564532976,
          "type": "request"
         },
         {
          "queuelength": 918,
          "time": 185.35108703971798,
          "type": "request"
         },
         {
          "queuelength": 919,
          "time": 185.35626902415314,
          "type": "release"
         },
         {
          "queuelength": 918,
          "time": 185.37057127297768,
          "type": "request"
         },
         {
          "queuelength": 918,
          "time": 185.42598430815062,
          "type": "release"
         },
         {
          "queuelength": 917,
          "time": 185.47115553372095,
          "type": "release"
         },
         {
          "queuelength": 917,
          "time": 185.47261516055886,
          "type": "request"
         },
         {
          "queuelength": 918,
          "time": 185.49285689164935,
          "type": "request"
         },
         {
          "queuelength": 919,
          "time": 185.5247220657233,
          "type": "request"
         },
         {
          "queuelength": 920,
          "time": 185.57567683474073,
          "type": "request"
         },
         {
          "queuelength": 921,
          "time": 185.5949849810335,
          "type": "request"
         },
         {
          "queuelength": 921,
          "time": 185.59619103272132,
          "type": "release"
         },
         {
          "queuelength": 921,
          "time": 185.60167271640404,
          "type": "request"
         },
         {
          "queuelength": 922,
          "time": 185.62740388271334,
          "type": "request"
         },
         {
          "queuelength": 922,
          "time": 185.63475973916485,
          "type": "release"
         },
         {
          "queuelength": 922,
          "time": 185.6503695904397,
          "type": "request"
         },
         {
          "queuelength": 923,
          "time": 185.65171296984352,
          "type": "request"
         },
         {
          "queuelength": 923,
          "time": 185.68806503059082,
          "type": "release"
         },
         {
          "queuelength": 922,
          "time": 185.70786465130647,
          "type": "release"
         },
         {
          "queuelength": 922,
          "time": 185.72787101197872,
          "type": "request"
         },
         {
          "queuelength": 923,
          "time": 185.7438883466013,
          "type": "request"
         },
         {
          "queuelength": 923,
          "time": 185.76684985455407,
          "type": "release"
         },
         {
          "queuelength": 923,
          "time": 185.80462842898325,
          "type": "request"
         },
         {
          "queuelength": 924,
          "time": 185.81185993395874,
          "type": "release"
         },
         {
          "queuelength": 922,
          "time": 185.82009523507247,
          "type": "release"
         },
         {
          "queuelength": 922,
          "time": 185.83685119012574,
          "type": "request"
         },
         {
          "queuelength": 923,
          "time": 185.8621911992845,
          "type": "request"
         },
         {
          "queuelength": 924,
          "time": 185.86772333531172,
          "type": "release"
         },
         {
          "queuelength": 923,
          "time": 186.10607932197277,
          "type": "request"
         },
         {
          "queuelength": 923,
          "time": 186.15310483913217,
          "type": "release"
         },
         {
          "queuelength": 923,
          "time": 186.15585973309584,
          "type": "release"
         },
         {
          "queuelength": 921,
          "time": 186.19037959198738,
          "type": "release"
         },
         {
          "queuelength": 921,
          "time": 186.2472278123958,
          "type": "request"
         },
         {
          "queuelength": 922,
          "time": 186.25958061524562,
          "type": "request"
         },
         {
          "queuelength": 923,
          "time": 186.26591360490352,
          "type": "request"
         },
         {
          "queuelength": 924,
          "time": 186.29584088670092,
          "type": "request"
         },
         {
          "queuelength": 925,
          "time": 186.29610927703968,
          "type": "request"
         },
         {
          "queuelength": 925,
          "time": 186.30354214586814,
          "type": "release"
         },
         {
          "queuelength": 925,
          "time": 186.30790998870003,
          "type": "request"
         },
         {
          "queuelength": 925,
          "time": 186.33176330279775,
          "type": "release"
         },
         {
          "queuelength": 924,
          "time": 186.3594913876462,
          "type": "release"
         },
         {
          "queuelength": 923,
          "time": 186.36064747991946,
          "type": "release"
         },
         {
          "queuelength": 923,
          "time": 186.39292570760907,
          "type": "release"
         },
         {
          "queuelength": 922,
          "time": 186.40374522741718,
          "type": "request"
         },
         {
          "queuelength": 923,
          "time": 186.4288112480626,
          "type": "request"
         },
         {
          "queuelength": 924,
          "time": 186.43009383994456,
          "type": "request"
         },
         {
          "queuelength": 925,
          "time": 186.43260578682967,
          "type": "request"
         },
         {
          "queuelength": 925,
          "time": 186.44575944426919,
          "type": "release"
         },
         {
          "queuelength": 925,
          "time": 186.46144354674934,
          "type": "release"
         },
         {
          "queuelength": 923,
          "time": 186.46170882966413,
          "type": "release"
         },
         {
          "queuelength": 922,
          "time": 186.48222755832683,
          "type": "release"
         },
         {
          "queuelength": 921,
          "time": 186.54710640054407,
          "type": "release"
         },
         {
          "queuelength": 921,
          "time": 186.56277702767022,
          "type": "release"
         },
         {
          "queuelength": 920,
          "time": 186.56589372259978,
          "type": "request"
         },
         {
          "queuelength": 920,
          "time": 186.63443461595372,
          "type": "release"
         },
         {
          "queuelength": 920,
          "time": 186.69009187510818,
          "type": "release"
         },
         {
          "queuelength": 919,
          "time": 186.71374251600736,
          "type": "release"
         },
         {
          "queuelength": 917,
          "time": 186.72241490630893,
          "type": "release"
         },
         {
          "queuelength": 917,
          "time": 186.74115672516714,
          "type": "release"
         },
         {
          "queuelength": 916,
          "time": 186.75045970123642,
          "type": "request"
         },
         {
          "queuelength": 917,
          "time": 186.80565172607058,
          "type": "release"
         },
         {
          "queuelength": 916,
          "time": 186.8094951905572,
          "type": "request"
         },
         {
          "queuelength": 917,
          "time": 186.82483463614233,
          "type": "release"
         },
         {
          "queuelength": 916,
          "time": 186.84398755466913,
          "type": "request"
         },
         {
          "queuelength": 917,
          "time": 186.88224613601324,
          "type": "release"
         },
         {
          "queuelength": 916,
          "time": 186.92461192044928,
          "type": "request"
         },
         {
          "queuelength": 917,
          "time": 186.95005527281768,
          "type": "request"
         },
         {
          "queuelength": 918,
          "time": 186.99291915315655,
          "type": "request"
         },
         {
          "queuelength": 918,
          "time": 187.00513872787553,
          "type": "release"
         },
         {
          "queuelength": 917,
          "time": 187.0225826361656,
          "type": "release"
         },
         {
          "queuelength": 916,
          "time": 187.03436791895936,
          "type": "release"
         },
         {
          "queuelength": 916,
          "time": 187.04319723476817,
          "type": "request"
         },
         {
          "queuelength": 916,
          "time": 187.09520220665178,
          "type": "release"
         },
         {
          "queuelength": 916,
          "time": 187.0969283205747,
          "type": "request"
         },
         {
          "queuelength": 916,
          "time": 187.1082243306936,
          "type": "release"
         },
         {
          "queuelength": 915,
          "time": 187.11518927036497,
          "type": "release"
         },
         {
          "queuelength": 915,
          "time": 187.1514082279257,
          "type": "request"
         },
         {
          "queuelength": 916,
          "time": 187.22130362693892,
          "type": "release"
         },
         {
          "queuelength": 914,
          "time": 187.22579661680965,
          "type": "release"
         },
         {
          "queuelength": 914,
          "time": 187.23268154540546,
          "type": "request"
         },
         {
          "queuelength": 915,
          "time": 187.23918197691683,
          "type": "release"
         },
         {
          "queuelength": 913,
          "time": 187.30846286997144,
          "type": "release"
         },
         {
          "queuelength": 912,
          "time": 187.33943400991848,
          "type": "release"
         },
         {
          "queuelength": 912,
          "time": 187.34860584574412,
          "type": "request"
         },
         {
          "queuelength": 913,
          "time": 187.39014633205824,
          "type": "request"
         },
         {
          "queuelength": 914,
          "time": 187.39053022169838,
          "type": "request"
         },
         {
          "queuelength": 915,
          "time": 187.39404706629287,
          "type": "request"
         },
         {
          "queuelength": 916,
          "time": 187.426427779914,
          "type": "request"
         },
         {
          "queuelength": 917,
          "time": 187.43964092073497,
          "type": "request"
         },
         {
          "queuelength": 917,
          "time": 187.44079318970398,
          "type": "release"
         },
         {
          "queuelength": 916,
          "time": 187.4423426050034,
          "type": "release"
         },
         {
          "queuelength": 916,
          "time": 187.46717841099965,
          "type": "request"
         },
         {
          "queuelength": 917,
          "time": 187.46966146494458,
          "type": "release"
         },
         {
          "queuelength": 916,
          "time": 187.5009245599558,
          "type": "request"
         },
         {
          "queuelength": 916,
          "time": 187.51184045377101,
          "type": "release"
         },
         {
          "queuelength": 916,
          "time": 187.5154174595828,
          "type": "request"
         },
         {
          "queuelength": 917,
          "time": 187.60967561563194,
          "type": "release"
         },
         {
          "queuelength": 916,
          "time": 187.63071136348532,
          "type": "request"
         },
         {
          "queuelength": 916,
          "time": 187.65476924633379,
          "type": "release"
         },
         {
          "queuelength": 915,
          "time": 187.6557882644652,
          "type": "release"
         },
         {
          "queuelength": 915,
          "time": 187.67223687870626,
          "type": "request"
         },
         {
          "queuelength": 916,
          "time": 187.6979959729578,
          "type": "request"
         },
         {
          "queuelength": 916,
          "time": 187.7321121040548,
          "type": "release"
         },
         {
          "queuelength": 916,
          "time": 187.74706491611272,
          "type": "request"
         },
         {
          "queuelength": 917,
          "time": 187.75164642121734,
          "type": "request"
         },
         {
          "queuelength": 918,
          "time": 187.7874615973033,
          "type": "request"
         },
         {
          "queuelength": 919,
          "time": 187.84417584023572,
          "type": "release"
         },
         {
          "queuelength": 917,
          "time": 187.8652358179892,
          "type": "release"
         },
         {
          "queuelength": 917,
          "time": 187.92944087546607,
          "type": "request"
         },
         {
          "queuelength": 918,
          "time": 187.9311492884944,
          "type": "request"
         },
         {
          "queuelength": 919,
          "time": 187.99101162674933,
          "type": "release"
         },
         {
          "queuelength": 917,
          "time": 188.00271933067037,
          "type": "release"
         },
         {
          "queuelength": 917,
          "time": 188.00884059716154,
          "type": "release"
         },
         {
          "queuelength": 916,
          "time": 188.0128892980664,
          "type": "request"
         },
         {
          "queuelength": 917,
          "time": 188.01670346213322,
          "type": "release"
         },
         {
          "queuelength": 916,
          "time": 188.08711945778836,
          "type": "request"
         },
         {
          "queuelength": 917,
          "time": 188.19027605815097,
          "type": "request"
         },
         {
          "queuelength": 918,
          "time": 188.22085925217365,
          "type": "request"
         },
         {
          "queuelength": 919,
          "time": 188.24737830578766,
          "type": "request"
         },
         {
          "queuelength": 920,
          "time": 188.2952855157211,
          "type": "request"
         },
         {
          "queuelength": 920,
          "time": 188.3128893118294,
          "type": "release"
         },
         {
          "queuelength": 919,
          "time": 188.3260851181314,
          "type": "release"
         },
         {
          "queuelength": 919,
          "time": 188.3391126329324,
          "type": "release"
         },
         {
          "queuelength": 918,
          "time": 188.39454433008143,
          "type": "request"
         },
         {
          "queuelength": 919,
          "time": 188.4065352191509,
          "type": "request"
         },
         {
          "queuelength": 919,
          "time": 188.42781766796415,
          "type": "release"
         },
         {
          "queuelength": 919,
          "time": 188.46683988644486,
          "type": "request"
         },
         {
          "queuelength": 920,
          "time": 188.46905115125668,
          "type": "release"
         },
         {
          "queuelength": 919,
          "time": 188.47228995926466,
          "type": "release"
         },
         {
          "queuelength": 918,
          "time": 188.49484456147843,
          "type": "release"
         },
         {
          "queuelength": 917,
          "time": 188.51242183964695,
          "type": "request"
         },
         {
          "queuelength": 917,
          "time": 188.52643083580827,
          "type": "release"
         },
         {
          "queuelength": 917,
          "time": 188.53318410252288,
          "type": "request"
         },
         {
          "queuelength": 918,
          "time": 188.55309867385267,
          "type": "request"
         },
         {
          "queuelength": 918,
          "time": 188.58703399392965,
          "type": "release"
         },
         {
          "queuelength": 917,
          "time": 188.6187936182541,
          "type": "release"
         },
         {
          "queuelength": 917,
          "time": 188.62218119480656,
          "type": "request"
         },
         {
          "queuelength": 918,
          "time": 188.62832404447528,
          "type": "request"
         },
         {
          "queuelength": 918,
          "time": 188.65606506152847,
          "type": "release"
         },
         {
          "queuelength": 918,
          "time": 188.7027086673315,
          "type": "release"
         },
         {
          "queuelength": 917,
          "time": 188.71642594219946,
          "type": "request"
         },
         {
          "queuelength": 917,
          "time": 188.73741221816456,
          "type": "release"
         },
         {
          "queuelength": 916,
          "time": 188.7711114352411,
          "type": "release"
         },
         {
          "queuelength": 916,
          "time": 188.77368905217676,
          "type": "request"
         },
         {
          "queuelength": 917,
          "time": 188.8587295345642,
          "type": "request"
         },
         {
          "queuelength": 918,
          "time": 188.86399793799924,
          "type": "request"
         },
         {
          "queuelength": 919,
          "time": 188.8657055165897,
          "type": "release"
         },
         {
          "queuelength": 918,
          "time": 188.87318882317686,
          "type": "request"
         },
         {
          "queuelength": 919,
          "time": 188.88514464115718,
          "type": "request"
         },
         {
          "queuelength": 920,
          "time": 188.96253509413094,
          "type": "request"
         },
         {
          "queuelength": 921,
          "time": 188.9836382587874,
          "type": "request"
         },
         {
          "queuelength": 922,
          "time": 189.01246980173434,
          "type": "request"
         },
         {
          "queuelength": 923,
          "time": 189.02012143394737,
          "type": "request"
         },
         {
          "queuelength": 924,
          "time": 189.041474981365,
          "type": "request"
         },
         {
          "queuelength": 925,
          "time": 189.0776238488569,
          "type": "request"
         },
         {
          "queuelength": 926,
          "time": 189.09347012393326,
          "type": "release"
         },
         {
          "queuelength": 925,
          "time": 189.10051986759987,
          "type": "release"
         },
         {
          "queuelength": 923,
          "time": 189.13321862973703,
          "type": "release"
         },
         {
          "queuelength": 922,
          "time": 189.16107067910207,
          "type": "release"
         },
         {
          "queuelength": 922,
          "time": 189.2481203664355,
          "type": "request"
         },
         {
          "queuelength": 923,
          "time": 189.27845155811343,
          "type": "release"
         },
         {
          "queuelength": 921,
          "time": 189.28811997705398,
          "type": "release"
         },
         {
          "queuelength": 921,
          "time": 189.3221549755384,
          "type": "request"
         },
         {
          "queuelength": 922,
          "time": 189.3392234307426,
          "type": "release"
         },
         {
          "queuelength": 920,
          "time": 189.37301058385248,
          "type": "release"
         },
         {
          "queuelength": 920,
          "time": 189.43633363403197,
          "type": "request"
         },
         {
          "queuelength": 921,
          "time": 189.443366631533,
          "type": "release"
         },
         {
          "queuelength": 920,
          "time": 189.4461004666646,
          "type": "request"
         },
         {
          "queuelength": 921,
          "time": 189.47892600440798,
          "type": "request"
         },
         {
          "queuelength": 922,
          "time": 189.4861612054749,
          "type": "request"
         },
         {
          "queuelength": 923,
          "time": 189.48791332345206,
          "type": "request"
         },
         {
          "queuelength": 924,
          "time": 189.5009003680966,
          "type": "release"
         },
         {
          "queuelength": 922,
          "time": 189.51789523680074,
          "type": "release"
         },
         {
          "queuelength": 922,
          "time": 189.5448909573615,
          "type": "request"
         },
         {
          "queuelength": 923,
          "time": 189.58379180814944,
          "type": "request"
         },
         {
          "queuelength": 924,
          "time": 189.61584427017178,
          "type": "release"
         },
         {
          "queuelength": 923,
          "time": 189.62170702187768,
          "type": "request"
         },
         {
          "queuelength": 924,
          "time": 189.6364867613882,
          "type": "request"
         },
         {
          "queuelength": 924,
          "time": 189.7442367869602,
          "type": "release"
         },
         {
          "queuelength": 924,
          "time": 189.75446023822587,
          "type": "request"
         },
         {
          "queuelength": 925,
          "time": 189.77191847134006,
          "type": "request"
         },
         {
          "queuelength": 925,
          "time": 189.7836214078614,
          "type": "release"
         },
         {
          "queuelength": 925,
          "time": 189.82265435421346,
          "type": "release"
         },
         {
          "queuelength": 924,
          "time": 189.83869466786263,
          "type": "request"
         },
         {
          "queuelength": 925,
          "time": 189.84819012621116,
          "type": "release"
         },
         {
          "queuelength": 924,
          "time": 189.84888703539826,
          "type": "request"
         },
         {
          "queuelength": 925,
          "time": 189.88773989930613,
          "type": "request"
         },
         {
          "queuelength": 925,
          "time": 189.93700598981212,
          "type": "release"
         },
         {
          "queuelength": 925,
          "time": 189.9387728982029,
          "type": "release"
         },
         {
          "queuelength": 924,
          "time": 189.962871195301,
          "type": "request"
         },
         {
          "queuelength": 924,
          "time": 189.99834339608398,
          "type": "release"
         },
         {
          "queuelength": 924,
          "time": 190.052122401136,
          "type": "request"
         },
         {
          "queuelength": 925,
          "time": 190.05902200618337,
          "type": "request"
         },
         {
          "queuelength": 926,
          "time": 190.09430688574452,
          "type": "request"
         },
         {
          "queuelength": 927,
          "time": 190.1095918816073,
          "type": "release"
         },
         {
          "queuelength": 925,
          "time": 190.11139099986733,
          "type": "release"
         },
         {
          "queuelength": 924,
          "time": 190.14351284790047,
          "type": "release"
         },
         {
          "queuelength": 923,
          "time": 190.15421916914474,
          "type": "release"
         },
         {
          "queuelength": 923,
          "time": 190.17485871678636,
          "type": "release"
         },
         {
          "queuelength": 921,
          "time": 190.18178447593064,
          "type": "release"
         },
         {
          "queuelength": 921,
          "time": 190.1897895296879,
          "type": "request"
         },
         {
          "queuelength": 922,
          "time": 190.22260119962482,
          "type": "request"
         },
         {
          "queuelength": 922,
          "time": 190.22314045570718,
          "type": "release"
         },
         {
          "queuelength": 922,
          "time": 190.22955309578904,
          "type": "release"
         },
         {
          "queuelength": 921,
          "time": 190.23375197219065,
          "type": "request"
         },
         {
          "queuelength": 921,
          "time": 190.27836375820524,
          "type": "release"
         },
         {
          "queuelength": 921,
          "time": 190.28465812975858,
          "type": "request"
         },
         {
          "queuelength": 921,
          "time": 190.3136235512935,
          "type": "release"
         },
         {
          "queuelength": 920,
          "time": 190.3255820628222,
          "type": "release"
         },
         {
          "queuelength": 920,
          "time": 190.40716173410573,
          "type": "request"
         },
         {
          "queuelength": 921,
          "time": 190.4091262711258,
          "type": "request"
         },
         {
          "queuelength": 922,
          "time": 190.41367163938588,
          "type": "request"
         },
         {
          "queuelength": 923,
          "time": 190.45600546365117,
          "type": "request"
         },
         {
          "queuelength": 924,
          "time": 190.51200627199265,
          "type": "release"
         },
         {
          "queuelength": 923,
          "time": 190.52020093681725,
          "type": "request"
         },
         {
          "queuelength": 924,
          "time": 190.54807301208683,
          "type": "request"
         },
         {
          "queuelength": 925,
          "time": 190.5614268209061,
          "type": "request"
         },
         {
          "queuelength": 926,
          "time": 190.57114227046986,
          "type": "request"
         },
         {
          "queuelength": 927,
          "time": 190.59268643131236,
          "type": "request"
         },
         {
          "queuelength": 928,
          "time": 190.59619103272132,
          "type": "request"
         },
         {
          "queuelength": 928,
          "time": 190.6413895691067,
          "type": "release"
         },
         {
          "queuelength": 928,
          "time": 190.65590601005016,
          "type": "request"
         },
         {
          "queuelength": 929,
          "time": 190.69301200750385,
          "type": "request"
         },
         {
          "queuelength": 929,
          "time": 190.70713076861225,
          "type": "release"
         },
         {
          "queuelength": 929,
          "time": 190.72065649876862,
          "type": "request"
         },
         {
          "queuelength": 930,
          "time": 190.72281679002768,
          "type": "release"
         },
         {
          "queuelength": 929,
          "time": 190.72328313285246,
          "type": "request"
         },
         {
          "queuelength": 930,
          "time": 190.73168239227954,
          "type": "request"
         },
         {
          "queuelength": 931,
          "time": 190.75622605264627,
          "type": "request"
         },
         {
          "queuelength": 932,
          "time": 190.75707617493774,
          "type": "release"
         },
         {
          "queuelength": 930,
          "time": 190.80138257284582,
          "type": "release"
         },
         {
          "queuelength": 929,
          "time": 190.808307589375,
          "type": "release"
         },
         {
          "queuelength": 929,
          "time": 190.8128251930834,
          "type": "release"
         },
         {
          "queuelength": 928,
          "time": 190.81775139962136,
          "type": "release"
         },
         {
          "queuelength": 927,
          "time": 190.8539487366882,
          "type": "request"
         },
         {
          "queuelength": 928,
          "time": 190.89307622779944,
          "type": "request"
         },
         {
          "queuelength": 929,
          "time": 190.9465898880847,
          "type": "request"
         },
         {
          "queuelength": 929,
          "time": 191.02612056511637,
          "type": "release"
         },
         {
          "queuelength": 928,
          "time": 191.06302922778704,
          "type": "release"
         },
         {
          "queuelength": 928,
          "time": 191.06366484743907,
          "type": "release"
         },
         {
          "queuelength": 927,
          "time": 191.09179369860587,
          "type": "release"
         },
         {
          "queuelength": 926,
          "time": 191.1688276457104,
          "type": "request"
         },
         {
          "queuelength": 926,
          "time": 191.19061114235717,
          "type": "release"
         },
         {
          "queuelength": 925,
          "time": 191.1935230199299,
          "type": "release"
         },
         {
          "queuelength": 924,
          "time": 191.1961511682039,
          "type": "release"
         },
         {
          "queuelength": 924,
          "time": 191.27427907122186,
          "type": "request"
         },
         {
          "queuelength": 925,
          "time": 191.31555288908447,
          "type": "request"
         },
         {
          "queuelength": 925,
          "time": 191.37162870524313,
          "type": "release"
         },
         {
          "queuelength": 925,
          "time": 191.37252054091334,
          "type": "release"
         },
         {
          "queuelength": 924,
          "time": 191.38418042374104,
          "type": "release"
         },
         {
          "queuelength": 923,
          "time": 191.46103802267552,
          "type": "release"
         },
         {
          "queuelength": 921,
          "time": 191.48618583280958,
          "type": "release"
         },
         {
          "queuelength": 921,
          "time": 191.50979640231176,
          "type": "request"
         },
         {
          "queuelength": 922,
          "time": 191.50987966117953,
          "type": "request"
         },
         {
          "queuelength": 922,
          "time": 191.51834171903886,
          "type": "release"
         },
         {
          "queuelength": 921,
          "time": 191.57512862581154,
          "type": "release"
         },
         {
          "queuelength": 920,
          "time": 191.5805841092962,
          "type": "release"
         },
         {
          "queuelength": 920,
          "time": 191.6293364388185,
          "type": "release"
         },
         {
          "queuelength": 919,
          "time": 191.7376666451634,
          "type": "request"
         },
         {
          "queuelength": 919,
          "time": 191.74388754897507,
          "type": "release"
         },
         {
          "queuelength": 919,
          "time": 191.7508139934509,
          "type": "release"
         },
         {
          "queuelength": 917,
          "time": 191.78774797278498,
          "type": "release"
         },
         {
          "queuelength": 917,
          "time": 191.79292781200826,
          "type": "request"
         },
         {
          "queuelength": 918,
          "time": 191.80227378024443,
          "type": "request"
         },
         {
          "queuelength": 918,
          "time": 191.81078967395,
          "type": "release"
         },
         {
          "queuelength": 917,
          "time": 191.83498178696294,
          "type": "release"
         },
         {
          "queuelength": 916,
          "time": 191.87250384149166,
          "type": "release"
         },
         {
          "queuelength": 915,
          "time": 191.88696843675126,
          "type": "release"
         },
         {
          "queuelength": 914,
          "time": 191.89495843607912,
          "type": "release"
         },
         {
          "queuelength": 914,
          "time": 191.91156289113118,
          "type": "release"
         },
         {
          "queuelength": 913,
          "time": 191.91318024788373,
          "type": "release"
         },
         {
          "queuelength": 912,
          "time": 191.96256450229635,
          "type": "request"
         },
         {
          "queuelength": 913,
          "time": 191.99918903502623,
          "type": "request"
         },
         {
          "queuelength": 914,
          "time": 192.01455166252975,
          "type": "release"
         },
         {
          "queuelength": 913,
          "time": 192.0225826361656,
          "type": "request"
         },
         {
          "queuelength": 914,
          "time": 192.0230170452578,
          "type": "release"
         },
         {
          "queuelength": 913,
          "time": 192.03408922664588,
          "type": "request"
         },
         {
          "queuelength": 914,
          "time": 192.04458633278853,
          "type": "request"
         },
         {
          "queuelength": 915,
          "time": 192.05390809204556,
          "type": "request"
         },
         {
          "queuelength": 915,
          "time": 192.0701471439552,
          "type": "release"
         },
         {
          "queuelength": 915,
          "time": 192.11518927036497,
          "type": "request"
         },
         {
          "queuelength": 916,
          "time": 192.12419096318587,
          "type": "request"
         },
         {
          "queuelength": 917,
          "time": 192.1319300909685,
          "type": "release"
         },
         {
          "queuelength": 915,
          "time": 192.16731851144675,
          "type": "release"
         },
         {
          "queuelength": 915,
          "time": 192.18250471493351,
          "type": "release"
         },
         {
          "queuelength": 914,
          "time": 192.20114461255488,
          "type": "request"
         },
         {
          "queuelength": 914,
          "time": 192.2129700961745,
          "type": "release"
         },
         {
          "queuelength": 913,
          "time": 192.26658967363957,
          "type": "release"
         },
         {
          "queuelength": 913,
          "time": 192.3265661564534,
          "type": "request"
         },
         {
          "queuelength": 914,
          "time": 192.38819619979677,
          "type": "request"
         },
         {
          "queuelength": 914,
          "time": 192.40692836894473,
          "type": "release"
         },
         {
          "queuelength": 914,
          "time": 192.44232264131352,
          "type": "request"
         },
         {
          "queuelength": 915,
          "time": 192.4423426050034,
          "type": "request"
         },
         {
          "queuelength": 915,
          "time": 192.46538640806187,
          "type": "release"
         },
         {
          "queuelength": 915,
          "time": 192.53267312628807,
          "type": "request"
         },
         {
          "queuelength": 915,
          "time": 192.54182406018563,
          "type": "release"
         },
         {
          "queuelength": 914,
          "time": 192.5618734978122,
          "type": "release"
         },
         {
          "queuelength": 914,
          "time": 192.5855755142952,
          "type": "request"
         },
         {
          "queuelength": 915,
          "time": 192.59977939428128,
          "type": "release"
         },
         {
          "queuelength": 913,
          "time": 192.60751694766822,
          "type": "release"
         },
         {
          "queuelength": 913,
          "time": 192.6079229503831,
          "type": "request"
         },
         {
          "queuelength": 914,
          "time": 192.6164499776195,
          "type": "release"
         },
         {
          "queuelength": 912,
          "time": 192.62116967342507,
          "type": "release"
         },
         {
          "queuelength": 912,
          "time": 192.67155327037094,
          "type": "request"
         },
         {
          "queuelength": 913,
          "time": 192.69826148003534,
          "type": "request"
         },
         {
          "queuelength": 913,
          "time": 192.70566234056298,
          "type": "release"
         },
         {
          "queuelength": 913,
          "time": 192.71957983194434,
          "type": "release"
         },
         {
          "queuelength": 911,
          "time": 192.7719887727897,
          "type": "release"
         },
         {
          "queuelength": 910,
          "time": 192.77746713130367,
          "type": "release"
         },
         {
          "queuelength": 909,
          "time": 192.8009144191307,
          "type": "release"
         },
         {
          "queuelength": 909,
          "time": 192.8168659344641,
          "type": "request"
         },
         {
          "queuelength": 909,
          "time": 192.8177381090079,
          "type": "release"
         },
         {
          "queuelength": 909,
          "time": 192.8227787002103,
          "type": "request"
         },
         {
          "queuelength": 910,
          "time": 192.83659798727783,
          "type": "request"
         },
         {
          "queuelength": 911,
          "time": 192.8775560717263,
          "type": "request"
         },
         {
          "queuelength": 911,
          "time": 192.9123939588266,
          "type": "release"
         },
         {
          "queuelength": 911,
          "time": 192.9501394759985,
          "type": "request"
         },
         {
          "queuelength": 911,
          "time": 193.0097723601225,
          "type": "release"
         },
         {
          "queuelength": 910,
          "time": 193.03458010211722,
          "type": "release"
         },
         {
          "queuelength": 909,
          "time": 193.050281011687,
          "type": "release"
         },
         {
          "queuelength": 909,
          "time": 193.0899159180096,
          "type": "release"
         },
         {
          "queuelength": 908,
          "time": 193.0953553105806,
          "type": "request"
         },
         {
          "queuelength": 909,
          "time": 193.16237379577223,
          "type": "release"
         },
         {
          "queuelength": 907,
          "time": 193.18564854419412,
          "type": "release"
         },
         {
          "queuelength": 907,
          "time": 193.20277189761669,
          "type": "release"
         },
         {
          "queuelength": 906,
          "time": 193.27162037379026,
          "type": "release"
         },
         {
          "queuelength": 904,
          "time": 193.2953816685999,
          "type": "release"
         },
         {
          "queuelength": 904,
          "time": 193.30512560715206,
          "type": "release"
         },
         {
          "queuelength": 902,
          "time": 193.3053730592777,
          "type": "release"
         },
         {
          "queuelength": 902,
          "time": 193.3090670673235,
          "type": "request"
         },
         {
          "queuelength": 903,
          "time": 193.3094518330215,
          "type": "request"
         },
         {
          "queuelength": 903,
          "time": 193.31308561853,
          "type": "release"
         },
         {
          "queuelength": 903,
          "time": 193.31839662625578,
          "type": "release"
         },
         {
          "queuelength": 902,
          "time": 193.33787025086167,
          "type": "request"
         },
         {
          "queuelength": 903,
          "time": 193.344620464944,
          "type": "release"
         },
         {
          "queuelength": 902,
          "time": 193.3628230992182,
          "type": "release"
         },
         {
          "queuelength": 901,
          "time": 193.38578496730673,
          "type": "release"
         },
         {
          "queuelength": 901,
          "time": 193.43804687856053,
          "type": "release"
         },
         {
          "queuelength": 901,
          "time": 193.51514848394683,
          "type": "request"
         },
         {
          "queuelength": 901,
          "time": 193.5874928393271,
          "type": "release"
         },
         {
          "queuelength": 901,
          "time": 193.63308089047982,
          "type": "request"
         },
         {
          "queuelength": 902,
          "time": 193.63829092354052,
          "type": "request"
         },
         {
          "queuelength": 903,
          "time": 193.64719157843774,
          "type": "release"
         },
         {
          "queuelength": 902,
          "time": 193.68836218612364,
          "type": "request"
         },
         {
          "queuelength": 903,
          "time": 193.7112310487554,
          "type": "release"
         },
         {
          "queuelength": 902,
          "time": 193.71500572089235,
          "type": "request"
         },
         {
          "queuelength": 903,
          "time": 193.74787619325195,
          "type": "request"
         },
         {
          "queuelength": 904,
          "time": 193.78525309754806,
          "type": "request"
         },
         {
          "queuelength": 904,
          "time": 193.79829732802472,
          "type": "release"
         },
         {
          "queuelength": 904,
          "time": 193.8228145887683,
          "type": "release"
         },
         {
          "queuelength": 903,
          "time": 193.84093554730262,
          "type": "request"
         },
         {
          "queuelength": 903,
          "time": 193.88167478594062,
          "type": "release"
         },
         {
          "queuelength": 902,
          "time": 193.88288952183615,
          "type": "release"
         },
         {
          "queuelength": 902,
          "time": 193.88311207167192,
          "type": "request"
         },
         {
          "queuelength": 903,
          "time": 193.91169768740968,
          "type": "request"
         },
         {
          "queuelength": 904,
          "time": 193.9135702982416,
          "type": "request"
         },
         {
          "queuelength": 904,
          "time": 193.9317551450336,
          "type": "release"
         },
         {
          "queuelength": 904,
          "time": 193.93266183587238,
          "type": "request"
         },
         {
          "queuelength": 905,
          "time": 193.96004760052597,
          "type": "request"
         },
         {
          "queuelength": 905,
          "time": 193.96626319652168,
          "type": "release"
         },
         {
          "queuelength": 905,
          "time": 194.006162249526,
          "type": "request"
         },
         {
          "queuelength": 906,
          "time": 194.03130166755523,
          "type": "release"
         },
         {
          "queuelength": 904,
          "time": 194.06879515526015,
          "type": "release"
         },
         {
          "queuelength": 904,
          "time": 194.06951970306616,
          "type": "release"
         },
         {
          "queuelength": 903,
          "time": 194.11425569685736,
          "type": "request"
         },
         {
          "queuelength": 904,
          "time": 194.12614671661711,
          "type": "release"
         },
         {
          "queuelength": 903,
          "time": 194.15234218343505,
          "type": "release"
         },
         {
          "queuelength": 902,
          "time": 194.1594038778567,
          "type": "request"
         },
         {
          "queuelength": 903,
          "time": 194.22249584774332,
          "type": "request"
         },
         {
          "queuelength": 904,
          "time": 194.23029220899798,
          "type": "request"
         },
         {
          "queuelength": 904,
          "time": 194.25956938640124,
          "type": "release"
         },
         {
          "queuelength": 904,
          "time": 194.30376051535544,
          "type": "request"
         },
         {
          "queuelength": 905,
          "time": 194.32530306028076,
          "type": "request"
         },
         {
          "queuelength": 905,
          "time": 194.32739392244963,
          "type": "release"
         },
         {
          "queuelength": 904,
          "time": 194.38316241188457,
          "type": "release"
         },
         {
          "queuelength": 903,
          "time": 194.42178485762733,
          "type": "release"
         },
         {
          "queuelength": 903,
          "time": 194.43941377174207,
          "type": "release"
         },
         {
          "queuelength": 902,
          "time": 194.5582818167199,
          "type": "request"
         },
         {
          "queuelength": 903,
          "time": 194.55890805733216,
          "type": "request"
         },
         {
          "queuelength": 904,
          "time": 194.59568639711384,
          "type": "release"
         },
         {
          "queuelength": 902,
          "time": 194.66989086497406,
          "type": "release"
         },
         {
          "queuelength": 901,
          "time": 194.67455914256283,
          "type": "release"
         },
         {
          "queuelength": 901,
          "time": 195.2230888272395,
          "type": "request"
         },
         {
          "queuelength": 901,
          "time": 195.26461999438925,
          "type": "release"
         },
         {
          "queuelength": 901,
          "time": 195.31476796704533,
          "type": "request"
         },
         {
          "queuelength": 902,
          "time": 195.31908509889016,
          "type": "release"
         }
        ]
       },
       "encoding": {
        "x": {
         "bin": true,
         "field": "time",
         "type": "quantitative"
        },
        "y": {
         "aggregate": "count",
         "type": "quantitative"
        }
       },
       "mark": "bar"
      },
      "image/png": "[encoded data removed]",
      "text/plain": [
       "<VegaLite 2 object>\n",
       "\n",
       "If you see this message, it means the renderer has not been properly enabled\n",
       "for the frontend that you are using. For more information, see\n",
       "https://altair-viz.github.io/user_guide/troubleshooting.html\n"
      ]
     },
     "execution_count": 27,
     "metadata": {},
     "output_type": "execute_result"
    }
   ],
   "source": [
    "import altair as alt\n",
    "from vega_datasets import data\n",
    "\n",
    "data = space_mountain_events[space_mountain_events.queuelength> 900]\n",
    "\n",
    "alt.Chart(data).mark_bar().encode(\n",
    "    alt.X(\"time:Q\", bin=True),\n",
    "    y='count()',\n",
    ")"
   ]
  },
  {
   "cell_type": "code",
   "execution_count": 33,
   "metadata": {},
   "outputs": [
    {
     "data": {
      "application/vnd.vegalite.v2+json": {
       "$schema": "https://vega.github.io/schema/vega-lite/v2.4.3.json",
       "config": {
        "view": {
         "height": 300,
         "width": 400
        }
       },
       "data": {
        "values": [
         {
          "queuelength": 901,
          "time": 57.77076881743748,
          "type": "request"
         },
         {
          "queuelength": 902,
          "time": 57.77076881743748,
          "type": "request"
         },
         {
          "queuelength": 903,
          "time": 57.77076881743748,
          "type": "request"
         },
         {
          "queuelength": 904,
          "time": 57.77076881743748,
          "type": "request"
         },
         {
          "queuelength": 905,
          "time": 57.77076881743748,
          "type": "request"
         },
         {
          "queuelength": 906,
          "time": 57.77076881743748,
          "type": "request"
         },
         {
          "queuelength": 907,
          "time": 57.845800135889796,
          "type": "release"
         },
         {
          "queuelength": 906,
          "time": 57.93876179342367,
          "type": "release"
         },
         {
          "queuelength": 905,
          "time": 57.94351713835418,
          "type": "request"
         },
         {
          "queuelength": 906,
          "time": 57.94351713835418,
          "type": "request"
         },
         {
          "queuelength": 907,
          "time": 57.94351713835418,
          "type": "request"
         },
         {
          "queuelength": 908,
          "time": 57.94351713835418,
          "type": "request"
         },
         {
          "queuelength": 909,
          "time": 57.94351713835418,
          "type": "request"
         },
         {
          "queuelength": 910,
          "time": 57.94351713835418,
          "type": "request"
         },
         {
          "queuelength": 911,
          "time": 58.049995983727555,
          "type": "request"
         },
         {
          "queuelength": 912,
          "time": 58.10461251940281,
          "type": "request"
         },
         {
          "queuelength": 913,
          "time": 58.122188259699655,
          "type": "request"
         },
         {
          "queuelength": 914,
          "time": 58.122188259699655,
          "type": "request"
         },
         {
          "queuelength": 915,
          "time": 58.122188259699655,
          "type": "request"
         },
         {
          "queuelength": 916,
          "time": 58.122188259699655,
          "type": "request"
         },
         {
          "queuelength": 917,
          "time": 58.159968363752824,
          "type": "release"
         },
         {
          "queuelength": 916,
          "time": 58.19364456784774,
          "type": "release"
         },
         {
          "queuelength": 915,
          "time": 58.315607076295535,
          "type": "request"
         },
         {
          "queuelength": 916,
          "time": 58.326053340573964,
          "type": "request"
         },
         {
          "queuelength": 917,
          "time": 58.34505684918439,
          "type": "request"
         },
         {
          "queuelength": 918,
          "time": 58.34505684918439,
          "type": "request"
         },
         {
          "queuelength": 919,
          "time": 58.34505684918439,
          "type": "request"
         },
         {
          "queuelength": 920,
          "time": 58.34505684918439,
          "type": "request"
         },
         {
          "queuelength": 921,
          "time": 58.34505684918439,
          "type": "request"
         },
         {
          "queuelength": 922,
          "time": 58.420036880142305,
          "type": "release"
         },
         {
          "queuelength": 921,
          "time": 58.453193958600494,
          "type": "release"
         },
         {
          "queuelength": 920,
          "time": 58.45777617834453,
          "type": "release"
         },
         {
          "queuelength": 919,
          "time": 58.46785237133039,
          "type": "release"
         },
         {
          "queuelength": 918,
          "time": 58.51601130316493,
          "type": "release"
         },
         {
          "queuelength": 917,
          "time": 58.532597927107,
          "type": "request"
         },
         {
          "queuelength": 918,
          "time": 58.532597927107,
          "type": "request"
         },
         {
          "queuelength": 919,
          "time": 58.56387210531814,
          "type": "release"
         },
         {
          "queuelength": 918,
          "time": 58.57581426609188,
          "type": "request"
         },
         {
          "queuelength": 919,
          "time": 58.674556942722546,
          "type": "request"
         },
         {
          "queuelength": 920,
          "time": 58.68143926609188,
          "type": "request"
         },
         {
          "queuelength": 921,
          "time": 58.68143926609188,
          "type": "request"
         },
         {
          "queuelength": 922,
          "time": 58.68143926609188,
          "type": "request"
         },
         {
          "queuelength": 923,
          "time": 58.68143926609188,
          "type": "request"
         },
         {
          "queuelength": 924,
          "time": 58.7572136125565,
          "type": "request"
         },
         {
          "queuelength": 925,
          "time": 58.788552567670244,
          "type": "request"
         },
         {
          "queuelength": 926,
          "time": 58.788552567670244,
          "type": "request"
         },
         {
          "queuelength": 927,
          "time": 58.788552567670244,
          "type": "request"
         },
         {
          "queuelength": 928,
          "time": 58.788552567670244,
          "type": "request"
         },
         {
          "queuelength": 929,
          "time": 58.788552567670244,
          "type": "request"
         },
         {
          "queuelength": 930,
          "time": 58.788552567670244,
          "type": "request"
         },
         {
          "queuelength": 931,
          "time": 58.788552567670244,
          "type": "request"
         },
         {
          "queuelength": 932,
          "time": 58.788552567670244,
          "type": "request"
         },
         {
          "queuelength": 933,
          "time": 58.880496383107804,
          "type": "request"
         },
         {
          "queuelength": 934,
          "time": 58.88950956936628,
          "type": "request"
         },
         {
          "queuelength": 935,
          "time": 58.94575301204655,
          "type": "request"
         },
         {
          "queuelength": 936,
          "time": 58.9808652803295,
          "type": "release"
         },
         {
          "queuelength": 935,
          "time": 59.051378012046555,
          "type": "request"
         },
         {
          "queuelength": 936,
          "time": 59.051378012046555,
          "type": "request"
         },
         {
          "queuelength": 937,
          "time": 59.051378012046555,
          "type": "request"
         },
         {
          "queuelength": 938,
          "time": 59.051378012046555,
          "type": "request"
         },
         {
          "queuelength": 939,
          "time": 59.051378012046555,
          "type": "request"
         },
         {
          "queuelength": 940,
          "time": 59.051378012046555,
          "type": "request"
         },
         {
          "queuelength": 941,
          "time": 59.051378012046555,
          "type": "request"
         },
         {
          "queuelength": 942,
          "time": 59.061848869819244,
          "type": "request"
         },
         {
          "queuelength": 943,
          "time": 59.079337148795936,
          "type": "release"
         },
         {
          "queuelength": 942,
          "time": 59.11444119550319,
          "type": "release"
         },
         {
          "queuelength": 941,
          "time": 59.16747386981925,
          "type": "request"
         },
         {
          "queuelength": 942,
          "time": 59.16747386981925,
          "type": "request"
         },
         {
          "queuelength": 943,
          "time": 59.16747386981925,
          "type": "request"
         },
         {
          "queuelength": 944,
          "time": 59.16747386981925,
          "type": "request"
         },
         {
          "queuelength": 945,
          "time": 59.16747386981925,
          "type": "request"
         },
         {
          "queuelength": 946,
          "time": 59.16747386981925,
          "type": "request"
         },
         {
          "queuelength": 947,
          "time": 59.16747386981925,
          "type": "request"
         },
         {
          "queuelength": 948,
          "time": 59.16747386981925,
          "type": "request"
         },
         {
          "queuelength": 949,
          "time": 59.16747386981925,
          "type": "request"
         },
         {
          "queuelength": 950,
          "time": 59.16747386981925,
          "type": "request"
         },
         {
          "queuelength": 951,
          "time": 59.20387417990447,
          "type": "request"
         },
         {
          "queuelength": 952,
          "time": 59.25873872211373,
          "type": "request"
         },
         {
          "queuelength": 953,
          "time": 59.27770066661989,
          "type": "request"
         },
         {
          "queuelength": 954,
          "time": 59.29453352104166,
          "type": "release"
         },
         {
          "queuelength": 953,
          "time": 59.351653328740774,
          "type": "request"
         },
         {
          "queuelength": 954,
          "time": 59.351653328740774,
          "type": "request"
         },
         {
          "queuelength": 955,
          "time": 59.36885263655538,
          "type": "request"
         },
         {
          "queuelength": 956,
          "time": 59.4328485687486,
          "type": "request"
         },
         {
          "queuelength": 957,
          "time": 59.43652140738111,
          "type": "request"
         },
         {
          "queuelength": 958,
          "time": 59.448655645627134,
          "type": "release"
         },
         {
          "queuelength": 957,
          "time": 59.54783105955384,
          "type": "request"
         },
         {
          "queuelength": 958,
          "time": 59.54783105955384,
          "type": "request"
         },
         {
          "queuelength": 959,
          "time": 59.54783105955384,
          "type": "request"
         },
         {
          "queuelength": 960,
          "time": 59.54783105955384,
          "type": "request"
         },
         {
          "queuelength": 961,
          "time": 59.54783105955384,
          "type": "request"
         },
         {
          "queuelength": 962,
          "time": 59.54783105955384,
          "type": "request"
         },
         {
          "queuelength": 963,
          "time": 59.54783105955384,
          "type": "request"
         },
         {
          "queuelength": 964,
          "time": 59.55470964838949,
          "type": "request"
         },
         {
          "queuelength": 965,
          "time": 59.58689750636266,
          "type": "release"
         },
         {
          "queuelength": 964,
          "time": 59.61785816257791,
          "type": "release"
         },
         {
          "queuelength": 963,
          "time": 59.639729550463144,
          "type": "request"
         },
         {
          "queuelength": 964,
          "time": 59.64861389564102,
          "type": "request"
         },
         {
          "queuelength": 965,
          "time": 59.64861389564102,
          "type": "request"
         },
         {
          "queuelength": 966,
          "time": 59.64861389564102,
          "type": "request"
         },
         {
          "queuelength": 967,
          "time": 59.64861389564102,
          "type": "request"
         },
         {
          "queuelength": 968,
          "time": 59.66389667742789,
          "type": "release"
         },
         {
          "queuelength": 967,
          "time": 59.80545152594702,
          "type": "request"
         },
         {
          "queuelength": 968,
          "time": 59.80545152594702,
          "type": "request"
         },
         {
          "queuelength": 969,
          "time": 59.80545152594702,
          "type": "request"
         },
         {
          "queuelength": 970,
          "time": 59.80545152594702,
          "type": "request"
         },
         {
          "queuelength": 971,
          "time": 59.80545152594702,
          "type": "request"
         },
         {
          "queuelength": 972,
          "time": 59.80545152594702,
          "type": "request"
         },
         {
          "queuelength": 973,
          "time": 59.80545152594702,
          "type": "request"
         },
         {
          "queuelength": 974,
          "time": 59.84220124035231,
          "type": "release"
         },
         {
          "queuelength": 973,
          "time": 59.93123960585837,
          "type": "request"
         },
         {
          "queuelength": 974,
          "time": 59.93517498605833,
          "type": "request"
         },
         {
          "queuelength": 975,
          "time": 60.007530635615716,
          "type": "request"
         },
         {
          "queuelength": 976,
          "time": 60.03686460585837,
          "type": "request"
         },
         {
          "queuelength": 977,
          "time": 60.03686460585837,
          "type": "request"
         },
         {
          "queuelength": 978,
          "time": 60.03686460585837,
          "type": "request"
         },
         {
          "queuelength": 979,
          "time": 60.03686460585837,
          "type": "request"
         },
         {
          "queuelength": 980,
          "time": 60.05656290241055,
          "type": "release"
         },
         {
          "queuelength": 979,
          "time": 60.0593479154537,
          "type": "release"
         },
         {
          "queuelength": 978,
          "time": 60.13532268996762,
          "type": "release"
         },
         {
          "queuelength": 977,
          "time": 60.15816143219956,
          "type": "release"
         },
         {
          "queuelength": 976,
          "time": 60.23442072590569,
          "type": "request"
         },
         {
          "queuelength": 977,
          "time": 60.23442072590569,
          "type": "request"
         },
         {
          "queuelength": 978,
          "time": 60.23442072590569,
          "type": "request"
         },
         {
          "queuelength": 979,
          "time": 60.23442072590569,
          "type": "request"
         },
         {
          "queuelength": 980,
          "time": 60.423652179686755,
          "type": "release"
         },
         {
          "queuelength": 979,
          "time": 60.449753925132754,
          "type": "request"
         },
         {
          "queuelength": 980,
          "time": 60.449753925132754,
          "type": "request"
         },
         {
          "queuelength": 981,
          "time": 60.449753925132754,
          "type": "request"
         },
         {
          "queuelength": 982,
          "time": 60.488004147674395,
          "type": "request"
         },
         {
          "queuelength": 983,
          "time": 60.62801205362775,
          "type": "release"
         },
         {
          "queuelength": 982,
          "time": 60.66155559616268,
          "type": "request"
         },
         {
          "queuelength": 983,
          "time": 60.66374023056447,
          "type": "request"
         },
         {
          "queuelength": 984,
          "time": 60.67383789057062,
          "type": "release"
         },
         {
          "queuelength": 983,
          "time": 60.6832119463534,
          "type": "release"
         },
         {
          "queuelength": 982,
          "time": 60.68592787620808,
          "type": "request"
         },
         {
          "queuelength": 983,
          "time": 60.68592787620808,
          "type": "request"
         },
         {
          "queuelength": 984,
          "time": 60.68592787620808,
          "type": "request"
         },
         {
          "queuelength": 985,
          "time": 60.68592787620808,
          "type": "request"
         },
         {
          "queuelength": 986,
          "time": 60.68592787620808,
          "type": "request"
         },
         {
          "queuelength": 987,
          "time": 60.68592787620808,
          "type": "request"
         },
         {
          "queuelength": 988,
          "time": 60.68592787620808,
          "type": "request"
         },
         {
          "queuelength": 989,
          "time": 60.68592787620808,
          "type": "request"
         },
         {
          "queuelength": 990,
          "time": 60.68592787620808,
          "type": "request"
         },
         {
          "queuelength": 991,
          "time": 60.74595036463745,
          "type": "request"
         },
         {
          "queuelength": 992,
          "time": 60.77270121596621,
          "type": "request"
         },
         {
          "queuelength": 993,
          "time": 60.848875656988504,
          "type": "request"
         },
         {
          "queuelength": 994,
          "time": 60.9545006569885,
          "type": "request"
         },
         {
          "queuelength": 995,
          "time": 61.04143876919801,
          "type": "release"
         },
         {
          "queuelength": 994,
          "time": 61.06019807209661,
          "type": "release"
         },
         {
          "queuelength": 993,
          "time": 61.09516226244555,
          "type": "release"
         },
         {
          "queuelength": 992,
          "time": 61.101227275740186,
          "type": "request"
         },
         {
          "queuelength": 993,
          "time": 61.151175019402814,
          "type": "request"
         },
         {
          "queuelength": 994,
          "time": 61.151175019402814,
          "type": "request"
         },
         {
          "queuelength": 995,
          "time": 61.151175019402814,
          "type": "request"
         },
         {
          "queuelength": 996,
          "time": 61.151175019402814,
          "type": "request"
         },
         {
          "queuelength": 997,
          "time": 61.151175019402814,
          "type": "request"
         },
         {
          "queuelength": 998,
          "time": 61.151175019402814,
          "type": "request"
         },
         {
          "queuelength": 999,
          "time": 61.159219170313065,
          "type": "request"
         },
         {
          "queuelength": 1000,
          "time": 61.271183701863386,
          "type": "request"
         },
         {
          "queuelength": 1001,
          "time": 61.37261584057397,
          "type": "request"
         },
         {
          "queuelength": 1002,
          "time": 61.37261584057397,
          "type": "request"
         },
         {
          "queuelength": 1003,
          "time": 61.41597616918665,
          "type": "release"
         },
         {
          "queuelength": 1002,
          "time": 61.53258128056386,
          "type": "request"
         },
         {
          "queuelength": 1003,
          "time": 61.53258128056386,
          "type": "request"
         },
         {
          "queuelength": 1004,
          "time": 61.53258128056386,
          "type": "request"
         },
         {
          "queuelength": 1005,
          "time": 61.53258128056386,
          "type": "request"
         },
         {
          "queuelength": 1006,
          "time": 61.53258128056386,
          "type": "request"
         },
         {
          "queuelength": 1007,
          "time": 61.53354064917964,
          "type": "release"
         },
         {
          "queuelength": 1006,
          "time": 61.58973545642516,
          "type": "request"
         },
         {
          "queuelength": 1007,
          "time": 61.67466739562964,
          "type": "request"
         },
         {
          "queuelength": 1008,
          "time": 61.721119442722554,
          "type": "request"
         },
         {
          "queuelength": 1009,
          "time": 61.721119442722554,
          "type": "request"
         },
         {
          "queuelength": 1010,
          "time": 61.721119442722554,
          "type": "request"
         },
         {
          "queuelength": 1011,
          "time": 61.721119442722554,
          "type": "request"
         },
         {
          "queuelength": 1012,
          "time": 61.78065657898698,
          "type": "release"
         },
         {
          "queuelength": 1011,
          "time": 61.80236196737309,
          "type": "request"
         },
         {
          "queuelength": 1012,
          "time": 61.84023617185777,
          "type": "request"
         },
         {
          "queuelength": 1013,
          "time": 61.849461254759646,
          "type": "request"
         },
         {
          "queuelength": 1014,
          "time": 61.849461254759646,
          "type": "request"
         },
         {
          "queuelength": 1015,
          "time": 61.849461254759646,
          "type": "request"
         },
         {
          "queuelength": 1016,
          "time": 61.849461254759646,
          "type": "request"
         },
         {
          "queuelength": 1017,
          "time": 61.849461254759646,
          "type": "request"
         },
         {
          "queuelength": 1018,
          "time": 61.916565622566566,
          "type": "release"
         },
         {
          "queuelength": 1017,
          "time": 62.02504168372029,
          "type": "release"
         },
         {
          "queuelength": 1016,
          "time": 62.04544642737341,
          "type": "release"
         },
         {
          "queuelength": 1015,
          "time": 62.07954443874661,
          "type": "request"
         },
         {
          "queuelength": 1016,
          "time": 62.07954443874661,
          "type": "request"
         },
         {
          "queuelength": 1017,
          "time": 62.08819593885383,
          "type": "release"
         },
         {
          "queuelength": 1016,
          "time": 62.10711700143425,
          "type": "request"
         },
         {
          "queuelength": 1017,
          "time": 62.14191301267605,
          "type": "release"
         },
         {
          "queuelength": 1016,
          "time": 62.20847027280444,
          "type": "release"
         },
         {
          "queuelength": 1015,
          "time": 62.22407238689525,
          "type": "release"
         },
         {
          "queuelength": 1014,
          "time": 62.30530122211373,
          "type": "request"
         },
         {
          "queuelength": 1015,
          "time": 62.30530122211373,
          "type": "request"
         },
         {
          "queuelength": 1016,
          "time": 62.30530122211373,
          "type": "request"
         },
         {
          "queuelength": 1017,
          "time": 62.30530122211373,
          "type": "request"
         },
         {
          "queuelength": 1018,
          "time": 62.30530122211373,
          "type": "request"
         },
         {
          "queuelength": 1019,
          "time": 62.30530122211373,
          "type": "request"
         },
         {
          "queuelength": 1020,
          "time": 62.36246196485995,
          "type": "release"
         },
         {
          "queuelength": 1019,
          "time": 62.37745890738111,
          "type": "request"
         },
         {
          "queuelength": 1020,
          "time": 62.38344894866492,
          "type": "release"
         },
         {
          "queuelength": 1019,
          "time": 62.40422676261963,
          "type": "release"
         },
         {
          "queuelength": 1018,
          "time": 62.483083907381115,
          "type": "request"
         },
         {
          "queuelength": 1019,
          "time": 62.483083907381115,
          "type": "request"
         },
         {
          "queuelength": 1020,
          "time": 62.483083907381115,
          "type": "request"
         },
         {
          "queuelength": 1021,
          "time": 62.483083907381115,
          "type": "request"
         },
         {
          "queuelength": 1022,
          "time": 62.483083907381115,
          "type": "request"
         },
         {
          "queuelength": 1023,
          "time": 62.483083907381115,
          "type": "request"
         },
         {
          "queuelength": 1024,
          "time": 62.483083907381115,
          "type": "request"
         },
         {
          "queuelength": 1025,
          "time": 62.57164805822559,
          "type": "request"
         },
         {
          "queuelength": 1026,
          "time": 62.64570917362062,
          "type": "request"
         },
         {
          "queuelength": 1027,
          "time": 62.64570917362062,
          "type": "request"
         },
         {
          "queuelength": 1028,
          "time": 62.64570917362062,
          "type": "request"
         },
         {
          "queuelength": 1029,
          "time": 62.77739524703232,
          "type": "release"
         },
         {
          "queuelength": 1028,
          "time": 62.848269375835145,
          "type": "request"
         },
         {
          "queuelength": 1029,
          "time": 62.848269375835145,
          "type": "request"
         },
         {
          "queuelength": 1030,
          "time": 62.848269375835145,
          "type": "request"
         },
         {
          "queuelength": 1031,
          "time": 62.848269375835145,
          "type": "request"
         },
         {
          "queuelength": 1032,
          "time": 62.848269375835145,
          "type": "request"
         },
         {
          "queuelength": 1033,
          "time": 62.848269375835145,
          "type": "request"
         },
         {
          "queuelength": 1034,
          "time": 62.848269375835145,
          "type": "request"
         },
         {
          "queuelength": 1035,
          "time": 62.84934082874077,
          "type": "request"
         },
         {
          "queuelength": 1036,
          "time": 62.90394953333525,
          "type": "request"
         },
         {
          "queuelength": 1037,
          "time": 62.91841877229871,
          "type": "release"
         },
         {
          "queuelength": 1036,
          "time": 62.92948238771077,
          "type": "request"
         },
         {
          "queuelength": 1037,
          "time": 62.94599476058722,
          "type": "release"
         },
         {
          "queuelength": 1036,
          "time": 62.96527059285626,
          "type": "request"
         },
         {
          "queuelength": 1037,
          "time": 63.02128631013274,
          "type": "request"
         },
         {
          "queuelength": 1038,
          "time": 63.02128631013274,
          "type": "request"
         },
         {
          "queuelength": 1039,
          "time": 63.02128631013274,
          "type": "request"
         },
         {
          "queuelength": 1040,
          "time": 63.02128631013274,
          "type": "request"
         },
         {
          "queuelength": 1041,
          "time": 63.02128631013274,
          "type": "request"
         },
         {
          "queuelength": 1042,
          "time": 63.02128631013274,
          "type": "request"
         },
         {
          "queuelength": 1043,
          "time": 63.02128631013274,
          "type": "request"
         },
         {
          "queuelength": 1044,
          "time": 63.02128631013274,
          "type": "request"
         },
         {
          "queuelength": 1045,
          "time": 63.02128631013274,
          "type": "request"
         },
         {
          "queuelength": 1046,
          "time": 63.02128631013274,
          "type": "request"
         },
         {
          "queuelength": 1047,
          "time": 63.02128631013274,
          "type": "request"
         },
         {
          "queuelength": 1048,
          "time": 63.05487462557383,
          "type": "request"
         },
         {
          "queuelength": 1049,
          "time": 63.06000125902005,
          "type": "release"
         },
         {
          "queuelength": 1048,
          "time": 63.062307626748314,
          "type": "release"
         },
         {
          "queuelength": 1047,
          "time": 63.109828976579145,
          "type": "release"
         },
         {
          "queuelength": 1046,
          "time": 63.11034281029981,
          "type": "request"
         },
         {
          "queuelength": 1047,
          "time": 63.11034281029981,
          "type": "request"
         },
         {
          "queuelength": 1048,
          "time": 63.11034281029981,
          "type": "request"
         },
         {
          "queuelength": 1049,
          "time": 63.16337028755832,
          "type": "request"
         },
         {
          "queuelength": 1050,
          "time": 63.25967239019016,
          "type": "request"
         },
         {
          "queuelength": 1051,
          "time": 63.25967239019016,
          "type": "request"
         },
         {
          "queuelength": 1052,
          "time": 63.25967239019016,
          "type": "request"
         },
         {
          "queuelength": 1053,
          "time": 63.25967239019016,
          "type": "request"
         },
         {
          "queuelength": 1054,
          "time": 63.25967239019016,
          "type": "request"
         },
         {
          "queuelength": 1055,
          "time": 63.25967239019016,
          "type": "request"
         },
         {
          "queuelength": 1056,
          "time": 63.25967239019016,
          "type": "request"
         },
         {
          "queuelength": 1057,
          "time": 63.25967239019016,
          "type": "request"
         },
         {
          "queuelength": 1058,
          "time": 63.25967239019016,
          "type": "request"
         },
         {
          "queuelength": 1059,
          "time": 63.25967239019016,
          "type": "request"
         },
         {
          "queuelength": 1060,
          "time": 63.3427702427183,
          "type": "release"
         },
         {
          "queuelength": 1059,
          "time": 63.40884952141066,
          "type": "request"
         },
         {
          "queuelength": 1060,
          "time": 63.416952494900855,
          "type": "request"
         },
         {
          "queuelength": 1061,
          "time": 63.416952494900855,
          "type": "request"
         },
         {
          "queuelength": 1062,
          "time": 63.416952494900855,
          "type": "request"
         },
         {
          "queuelength": 1063,
          "time": 63.416952494900855,
          "type": "request"
         },
         {
          "queuelength": 1064,
          "time": 63.416952494900855,
          "type": "request"
         },
         {
          "queuelength": 1065,
          "time": 63.42189679648082,
          "type": "request"
         },
         {
          "queuelength": 1066,
          "time": 63.464945294313154,
          "type": "request"
         },
         {
          "queuelength": 1067,
          "time": 63.57057029431316,
          "type": "request"
         },
         {
          "queuelength": 1068,
          "time": 63.57057029431316,
          "type": "request"
         },
         {
          "queuelength": 1069,
          "time": 63.57057029431316,
          "type": "request"
         },
         {
          "queuelength": 1070,
          "time": 63.57057029431316,
          "type": "request"
         },
         {
          "queuelength": 1071,
          "time": 63.57057029431316,
          "type": "request"
         },
         {
          "queuelength": 1072,
          "time": 63.57057029431316,
          "type": "request"
         },
         {
          "queuelength": 1073,
          "time": 63.67649306994763,
          "type": "release"
         },
         {
          "queuelength": 1072,
          "time": 63.71500052344698,
          "type": "release"
         },
         {
          "queuelength": 1071,
          "time": 63.76108825150605,
          "type": "release"
         },
         {
          "queuelength": 1070,
          "time": 63.76518823420415,
          "type": "request"
         },
         {
          "queuelength": 1071,
          "time": 63.80539511736565,
          "type": "release"
         },
         {
          "queuelength": 1070,
          "time": 63.824666334418794,
          "type": "request"
         },
         {
          "queuelength": 1071,
          "time": 63.824666334418794,
          "type": "request"
         },
         {
          "queuelength": 1072,
          "time": 63.824666334418794,
          "type": "request"
         },
         {
          "queuelength": 1073,
          "time": 63.824666334418794,
          "type": "request"
         },
         {
          "queuelength": 1074,
          "time": 63.824666334418794,
          "type": "request"
         },
         {
          "queuelength": 1075,
          "time": 63.850171065450596,
          "type": "request"
         },
         {
          "queuelength": 1076,
          "time": 63.87643637714109,
          "type": "request"
         },
         {
          "queuelength": 1077,
          "time": 63.88016557819242,
          "type": "release"
         },
         {
          "queuelength": 1076,
          "time": 63.94744142513275,
          "type": "request"
         },
         {
          "queuelength": 1077,
          "time": 63.99410852502665,
          "type": "request"
         },
         {
          "queuelength": 1078,
          "time": 63.99410852502665,
          "type": "request"
         },
         {
          "queuelength": 1079,
          "time": 63.99410852502665,
          "type": "request"
         },
         {
          "queuelength": 1080,
          "time": 63.99410852502665,
          "type": "request"
         },
         {
          "queuelength": 1081,
          "time": 63.99410852502665,
          "type": "request"
         },
         {
          "queuelength": 1082,
          "time": 63.99410852502665,
          "type": "request"
         },
         {
          "queuelength": 1083,
          "time": 63.99410852502665,
          "type": "request"
         },
         {
          "queuelength": 1084,
          "time": 63.99867303871793,
          "type": "request"
         },
         {
          "queuelength": 1085,
          "time": 64.11100063552885,
          "type": "release"
         },
         {
          "queuelength": 1084,
          "time": 64.1346593730314,
          "type": "request"
         },
         {
          "queuelength": 1085,
          "time": 64.1346593730314,
          "type": "request"
         },
         {
          "queuelength": 1086,
          "time": 64.1346593730314,
          "type": "request"
         },
         {
          "queuelength": 1087,
          "time": 64.1346593730314,
          "type": "request"
         },
         {
          "queuelength": 1088,
          "time": 64.2522721237342,
          "type": "request"
         },
         {
          "queuelength": 1089,
          "time": 64.2812925170784,
          "type": "request"
         },
         {
          "queuelength": 1090,
          "time": 64.2849027899095,
          "type": "release"
         },
         {
          "queuelength": 1089,
          "time": 64.29670028474145,
          "type": "request"
         },
         {
          "queuelength": 1090,
          "time": 64.32214157299657,
          "type": "request"
         },
         {
          "queuelength": 1091,
          "time": 64.32214157299657,
          "type": "request"
         },
         {
          "queuelength": 1092,
          "time": 64.32214157299657,
          "type": "request"
         },
         {
          "queuelength": 1093,
          "time": 64.32214157299657,
          "type": "request"
         },
         {
          "queuelength": 1094,
          "time": 64.32214157299657,
          "type": "request"
         },
         {
          "queuelength": 1095,
          "time": 64.32214157299657,
          "type": "request"
         },
         {
          "queuelength": 1096,
          "time": 64.32371515232853,
          "type": "request"
         },
         {
          "queuelength": 1097,
          "time": 64.41780678308214,
          "type": "release"
         },
         {
          "queuelength": 1096,
          "time": 64.4710831933033,
          "type": "release"
         },
         {
          "queuelength": 1095,
          "time": 64.47985807952784,
          "type": "release"
         },
         {
          "queuelength": 1094,
          "time": 64.52999099792288,
          "type": "request"
         },
         {
          "queuelength": 1095,
          "time": 64.52999099792288,
          "type": "request"
         },
         {
          "queuelength": 1096,
          "time": 64.55978377489215,
          "type": "request"
         },
         {
          "queuelength": 1097,
          "time": 64.56484085212779,
          "type": "release"
         },
         {
          "queuelength": 1096,
          "time": 64.59073866672962,
          "type": "release"
         },
         {
          "queuelength": 1095,
          "time": 64.59512073695484,
          "type": "release"
         },
         {
          "queuelength": 1094,
          "time": 64.66241845183167,
          "type": "release"
         },
         {
          "queuelength": 1093,
          "time": 64.705210150744,
          "type": "release"
         },
         {
          "queuelength": 1092,
          "time": 64.72122989562963,
          "type": "request"
         },
         {
          "queuelength": 1093,
          "time": 64.72122989562963,
          "type": "request"
         },
         {
          "queuelength": 1094,
          "time": 64.72122989562963,
          "type": "request"
         },
         {
          "queuelength": 1095,
          "time": 64.72122989562963,
          "type": "request"
         },
         {
          "queuelength": 1096,
          "time": 64.72122989562963,
          "type": "request"
         },
         {
          "queuelength": 1097,
          "time": 64.72122989562963,
          "type": "request"
         },
         {
          "queuelength": 1098,
          "time": 64.72122989562963,
          "type": "request"
         },
         {
          "queuelength": 1099,
          "time": 64.72122989562963,
          "type": "request"
         },
         {
          "queuelength": 1100,
          "time": 64.77838064510117,
          "type": "request"
         },
         {
          "queuelength": 1101,
          "time": 64.88679867185776,
          "type": "request"
         },
         {
          "queuelength": 1102,
          "time": 64.88679867185776,
          "type": "request"
         },
         {
          "queuelength": 1103,
          "time": 64.9014060670518,
          "type": "release"
         },
         {
          "queuelength": 1102,
          "time": 64.91249013854015,
          "type": "request"
         },
         {
          "queuelength": 1103,
          "time": 64.96884237123781,
          "type": "release"
         },
         {
          "queuelength": 1102,
          "time": 64.9890363918341,
          "type": "release"
         },
         {
          "queuelength": 1101,
          "time": 65.08322495768785,
          "type": "release"
         },
         {
          "queuelength": 1100,
          "time": 65.08670383263326,
          "type": "request"
         },
         {
          "queuelength": 1101,
          "time": 65.08670383263326,
          "type": "request"
         },
         {
          "queuelength": 1102,
          "time": 65.08670383263326,
          "type": "request"
         },
         {
          "queuelength": 1103,
          "time": 65.08670383263326,
          "type": "request"
         },
         {
          "queuelength": 1104,
          "time": 65.08670383263326,
          "type": "request"
         },
         {
          "queuelength": 1105,
          "time": 65.08670383263326,
          "type": "request"
         },
         {
          "queuelength": 1106,
          "time": 65.08670383263326,
          "type": "request"
         },
         {
          "queuelength": 1107,
          "time": 65.08670383263326,
          "type": "request"
         },
         {
          "queuelength": 1108,
          "time": 65.08670383263326,
          "type": "request"
         },
         {
          "queuelength": 1109,
          "time": 65.10333424924741,
          "type": "release"
         },
         {
          "queuelength": 1108,
          "time": 65.14072780210063,
          "type": "release"
         },
         {
          "queuelength": 1107,
          "time": 65.3333760903507,
          "type": "request"
         },
         {
          "queuelength": 1108,
          "time": 65.3333760903507,
          "type": "request"
         },
         {
          "queuelength": 1109,
          "time": 65.3333760903507,
          "type": "request"
         },
         {
          "queuelength": 1110,
          "time": 65.3333760903507,
          "type": "request"
         },
         {
          "queuelength": 1111,
          "time": 65.3333760903507,
          "type": "request"
         },
         {
          "queuelength": 1112,
          "time": 65.3333760903507,
          "type": "request"
         },
         {
          "queuelength": 1113,
          "time": 65.35280092006644,
          "type": "release"
         },
         {
          "queuelength": 1112,
          "time": 65.36080834787674,
          "type": "request"
         },
         {
          "queuelength": 1113,
          "time": 65.52857447284677,
          "type": "release"
         },
         {
          "queuelength": 1112,
          "time": 65.55386199534097,
          "type": "request"
         },
         {
          "queuelength": 1113,
          "time": 65.55633276564011,
          "type": "request"
         },
         {
          "queuelength": 1114,
          "time": 65.55633276564011,
          "type": "request"
         },
         {
          "queuelength": 1115,
          "time": 65.55633276564011,
          "type": "request"
         },
         {
          "queuelength": 1116,
          "time": 65.55633276564011,
          "type": "request"
         },
         {
          "queuelength": 1117,
          "time": 65.55633276564011,
          "type": "request"
         },
         {
          "queuelength": 1118,
          "time": 65.55633276564011,
          "type": "request"
         },
         {
          "queuelength": 1119,
          "time": 65.55633276564011,
          "type": "request"
         },
         {
          "queuelength": 1120,
          "time": 65.55633276564011,
          "type": "request"
         },
         {
          "queuelength": 1121,
          "time": 65.55633276564011,
          "type": "request"
         },
         {
          "queuelength": 1122,
          "time": 65.56187623268177,
          "type": "release"
         },
         {
          "queuelength": 1121,
          "time": 65.58602513986119,
          "type": "release"
         },
         {
          "queuelength": 1120,
          "time": 65.694506508854,
          "type": "release"
         },
         {
          "queuelength": 1119,
          "time": 65.70477122807003,
          "type": "request"
         },
         {
          "queuelength": 1120,
          "time": 65.70477122807003,
          "type": "request"
         },
         {
          "queuelength": 1121,
          "time": 65.70477122807003,
          "type": "request"
         },
         {
          "queuelength": 1122,
          "time": 65.70477122807003,
          "type": "request"
         },
         {
          "queuelength": 1123,
          "time": 65.70477122807003,
          "type": "request"
         },
         {
          "queuelength": 1124,
          "time": 65.83465093674113,
          "type": "request"
         },
         {
          "queuelength": 1125,
          "time": 65.83989019839979,
          "type": "release"
         },
         {
          "queuelength": 1124,
          "time": 65.89921974692885,
          "type": "release"
         },
         {
          "queuelength": 1123,
          "time": 65.94027593674113,
          "type": "request"
         },
         {
          "queuelength": 1124,
          "time": 65.94027593674113,
          "type": "request"
         },
         {
          "queuelength": 1125,
          "time": 65.94027593674113,
          "type": "request"
         },
         {
          "queuelength": 1126,
          "time": 65.94027593674113,
          "type": "request"
         },
         {
          "queuelength": 1127,
          "time": 65.94027593674113,
          "type": "request"
         },
         {
          "queuelength": 1128,
          "time": 65.94027593674113,
          "type": "request"
         },
         {
          "queuelength": 1129,
          "time": 65.95697263182501,
          "type": "request"
         },
         {
          "queuelength": 1130,
          "time": 65.95777683139205,
          "type": "release"
         },
         {
          "queuelength": 1129,
          "time": 65.96552430495721,
          "type": "release"
         },
         {
          "queuelength": 1128,
          "time": 65.9903952064507,
          "type": "request"
         },
         {
          "queuelength": 1129,
          "time": 66.04152704742995,
          "type": "request"
         },
         {
          "queuelength": 1130,
          "time": 66.05062901228892,
          "type": "release"
         },
         {
          "queuelength": 1129,
          "time": 66.10143712557382,
          "type": "request"
         },
         {
          "queuelength": 1130,
          "time": 66.10143712557382,
          "type": "request"
         },
         {
          "queuelength": 1131,
          "time": 66.10143712557382,
          "type": "request"
         },
         {
          "queuelength": 1132,
          "time": 66.10143712557382,
          "type": "request"
         },
         {
          "queuelength": 1133,
          "time": 66.10143712557382,
          "type": "request"
         },
         {
          "queuelength": 1134,
          "time": 66.10143712557382,
          "type": "request"
         },
         {
          "queuelength": 1135,
          "time": 66.10143712557382,
          "type": "request"
         },
         {
          "queuelength": 1136,
          "time": 66.11592984362272,
          "type": "release"
         },
         {
          "queuelength": 1135,
          "time": 66.32763975651635,
          "type": "request"
         },
         {
          "queuelength": 1136,
          "time": 66.32763975651635,
          "type": "request"
         },
         {
          "queuelength": 1137,
          "time": 66.32763975651635,
          "type": "request"
         },
         {
          "queuelength": 1138,
          "time": 66.32763975651635,
          "type": "request"
         },
         {
          "queuelength": 1139,
          "time": 66.32763975651635,
          "type": "request"
         },
         {
          "queuelength": 1140,
          "time": 66.32763975651635,
          "type": "request"
         },
         {
          "queuelength": 1141,
          "time": 66.32763975651635,
          "type": "request"
         },
         {
          "queuelength": 1142,
          "time": 66.32763975651635,
          "type": "request"
         },
         {
          "queuelength": 1143,
          "time": 66.32763975651635,
          "type": "request"
         },
         {
          "queuelength": 1144,
          "time": 66.32763975651635,
          "type": "request"
         },
         {
          "queuelength": 1145,
          "time": 66.3826574277622,
          "type": "release"
         },
         {
          "queuelength": 1144,
          "time": 66.47106922730904,
          "type": "release"
         },
         {
          "queuelength": 1143,
          "time": 66.48330062182124,
          "type": "release"
         },
         {
          "queuelength": 1142,
          "time": 66.52195556322944,
          "type": "release"
         },
         {
          "queuelength": 1141,
          "time": 66.52282554330469,
          "type": "release"
         },
         {
          "queuelength": 1140,
          "time": 66.52790492953514,
          "type": "request"
         },
         {
          "queuelength": 1141,
          "time": 66.52790492953514,
          "type": "request"
         },
         {
          "queuelength": 1142,
          "time": 66.52790492953514,
          "type": "request"
         },
         {
          "queuelength": 1143,
          "time": 66.52790492953514,
          "type": "request"
         },
         {
          "queuelength": 1144,
          "time": 66.52790492953514,
          "type": "request"
         },
         {
          "queuelength": 1145,
          "time": 66.70891594720503,
          "type": "release"
         },
         {
          "queuelength": 1144,
          "time": 66.7301453823618,
          "type": "request"
         },
         {
          "queuelength": 1145,
          "time": 66.73431714776973,
          "type": "request"
         },
         {
          "queuelength": 1146,
          "time": 66.75928050755704,
          "type": "request"
         },
         {
          "queuelength": 1147,
          "time": 66.75928050755704,
          "type": "request"
         },
         {
          "queuelength": 1148,
          "time": 66.75928050755704,
          "type": "request"
         },
         {
          "queuelength": 1149,
          "time": 66.75928050755704,
          "type": "request"
         },
         {
          "queuelength": 1150,
          "time": 66.75928050755704,
          "type": "request"
         },
         {
          "queuelength": 1151,
          "time": 66.91463999490085,
          "type": "request"
         },
         {
          "queuelength": 1152,
          "time": 66.97927375393328,
          "type": "request"
         },
         {
          "queuelength": 1153,
          "time": 67.00351256332064,
          "type": "release"
         },
         {
          "queuelength": 1152,
          "time": 67.01670403135476,
          "type": "request"
         },
         {
          "queuelength": 1153,
          "time": 67.01670403135476,
          "type": "request"
         },
         {
          "queuelength": 1154,
          "time": 67.01670403135476,
          "type": "request"
         },
         {
          "queuelength": 1155,
          "time": 67.01670403135476,
          "type": "request"
         },
         {
          "queuelength": 1156,
          "time": 67.01670403135476,
          "type": "request"
         },
         {
          "queuelength": 1157,
          "time": 67.01670403135476,
          "type": "request"
         },
         {
          "queuelength": 1158,
          "time": 67.01670403135476,
          "type": "request"
         },
         {
          "queuelength": 1159,
          "time": 67.01670403135476,
          "type": "request"
         },
         {
          "queuelength": 1160,
          "time": 67.01670403135476,
          "type": "request"
         },
         {
          "queuelength": 1161,
          "time": 67.07709126910355,
          "type": "release"
         },
         {
          "queuelength": 1160,
          "time": 67.27236460585837,
          "type": "request"
         },
         {
          "queuelength": 1161,
          "time": 67.2773909029627,
          "type": "request"
         },
         {
          "queuelength": 1162,
          "time": 67.28507583443853,
          "type": "request"
         },
         {
          "queuelength": 1163,
          "time": 67.52964544678997,
          "type": "request"
         },
         {
          "queuelength": 1163,
          "time": 67.59685180819422,
          "type": "release"
         },
         {
          "queuelength": 1163,
          "time": 67.62280637874512,
          "type": "release"
         },
         {
          "queuelength": 1161,
          "time": 67.64050153647455,
          "type": "release"
         },
         {
          "queuelength": 1161,
          "time": 67.68525392513274,
          "type": "request"
         },
         {
          "queuelength": 1162,
          "time": 67.73989851512295,
          "type": "request"
         },
         {
          "queuelength": 1163,
          "time": 67.75735368940946,
          "type": "request"
         },
         {
          "queuelength": 1164,
          "time": 67.79645354353424,
          "type": "request"
         },
         {
          "queuelength": 1165,
          "time": 67.81465788320253,
          "type": "release"
         },
         {
          "queuelength": 1164,
          "time": 68.23101714453833,
          "type": "release"
         },
         {
          "queuelength": 1163,
          "time": 68.30209160945391,
          "type": "request"
         },
         {
          "queuelength": 1164,
          "time": 68.34230737324903,
          "type": "release"
         },
         {
          "queuelength": 1162,
          "time": 68.5299987123418,
          "type": "release"
         },
         {
          "queuelength": 1162,
          "time": 68.69049636186094,
          "type": "request"
         },
         {
          "queuelength": 1163,
          "time": 68.7321573060812,
          "type": "request"
         },
         {
          "queuelength": 1164,
          "time": 68.76597448747525,
          "type": "release"
         },
         {
          "queuelength": 1163,
          "time": 68.78363588817595,
          "type": "request"
         },
         {
          "queuelength": 1164,
          "time": 68.79849709798991,
          "type": "request"
         },
         {
          "queuelength": 1164,
          "time": 68.83098632830993,
          "type": "release"
         },
         {
          "queuelength": 1164,
          "time": 68.90607156748828,
          "type": "release"
         },
         {
          "queuelength": 1163,
          "time": 68.91068353009841,
          "type": "request"
         },
         {
          "queuelength": 1164,
          "time": 68.91068353009841,
          "type": "request"
         },
         {
          "queuelength": 1165,
          "time": 69.26709647477972,
          "type": "release"
         },
         {
          "queuelength": 1164,
          "time": 69.33007172705841,
          "type": "request"
         },
         {
          "queuelength": 1165,
          "time": 69.33114164396798,
          "type": "release"
         },
         {
          "queuelength": 1164,
          "time": 69.33808549661862,
          "type": "request"
         },
         {
          "queuelength": 1165,
          "time": 69.37486748118977,
          "type": "release"
         },
         {
          "queuelength": 1164,
          "time": 69.39572623981614,
          "type": "request"
         },
         {
          "queuelength": 1165,
          "time": 69.4176993028293,
          "type": "release"
         },
         {
          "queuelength": 1164,
          "time": 69.4368973579098,
          "type": "release"
         },
         {
          "queuelength": 1163,
          "time": 69.50575277611135,
          "type": "request"
         },
         {
          "queuelength": 1164,
          "time": 69.62263914304556,
          "type": "request"
         },
         {
          "queuelength": 1165,
          "time": 69.65200644574793,
          "type": "request"
         },
         {
          "queuelength": 1166,
          "time": 69.65909845301161,
          "type": "request"
         },
         {
          "queuelength": 1167,
          "time": 69.73052636038202,
          "type": "request"
         },
         {
          "queuelength": 1167,
          "time": 69.80878858613123,
          "type": "release"
         },
         {
          "queuelength": 1167,
          "time": 69.85658834973509,
          "type": "release"
         },
         {
          "queuelength": 1165,
          "time": 69.88251189991666,
          "type": "release"
         },
         {
          "queuelength": 1165,
          "time": 70.05671503745407,
          "type": "release"
         },
         {
          "queuelength": 1163,
          "time": 70.05988305905709,
          "type": "release"
         },
         {
          "queuelength": 1163,
          "time": 70.07511869931358,
          "type": "release"
         },
         {
          "queuelength": 1162,
          "time": 70.08009956286234,
          "type": "release"
         },
         {
          "queuelength": 1161,
          "time": 70.19113255164629,
          "type": "release"
         },
         {
          "queuelength": 1160,
          "time": 70.19952375393328,
          "type": "request"
         },
         {
          "queuelength": 1161,
          "time": 70.20926587514509,
          "type": "request"
         },
         {
          "queuelength": 1162,
          "time": 70.23561581947519,
          "type": "release"
         },
         {
          "queuelength": 1161,
          "time": 70.24047386981924,
          "type": "request"
         },
         {
          "queuelength": 1162,
          "time": 70.27693654888013,
          "type": "request"
         },
         {
          "queuelength": 1163,
          "time": 70.30772121224228,
          "type": "release"
         },
         {
          "queuelength": 1162,
          "time": 70.34584281029981,
          "type": "request"
         },
         {
          "queuelength": 1163,
          "time": 70.42631378371411,
          "type": "release"
         },
         {
          "queuelength": 1162,
          "time": 70.50817678917431,
          "type": "release"
         },
         {
          "queuelength": 1161,
          "time": 70.60838195548703,
          "type": "release"
         },
         {
          "queuelength": 1160,
          "time": 70.86072463386083,
          "type": "request"
         },
         {
          "queuelength": 1161,
          "time": 70.9028189147308,
          "type": "release"
         },
         {
          "queuelength": 1159,
          "time": 70.90864297530766,
          "type": "release"
         },
         {
          "queuelength": 1159,
          "time": 71.02390495974849,
          "type": "release"
         },
         {
          "queuelength": 1158,
          "time": 71.03112022912642,
          "type": "request"
         },
         {
          "queuelength": 1159,
          "time": 71.0674675862979,
          "type": "release"
         },
         {
          "queuelength": 1158,
          "time": 71.07037208093158,
          "type": "release"
         },
         {
          "queuelength": 1157,
          "time": 71.09015575182461,
          "type": "release"
         },
         {
          "queuelength": 1156,
          "time": 71.11194952198537,
          "type": "release"
         },
         {
          "queuelength": 1155,
          "time": 71.13311298776155,
          "type": "release"
         },
         {
          "queuelength": 1153,
          "time": 71.18747925760064,
          "type": "release"
         },
         {
          "queuelength": 1152,
          "time": 71.3163169781626,
          "type": "release"
         },
         {
          "queuelength": 1152,
          "time": 71.33933070056662,
          "type": "release"
         },
         {
          "queuelength": 1150,
          "time": 71.39090580432398,
          "type": "release"
         },
         {
          "queuelength": 1150,
          "time": 71.40721677550488,
          "type": "release"
         },
         {
          "queuelength": 1149,
          "time": 71.41049160958094,
          "type": "request"
         },
         {
          "queuelength": 1149,
          "time": 71.41357185699516,
          "type": "release"
         },
         {
          "queuelength": 1149,
          "time": 71.45838253159405,
          "type": "request"
         },
         {
          "queuelength": 1150,
          "time": 71.45981150072043,
          "type": "request"
         },
         {
          "queuelength": 1151,
          "time": 71.46049107654362,
          "type": "request"
         },
         {
          "queuelength": 1152,
          "time": 71.57222996863923,
          "type": "release"
         },
         {
          "queuelength": 1151,
          "time": 71.59001792249167,
          "type": "release"
         },
         {
          "queuelength": 1150,
          "time": 71.66307986989267,
          "type": "release"
         },
         {
          "queuelength": 1149,
          "time": 71.71004060108531,
          "type": "request"
         },
         {
          "queuelength": 1150,
          "time": 71.71004060108531,
          "type": "request"
         },
         {
          "queuelength": 1151,
          "time": 71.7219407063825,
          "type": "request"
         },
         {
          "queuelength": 1152,
          "time": 71.7310491749902,
          "type": "release"
         },
         {
          "queuelength": 1151,
          "time": 71.77559345741213,
          "type": "request"
         },
         {
          "queuelength": 1152,
          "time": 71.80320339612133,
          "type": "request"
         },
         {
          "queuelength": 1152,
          "time": 71.87857183052904,
          "type": "release"
         },
         {
          "queuelength": 1152,
          "time": 71.9468874443653,
          "type": "request"
         },
         {
          "queuelength": 1153,
          "time": 71.9568779851316,
          "type": "request"
         },
         {
          "queuelength": 1154,
          "time": 71.96848943800157,
          "type": "request"
         },
         {
          "queuelength": 1155,
          "time": 72.01308463885138,
          "type": "release"
         },
         {
          "queuelength": 1153,
          "time": 72.05169525404682,
          "type": "release"
         },
         {
          "queuelength": 1153,
          "time": 72.11915937937205,
          "type": "release"
         },
         {
          "queuelength": 1151,
          "time": 72.13195629592241,
          "type": "release"
         },
         {
          "queuelength": 1151,
          "time": 72.15212573420416,
          "type": "request"
         },
         {
          "queuelength": 1152,
          "time": 72.15952129035574,
          "type": "release"
         },
         {
          "queuelength": 1151,
          "time": 72.16362625482387,
          "type": "release"
         },
         {
          "queuelength": 1150,
          "time": 72.2317301061904,
          "type": "request"
         },
         {
          "queuelength": 1151,
          "time": 72.27580425274226,
          "type": "request"
         },
         {
          "queuelength": 1152,
          "time": 72.27611878174541,
          "type": "release"
         },
         {
          "queuelength": 1151,
          "time": 72.35459415507201,
          "type": "request"
         },
         {
          "queuelength": 1151,
          "time": 72.39958813005461,
          "type": "release"
         },
         {
          "queuelength": 1151,
          "time": 72.40637696580995,
          "type": "release"
         },
         {
          "queuelength": 1150,
          "time": 72.41840162721422,
          "type": "release"
         },
         {
          "queuelength": 1149,
          "time": 72.45088519042807,
          "type": "request"
         },
         {
          "queuelength": 1150,
          "time": 72.47883815499135,
          "type": "request"
         },
         {
          "queuelength": 1150,
          "time": 72.48607044948955,
          "type": "release"
         },
         {
          "queuelength": 1150,
          "time": 72.50745178214825,
          "type": "request"
         },
         {
          "queuelength": 1151,
          "time": 72.50745178214825,
          "type": "request"
         },
         {
          "queuelength": 1151,
          "time": 72.52623619393096,
          "type": "release"
         },
         {
          "queuelength": 1151,
          "time": 72.60558128056385,
          "type": "request"
         },
         {
          "queuelength": 1152,
          "time": 72.64339691725296,
          "type": "release"
         },
         {
          "queuelength": 1151,
          "time": 72.6982932141051,
          "type": "request"
         },
         {
          "queuelength": 1152,
          "time": 72.70066439058547,
          "type": "request"
         },
         {
          "queuelength": 1153,
          "time": 72.74462858986588,
          "type": "request"
         },
         {
          "queuelength": 1153,
          "time": 72.77157632716188,
          "type": "release"
         },
         {
          "queuelength": 1153,
          "time": 72.83244433424133,
          "type": "request"
         },
         {
          "queuelength": 1154,
          "time": 72.91822932767482,
          "type": "release"
         },
         {
          "queuelength": 1153,
          "time": 73.00927446135734,
          "type": "release"
         },
         {
          "queuelength": 1152,
          "time": 73.04612136574661,
          "type": "release"
         },
         {
          "queuelength": 1150,
          "time": 73.04622228308634,
          "type": "release"
         },
         {
          "queuelength": 1149,
          "time": 73.11214970039136,
          "type": "release"
         },
         {
          "queuelength": 1149,
          "time": 73.1242156380371,
          "type": "request"
         },
         {
          "queuelength": 1150,
          "time": 73.24808471870894,
          "type": "release"
         },
         {
          "queuelength": 1148,
          "time": 73.27245613368638,
          "type": "release"
         },
         {
          "queuelength": 1148,
          "time": 73.42185774297492,
          "type": "request"
         },
         {
          "queuelength": 1149,
          "time": 73.45151263800958,
          "type": "release"
         },
         {
          "queuelength": 1147,
          "time": 73.48442082554963,
          "type": "release"
         },
         {
          "queuelength": 1147,
          "time": 73.50712694128259,
          "type": "request"
         },
         {
          "queuelength": 1148,
          "time": 73.52259314190043,
          "type": "request"
         },
         {
          "queuelength": 1149,
          "time": 73.533514085028,
          "type": "request"
         },
         {
          "queuelength": 1149,
          "time": 73.7344633715468,
          "type": "release"
         },
         {
          "queuelength": 1148,
          "time": 73.73555649115282,
          "type": "release"
         },
         {
          "queuelength": 1148,
          "time": 73.82926696119684,
          "type": "release"
         },
         {
          "queuelength": 1147,
          "time": 73.87809290103877,
          "type": "release"
         },
         {
          "queuelength": 1146,
          "time": 73.88583628011443,
          "type": "release"
         },
         {
          "queuelength": 1145,
          "time": 73.92343184918438,
          "type": "request"
         },
         {
          "queuelength": 1146,
          "time": 74.02663440136729,
          "type": "request"
         },
         {
          "queuelength": 1147,
          "time": 74.02757609086377,
          "type": "request"
         },
         {
          "queuelength": 1148,
          "time": 74.04649614510097,
          "type": "request"
         },
         {
          "queuelength": 1149,
          "time": 74.191642652105,
          "type": "release"
         },
         {
          "queuelength": 1148,
          "time": 74.30387676609188,
          "type": "request"
         },
         {
          "queuelength": 1149,
          "time": 74.32079538264111,
          "type": "release"
         },
         {
          "queuelength": 1147,
          "time": 74.33535230131201,
          "type": "release"
         },
         {
          "queuelength": 1147,
          "time": 74.35696938813912,
          "type": "release"
         },
         {
          "queuelength": 1145,
          "time": 74.38014470174139,
          "type": "release"
         },
         {
          "queuelength": 1145,
          "time": 74.39528894421267,
          "type": "request"
         },
         {
          "queuelength": 1145,
          "time": 74.44597941132662,
          "type": "release"
         },
         {
          "queuelength": 1145,
          "time": 74.5673165592909,
          "type": "request"
         },
         {
          "queuelength": 1145,
          "time": 74.62638243847131,
          "type": "release"
         },
         {
          "queuelength": 1145,
          "time": 74.62965870409101,
          "type": "request"
         },
         {
          "queuelength": 1146,
          "time": 74.7632619036615,
          "type": "request"
         },
         {
          "queuelength": 1147,
          "time": 74.78079707000822,
          "type": "release"
         },
         {
          "queuelength": 1146,
          "time": 74.80878858613123,
          "type": "request"
         },
         {
          "queuelength": 1147,
          "time": 74.82939563779755,
          "type": "request"
         },
         {
          "queuelength": 1148,
          "time": 74.86928544489282,
          "type": "release"
         },
         {
          "queuelength": 1147,
          "time": 74.883129110006,
          "type": "release"
         },
         {
          "queuelength": 1146,
          "time": 74.89424374845221,
          "type": "request"
         },
         {
          "queuelength": 1147,
          "time": 74.89722853230856,
          "type": "release"
         },
         {
          "queuelength": 1146,
          "time": 74.89766633441879,
          "type": "request"
         },
         {
          "queuelength": 1147,
          "time": 74.9296169809468,
          "type": "request"
         },
         {
          "queuelength": 1148,
          "time": 74.95668491832714,
          "type": "request"
         },
         {
          "queuelength": 1149,
          "time": 75.01456656354809,
          "type": "request"
         },
         {
          "queuelength": 1149,
          "time": 75.01565926552487,
          "type": "release"
         },
         {
          "queuelength": 1148,
          "time": 75.05201112511418,
          "type": "release"
         },
         {
          "queuelength": 1148,
          "time": 75.10057100127221,
          "type": "release"
         },
         {
          "queuelength": 1147,
          "time": 75.1427112666959,
          "type": "release"
         },
         {
          "queuelength": 1146,
          "time": 75.17026855955385,
          "type": "request"
         },
         {
          "queuelength": 1147,
          "time": 75.18372308678721,
          "type": "request"
         },
         {
          "queuelength": 1147,
          "time": 75.18391325134195,
          "type": "release"
         },
         {
          "queuelength": 1146,
          "time": 75.21385250400742,
          "type": "release"
         },
         {
          "queuelength": 1146,
          "time": 75.25304074886509,
          "type": "request"
         },
         {
          "queuelength": 1147,
          "time": 75.26333186587587,
          "type": "release"
         },
         {
          "queuelength": 1145,
          "time": 75.27136451812314,
          "type": "release"
         },
         {
          "queuelength": 1145,
          "time": 75.29417747624419,
          "type": "request"
         },
         {
          "queuelength": 1145,
          "time": 75.33732489920962,
          "type": "release"
         },
         {
          "queuelength": 1144,
          "time": 75.37725855207292,
          "type": "release"
         },
         {
          "queuelength": 1144,
          "time": 75.39458094797114,
          "type": "request"
         },
         {
          "queuelength": 1145,
          "time": 75.39514157299658,
          "type": "request"
         },
         {
          "queuelength": 1145,
          "time": 75.45064227891675,
          "type": "release"
         },
         {
          "queuelength": 1145,
          "time": 75.47157187276096,
          "type": "release"
         },
         {
          "queuelength": 1144,
          "time": 75.51764573924689,
          "type": "release"
         },
         {
          "queuelength": 1143,
          "time": 75.52170049354764,
          "type": "release"
         },
         {
          "queuelength": 1141,
          "time": 75.52261586967043,
          "type": "release"
         },
         {
          "queuelength": 1141,
          "time": 75.52925164866743,
          "type": "release"
         },
         {
          "queuelength": 1140,
          "time": 75.52940741230543,
          "type": "request"
         },
         {
          "queuelength": 1141,
          "time": 75.60299099792289,
          "type": "request"
         },
         {
          "queuelength": 1142,
          "time": 75.61523960585836,
          "type": "request"
         },
         {
          "queuelength": 1143,
          "time": 75.64846617267652,
          "type": "release"
         },
         {
          "queuelength": 1141,
          "time": 75.65901825782389,
          "type": "release"
         },
         {
          "queuelength": 1141,
          "time": 75.73878308379717,
          "type": "request"
         },
         {
          "queuelength": 1142,
          "time": 75.7487790255554,
          "type": "request"
         },
         {
          "queuelength": 1142,
          "time": 75.78445056943656,
          "type": "release"
         },
         {
          "queuelength": 1142,
          "time": 75.78786677190001,
          "type": "release"
         },
         {
          "queuelength": 1141,
          "time": 75.79422989562963,
          "type": "request"
         },
         {
          "queuelength": 1141,
          "time": 75.84126141521024,
          "type": "release"
         },
         {
          "queuelength": 1141,
          "time": 75.8568582259057,
          "type": "request"
         },
         {
          "queuelength": 1141,
          "time": 75.88750692142163,
          "type": "release"
         },
         {
          "queuelength": 1140,
          "time": 75.93182656627621,
          "type": "release"
         },
         {
          "queuelength": 1140,
          "time": 75.95979867185775,
          "type": "request"
         },
         {
          "queuelength": 1141,
          "time": 75.97740814587647,
          "type": "request"
         },
         {
          "queuelength": 1142,
          "time": 76.01199151884548,
          "type": "request"
         },
         {
          "queuelength": 1142,
          "time": 76.02686403786696,
          "type": "release"
         },
         {
          "queuelength": 1142,
          "time": 76.02812892513275,
          "type": "request"
         },
         {
          "queuelength": 1143,
          "time": 76.02812892513275,
          "type": "request"
         },
         {
          "queuelength": 1144,
          "time": 76.06756161592634,
          "type": "request"
         },
         {
          "queuelength": 1145,
          "time": 76.12072454275197,
          "type": "release"
         },
         {
          "queuelength": 1144,
          "time": 76.14561982435406,
          "type": "release"
         },
         {
          "queuelength": 1142,
          "time": 76.1479003764317,
          "type": "release"
         },
         {
          "queuelength": 1142,
          "time": 76.15374330327009,
          "type": "request"
         },
         {
          "queuelength": 1143,
          "time": 76.15626055139305,
          "type": "request"
         },
         {
          "queuelength": 1143,
          "time": 76.16277514539141,
          "type": "release"
         },
         {
          "queuelength": 1143,
          "time": 76.18988254393969,
          "type": "request"
         },
         {
          "queuelength": 1144,
          "time": 76.19199702304448,
          "type": "release"
         },
         {
          "queuelength": 1143,
          "time": 76.19554960043976,
          "type": "request"
         },
         {
          "queuelength": 1143,
          "time": 76.23504872104412,
          "type": "release"
         },
         {
          "queuelength": 1143,
          "time": 76.2549144499203,
          "type": "request"
         },
         {
          "queuelength": 1144,
          "time": 76.25700037282294,
          "type": "request"
         },
         {
          "queuelength": 1144,
          "time": 76.3106962641677,
          "type": "release"
         },
         {
          "queuelength": 1144,
          "time": 76.32647502327274,
          "type": "release"
         },
         {
          "queuelength": 1142,
          "time": 76.33175260209788,
          "type": "release"
         },
         {
          "queuelength": 1142,
          "time": 76.34145441894714,
          "type": "release"
         },
         {
          "queuelength": 1140,
          "time": 76.3539506819962,
          "type": "release"
         },
         {
          "queuelength": 1140,
          "time": 76.37906479039998,
          "type": "release"
         },
         {
          "queuelength": 1139,
          "time": 76.40285885832529,
          "type": "release"
         },
         {
          "queuelength": 1137,
          "time": 76.40380430352238,
          "type": "release"
         },
         {
          "queuelength": 1137,
          "time": 76.40630203563569,
          "type": "request"
         },
         {
          "queuelength": 1138,
          "time": 76.43256620012714,
          "type": "release"
         },
         {
          "queuelength": 1136,
          "time": 76.50665351966347,
          "type": "release"
         },
         {
          "queuelength": 1135,
          "time": 76.54414732613316,
          "type": "release"
         },
         {
          "queuelength": 1134,
          "time": 76.55574763119594,
          "type": "release"
         },
         {
          "queuelength": 1134,
          "time": 76.55992565005697,
          "type": "release"
         },
         {
          "queuelength": 1132,
          "time": 76.57467492023545,
          "type": "release"
         },
         {
          "queuelength": 1132,
          "time": 76.58042625094279,
          "type": "release"
         },
         {
          "queuelength": 1130,
          "time": 76.58132485990765,
          "type": "release"
         },
         {
          "queuelength": 1130,
          "time": 76.58330776936467,
          "type": "release"
         },
         {
          "queuelength": 1128,
          "time": 76.59142738559305,
          "type": "release"
         },
         {
          "queuelength": 1127,
          "time": 76.60873689721075,
          "type": "release"
         },
         {
          "queuelength": 1127,
          "time": 76.68681599079888,
          "type": "request"
         },
         {
          "queuelength": 1128,
          "time": 76.69450789608422,
          "type": "request"
         },
         {
          "queuelength": 1129,
          "time": 76.74171529435861,
          "type": "request"
         },
         {
          "queuelength": 1130,
          "time": 76.77164259525962,
          "type": "release"
         },
         {
          "queuelength": 1129,
          "time": 76.78558007426889,
          "type": "request"
         },
         {
          "queuelength": 1130,
          "time": 76.83850959543881,
          "type": "request"
         },
         {
          "queuelength": 1130,
          "time": 76.91526098717401,
          "type": "release"
         },
         {
          "queuelength": 1130,
          "time": 76.97084347343805,
          "type": "release"
         },
         {
          "queuelength": 1128,
          "time": 76.98184140172117,
          "type": "release"
         },
         {
          "queuelength": 1127,
          "time": 76.98620081193002,
          "type": "release"
         },
         {
          "queuelength": 1127,
          "time": 77.01357180521518,
          "type": "request"
         },
         {
          "queuelength": 1128,
          "time": 77.05415779346798,
          "type": "request"
         },
         {
          "queuelength": 1129,
          "time": 77.06532572773816,
          "type": "request"
         },
         {
          "queuelength": 1130,
          "time": 77.09450100308197,
          "type": "request"
         },
         {
          "queuelength": 1131,
          "time": 77.15501878056386,
          "type": "request"
         },
         {
          "queuelength": 1132,
          "time": 77.17240151349768,
          "type": "release"
         },
         {
          "queuelength": 1131,
          "time": 77.18735644703358,
          "type": "request"
         },
         {
          "queuelength": 1132,
          "time": 77.2843236225601,
          "type": "release"
         },
         {
          "queuelength": 1131,
          "time": 77.28852876210604,
          "type": "release"
         },
         {
          "queuelength": 1130,
          "time": 77.31062842697916,
          "type": "request"
         },
         {
          "queuelength": 1131,
          "time": 77.32677184080234,
          "type": "request"
         },
         {
          "queuelength": 1132,
          "time": 77.37653168643513,
          "type": "request"
         },
         {
          "queuelength": 1133,
          "time": 77.37705882144219,
          "type": "request"
         },
         {
          "queuelength": 1133,
          "time": 77.4096033609809,
          "type": "release"
         },
         {
          "queuelength": 1133,
          "time": 77.43423552917338,
          "type": "release"
         },
         {
          "queuelength": 1131,
          "time": 77.45985184195905,
          "type": "release"
         },
         {
          "queuelength": 1131,
          "time": 77.48458989328824,
          "type": "release"
         },
         {
          "queuelength": 1130,
          "time": 77.53711181355047,
          "type": "release"
         },
         {
          "queuelength": 1129,
          "time": 77.56332477542692,
          "type": "request"
         },
         {
          "queuelength": 1130,
          "time": 77.5830129616194,
          "type": "request"
         },
         {
          "queuelength": 1131,
          "time": 77.60090492953515,
          "type": "request"
         },
         {
          "queuelength": 1132,
          "time": 77.60090492953515,
          "type": "request"
         },
         {
          "queuelength": 1133,
          "time": 77.70614007697586,
          "type": "request"
         },
         {
          "queuelength": 1134,
          "time": 77.73622967971498,
          "type": "request"
         },
         {
          "queuelength": 1135,
          "time": 77.73684902960306,
          "type": "release"
         },
         {
          "queuelength": 1134,
          "time": 77.75087844939058,
          "type": "release"
         },
         {
          "queuelength": 1132,
          "time": 77.7618516128703,
          "type": "release"
         },
         {
          "queuelength": 1132,
          "time": 77.77710796343632,
          "type": "release"
         },
         {
          "queuelength": 1131,
          "time": 77.79619706127173,
          "type": "request"
         },
         {
          "queuelength": 1131,
          "time": 77.80044000514744,
          "type": "release"
         },
         {
          "queuelength": 1131,
          "time": 77.8477782866719,
          "type": "request"
         },
         {
          "queuelength": 1131,
          "time": 77.86404286164071,
          "type": "release"
         },
         {
          "queuelength": 1130,
          "time": 77.87790609350617,
          "type": "release"
         },
         {
          "queuelength": 1130,
          "time": 77.88367622211373,
          "type": "request"
         },
         {
          "queuelength": 1130,
          "time": 77.89261724595244,
          "type": "release"
         },
         {
          "queuelength": 1130,
          "time": 77.9102148165246,
          "type": "release"
         },
         {
          "queuelength": 1128,
          "time": 77.91679327162863,
          "type": "release"
         },
         {
          "queuelength": 1128,
          "time": 77.94099243415515,
          "type": "release"
         },
         {
          "queuelength": 1127,
          "time": 77.96225457051783,
          "type": "request"
         },
         {
          "queuelength": 1128,
          "time": 77.9857646219112,
          "type": "request"
         },
         {
          "queuelength": 1128,
          "time": 78.01947065133581,
          "type": "release"
         },
         {
          "queuelength": 1128,
          "time": 78.05381482830037,
          "type": "request"
         },
         {
          "queuelength": 1128,
          "time": 78.06509859445435,
          "type": "release"
         },
         {
          "queuelength": 1127,
          "time": 78.06569761326489,
          "type": "release"
         },
         {
          "queuelength": 1127,
          "time": 78.07716130302451,
          "type": "request"
         },
         {
          "queuelength": 1128,
          "time": 78.1055214073811,
          "type": "request"
         },
         {
          "queuelength": 1128,
          "time": 78.11562344968522,
          "type": "release"
         },
         {
          "queuelength": 1128,
          "time": 78.13551519008635,
          "type": "release"
         },
         {
          "queuelength": 1127,
          "time": 78.14585087590059,
          "type": "release"
         },
         {
          "queuelength": 1126,
          "time": 78.15378399055321,
          "type": "release"
         },
         {
          "queuelength": 1124,
          "time": 78.22110533007844,
          "type": "release"
         },
         {
          "queuelength": 1124,
          "time": 78.22408417362061,
          "type": "request"
         },
         {
          "queuelength": 1125,
          "time": 78.27422055656444,
          "type": "request"
         },
         {
          "queuelength": 1126,
          "time": 78.31432201624943,
          "type": "release"
         },
         {
          "queuelength": 1125,
          "time": 78.31859538193223,
          "type": "request"
         },
         {
          "queuelength": 1126,
          "time": 78.3186847811,
          "type": "release"
         },
         {
          "queuelength": 1125,
          "time": 78.32016059730047,
          "type": "request"
         },
         {
          "queuelength": 1126,
          "time": 78.36364754840623,
          "type": "request"
         },
         {
          "queuelength": 1127,
          "time": 78.36989335474847,
          "type": "release"
         },
         {
          "queuelength": 1126,
          "time": 78.40145843872214,
          "type": "request"
         },
         {
          "queuelength": 1127,
          "time": 78.40199901910118,
          "type": "request"
         },
         {
          "queuelength": 1127,
          "time": 78.40579421665629,
          "type": "release"
         },
         {
          "queuelength": 1127,
          "time": 78.40693971103516,
          "type": "request"
         },
         {
          "queuelength": 1128,
          "time": 78.40792100557987,
          "type": "request"
         },
         {
          "queuelength": 1129,
          "time": 78.44000559855857,
          "type": "release"
         },
         {
          "queuelength": 1128,
          "time": 78.47684328814928,
          "type": "request"
         },
         {
          "queuelength": 1129,
          "time": 78.49388568700566,
          "type": "request"
         },
         {
          "queuelength": 1129,
          "time": 78.49688186578621,
          "type": "release"
         },
         {
          "queuelength": 1129,
          "time": 78.50677006879161,
          "type": "release"
         },
         {
          "queuelength": 1127,
          "time": 78.55912185417432,
          "type": "release"
         },
         {
          "queuelength": 1127,
          "time": 78.62056003428924,
          "type": "request"
         },
         {
          "queuelength": 1127,
          "time": 78.65133405674054,
          "type": "release"
         },
         {
          "queuelength": 1127,
          "time": 78.66441682665346,
          "type": "release"
         },
         {
          "queuelength": 1125,
          "time": 78.67328477407672,
          "type": "release"
         },
         {
          "queuelength": 1124,
          "time": 78.69020762854478,
          "type": "release"
         },
         {
          "queuelength": 1124,
          "time": 78.69391263564799,
          "type": "release"
         },
         {
          "queuelength": 1122,
          "time": 78.77042645903424,
          "type": "release"
         },
         {
          "queuelength": 1122,
          "time": 78.77323173959567,
          "type": "release"
         },
         {
          "queuelength": 1121,
          "time": 78.78203547692397,
          "type": "release"
         },
         {
          "queuelength": 1119,
          "time": 78.8583106408777,
          "type": "release"
         },
         {
          "queuelength": 1119,
          "time": 78.88666941124775,
          "type": "release"
         },
         {
          "queuelength": 1117,
          "time": 78.9490629069242,
          "type": "release"
         },
         {
          "queuelength": 1117,
          "time": 78.96362151813864,
          "type": "release"
         },
         {
          "queuelength": 1116,
          "time": 78.98913430793431,
          "type": "request"
         },
         {
          "queuelength": 1117,
          "time": 79.0771082259057,
          "type": "request"
         },
         {
          "queuelength": 1117,
          "time": 79.11426283382325,
          "type": "release"
         },
         {
          "queuelength": 1117,
          "time": 79.11719584158766,
          "type": "release"
         },
         {
          "queuelength": 1116,
          "time": 79.14894529431315,
          "type": "request"
         },
         {
          "queuelength": 1117,
          "time": 79.16291224833714,
          "type": "request"
         },
         {
          "queuelength": 1118,
          "time": 79.2179044538517,
          "type": "release"
         },
         {
          "queuelength": 1116,
          "time": 79.22204714268867,
          "type": "release"
         },
         {
          "queuelength": 1116,
          "time": 79.2305794261427,
          "type": "release"
         },
         {
          "queuelength": 1114,
          "time": 79.26023356971541,
          "type": "release"
         },
         {
          "queuelength": 1113,
          "time": 79.29990777722345,
          "type": "release"
         },
         {
          "queuelength": 1112,
          "time": 79.3019203366051,
          "type": "release"
         },
         {
          "queuelength": 1111,
          "time": 79.35340304758913,
          "type": "release"
         },
         {
          "queuelength": 1111,
          "time": 79.3545468193507,
          "type": "request"
         },
         {
          "queuelength": 1112,
          "time": 79.38968941289339,
          "type": "request"
         },
         {
          "queuelength": 1113,
          "time": 79.40304133441879,
          "type": "request"
         },
         {
          "queuelength": 1113,
          "time": 79.40455237727608,
          "type": "release"
         },
         {
          "queuelength": 1113,
          "time": 79.45179317954594,
          "type": "request"
         },
         {
          "queuelength": 1113,
          "time": 79.46966434146147,
          "type": "release"
         },
         {
          "queuelength": 1112,
          "time": 79.47512605745514,
          "type": "release"
         },
         {
          "queuelength": 1111,
          "time": 79.47954270203158,
          "type": "release"
         },
         {
          "queuelength": 1110,
          "time": 79.49212120763903,
          "type": "release"
         },
         {
          "queuelength": 1110,
          "time": 79.52581020614952,
          "type": "request"
         },
         {
          "queuelength": 1111,
          "time": 79.59265126686029,
          "type": "request"
         },
         {
          "queuelength": 1112,
          "time": 79.60048361680201,
          "type": "release"
         },
         {
          "queuelength": 1111,
          "time": 79.61913955412334,
          "type": "request"
         },
         {
          "queuelength": 1112,
          "time": 79.68748626171428,
          "type": "request"
         },
         {
          "queuelength": 1112,
          "time": 79.72698063268297,
          "type": "release"
         },
         {
          "queuelength": 1112,
          "time": 79.73760211238846,
          "type": "request"
         },
         {
          "queuelength": 1113,
          "time": 79.75670654410054,
          "type": "release"
         },
         {
          "queuelength": 1112,
          "time": 79.7570968730314,
          "type": "request"
         },
         {
          "queuelength": 1112,
          "time": 79.7805918443375,
          "type": "release"
         },
         {
          "queuelength": 1111,
          "time": 79.78153542482951,
          "type": "release"
         },
         {
          "queuelength": 1110,
          "time": 79.88319137865759,
          "type": "release"
         },
         {
          "queuelength": 1110,
          "time": 79.91062986019878,
          "type": "request"
         },
         {
          "queuelength": 1110,
          "time": 79.92114051984905,
          "type": "release"
         },
         {
          "queuelength": 1110,
          "time": 79.94457907299658,
          "type": "request"
         },
         {
          "queuelength": 1110,
          "time": 79.95655953515607,
          "type": "release"
         },
         {
          "queuelength": 1110,
          "time": 79.9944110408272,
          "type": "release"
         },
         {
          "queuelength": 1109,
          "time": 79.99982907146384,
          "type": "request"
         },
         {
          "queuelength": 1110,
          "time": 80.02104560339923,
          "type": "request"
         },
         {
          "queuelength": 1111,
          "time": 80.04045964940397,
          "type": "request"
         },
         {
          "queuelength": 1111,
          "time": 80.06202446179239,
          "type": "release"
         },
         {
          "queuelength": 1111,
          "time": 80.0625393414241,
          "type": "request"
         },
         {
          "queuelength": 1112,
          "time": 80.10836599792287,
          "type": "request"
         },
         {
          "queuelength": 1112,
          "time": 80.11338622708634,
          "type": "release"
         },
         {
          "queuelength": 1111,
          "time": 80.11523766944607,
          "type": "release"
         },
         {
          "queuelength": 1111,
          "time": 80.12843405169308,
          "type": "release"
         },
         {
          "queuelength": 1110,
          "time": 80.14239224888716,
          "type": "release"
         },
         {
          "queuelength": 1109,
          "time": 80.15242849792288,
          "type": "request"
         },
         {
          "queuelength": 1110,
          "time": 80.16184067732522,
          "type": "release"
         },
         {
          "queuelength": 1108,
          "time": 80.2314013144142,
          "type": "release"
         },
         {
          "queuelength": 1108,
          "time": 80.23760800167028,
          "type": "request"
         },
         {
          "queuelength": 1108,
          "time": 80.23762317152378,
          "type": "release"
         },
         {
          "queuelength": 1107,
          "time": 80.24058738437581,
          "type": "release"
         },
         {
          "queuelength": 1107,
          "time": 80.2598368074579,
          "type": "request"
         },
         {
          "queuelength": 1108,
          "time": 80.25984668442887,
          "type": "release"
         },
         {
          "queuelength": 1107,
          "time": 80.27065836164242,
          "type": "request"
         },
         {
          "queuelength": 1108,
          "time": 80.28168654077645,
          "type": "request"
         },
         {
          "queuelength": 1109,
          "time": 80.32828673174936,
          "type": "request"
         },
         {
          "queuelength": 1109,
          "time": 80.33960440636478,
          "type": "release"
         },
         {
          "queuelength": 1108,
          "time": 80.34421094061027,
          "type": "release"
         },
         {
          "queuelength": 1108,
          "time": 80.37526878056386,
          "type": "request"
         },
         {
          "queuelength": 1109,
          "time": 80.41598561817648,
          "type": "request"
         },
         {
          "queuelength": 1110,
          "time": 80.43854600557735,
          "type": "release"
         },
         {
          "queuelength": 1108,
          "time": 80.44299268359238,
          "type": "release"
         },
         {
          "queuelength": 1107,
          "time": 80.44364636872515,
          "type": "release"
         },
         {
          "queuelength": 1107,
          "time": 80.45996827276429,
          "type": "release"
         },
         {
          "queuelength": 1106,
          "time": 80.46517367185777,
          "type": "request"
         },
         {
          "queuelength": 1106,
          "time": 80.50794710533,
          "type": "release"
         },
         {
          "queuelength": 1105,
          "time": 80.53925771700298,
          "type": "release"
         },
         {
          "queuelength": 1104,
          "time": 80.57539474731789,
          "type": "release"
         },
         {
          "queuelength": 1103,
          "time": 80.62087923687514,
          "type": "release"
         },
         {
          "queuelength": 1103,
          "time": 80.68687306250953,
          "type": "request"
         },
         {
          "queuelength": 1104,
          "time": 80.7062853082723,
          "type": "request"
         },
         {
          "queuelength": 1104,
          "time": 80.72622889624597,
          "type": "release"
         },
         {
          "queuelength": 1103,
          "time": 80.74293518874627,
          "type": "release"
         },
         {
          "queuelength": 1103,
          "time": 80.7709186737028,
          "type": "request"
         },
         {
          "queuelength": 1104,
          "time": 80.80002393401494,
          "type": "request"
         },
         {
          "queuelength": 1104,
          "time": 80.80323925626881,
          "type": "release"
         },
         {
          "queuelength": 1104,
          "time": 80.80493354872144,
          "type": "request"
         },
         {
          "queuelength": 1104,
          "time": 80.85351217465264,
          "type": "release"
         },
         {
          "queuelength": 1104,
          "time": 80.865755621959,
          "type": "release"
         },
         {
          "queuelength": 1103,
          "time": 80.92223193874662,
          "type": "request"
         },
         {
          "queuelength": 1104,
          "time": 80.9558135903507,
          "type": "request"
         },
         {
          "queuelength": 1105,
          "time": 80.96679324353674,
          "type": "release"
         },
         {
          "queuelength": 1103,
          "time": 80.97624773555732,
          "type": "release"
         },
         {
          "queuelength": 1103,
          "time": 81.01316008653437,
          "type": "release"
         },
         {
          "queuelength": 1102,
          "time": 81.02686403786696,
          "type": "request"
         },
         {
          "queuelength": 1103,
          "time": 81.10314039904524,
          "type": "request"
         },
         {
          "queuelength": 1104,
          "time": 81.12618532484493,
          "type": "request"
         },
         {
          "queuelength": 1105,
          "time": 81.12893918440363,
          "type": "release"
         },
         {
          "queuelength": 1104,
          "time": 81.13232852073338,
          "type": "release"
         },
         {
          "queuelength": 1102,
          "time": 81.20371837690601,
          "type": "release"
         },
         {
          "queuelength": 1102,
          "time": 81.2470087128249,
          "type": "release"
         },
         {
          "queuelength": 1100,
          "time": 81.25718069549143,
          "type": "release"
         },
         {
          "queuelength": 1099,
          "time": 81.29537661330079,
          "type": "release"
         },
         {
          "queuelength": 1099,
          "time": 81.31966444964932,
          "type": "release"
         },
         {
          "queuelength": 1098,
          "time": 81.32317089069237,
          "type": "release"
         },
         {
          "queuelength": 1096,
          "time": 81.38343971822842,
          "type": "release"
         },
         {
          "queuelength": 1096,
          "time": 81.39839345633906,
          "type": "release"
         },
         {
          "queuelength": 1094,
          "time": 81.46019227688657,
          "type": "release"
         },
         {
          "queuelength": 1094,
          "time": 81.46168405896003,
          "type": "request"
         },
         {
          "queuelength": 1094,
          "time": 81.46197343705126,
          "type": "release"
         },
         {
          "queuelength": 1094,
          "time": 81.48778001141105,
          "type": "request"
         },
         {
          "queuelength": 1095,
          "time": 81.50994755613863,
          "type": "release"
         },
         {
          "queuelength": 1094,
          "time": 81.57047360850592,
          "type": "release"
         },
         {
          "queuelength": 1093,
          "time": 81.595539233367,
          "type": "release"
         },
         {
          "queuelength": 1091,
          "time": 81.6443410298757,
          "type": "release"
         },
         {
          "queuelength": 1091,
          "time": 81.67981212557382,
          "type": "request"
         },
         {
          "queuelength": 1092,
          "time": 81.687418322822,
          "type": "release"
         },
         {
          "queuelength": 1090,
          "time": 81.69957231873525,
          "type": "release"
         },
         {
          "queuelength": 1090,
          "time": 81.75516792586981,
          "type": "release"
         },
         {
          "queuelength": 1089,
          "time": 81.77440701075268,
          "type": "request"
         },
         {
          "queuelength": 1089,
          "time": 81.78734576968989,
          "type": "release"
         },
         {
          "queuelength": 1089,
          "time": 81.84404409065111,
          "type": "release"
         },
         {
          "queuelength": 1087,
          "time": 81.85065464015318,
          "type": "release"
         },
         {
          "queuelength": 1087,
          "time": 81.91948799052882,
          "type": "request"
         },
         {
          "queuelength": 1088,
          "time": 81.92579802019571,
          "type": "request"
         },
         {
          "queuelength": 1088,
          "time": 81.98023207427374,
          "type": "release"
         },
         {
          "queuelength": 1087,
          "time": 81.98372563283364,
          "type": "release"
         },
         {
          "queuelength": 1086,
          "time": 82.01728878747713,
          "type": "release"
         },
         {
          "queuelength": 1085,
          "time": 82.04612367138677,
          "type": "release"
         },
         {
          "queuelength": 1085,
          "time": 82.07849294510851,
          "type": "release"
         },
         {
          "queuelength": 1084,
          "time": 82.12217094606335,
          "type": "request"
         },
         {
          "queuelength": 1085,
          "time": 82.17636292883513,
          "type": "request"
         },
         {
          "queuelength": 1086,
          "time": 82.20640735344861,
          "type": "release"
         },
         {
          "queuelength": 1084,
          "time": 82.22727927276594,
          "type": "release"
         },
         {
          "queuelength": 1083,
          "time": 82.23115167978543,
          "type": "release"
         },
         {
          "queuelength": 1083,
          "time": 82.24458442910797,
          "type": "request"
         },
         {
          "queuelength": 1083,
          "time": 82.25383641118671,
          "type": "release"
         },
         {
          "queuelength": 1083,
          "time": 82.25963999490085,
          "type": "request"
         },
         {
          "queuelength": 1084,
          "time": 82.26170709862808,
          "type": "request"
         },
         {
          "queuelength": 1084,
          "time": 82.26334812996643,
          "type": "release"
         },
         {
          "queuelength": 1084,
          "time": 82.29398234734006,
          "type": "request"
         },
         {
          "queuelength": 1085,
          "time": 82.30712231222972,
          "type": "request"
         },
         {
          "queuelength": 1085,
          "time": 82.31065627648366,
          "type": "release"
         },
         {
          "queuelength": 1084,
          "time": 82.31444697127264,
          "type": "release"
         },
         {
          "queuelength": 1083,
          "time": 82.32786736866873,
          "type": "release"
         },
         {
          "queuelength": 1082,
          "time": 82.32932330183363,
          "type": "release"
         },
         {
          "queuelength": 1081,
          "time": 82.33021897309217,
          "type": "release"
         },
         {
          "queuelength": 1080,
          "time": 82.38273860009616,
          "type": "release"
         },
         {
          "queuelength": 1080,
          "time": 82.4096033609809,
          "type": "request"
         },
         {
          "queuelength": 1081,
          "time": 82.41325779431315,
          "type": "request"
         },
         {
          "queuelength": 1081,
          "time": 82.44076645596834,
          "type": "release"
         },
         {
          "queuelength": 1081,
          "time": 82.46834471340779,
          "type": "request"
         },
         {
          "queuelength": 1081,
          "time": 82.47465553561358,
          "type": "release"
         },
         {
          "queuelength": 1081,
          "time": 82.48261901985566,
          "type": "release"
         },
         {
          "queuelength": 1080,
          "time": 82.52738250089395,
          "type": "release"
         },
         {
          "queuelength": 1078,
          "time": 82.53846981923056,
          "type": "release"
         },
         {
          "queuelength": 1078,
          "time": 82.54068330112989,
          "type": "request"
         },
         {
          "queuelength": 1078,
          "time": 82.5688391310374,
          "type": "release"
         },
         {
          "queuelength": 1078,
          "time": 82.59507903135477,
          "type": "request"
         },
         {
          "queuelength": 1078,
          "time": 82.61658123658185,
          "type": "release"
         },
         {
          "queuelength": 1078,
          "time": 82.6210037262244,
          "type": "request"
         },
         {
          "queuelength": 1078,
          "time": 82.64261608197549,
          "type": "release"
         },
         {
          "queuelength": 1077,
          "time": 82.65144904272722,
          "type": "release"
         },
         {
          "queuelength": 1077,
          "time": 82.7715073705094,
          "type": "release"
         },
         {
          "queuelength": 1076,
          "time": 82.80652667904113,
          "type": "request"
         },
         {
          "queuelength": 1076,
          "time": 82.8164276266686,
          "type": "release"
         },
         {
          "queuelength": 1075,
          "time": 82.81663581661743,
          "type": "release"
         },
         {
          "queuelength": 1075,
          "time": 82.83679602502664,
          "type": "request"
         },
         {
          "queuelength": 1076,
          "time": 82.83679602502664,
          "type": "request"
         },
         {
          "queuelength": 1076,
          "time": 82.94613879024291,
          "type": "release"
         },
         {
          "queuelength": 1076,
          "time": 82.95645760098488,
          "type": "release"
         },
         {
          "queuelength": 1075,
          "time": 82.96416447801049,
          "type": "request"
         },
         {
          "queuelength": 1076,
          "time": 82.98905193397721,
          "type": "release"
         },
         {
          "queuelength": 1075,
          "time": 83.04726308423156,
          "type": "request"
         },
         {
          "queuelength": 1076,
          "time": 83.04978730920473,
          "type": "release"
         },
         {
          "queuelength": 1075,
          "time": 83.09969412305625,
          "type": "release"
         },
         {
          "queuelength": 1073,
          "time": 83.10687865711225,
          "type": "release"
         },
         {
          "queuelength": 1072,
          "time": 83.10748122633264,
          "type": "release"
         },
         {
          "queuelength": 1071,
          "time": 83.11945019513271,
          "type": "release"
         },
         {
          "queuelength": 1071,
          "time": 83.13232029499626,
          "type": "release"
         },
         {
          "queuelength": 1070,
          "time": 83.1426938136692,
          "type": "request"
         },
         {
          "queuelength": 1070,
          "time": 83.16389720664378,
          "type": "release"
         },
         {
          "queuelength": 1070,
          "time": 83.1645722203559,
          "type": "request"
         },
         {
          "queuelength": 1070,
          "time": 83.19654439337569,
          "type": "release"
         },
         {
          "queuelength": 1069,
          "time": 83.2368496284529,
          "type": "release"
         },
         {
          "queuelength": 1069,
          "time": 83.2783549106372,
          "type": "request"
         },
         {
          "queuelength": 1070,
          "time": 83.31384814465616,
          "type": "request"
         },
         {
          "queuelength": 1071,
          "time": 83.36415620198262,
          "type": "release"
         },
         {
          "queuelength": 1069,
          "time": 83.40969307362748,
          "type": "release"
         },
         {
          "queuelength": 1068,
          "time": 83.43292958256406,
          "type": "release"
         },
         {
          "queuelength": 1067,
          "time": 83.51439244752075,
          "type": "release"
         },
         {
          "queuelength": 1066,
          "time": 83.52502587501836,
          "type": "release"
         },
         {
          "queuelength": 1065,
          "time": 83.53154156645863,
          "type": "release"
         },
         {
          "queuelength": 1065,
          "time": 83.53385060292939,
          "type": "request"
         },
         {
          "queuelength": 1066,
          "time": 83.53695378543352,
          "type": "release"
         },
         {
          "queuelength": 1065,
          "time": 83.55393405279256,
          "type": "request"
         },
         {
          "queuelength": 1065,
          "time": 83.60275127092693,
          "type": "release"
         },
         {
          "queuelength": 1064,
          "time": 83.61339194717294,
          "type": "release"
         },
         {
          "queuelength": 1063,
          "time": 83.63223932026798,
          "type": "release"
         },
         {
          "queuelength": 1062,
          "time": 83.6556484137781,
          "type": "release"
         },
         {
          "queuelength": 1061,
          "time": 83.66812307335319,
          "type": "release"
         },
         {
          "queuelength": 1061,
          "time": 83.70240268456031,
          "type": "release"
         },
         {
          "queuelength": 1060,
          "time": 83.71227939685102,
          "type": "request"
         },
         {
          "queuelength": 1061,
          "time": 83.7507037555513,
          "type": "request"
         },
         {
          "queuelength": 1061,
          "time": 83.7575808584401,
          "type": "release"
         },
         {
          "queuelength": 1061,
          "time": 83.75782000452975,
          "type": "request"
         },
         {
          "queuelength": 1062,
          "time": 83.76001842365199,
          "type": "request"
         },
         {
          "queuelength": 1063,
          "time": 83.78033379985484,
          "type": "request"
         },
         {
          "queuelength": 1064,
          "time": 83.83741230812727,
          "type": "release"
         },
         {
          "queuelength": 1063,
          "time": 83.89984287251328,
          "type": "release"
         },
         {
          "queuelength": 1062,
          "time": 83.90895178214825,
          "type": "request"
         },
         {
          "queuelength": 1063,
          "time": 83.92647783395894,
          "type": "request"
         },
         {
          "queuelength": 1064,
          "time": 83.98732518983635,
          "type": "request"
         },
         {
          "queuelength": 1064,
          "time": 83.98829993413455,
          "type": "release"
         },
         {
          "queuelength": 1064,
          "time": 84.07087009865464,
          "type": "request"
         },
         {
          "queuelength": 1065,
          "time": 84.10206608986587,
          "type": "request"
         },
         {
          "queuelength": 1066,
          "time": 84.11513509861416,
          "type": "release"
         },
         {
          "queuelength": 1064,
          "time": 84.12122332158552,
          "type": "release"
         },
         {
          "queuelength": 1063,
          "time": 84.1554786570614,
          "type": "release"
         },
         {
          "queuelength": 1062,
          "time": 84.15580419198888,
          "type": "release"
         },
         {
          "queuelength": 1062,
          "time": 84.18827411849946,
          "type": "release"
         },
         {
          "queuelength": 1061,
          "time": 84.23297384270836,
          "type": "release"
         },
         {
          "queuelength": 1060,
          "time": 84.31018405440916,
          "type": "request"
         },
         {
          "queuelength": 1061,
          "time": 84.34824411928152,
          "type": "release"
         },
         {
          "queuelength": 1060,
          "time": 84.35340304758913,
          "type": "request"
         },
         {
          "queuelength": 1061,
          "time": 84.36104549123104,
          "type": "release"
         },
         {
          "queuelength": 1060,
          "time": 84.36495039184855,
          "type": "request"
         },
         {
          "queuelength": 1061,
          "time": 84.40758263355941,
          "type": "request"
         },
         {
          "queuelength": 1061,
          "time": 84.47040542502063,
          "type": "release"
         },
         {
          "queuelength": 1060,
          "time": 84.47688909134278,
          "type": "release"
         },
         {
          "queuelength": 1060,
          "time": 84.49512508957451,
          "type": "request"
         },
         {
          "queuelength": 1061,
          "time": 84.50444685213893,
          "type": "request"
         },
         {
          "queuelength": 1062,
          "time": 84.50480910806853,
          "type": "release"
         },
         {
          "queuelength": 1061,
          "time": 84.51384504182337,
          "type": "release"
         },
         {
          "queuelength": 1060,
          "time": 84.54745872807004,
          "type": "request"
         },
         {
          "queuelength": 1061,
          "time": 84.54745872807004,
          "type": "request"
         },
         {
          "queuelength": 1062,
          "time": 84.58338148892533,
          "type": "request"
         },
         {
          "queuelength": 1063,
          "time": 84.60883524971251,
          "type": "request"
         },
         {
          "queuelength": 1064,
          "time": 84.62607215505936,
          "type": "request"
         },
         {
          "queuelength": 1065,
          "time": 84.64588055180924,
          "type": "release"
         },
         {
          "queuelength": 1064,
          "time": 84.65676361334177,
          "type": "request"
         },
         {
          "queuelength": 1065,
          "time": 84.66422471737566,
          "type": "request"
         },
         {
          "queuelength": 1065,
          "time": 84.6738959800195,
          "type": "release"
         },
         {
          "queuelength": 1065,
          "time": 84.68655130413396,
          "type": "request"
         },
         {
          "queuelength": 1066,
          "time": 84.7224509157184,
          "type": "request"
         },
         {
          "queuelength": 1066,
          "time": 84.73011701987495,
          "type": "release"
         },
         {
          "queuelength": 1065,
          "time": 84.73898494274272,
          "type": "release"
         },
         {
          "queuelength": 1064,
          "time": 84.74013755715185,
          "type": "release"
         },
         {
          "queuelength": 1063,
          "time": 84.75638951976595,
          "type": "release"
         },
         {
          "queuelength": 1062,
          "time": 84.75900776690733,
          "type": "release"
         },
         {
          "queuelength": 1062,
          "time": 84.7852514119823,
          "type": "request"
         },
         {
          "queuelength": 1063,
          "time": 84.85857794604482,
          "type": "request"
         },
         {
          "queuelength": 1064,
          "time": 84.8634937412162,
          "type": "release"
         },
         {
          "queuelength": 1062,
          "time": 84.86369666361378,
          "type": "release"
         },
         {
          "queuelength": 1062,
          "time": 84.87090717004281,
          "type": "release"
         },
         {
          "queuelength": 1060,
          "time": 84.91645053144185,
          "type": "release"
         },
         {
          "queuelength": 1060,
          "time": 84.9821972737385,
          "type": "release"
         },
         {
          "queuelength": 1058,
          "time": 85.00985255103187,
          "type": "release"
         },
         {
          "queuelength": 1058,
          "time": 85.03306228388524,
          "type": "release"
         },
         {
          "queuelength": 1057,
          "time": 85.03350279948373,
          "type": "release"
         },
         {
          "queuelength": 1056,
          "time": 85.0425404110341,
          "type": "request"
         },
         {
          "queuelength": 1057,
          "time": 85.06729995164089,
          "type": "request"
         },
         {
          "queuelength": 1057,
          "time": 85.08041644194866,
          "type": "release"
         },
         {
          "queuelength": 1057,
          "time": 85.09452329509571,
          "type": "request"
         },
         {
          "queuelength": 1058,
          "time": 85.10206325969965,
          "type": "request"
         },
         {
          "queuelength": 1059,
          "time": 85.18418876903108,
          "type": "release"
         },
         {
          "queuelength": 1058,
          "time": 85.19967483986409,
          "type": "request"
         },
         {
          "queuelength": 1059,
          "time": 85.20858845731503,
          "type": "request"
         },
         {
          "queuelength": 1060,
          "time": 85.23222582992061,
          "type": "request"
         },
         {
          "queuelength": 1060,
          "time": 85.24855318400672,
          "type": "release"
         },
         {
          "queuelength": 1059,
          "time": 85.27312808881194,
          "type": "release"
         },
         {
          "queuelength": 1059,
          "time": 85.30757232203372,
          "type": "release"
         },
         {
          "queuelength": 1058,
          "time": 85.33432651012826,
          "type": "request"
         },
         {
          "queuelength": 1058,
          "time": 85.392321269545,
          "type": "release"
         },
         {
          "queuelength": 1057,
          "time": 85.47853765572884,
          "type": "release"
         },
         {
          "queuelength": 1057,
          "time": 85.512472927107,
          "type": "request"
         },
         {
          "queuelength": 1057,
          "time": 85.51815397634984,
          "type": "release"
         },
         {
          "queuelength": 1057,
          "time": 85.5328164341885,
          "type": "request"
         },
         {
          "queuelength": 1058,
          "time": 85.53679586575005,
          "type": "request"
         },
         {
          "queuelength": 1059,
          "time": 85.54288236548928,
          "type": "release"
         },
         {
          "queuelength": 1058,
          "time": 85.54808549626344,
          "type": "request"
         },
         {
          "queuelength": 1058,
          "time": 85.56493853621774,
          "type": "release"
         },
         {
          "queuelength": 1057,
          "time": 85.57892873241082,
          "type": "release"
         },
         {
          "queuelength": 1057,
          "time": 85.57959862026482,
          "type": "release"
         },
         {
          "queuelength": 1055,
          "time": 85.5877556837075,
          "type": "release"
         },
         {
          "queuelength": 1054,
          "time": 85.66754915151168,
          "type": "release"
         },
         {
          "queuelength": 1054,
          "time": 85.73143593162193,
          "type": "release"
         },
         {
          "queuelength": 1052,
          "time": 85.73471983604414,
          "type": "release"
         },
         {
          "queuelength": 1051,
          "time": 85.75289036805619,
          "type": "release"
         },
         {
          "queuelength": 1051,
          "time": 85.76892596733548,
          "type": "request"
         },
         {
          "queuelength": 1051,
          "time": 85.79178304996879,
          "type": "release"
         },
         {
          "queuelength": 1050,
          "time": 85.79283755034619,
          "type": "release"
         },
         {
          "queuelength": 1050,
          "time": 85.83447179440633,
          "type": "release"
         },
         {
          "queuelength": 1048,
          "time": 85.86688267832275,
          "type": "release"
         },
         {
          "queuelength": 1048,
          "time": 85.8963472375491,
          "type": "request"
         },
         {
          "queuelength": 1048,
          "time": 85.94080911144957,
          "type": "release"
         },
         {
          "queuelength": 1048,
          "time": 85.98348012912962,
          "type": "request"
         },
         {
          "queuelength": 1048,
          "time": 86.02512426399844,
          "type": "release"
         },
         {
          "queuelength": 1048,
          "time": 86.02555688514887,
          "type": "release"
         },
         {
          "queuelength": 1047,
          "time": 86.06446204929547,
          "type": "request"
         },
         {
          "queuelength": 1047,
          "time": 86.0831605327208,
          "type": "release"
         },
         {
          "queuelength": 1046,
          "time": 86.08870197433134,
          "type": "release"
         },
         {
          "queuelength": 1045,
          "time": 86.14369850823388,
          "type": "release"
         },
         {
          "queuelength": 1044,
          "time": 86.14965246502682,
          "type": "release"
         },
         {
          "queuelength": 1044,
          "time": 86.18400832727465,
          "type": "release"
         },
         {
          "queuelength": 1042,
          "time": 86.2374591192563,
          "type": "release"
         },
         {
          "queuelength": 1041,
          "time": 86.26841202913447,
          "type": "release"
         },
         {
          "queuelength": 1040,
          "time": 86.2916742433751,
          "type": "release"
         },
         {
          "queuelength": 1040,
          "time": 86.29537661330079,
          "type": "request"
         },
         {
          "queuelength": 1040,
          "time": 86.29877506851567,
          "type": "release"
         },
         {
          "queuelength": 1039,
          "time": 86.33353151459747,
          "type": "release"
         },
         {
          "queuelength": 1038,
          "time": 86.33841097550481,
          "type": "release"
         },
         {
          "queuelength": 1038,
          "time": 86.34745017150723,
          "type": "request"
         },
         {
          "queuelength": 1038,
          "time": 86.35502629302218,
          "type": "release"
         },
         {
          "queuelength": 1038,
          "time": 86.37334145570185,
          "type": "release"
         },
         {
          "queuelength": 1036,
          "time": 86.37700399430757,
          "type": "release"
         },
         {
          "queuelength": 1036,
          "time": 86.38032745197656,
          "type": "release"
         },
         {
          "queuelength": 1034,
          "time": 86.41474493547025,
          "type": "release"
         },
         {
          "queuelength": 1034,
          "time": 86.4228654897878,
          "type": "request"
         },
         {
          "queuelength": 1035,
          "time": 86.428229297895,
          "type": "request"
         },
         {
          "queuelength": 1036,
          "time": 86.42848762114951,
          "type": "release"
         },
         {
          "queuelength": 1035,
          "time": 86.43188420577208,
          "type": "request"
         },
         {
          "queuelength": 1036,
          "time": 86.47863056363433,
          "type": "request"
         },
         {
          "queuelength": 1036,
          "time": 86.48765448155243,
          "type": "release"
         },
         {
          "queuelength": 1035,
          "time": 86.52744187110031,
          "type": "release"
         },
         {
          "queuelength": 1034,
          "time": 86.53256449712038,
          "type": "release"
         },
         {
          "queuelength": 1034,
          "time": 86.5423116115211,
          "type": "request"
         },
         {
          "queuelength": 1035,
          "time": 86.5527046061521,
          "type": "request"
         },
         {
          "queuelength": 1035,
          "time": 86.55396558449695,
          "type": "release"
         },
         {
          "queuelength": 1034,
          "time": 86.57414961435481,
          "type": "release"
         },
         {
          "queuelength": 1034,
          "time": 86.60097997994416,
          "type": "request"
         },
         {
          "queuelength": 1034,
          "time": 86.6065309858223,
          "type": "release"
         },
         {
          "queuelength": 1033,
          "time": 86.62310096900697,
          "type": "release"
         },
         {
          "queuelength": 1033,
          "time": 86.64515858681943,
          "type": "release"
         },
         {
          "queuelength": 1032,
          "time": 86.68068968768131,
          "type": "release"
         },
         {
          "queuelength": 1030,
          "time": 86.68226227109965,
          "type": "release"
         },
         {
          "queuelength": 1030,
          "time": 86.71772924526769,
          "type": "request"
         },
         {
          "queuelength": 1031,
          "time": 86.76067588228507,
          "type": "release"
         },
         {
          "queuelength": 1030,
          "time": 86.81144897210297,
          "type": "request"
         },
         {
          "queuelength": 1030,
          "time": 86.86493424541145,
          "type": "release"
         },
         {
          "queuelength": 1030,
          "time": 86.9233298883414,
          "type": "request"
         },
         {
          "queuelength": 1030,
          "time": 86.94440830339884,
          "type": "release"
         },
         {
          "queuelength": 1029,
          "time": 86.96560848560091,
          "type": "release"
         },
         {
          "queuelength": 1029,
          "time": 86.99362828575484,
          "type": "release"
         },
         {
          "queuelength": 1027,
          "time": 86.99715465611582,
          "type": "release"
         },
         {
          "queuelength": 1027,
          "time": 87.03273791303393,
          "type": "request"
         },
         {
          "queuelength": 1027,
          "time": 87.07524701969803,
          "type": "release"
         },
         {
          "queuelength": 1026,
          "time": 87.10111342582319,
          "type": "release"
         },
         {
          "queuelength": 1025,
          "time": 87.13617280677937,
          "type": "release"
         },
         {
          "queuelength": 1025,
          "time": 87.15678485138024,
          "type": "release"
         },
         {
          "queuelength": 1024,
          "time": 87.21012702948681,
          "type": "release"
         },
         {
          "queuelength": 1022,
          "time": 87.2126193467733,
          "type": "release"
         },
         {
          "queuelength": 1022,
          "time": 87.21429572590569,
          "type": "request"
         },
         {
          "queuelength": 1023,
          "time": 87.21686054770251,
          "type": "request"
         },
         {
          "queuelength": 1023,
          "time": 87.22360788132013,
          "type": "release"
         },
         {
          "queuelength": 1023,
          "time": 87.25383641118671,
          "type": "request"
         },
         {
          "queuelength": 1024,
          "time": 87.29840170392906,
          "type": "release"
         },
         {
          "queuelength": 1023,
          "time": 87.3281423943533,
          "type": "release"
         },
         {
          "queuelength": 1022,
          "time": 87.38581942142163,
          "type": "request"
         },
         {
          "queuelength": 1023,
          "time": 87.500552025274,
          "type": "request"
         },
         {
          "queuelength": 1024,
          "time": 87.50411099144874,
          "type": "request"
         },
         {
          "queuelength": 1025,
          "time": 87.55853392695634,
          "type": "request"
         },
         {
          "queuelength": 1026,
          "time": 87.58374374240135,
          "type": "release"
         },
         {
          "queuelength": 1024,
          "time": 87.70325956264267,
          "type": "release"
         },
         {
          "queuelength": 1023,
          "time": 87.70896638293169,
          "type": "release"
         },
         {
          "queuelength": 1023,
          "time": 87.7445913664652,
          "type": "release"
         },
         {
          "queuelength": 1022,
          "time": 87.78147453881375,
          "type": "request"
         },
         {
          "queuelength": 1022,
          "time": 87.78625272189777,
          "type": "release"
         },
         {
          "queuelength": 1022,
          "time": 87.8164276266686,
          "type": "request"
         },
         {
          "queuelength": 1023,
          "time": 87.81987512889734,
          "type": "release"
         },
         {
          "queuelength": 1022,
          "time": 87.86700979518403,
          "type": "request"
         },
         {
          "queuelength": 1023,
          "time": 87.91361939765059,
          "type": "release"
         },
         {
          "queuelength": 1022,
          "time": 87.92144168233614,
          "type": "request"
         },
         {
          "queuelength": 1023,
          "time": 87.95460528541588,
          "type": "request"
         },
         {
          "queuelength": 1024,
          "time": 87.96040680120235,
          "type": "release"
         },
         {
          "queuelength": 1022,
          "time": 87.9741587639486,
          "type": "release"
         },
         {
          "queuelength": 1022,
          "time": 87.98130423671208,
          "type": "release"
         },
         {
          "queuelength": 1020,
          "time": 88.02485612025748,
          "type": "release"
         },
         {
          "queuelength": 1020,
          "time": 88.02587968438374,
          "type": "request"
         },
         {
          "queuelength": 1020,
          "time": 88.02770966592868,
          "type": "release"
         },
         {
          "queuelength": 1019,
          "time": 88.0482000226219,
          "type": "release"
         },
         {
          "queuelength": 1018,
          "time": 88.05447269371088,
          "type": "release"
         },
         {
          "queuelength": 1018,
          "time": 88.0836849790364,
          "type": "request"
         },
         {
          "queuelength": 1018,
          "time": 88.10035261698211,
          "type": "release"
         },
         {
          "queuelength": 1018,
          "time": 88.10748122633264,
          "type": "request"
         },
         {
          "queuelength": 1018,
          "time": 88.11250805188594,
          "type": "release"
         },
         {
          "queuelength": 1018,
          "time": 88.15633121628619,
          "type": "request"
         },
         {
          "queuelength": 1019,
          "time": 88.16852748920225,
          "type": "request"
         },
         {
          "queuelength": 1020,
          "time": 88.19421836833118,
          "type": "release"
         },
         {
          "queuelength": 1018,
          "time": 88.26834784209275,
          "type": "release"
         },
         {
          "queuelength": 1017,
          "time": 88.28346144481515,
          "type": "release"
         },
         {
          "queuelength": 1017,
          "time": 88.30685210716503,
          "type": "request"
         },
         {
          "queuelength": 1017,
          "time": 88.32868278096794,
          "type": "release"
         },
         {
          "queuelength": 1016,
          "time": 88.39253832983103,
          "type": "release"
         },
         {
          "queuelength": 1015,
          "time": 88.40524443595609,
          "type": "release"
         },
         {
          "queuelength": 1014,
          "time": 88.43134894915812,
          "type": "release"
         },
         {
          "queuelength": 1013,
          "time": 88.43980743956686,
          "type": "release"
         },
         {
          "queuelength": 1013,
          "time": 88.44601593789979,
          "type": "request"
         },
         {
          "queuelength": 1013,
          "time": 88.46699215563675,
          "type": "release"
         },
         {
          "queuelength": 1012,
          "time": 88.4958681960874,
          "type": "release"
         },
         {
          "queuelength": 1012,
          "time": 88.51103855752763,
          "type": "release"
         },
         {
          "queuelength": 1010,
          "time": 88.56074982264514,
          "type": "release"
         },
         {
          "queuelength": 1009,
          "time": 88.63941688821933,
          "type": "release"
         },
         {
          "queuelength": 1009,
          "time": 88.68649156392165,
          "type": "release"
         },
         {
          "queuelength": 1007,
          "time": 88.69012569957353,
          "type": "release"
         },
         {
          "queuelength": 1007,
          "time": 88.69305390500502,
          "type": "request"
         },
         {
          "queuelength": 1007,
          "time": 88.7086096925512,
          "type": "release"
         },
         {
          "queuelength": 1007,
          "time": 88.7575808584401,
          "type": "request"
         },
         {
          "queuelength": 1007,
          "time": 88.7896590737301,
          "type": "release"
         },
         {
          "queuelength": 1007,
          "time": 88.83608412249346,
          "type": "request"
         },
         {
          "queuelength": 1007,
          "time": 88.8812635797581,
          "type": "release"
         },
         {
          "queuelength": 1006,
          "time": 88.90462145884149,
          "type": "release"
         },
         {
          "queuelength": 1006,
          "time": 88.94185246314595,
          "type": "release"
         },
         {
          "queuelength": 1004,
          "time": 88.94257796073704,
          "type": "release"
         },
         {
          "queuelength": 1004,
          "time": 88.95816434195905,
          "type": "request"
         },
         {
          "queuelength": 1005,
          "time": 88.96879695496436,
          "type": "release"
         },
         {
          "queuelength": 1003,
          "time": 88.99161817026288,
          "type": "release"
         },
         {
          "queuelength": 1002,
          "time": 88.99777642886676,
          "type": "release"
         },
         {
          "queuelength": 1002,
          "time": 89.03186712709874,
          "type": "request"
         },
         {
          "queuelength": 1003,
          "time": 89.04045884755246,
          "type": "request"
         },
         {
          "queuelength": 1003,
          "time": 89.05957783695581,
          "type": "release"
         },
         {
          "queuelength": 1002,
          "time": 89.07100687288838,
          "type": "release"
         },
         {
          "queuelength": 1002,
          "time": 89.12918340449673,
          "type": "release"
         },
         {
          "queuelength": 1001,
          "time": 89.18556210888293,
          "type": "release"
         },
         {
          "queuelength": 1000,
          "time": 89.18916695710993,
          "type": "request"
         },
         {
          "queuelength": 1001,
          "time": 89.20041192532553,
          "type": "release"
         },
         {
          "queuelength": 999,
          "time": 89.2051105331922,
          "type": "release"
         },
         {
          "queuelength": 999,
          "time": 89.23909216498015,
          "type": "request"
         },
         {
          "queuelength": 1000,
          "time": 89.28517622211373,
          "type": "request"
         },
         {
          "queuelength": 1000,
          "time": 89.28903129965815,
          "type": "release"
         },
         {
          "queuelength": 1000,
          "time": 89.3010729781066,
          "type": "release"
         },
         {
          "queuelength": 998,
          "time": 89.30944022663068,
          "type": "release"
         },
         {
          "queuelength": 998,
          "time": 89.32332991527207,
          "type": "release"
         },
         {
          "queuelength": 996,
          "time": 89.32667443338022,
          "type": "release"
         },
         {
          "queuelength": 996,
          "time": 89.34553885604541,
          "type": "request"
         },
         {
          "queuelength": 996,
          "time": 89.40261528163771,
          "type": "release"
         },
         {
          "queuelength": 995,
          "time": 89.4052224119973,
          "type": "release"
         },
         {
          "queuelength": 994,
          "time": 89.44484510084115,
          "type": "release"
         },
         {
          "queuelength": 994,
          "time": 89.45025031414407,
          "type": "release"
         },
         {
          "queuelength": 993,
          "time": 89.5593845549086,
          "type": "release"
         },
         {
          "queuelength": 991,
          "time": 89.59714307732187,
          "type": "release"
         },
         {
          "queuelength": 990,
          "time": 89.61678627815229,
          "type": "release"
         },
         {
          "queuelength": 990,
          "time": 89.63768787356202,
          "type": "request"
         },
         {
          "queuelength": 990,
          "time": 89.67798551612185,
          "type": "release"
         },
         {
          "queuelength": 990,
          "time": 89.70575297742164,
          "type": "request"
         },
         {
          "queuelength": 990,
          "time": 89.72187846886358,
          "type": "release"
         },
         {
          "queuelength": 989,
          "time": 89.77019432097624,
          "type": "release"
         },
         {
          "queuelength": 989,
          "time": 89.82137198903702,
          "type": "release"
         },
         {
          "queuelength": 987,
          "time": 89.8249897125656,
          "type": "release"
         },
         {
          "queuelength": 986,
          "time": 89.827459044424,
          "type": "release"
         },
         {
          "queuelength": 985,
          "time": 89.83194636824297,
          "type": "release"
         },
         {
          "queuelength": 985,
          "time": 89.85651347882433,
          "type": "request"
         },
         {
          "queuelength": 986,
          "time": 89.90288392527566,
          "type": "release"
         },
         {
          "queuelength": 984,
          "time": 89.93164274615363,
          "type": "release"
         },
         {
          "queuelength": 984,
          "time": 89.9403511950303,
          "type": "request"
         },
         {
          "queuelength": 984,
          "time": 89.95582391536283,
          "type": "release"
         },
         {
          "queuelength": 983,
          "time": 89.99705973323648,
          "type": "release"
         },
         {
          "queuelength": 982,
          "time": 90.01027162170315,
          "type": "release"
         },
         {
          "queuelength": 982,
          "time": 90.04888908202089,
          "type": "request"
         },
         {
          "queuelength": 983,
          "time": 90.07793493228556,
          "type": "request"
         },
         {
          "queuelength": 984,
          "time": 90.09251969038093,
          "type": "request"
         },
         {
          "queuelength": 985,
          "time": 90.10516468636351,
          "type": "request"
         },
         {
          "queuelength": 986,
          "time": 90.1136706996355,
          "type": "request"
         },
         {
          "queuelength": 987,
          "time": 90.15062691317297,
          "type": "request"
         },
         {
          "queuelength": 988,
          "time": 90.18498163955579,
          "type": "release"
         },
         {
          "queuelength": 986,
          "time": 90.18830349495693,
          "type": "release"
         },
         {
          "queuelength": 985,
          "time": 90.19076593078347,
          "type": "release"
         },
         {
          "queuelength": 984,
          "time": 90.25115242224865,
          "type": "release"
         },
         {
          "queuelength": 983,
          "time": 90.25572976731291,
          "type": "release"
         },
         {
          "queuelength": 983,
          "time": 90.26235396652044,
          "type": "request"
         },
         {
          "queuelength": 983,
          "time": 90.276972951674,
          "type": "release"
         },
         {
          "queuelength": 982,
          "time": 90.28709817094477,
          "type": "release"
         },
         {
          "queuelength": 981,
          "time": 90.37079926099543,
          "type": "release"
         },
         {
          "queuelength": 981,
          "time": 90.38024444024725,
          "type": "request"
         },
         {
          "queuelength": 982,
          "time": 90.39682749490085,
          "type": "request"
         },
         {
          "queuelength": 982,
          "time": 90.40153855299435,
          "type": "release"
         },
         {
          "queuelength": 982,
          "time": 90.42227380412989,
          "type": "release"
         },
         {
          "queuelength": 980,
          "time": 90.42981418369962,
          "type": "release"
         },
         {
          "queuelength": 979,
          "time": 90.43355654804722,
          "type": "release"
         },
         {
          "queuelength": 979,
          "time": 90.46892938086295,
          "type": "request"
         },
         {
          "queuelength": 979,
          "time": 90.4781998307626,
          "type": "release"
         },
         {
          "queuelength": 979,
          "time": 90.4945737159106,
          "type": "release"
         },
         {
          "queuelength": 978,
          "time": 90.53399198235957,
          "type": "request"
         },
         {
          "queuelength": 979,
          "time": 90.55044529431315,
          "type": "request"
         },
         {
          "queuelength": 980,
          "time": 90.56001527176127,
          "type": "release"
         },
         {
          "queuelength": 978,
          "time": 90.57092991486952,
          "type": "release"
         },
         {
          "queuelength": 977,
          "time": 90.59610596003046,
          "type": "release"
         },
         {
          "queuelength": 976,
          "time": 90.59915100942229,
          "type": "release"
         },
         {
          "queuelength": 976,
          "time": 90.60615967438181,
          "type": "release"
         },
         {
          "queuelength": 974,
          "time": 90.61625041494177,
          "type": "release"
         },
         {
          "queuelength": 974,
          "time": 90.65328127289638,
          "type": "request"
         },
         {
          "queuelength": 975,
          "time": 90.65724719836973,
          "type": "release"
         },
         {
          "queuelength": 974,
          "time": 90.71164672260157,
          "type": "release"
         },
         {
          "queuelength": 973,
          "time": 90.72694516346235,
          "type": "request"
         },
         {
          "queuelength": 974,
          "time": 90.73338586097202,
          "type": "release"
         },
         {
          "queuelength": 973,
          "time": 90.79178304996879,
          "type": "request"
         },
         {
          "queuelength": 974,
          "time": 90.82253536124668,
          "type": "request"
         },
         {
          "queuelength": 975,
          "time": 90.8434426324176,
          "type": "release"
         },
         {
          "queuelength": 973,
          "time": 90.86536571966286,
          "type": "release"
         },
         {
          "queuelength": 973,
          "time": 90.86688267832275,
          "type": "request"
         },
         {
          "queuelength": 973,
          "time": 90.91447857275409,
          "type": "release"
         },
         {
          "queuelength": 972,
          "time": 90.92183181359886,
          "type": "release"
         },
         {
          "queuelength": 971,
          "time": 90.93491619981486,
          "type": "release"
         },
         {
          "queuelength": 971,
          "time": 90.96598847771372,
          "type": "request"
         },
         {
          "queuelength": 972,
          "time": 90.96713243874896,
          "type": "release"
         },
         {
          "queuelength": 971,
          "time": 90.97398352502664,
          "type": "request"
         },
         {
          "queuelength": 972,
          "time": 90.97398352502664,
          "type": "request"
         },
         {
          "queuelength": 973,
          "time": 90.9893632075692,
          "type": "release"
         },
         {
          "queuelength": 971,
          "time": 90.99960641642582,
          "type": "release"
         },
         {
          "queuelength": 971,
          "time": 91.00633356655838,
          "type": "release"
         },
         {
          "queuelength": 970,
          "time": 91.03498259031493,
          "type": "release"
         },
         {
          "queuelength": 968,
          "time": 91.09304613520068,
          "type": "release"
         },
         {
          "queuelength": 968,
          "time": 91.10083928967106,
          "type": "release"
         },
         {
          "queuelength": 967,
          "time": 91.1145343730314,
          "type": "request"
         },
         {
          "queuelength": 968,
          "time": 91.11711440714862,
          "type": "request"
         },
         {
          "queuelength": 968,
          "time": 91.12245150209367,
          "type": "release"
         },
         {
          "queuelength": 967,
          "time": 91.16684719664833,
          "type": "release"
         },
         {
          "queuelength": 967,
          "time": 91.18380531834117,
          "type": "release"
         },
         {
          "queuelength": 965,
          "time": 91.1990464526726,
          "type": "release"
         },
         {
          "queuelength": 964,
          "time": 91.2085973936738,
          "type": "release"
         },
         {
          "queuelength": 964,
          "time": 91.21005610454887,
          "type": "request"
         },
         {
          "queuelength": 964,
          "time": 91.23161458155863,
          "type": "release"
         },
         {
          "queuelength": 964,
          "time": 91.28797571489558,
          "type": "request"
         },
         {
          "queuelength": 964,
          "time": 91.30766184215076,
          "type": "release"
         },
         {
          "queuelength": 964,
          "time": 91.40908205633603,
          "type": "release"
         },
         {
          "queuelength": 962,
          "time": 91.50533541457295,
          "type": "release"
         },
         {
          "queuelength": 962,
          "time": 91.5529932091251,
          "type": "release"
         },
         {
          "queuelength": 960,
          "time": 91.55525396997282,
          "type": "release"
         },
         {
          "queuelength": 959,
          "time": 91.55765430193671,
          "type": "release"
         },
         {
          "queuelength": 959,
          "time": 91.57414961435481,
          "type": "request"
         },
         {
          "queuelength": 960,
          "time": 91.6917351802856,
          "type": "request"
         },
         {
          "queuelength": 961,
          "time": 91.72271634317383,
          "type": "release"
         },
         {
          "queuelength": 960,
          "time": 91.75218604660884,
          "type": "request"
         },
         {
          "queuelength": 960,
          "time": 91.7638407265209,
          "type": "release"
         },
         {
          "queuelength": 959,
          "time": 91.766387519962,
          "type": "release"
         },
         {
          "queuelength": 958,
          "time": 91.7684069767883,
          "type": "release"
         },
         {
          "queuelength": 958,
          "time": 91.78055684918439,
          "type": "request"
         },
         {
          "queuelength": 958,
          "time": 91.83853676167503,
          "type": "release"
         },
         {
          "queuelength": 957,
          "time": 91.83927060887927,
          "type": "release"
         },
         {
          "queuelength": 957,
          "time": 91.85909688297949,
          "type": "request"
         },
         {
          "queuelength": 958,
          "time": 91.86667367185777,
          "type": "request"
         },
         {
          "queuelength": 958,
          "time": 91.87068061234261,
          "type": "release"
         },
         {
          "queuelength": 957,
          "time": 91.88424995896762,
          "type": "release"
         },
         {
          "queuelength": 956,
          "time": 91.95130842773186,
          "type": "release"
         },
         {
          "queuelength": 956,
          "time": 91.95595117393226,
          "type": "request"
         },
         {
          "queuelength": 957,
          "time": 91.96445677819095,
          "type": "release"
         },
         {
          "queuelength": 956,
          "time": 91.9744054704419,
          "type": "release"
         },
         {
          "queuelength": 954,
          "time": 91.99222310991652,
          "type": "release"
         },
         {
          "queuelength": 953,
          "time": 92.00797134473282,
          "type": "release"
         },
         {
          "queuelength": 953,
          "time": 92.03441662708377,
          "type": "request"
         },
         {
          "queuelength": 954,
          "time": 92.04613155877055,
          "type": "release"
         },
         {
          "queuelength": 952,
          "time": 92.08979767869758,
          "type": "release"
         },
         {
          "queuelength": 951,
          "time": 92.09386807989829,
          "type": "release"
         },
         {
          "queuelength": 950,
          "time": 92.10985471142423,
          "type": "release"
         },
         {
          "queuelength": 950,
          "time": 92.11693926609188,
          "type": "request"
         },
         {
          "queuelength": 950,
          "time": 92.19658365839044,
          "type": "release"
         },
         {
          "queuelength": 950,
          "time": 92.20207214811981,
          "type": "request"
         },
         {
          "queuelength": 951,
          "time": 92.2322550221316,
          "type": "request"
         },
         {
          "queuelength": 951,
          "time": 92.23793533877796,
          "type": "release"
         },
         {
          "queuelength": 950,
          "time": 92.25136417881123,
          "type": "release"
         },
         {
          "queuelength": 950,
          "time": 92.31325109035069,
          "type": "request"
         },
         {
          "queuelength": 951,
          "time": 92.34424368720441,
          "type": "release"
         },
         {
          "queuelength": 950,
          "time": 92.38309332306432,
          "type": "release"
         },
         {
          "queuelength": 948,
          "time": 92.43265659662569,
          "type": "release"
         },
         {
          "queuelength": 948,
          "time": 92.4738955084988,
          "type": "release"
         },
         {
          "queuelength": 946,
          "time": 92.47698708076813,
          "type": "release"
         },
         {
          "queuelength": 945,
          "time": 92.5029826163795,
          "type": "release"
         },
         {
          "queuelength": 945,
          "time": 92.54908926954249,
          "type": "release"
         },
         {
          "queuelength": 944,
          "time": 92.58378630123872,
          "type": "request"
         },
         {
          "queuelength": 945,
          "time": 92.61907520164377,
          "type": "request"
         },
         {
          "queuelength": 946,
          "time": 92.6882322951898,
          "type": "request"
         },
         {
          "queuelength": 946,
          "time": 92.73419154845203,
          "type": "release"
         },
         {
          "queuelength": 945,
          "time": 92.8077171914365,
          "type": "release"
         },
         {
          "queuelength": 944,
          "time": 92.81495796515074,
          "type": "release"
         },
         {
          "queuelength": 944,
          "time": 92.86913598855284,
          "type": "release"
         },
         {
          "queuelength": 943,
          "time": 92.89861065063036,
          "type": "request"
         },
         {
          "queuelength": 943,
          "time": 92.90596575645162,
          "type": "release"
         },
         {
          "queuelength": 943,
          "time": 92.9079818815703,
          "type": "release"
         },
         {
          "queuelength": 942,
          "time": 92.91108080672996,
          "type": "request"
         },
         {
          "queuelength": 943,
          "time": 92.95635433010195,
          "type": "release"
         },
         {
          "queuelength": 942,
          "time": 92.96028593705125,
          "type": "request"
         },
         {
          "queuelength": 943,
          "time": 93.08233345888445,
          "type": "release"
         },
         {
          "queuelength": 941,
          "time": 93.13541421531158,
          "type": "release"
         },
         {
          "queuelength": 940,
          "time": 93.1426990699332,
          "type": "release"
         },
         {
          "queuelength": 939,
          "time": 93.14327133488663,
          "type": "release"
         },
         {
          "queuelength": 938,
          "time": 93.14621015545283,
          "type": "release"
         },
         {
          "queuelength": 937,
          "time": 93.1778067612785,
          "type": "release"
         },
         {
          "queuelength": 936,
          "time": 93.18189323939296,
          "type": "release"
         },
         {
          "queuelength": 935,
          "time": 93.1877834589244,
          "type": "release"
         },
         {
          "queuelength": 935,
          "time": 93.19052711240289,
          "type": "request"
         },
         {
          "queuelength": 935,
          "time": 93.20046119302,
          "type": "release"
         },
         {
          "queuelength": 935,
          "time": 93.22296550446372,
          "type": "release"
         },
         {
          "queuelength": 933,
          "time": 93.23633118996928,
          "type": "release"
         },
         {
          "queuelength": 933,
          "time": 93.29168363298167,
          "type": "request"
         },
         {
          "queuelength": 934,
          "time": 93.31014561426059,
          "type": "release"
         },
         {
          "queuelength": 932,
          "time": 93.34663373558784,
          "type": "release"
         },
         {
          "queuelength": 932,
          "time": 93.37128412382717,
          "type": "request"
         },
         {
          "queuelength": 932,
          "time": 93.37588372549445,
          "type": "release"
         },
         {
          "queuelength": 931,
          "time": 93.39360164677696,
          "type": "release"
         },
         {
          "queuelength": 931,
          "time": 93.41739800868982,
          "type": "request"
         },
         {
          "queuelength": 932,
          "time": 93.42824407397823,
          "type": "request"
         },
         {
          "queuelength": 933,
          "time": 93.42879905584228,
          "type": "request"
         },
         {
          "queuelength": 933,
          "time": 93.43496364140691,
          "type": "release"
         },
         {
          "queuelength": 932,
          "time": 93.45762207134919,
          "type": "release"
         },
         {
          "queuelength": 931,
          "time": 93.5052949348702,
          "type": "release"
         },
         {
          "queuelength": 930,
          "time": 93.542848251177,
          "type": "release"
         },
         {
          "queuelength": 929,
          "time": 93.5589792164819,
          "type": "release"
         },
         {
          "queuelength": 929,
          "time": 93.55947824813364,
          "type": "request"
         },
         {
          "queuelength": 930,
          "time": 93.57593858410534,
          "type": "release"
         },
         {
          "queuelength": 928,
          "time": 93.57659014820726,
          "type": "release"
         },
         {
          "queuelength": 928,
          "time": 93.59033691571523,
          "type": "request"
         },
         {
          "queuelength": 928,
          "time": 93.6069219939435,
          "type": "release"
         },
         {
          "queuelength": 928,
          "time": 93.62172089663905,
          "type": "request"
         },
         {
          "queuelength": 929,
          "time": 93.65380348882312,
          "type": "request"
         },
         {
          "queuelength": 929,
          "time": 93.65873120336235,
          "type": "release"
         },
         {
          "queuelength": 929,
          "time": 93.67601318212023,
          "type": "request"
         },
         {
          "queuelength": 930,
          "time": 93.69012569957353,
          "type": "request"
         },
         {
          "queuelength": 931,
          "time": 93.70378846554449,
          "type": "release"
         },
         {
          "queuelength": 930,
          "time": 93.71004838370528,
          "type": "release"
         },
         {
          "queuelength": 928,
          "time": 93.7282583988898,
          "type": "release"
         },
         {
          "queuelength": 927,
          "time": 93.76018555388114,
          "type": "release"
         },
         {
          "queuelength": 927,
          "time": 93.76143972545187,
          "type": "release"
         },
         {
          "queuelength": 926,
          "time": 93.7694607504931,
          "type": "request"
         },
         {
          "queuelength": 927,
          "time": 93.77914703980306,
          "type": "request"
         },
         {
          "queuelength": 927,
          "time": 93.7911374423181,
          "type": "release"
         },
         {
          "queuelength": 926,
          "time": 93.80179962377278,
          "type": "release"
         },
         {
          "queuelength": 925,
          "time": 93.81439231793047,
          "type": "release"
         },
         {
          "queuelength": 924,
          "time": 93.82770058561987,
          "type": "release"
         },
         {
          "queuelength": 923,
          "time": 93.84047015446603,
          "type": "release"
         },
         {
          "queuelength": 922,
          "time": 93.87490227895158,
          "type": "release"
         },
         {
          "queuelength": 921,
          "time": 93.87908797449295,
          "type": "release"
         },
         {
          "queuelength": 921,
          "time": 93.8812635797581,
          "type": "request"
         },
         {
          "queuelength": 922,
          "time": 93.93115379368894,
          "type": "request"
         },
         {
          "queuelength": 922,
          "time": 93.93842179934211,
          "type": "release"
         },
         {
          "queuelength": 921,
          "time": 93.9884281921675,
          "type": "release"
         },
         {
          "queuelength": 921,
          "time": 94.00301701667603,
          "type": "release"
         },
         {
          "queuelength": 919,
          "time": 94.06087712589616,
          "type": "release"
         },
         {
          "queuelength": 918,
          "time": 94.06658205907391,
          "type": "release"
         },
         {
          "queuelength": 917,
          "time": 94.12933908903366,
          "type": "release"
         },
         {
          "queuelength": 917,
          "time": 94.13742213768958,
          "type": "request"
         },
         {
          "queuelength": 918,
          "time": 94.1515786371767,
          "type": "request"
         },
         {
          "queuelength": 919,
          "time": 94.16274236717804,
          "type": "release"
         },
         {
          "queuelength": 917,
          "time": 94.19060095516825,
          "type": "release"
         },
         {
          "queuelength": 916,
          "time": 94.21524798291975,
          "type": "release"
         },
         {
          "queuelength": 916,
          "time": 94.23876071654934,
          "type": "request"
         },
         {
          "queuelength": 917,
          "time": 94.27770730841944,
          "type": "release"
         },
         {
          "queuelength": 916,
          "time": 94.27957616730454,
          "type": "request"
         },
         {
          "queuelength": 917,
          "time": 94.28470443751613,
          "type": "request"
         },
         {
          "queuelength": 917,
          "time": 94.28993090953023,
          "type": "release"
         },
         {
          "queuelength": 917,
          "time": 94.30399623403169,
          "type": "request"
         },
         {
          "queuelength": 918,
          "time": 94.30944022663068,
          "type": "request"
         },
         {
          "queuelength": 919,
          "time": 94.31705761987209,
          "type": "request"
         },
         {
          "queuelength": 920,
          "time": 94.33507969495648,
          "type": "release"
         },
         {
          "queuelength": 919,
          "time": 94.33722698747978,
          "type": "release"
         },
         {
          "queuelength": 917,
          "time": 94.3589556489826,
          "type": "release"
         },
         {
          "queuelength": 917,
          "time": 94.36058712296258,
          "type": "request"
         },
         {
          "queuelength": 918,
          "time": 94.3771032357842,
          "type": "release"
         },
         {
          "queuelength": 916,
          "time": 94.38979631424282,
          "type": "release"
         },
         {
          "queuelength": 916,
          "time": 94.41404404824208,
          "type": "request"
         },
         {
          "queuelength": 917,
          "time": 94.42016763549391,
          "type": "release"
         },
         {
          "queuelength": 916,
          "time": 94.4627330315596,
          "type": "request"
         },
         {
          "queuelength": 917,
          "time": 94.48041362162715,
          "type": "release"
         },
         {
          "queuelength": 915,
          "time": 94.48475218408505,
          "type": "release"
         },
         {
          "queuelength": 914,
          "time": 94.51504743168675,
          "type": "release"
         },
         {
          "queuelength": 913,
          "time": 94.5164653004128,
          "type": "release"
         },
         {
          "queuelength": 913,
          "time": 94.52353452611074,
          "type": "request"
         },
         {
          "queuelength": 913,
          "time": 94.53822607530688,
          "type": "release"
         },
         {
          "queuelength": 913,
          "time": 94.5396322236007,
          "type": "request"
         },
         {
          "queuelength": 914,
          "time": 94.57414638732895,
          "type": "request"
         },
         {
          "queuelength": 915,
          "time": 94.57425895177406,
          "type": "request"
         },
         {
          "queuelength": 915,
          "time": 94.57998935088148,
          "type": "release"
         },
         {
          "queuelength": 915,
          "time": 94.60032455134177,
          "type": "request"
         },
         {
          "queuelength": 915,
          "time": 94.64165268942689,
          "type": "release"
         },
         {
          "queuelength": 915,
          "time": 94.67699857823925,
          "type": "request"
         },
         {
          "queuelength": 916,
          "time": 94.6806181801717,
          "type": "request"
         },
         {
          "queuelength": 917,
          "time": 94.68827140953536,
          "type": "release"
         },
         {
          "queuelength": 915,
          "time": 94.70275550690066,
          "type": "release"
         },
         {
          "queuelength": 915,
          "time": 94.70308706740337,
          "type": "request"
         },
         {
          "queuelength": 915,
          "time": 94.73116056435882,
          "type": "release"
         },
         {
          "queuelength": 914,
          "time": 94.74261133168247,
          "type": "release"
         },
         {
          "queuelength": 913,
          "time": 94.7529063811898,
          "type": "release"
         },
         {
          "queuelength": 912,
          "time": 94.76725686015683,
          "type": "release"
         },
         {
          "queuelength": 911,
          "time": 94.76836778619298,
          "type": "release"
         },
         {
          "queuelength": 911,
          "time": 94.90187573420415,
          "type": "request"
         },
         {
          "queuelength": 911,
          "time": 94.94011340696545,
          "type": "release"
         },
         {
          "queuelength": 910,
          "time": 94.9735878074712,
          "type": "release"
         },
         {
          "queuelength": 910,
          "time": 94.9991221992755,
          "type": "release"
         },
         {
          "queuelength": 908,
          "time": 95.00569708649495,
          "type": "release"
         },
         {
          "queuelength": 908,
          "time": 95.05879894118634,
          "type": "request"
         },
         {
          "queuelength": 909,
          "time": 95.1242065344681,
          "type": "request"
         },
         {
          "queuelength": 910,
          "time": 95.1384499860151,
          "type": "release"
         },
         {
          "queuelength": 908,
          "time": 95.19225400345685,
          "type": "release"
         },
         {
          "queuelength": 908,
          "time": 95.19545477588322,
          "type": "request"
         },
         {
          "queuelength": 908,
          "time": 95.2187610160079,
          "type": "release"
         },
         {
          "queuelength": 908,
          "time": 95.2712533301465,
          "type": "request"
         },
         {
          "queuelength": 908,
          "time": 95.28398657209398,
          "type": "release"
         },
         {
          "queuelength": 907,
          "time": 95.3483199246277,
          "type": "release"
         },
         {
          "queuelength": 906,
          "time": 95.43001148897203,
          "type": "release"
         },
         {
          "queuelength": 906,
          "time": 95.43355654804722,
          "type": "request"
         },
         {
          "queuelength": 907,
          "time": 95.4781998307626,
          "type": "request"
         },
         {
          "queuelength": 908,
          "time": 95.53846220046992,
          "type": "request"
         },
         {
          "queuelength": 909,
          "time": 95.54843681112526,
          "type": "request"
         },
         {
          "queuelength": 910,
          "time": 95.57092991486952,
          "type": "request"
         },
         {
          "queuelength": 910,
          "time": 95.59073197174328,
          "type": "release"
         },
         {
          "queuelength": 910,
          "time": 95.59339308840538,
          "type": "request"
         },
         {
          "queuelength": 911,
          "time": 95.65486731729337,
          "type": "request"
         },
         {
          "queuelength": 912,
          "time": 95.66041486023593,
          "type": "request"
         },
         {
          "queuelength": 912,
          "time": 95.73911715588665,
          "type": "release"
         },
         {
          "queuelength": 912,
          "time": 95.7665737444457,
          "type": "request"
         },
         {
          "queuelength": 912,
          "time": 95.79448933984662,
          "type": "release"
         },
         {
          "queuelength": 912,
          "time": 95.8069776406288,
          "type": "release"
         },
         {
          "queuelength": 910,
          "time": 95.82610157018469,
          "type": "release"
         },
         {
          "queuelength": 910,
          "time": 95.84297821809919,
          "type": "request"
         },
         {
          "queuelength": 911,
          "time": 95.85471920716155,
          "type": "request"
         },
         {
          "queuelength": 912,
          "time": 95.87195897733265,
          "type": "release"
         },
         {
          "queuelength": 910,
          "time": 95.87478524491908,
          "type": "release"
         },
         {
          "queuelength": 909,
          "time": 95.89096435717613,
          "type": "release"
         },
         {
          "queuelength": 909,
          "time": 95.89637501380503,
          "type": "release"
         },
         {
          "queuelength": 908,
          "time": 95.9185839073811,
          "type": "request"
         },
         {
          "queuelength": 908,
          "time": 95.9221932633277,
          "type": "release"
         },
         {
          "queuelength": 908,
          "time": 95.94595347258067,
          "type": "request"
         },
         {
          "queuelength": 909,
          "time": 95.96409133929197,
          "type": "request"
         },
         {
          "queuelength": 910,
          "time": 95.97569398892533,
          "type": "request"
         },
         {
          "queuelength": 911,
          "time": 96.0012833750429,
          "type": "release"
         },
         {
          "queuelength": 910,
          "time": 96.01809858627762,
          "type": "request"
         },
         {
          "queuelength": 911,
          "time": 96.01941778257033,
          "type": "request"
         },
         {
          "queuelength": 912,
          "time": 96.03642045875735,
          "type": "request"
         },
         {
          "queuelength": 913,
          "time": 96.0491876796506,
          "type": "release"
         },
         {
          "queuelength": 911,
          "time": 96.0690303223627,
          "type": "release"
         },
         {
          "queuelength": 910,
          "time": 96.13391201899088,
          "type": "release"
         },
         {
          "queuelength": 909,
          "time": 96.13748135423253,
          "type": "release"
         },
         {
          "queuelength": 908,
          "time": 96.21247950440673,
          "type": "release"
         },
         {
          "queuelength": 908,
          "time": 96.24910692166053,
          "type": "release"
         },
         {
          "queuelength": 907,
          "time": 96.25364680754164,
          "type": "request"
         },
         {
          "queuelength": 908,
          "time": 96.25467277075822,
          "type": "request"
         },
         {
          "queuelength": 909,
          "time": 96.28763121125965,
          "type": "request"
         },
         {
          "queuelength": 910,
          "time": 96.29014394016559,
          "type": "request"
         },
         {
          "queuelength": 911,
          "time": 96.33230341295251,
          "type": "request"
         },
         {
          "queuelength": 911,
          "time": 96.38439925618158,
          "type": "release"
         },
         {
          "queuelength": 910,
          "time": 96.41481448016941,
          "type": "release"
         },
         {
          "queuelength": 909,
          "time": 96.41932243523902,
          "type": "release"
         },
         {
          "queuelength": 908,
          "time": 96.48158133939287,
          "type": "release"
         },
         {
          "queuelength": 907,
          "time": 96.49149417634017,
          "type": "release"
         },
         {
          "queuelength": 906,
          "time": 96.51853406510975,
          "type": "release"
         },
         {
          "queuelength": 906,
          "time": 96.53929550680752,
          "type": "release"
         },
         {
          "queuelength": 904,
          "time": 96.56884531622899,
          "type": "release"
         },
         {
          "queuelength": 903,
          "time": 96.59390599504515,
          "type": "release"
         },
         {
          "queuelength": 902,
          "time": 96.5950578948582,
          "type": "release"
         },
         {
          "queuelength": 901,
          "time": 96.59940746535439,
          "type": "release"
         },
         {
          "queuelength": 901,
          "time": 96.73779717187911,
          "type": "release"
         },
         {
          "queuelength": 901,
          "time": 166.29683153409226,
          "type": "release"
         },
         {
          "queuelength": 901,
          "time": 166.32873123324097,
          "type": "release"
         },
         {
          "queuelength": 901,
          "time": 168.1971196427494,
          "type": "request"
         },
         {
          "queuelength": 902,
          "time": 168.2202729286365,
          "type": "release"
         },
         {
          "queuelength": 901,
          "time": 168.22830349591266,
          "type": "request"
         },
         {
          "queuelength": 902,
          "time": 168.23199456857643,
          "type": "request"
         },
         {
          "queuelength": 903,
          "time": 168.240109289917,
          "type": "request"
         },
         {
          "queuelength": 904,
          "time": 168.25448526439874,
          "type": "request"
         },
         {
          "queuelength": 905,
          "time": 168.26300034427726,
          "type": "request"
         },
         {
          "queuelength": 906,
          "time": 168.27582427347372,
          "type": "request"
         },
         {
          "queuelength": 907,
          "time": 168.35096304221616,
          "type": "request"
         },
         {
          "queuelength": 907,
          "time": 168.3943639954558,
          "type": "release"
         },
         {
          "queuelength": 907,
          "time": 168.39786308874332,
          "type": "request"
         },
         {
          "queuelength": 908,
          "time": 168.3985016770805,
          "type": "request"
         },
         {
          "queuelength": 908,
          "time": 168.48403254615084,
          "type": "release"
         },
         {
          "queuelength": 908,
          "time": 168.4844060430352,
          "type": "request"
         },
         {
          "queuelength": 909,
          "time": 168.54916947748373,
          "type": "release"
         },
         {
          "queuelength": 908,
          "time": 168.55004940003874,
          "type": "request"
         },
         {
          "queuelength": 909,
          "time": 168.5857926777863,
          "type": "request"
         },
         {
          "queuelength": 910,
          "time": 168.5978591351279,
          "type": "request"
         },
         {
          "queuelength": 911,
          "time": 168.62814752911078,
          "type": "release"
         },
         {
          "queuelength": 909,
          "time": 168.62925413407115,
          "type": "release"
         },
         {
          "queuelength": 908,
          "time": 168.6345377252069,
          "type": "release"
         },
         {
          "queuelength": 908,
          "time": 168.66566550581643,
          "type": "release"
         },
         {
          "queuelength": 906,
          "time": 168.67530049910408,
          "type": "release"
         },
         {
          "queuelength": 906,
          "time": 168.68995447552334,
          "type": "request"
         },
         {
          "queuelength": 907,
          "time": 168.743352176725,
          "type": "request"
         },
         {
          "queuelength": 907,
          "time": 168.7803913189464,
          "type": "release"
         },
         {
          "queuelength": 907,
          "time": 168.84464043375488,
          "type": "request"
         },
         {
          "queuelength": 908,
          "time": 168.8877900716972,
          "type": "request"
         },
         {
          "queuelength": 908,
          "time": 168.89033054598826,
          "type": "release"
         },
         {
          "queuelength": 907,
          "time": 168.93255303924352,
          "type": "release"
         },
         {
          "queuelength": 906,
          "time": 168.9463114936883,
          "type": "release"
         },
         {
          "queuelength": 906,
          "time": 168.95241783159685,
          "type": "request"
         },
         {
          "queuelength": 907,
          "time": 168.97811527584673,
          "type": "release"
         },
         {
          "queuelength": 906,
          "time": 169.023188525551,
          "type": "release"
         },
         {
          "queuelength": 904,
          "time": 169.02936601292217,
          "type": "release"
         },
         {
          "queuelength": 903,
          "time": 169.0419751009066,
          "type": "release"
         },
         {
          "queuelength": 903,
          "time": 169.04543600118072,
          "type": "request"
         },
         {
          "queuelength": 904,
          "time": 169.0922060496997,
          "type": "release"
         },
         {
          "queuelength": 903,
          "time": 169.1157560634831,
          "type": "request"
         },
         {
          "queuelength": 904,
          "time": 169.13089711485677,
          "type": "request"
         },
         {
          "queuelength": 905,
          "time": 169.1420900325769,
          "type": "request"
         },
         {
          "queuelength": 906,
          "time": 169.15085234615614,
          "type": "release"
         },
         {
          "queuelength": 904,
          "time": 169.17378154532523,
          "type": "release"
         },
         {
          "queuelength": 903,
          "time": 169.179565950207,
          "type": "release"
         },
         {
          "queuelength": 902,
          "time": 169.18880116755537,
          "type": "release"
         },
         {
          "queuelength": 902,
          "time": 169.19030138431458,
          "type": "request"
         },
         {
          "queuelength": 903,
          "time": 169.19477481237797,
          "type": "release"
         },
         {
          "queuelength": 901,
          "time": 169.2241683731358,
          "type": "release"
         },
         {
          "queuelength": 901,
          "time": 169.2390440478508,
          "type": "request"
         },
         {
          "queuelength": 902,
          "time": 169.27352469596454,
          "type": "release"
         },
         {
          "queuelength": 901,
          "time": 169.2786421192972,
          "type": "release"
         },
         {
          "queuelength": 901,
          "time": 169.58615653144474,
          "type": "request"
         },
         {
          "queuelength": 902,
          "time": 169.59017866308702,
          "type": "request"
         },
         {
          "queuelength": 903,
          "time": 169.60872573653668,
          "type": "request"
         },
         {
          "queuelength": 903,
          "time": 169.65817415121163,
          "type": "release"
         },
         {
          "queuelength": 903,
          "time": 169.70466021999425,
          "type": "request"
         },
         {
          "queuelength": 903,
          "time": 169.71189636053515,
          "type": "release"
         },
         {
          "queuelength": 903,
          "time": 169.71936889606596,
          "type": "request"
         },
         {
          "queuelength": 903,
          "time": 169.74276692037515,
          "type": "release"
         },
         {
          "queuelength": 903,
          "time": 169.74497112073615,
          "type": "request"
         },
         {
          "queuelength": 903,
          "time": 169.78781380810847,
          "type": "release"
         },
         {
          "queuelength": 903,
          "time": 169.81754174963552,
          "type": "request"
         },
         {
          "queuelength": 904,
          "time": 169.8267919260419,
          "type": "request"
         },
         {
          "queuelength": 905,
          "time": 169.82849235837924,
          "type": "request"
         },
         {
          "queuelength": 906,
          "time": 169.8390195717813,
          "type": "release"
         },
         {
          "queuelength": 905,
          "time": 169.85249234368305,
          "type": "release"
         },
         {
          "queuelength": 904,
          "time": 169.85716565239082,
          "type": "request"
         },
         {
          "queuelength": 905,
          "time": 169.86300461173,
          "type": "request"
         },
         {
          "queuelength": 905,
          "time": 169.89514050706907,
          "type": "release"
         },
         {
          "queuelength": 904,
          "time": 169.89855857151025,
          "type": "release"
         },
         {
          "queuelength": 904,
          "time": 169.9583836734118,
          "type": "request"
         },
         {
          "queuelength": 905,
          "time": 169.96632624029692,
          "type": "release"
         },
         {
          "queuelength": 904,
          "time": 169.99079583365156,
          "type": "request"
         },
         {
          "queuelength": 905,
          "time": 169.99755994947384,
          "type": "request"
         },
         {
          "queuelength": 906,
          "time": 170.00020136501732,
          "type": "request"
         },
         {
          "queuelength": 906,
          "time": 170.00982582982962,
          "type": "release"
         },
         {
          "queuelength": 906,
          "time": 170.01709422521753,
          "type": "request"
         },
         {
          "queuelength": 907,
          "time": 170.0318055179874,
          "type": "request"
         },
         {
          "queuelength": 907,
          "time": 170.0365397708125,
          "type": "release"
         },
         {
          "queuelength": 906,
          "time": 170.03738832421075,
          "type": "release"
         },
         {
          "queuelength": 905,
          "time": 170.0396127734344,
          "type": "release"
         },
         {
          "queuelength": 905,
          "time": 170.0471719532539,
          "type": "release"
         },
         {
          "queuelength": 904,
          "time": 170.05712354230818,
          "type": "request"
         },
         {
          "queuelength": 905,
          "time": 170.07122348043262,
          "type": "release"
         },
         {
          "queuelength": 904,
          "time": 170.09069467105076,
          "type": "release"
         },
         {
          "queuelength": 903,
          "time": 170.12066970470525,
          "type": "release"
         },
         {
          "queuelength": 901,
          "time": 170.13452951901425,
          "type": "release"
         },
         {
          "queuelength": 901,
          "time": 170.1688592889057,
          "type": "release"
         },
         {
          "queuelength": 901,
          "time": 170.26795809176912,
          "type": "release"
         },
         {
          "queuelength": 901,
          "time": 170.48848381713725,
          "type": "request"
         },
         {
          "queuelength": 902,
          "time": 170.55543792526151,
          "type": "request"
         },
         {
          "queuelength": 903,
          "time": 170.5698667802157,
          "type": "request"
         },
         {
          "queuelength": 903,
          "time": 170.59074950362174,
          "type": "release"
         },
         {
          "queuelength": 903,
          "time": 170.6086302206204,
          "type": "request"
         },
         {
          "queuelength": 904,
          "time": 170.62673021992654,
          "type": "request"
         },
         {
          "queuelength": 905,
          "time": 170.64518552901532,
          "type": "release"
         },
         {
          "queuelength": 904,
          "time": 170.68386975724206,
          "type": "request"
         },
         {
          "queuelength": 905,
          "time": 170.70578061158557,
          "type": "request"
         },
         {
          "queuelength": 906,
          "time": 170.80141913556574,
          "type": "request"
         },
         {
          "queuelength": 906,
          "time": 170.83716155941275,
          "type": "release"
         },
         {
          "queuelength": 906,
          "time": 170.8608409015029,
          "type": "request"
         },
         {
          "queuelength": 907,
          "time": 170.86671577762294,
          "type": "release"
         },
         {
          "queuelength": 906,
          "time": 170.89571204508846,
          "type": "release"
         },
         {
          "queuelength": 905,
          "time": 170.91926098658757,
          "type": "request"
         },
         {
          "queuelength": 905,
          "time": 170.94387617731482,
          "type": "release"
         },
         {
          "queuelength": 905,
          "time": 170.97768967882345,
          "type": "request"
         },
         {
          "queuelength": 906,
          "time": 171.03498853094,
          "type": "request"
         },
         {
          "queuelength": 907,
          "time": 171.1146274995166,
          "type": "release"
         },
         {
          "queuelength": 906,
          "time": 171.15102750872626,
          "type": "release"
         },
         {
          "queuelength": 905,
          "time": 171.23221613698576,
          "type": "release"
         },
         {
          "queuelength": 904,
          "time": 171.2344938263517,
          "type": "request"
         },
         {
          "queuelength": 905,
          "time": 171.24022599562,
          "type": "request"
         },
         {
          "queuelength": 905,
          "time": 171.2596931760833,
          "type": "release"
         },
         {
          "queuelength": 905,
          "time": 171.26706642369263,
          "type": "request"
         },
         {
          "queuelength": 905,
          "time": 171.28701451951633,
          "type": "release"
         },
         {
          "queuelength": 905,
          "time": 171.36559329875587,
          "type": "request"
         },
         {
          "queuelength": 906,
          "time": 171.40439126286162,
          "type": "release"
         },
         {
          "queuelength": 905,
          "time": 171.41636369971818,
          "type": "release"
         },
         {
          "queuelength": 904,
          "time": 171.43302859242038,
          "type": "release"
         },
         {
          "queuelength": 903,
          "time": 171.4463732494837,
          "type": "request"
         },
         {
          "queuelength": 904,
          "time": 171.47952030055615,
          "type": "request"
         },
         {
          "queuelength": 905,
          "time": 171.48883815220108,
          "type": "request"
         },
         {
          "queuelength": 905,
          "time": 171.48931298845696,
          "type": "release"
         },
         {
          "queuelength": 905,
          "time": 171.50504245396974,
          "type": "request"
         },
         {
          "queuelength": 906,
          "time": 171.55497968996022,
          "type": "request"
         },
         {
          "queuelength": 906,
          "time": 171.55686737779493,
          "type": "release"
         },
         {
          "queuelength": 906,
          "time": 171.60782600287587,
          "type": "request"
         },
         {
          "queuelength": 907,
          "time": 171.6123568063207,
          "type": "request"
         },
         {
          "queuelength": 908,
          "time": 171.6281306438161,
          "type": "release"
         },
         {
          "queuelength": 907,
          "time": 171.65503408238428,
          "type": "request"
         },
         {
          "queuelength": 908,
          "time": 171.66379759618698,
          "type": "release"
         },
         {
          "queuelength": 906,
          "time": 171.73824830201534,
          "type": "release"
         },
         {
          "queuelength": 906,
          "time": 171.75793274587815,
          "type": "request"
         },
         {
          "queuelength": 906,
          "time": 171.80106169399278,
          "type": "release"
         },
         {
          "queuelength": 905,
          "time": 171.84672835818964,
          "type": "release"
         },
         {
          "queuelength": 905,
          "time": 171.84988417600346,
          "type": "request"
         },
         {
          "queuelength": 905,
          "time": 171.88464117373462,
          "type": "release"
         },
         {
          "queuelength": 904,
          "time": 171.88769720723093,
          "type": "release"
         },
         {
          "queuelength": 904,
          "time": 171.90140716537903,
          "type": "release"
         },
         {
          "queuelength": 902,
          "time": 171.93174610393896,
          "type": "release"
         },
         {
          "queuelength": 902,
          "time": 171.96616134856802,
          "type": "release"
         },
         {
          "queuelength": 901,
          "time": 171.99796871173942,
          "type": "release"
         },
         {
          "queuelength": 901,
          "time": 172.02302207501566,
          "type": "request"
         },
         {
          "queuelength": 902,
          "time": 172.04273768522947,
          "type": "request"
         },
         {
          "queuelength": 903,
          "time": 172.13755584872283,
          "type": "request"
         },
         {
          "queuelength": 903,
          "time": 172.1379764734283,
          "type": "release"
         },
         {
          "queuelength": 903,
          "time": 172.20185346013568,
          "type": "request"
         },
         {
          "queuelength": 904,
          "time": 172.24955953405495,
          "type": "request"
         },
         {
          "queuelength": 905,
          "time": 172.28583569893715,
          "type": "request"
         },
         {
          "queuelength": 906,
          "time": 172.29318934755537,
          "type": "request"
         },
         {
          "queuelength": 907,
          "time": 172.29724758949226,
          "type": "release"
         },
         {
          "queuelength": 906,
          "time": 172.34726051139288,
          "type": "request"
         },
         {
          "queuelength": 906,
          "time": 172.3529650896648,
          "type": "release"
         },
         {
          "queuelength": 905,
          "time": 172.3826175103851,
          "type": "release"
         },
         {
          "queuelength": 904,
          "time": 172.41866988102302,
          "type": "release"
         },
         {
          "queuelength": 904,
          "time": 172.47721075616795,
          "type": "release"
         },
         {
          "queuelength": 902,
          "time": 172.48310248055031,
          "type": "release"
         },
         {
          "queuelength": 902,
          "time": 172.48563748230663,
          "type": "release"
         },
         {
          "queuelength": 901,
          "time": 172.51756525881098,
          "type": "request"
         },
         {
          "queuelength": 901,
          "time": 172.5199465015584,
          "type": "release"
         },
         {
          "queuelength": 901,
          "time": 172.5203297303105,
          "type": "request"
         },
         {
          "queuelength": 902,
          "time": 172.56004682878682,
          "type": "request"
         },
         {
          "queuelength": 903,
          "time": 172.56133585377952,
          "type": "release"
         },
         {
          "queuelength": 902,
          "time": 172.58541960630964,
          "type": "release"
         },
         {
          "queuelength": 901,
          "time": 172.59739436533732,
          "type": "release"
         },
         {
          "queuelength": 901,
          "time": 172.71477080216954,
          "type": "request"
         },
         {
          "queuelength": 901,
          "time": 172.75361090871726,
          "type": "release"
         },
         {
          "queuelength": 901,
          "time": 172.76979094498336,
          "type": "release"
         },
         {
          "queuelength": 901,
          "time": 172.7865380172857,
          "type": "request"
         },
         {
          "queuelength": 902,
          "time": 172.88998047245173,
          "type": "request"
         },
         {
          "queuelength": 903,
          "time": 172.9035247456643,
          "type": "request"
         },
         {
          "queuelength": 904,
          "time": 172.91904689639108,
          "type": "release"
         },
         {
          "queuelength": 903,
          "time": 172.94396414105975,
          "type": "release"
         },
         {
          "queuelength": 902,
          "time": 172.94527217905312,
          "type": "release"
         },
         {
          "queuelength": 901,
          "time": 172.96396599187804,
          "type": "release"
         },
         {
          "queuelength": 901,
          "time": 176.7714029353351,
          "type": "release"
         },
         {
          "queuelength": 901,
          "time": 176.80106169399278,
          "type": "request"
         },
         {
          "queuelength": 901,
          "time": 176.83300844326257,
          "type": "release"
         },
         {
          "queuelength": 901,
          "time": 176.83509837335177,
          "type": "release"
         },
         {
          "queuelength": 901,
          "time": 176.88769720723093,
          "type": "request"
         },
         {
          "queuelength": 902,
          "time": 176.92805581285398,
          "type": "request"
         },
         {
          "queuelength": 903,
          "time": 176.93321373288086,
          "type": "request"
         },
         {
          "queuelength": 904,
          "time": 176.94583850314842,
          "type": "release"
         },
         {
          "queuelength": 903,
          "time": 176.95161560632488,
          "type": "request"
         },
         {
          "queuelength": 904,
          "time": 176.9594730250641,
          "type": "release"
         },
         {
          "queuelength": 903,
          "time": 176.98506848121497,
          "type": "request"
         },
         {
          "queuelength": 903,
          "time": 176.9988105455266,
          "type": "release"
         },
         {
          "queuelength": 903,
          "time": 177.01550928907744,
          "type": "request"
         },
         {
          "queuelength": 903,
          "time": 177.08639032336043,
          "type": "release"
         },
         {
          "queuelength": 902,
          "time": 177.08687398807018,
          "type": "release"
         },
         {
          "queuelength": 902,
          "time": 177.08794803254796,
          "type": "request"
         },
         {
          "queuelength": 903,
          "time": 177.09776342602171,
          "type": "request"
         },
         {
          "queuelength": 904,
          "time": 177.10073667311752,
          "type": "request"
         },
         {
          "queuelength": 905,
          "time": 177.10187259010615,
          "type": "request"
         },
         {
          "queuelength": 906,
          "time": 177.12617874597876,
          "type": "release"
         },
         {
          "queuelength": 905,
          "time": 177.1759169599656,
          "type": "request"
         },
         {
          "queuelength": 906,
          "time": 177.1892961701391,
          "type": "request"
         },
         {
          "queuelength": 906,
          "time": 177.21211636866138,
          "type": "release"
         },
         {
          "queuelength": 905,
          "time": 177.21719867853867,
          "type": "release"
         },
         {
          "queuelength": 905,
          "time": 177.26054283679898,
          "type": "release"
         },
         {
          "queuelength": 903,
          "time": 177.27537655217677,
          "type": "release"
         },
         {
          "queuelength": 903,
          "time": 177.27743196802373,
          "type": "request"
         },
         {
          "queuelength": 904,
          "time": 177.2834977713776,
          "type": "request"
         },
         {
          "queuelength": 905,
          "time": 177.32950096531135,
          "type": "release"
         },
         {
          "queuelength": 903,
          "time": 177.33018843482245,
          "type": "release"
         },
         {
          "queuelength": 903,
          "time": 177.35342331437124,
          "type": "request"
         },
         {
          "queuelength": 904,
          "time": 177.41395915398545,
          "type": "request"
         },
         {
          "queuelength": 905,
          "time": 177.43892801091096,
          "type": "request"
         },
         {
          "queuelength": 906,
          "time": 177.48310248055031,
          "type": "request"
         },
         {
          "queuelength": 907,
          "time": 177.50802876552333,
          "type": "release"
         },
         {
          "queuelength": 906,
          "time": 177.51826550250337,
          "type": "release"
         },
         {
          "queuelength": 905,
          "time": 177.5520682662871,
          "type": "request"
         },
         {
          "queuelength": 906,
          "time": 177.55216157009926,
          "type": "request"
         },
         {
          "queuelength": 907,
          "time": 177.56312101711248,
          "type": "release"
         },
         {
          "queuelength": 905,
          "time": 177.5653820453154,
          "type": "release"
         },
         {
          "queuelength": 905,
          "time": 177.58644884948507,
          "type": "request"
         },
         {
          "queuelength": 906,
          "time": 177.58652121997392,
          "type": "release"
         },
         {
          "queuelength": 905,
          "time": 177.5918586086865,
          "type": "request"
         },
         {
          "queuelength": 906,
          "time": 177.59472229622529,
          "type": "release"
         },
         {
          "queuelength": 905,
          "time": 177.60841587080301,
          "type": "request"
         },
         {
          "queuelength": 906,
          "time": 177.6414043533949,
          "type": "request"
         },
         {
          "queuelength": 907,
          "time": 177.65435253403675,
          "type": "request"
         },
         {
          "queuelength": 907,
          "time": 177.66334364532466,
          "type": "release"
         },
         {
          "queuelength": 907,
          "time": 177.69099125379196,
          "type": "release"
         },
         {
          "queuelength": 906,
          "time": 177.70398833448132,
          "type": "release"
         },
         {
          "queuelength": 905,
          "time": 177.7180217150023,
          "type": "request"
         },
         {
          "queuelength": 906,
          "time": 177.78508132109567,
          "type": "release"
         },
         {
          "queuelength": 905,
          "time": 177.79636137286437,
          "type": "request"
         },
         {
          "queuelength": 906,
          "time": 177.8167654286261,
          "type": "release"
         },
         {
          "queuelength": 905,
          "time": 177.83307216013537,
          "type": "request"
         },
         {
          "queuelength": 905,
          "time": 177.85040871576925,
          "type": "release"
         },
         {
          "queuelength": 905,
          "time": 177.86382324338797,
          "type": "request"
         },
         {
          "queuelength": 906,
          "time": 177.87837077572152,
          "type": "request"
         },
         {
          "queuelength": 907,
          "time": 177.92955377570183,
          "type": "release"
         },
         {
          "queuelength": 906,
          "time": 177.9560898250392,
          "type": "request"
         },
         {
          "queuelength": 907,
          "time": 177.9724119528604,
          "type": "request"
         },
         {
          "queuelength": 908,
          "time": 177.99015298377333,
          "type": "request"
         },
         {
          "queuelength": 909,
          "time": 178.0248254840723,
          "type": "request"
         },
         {
          "queuelength": 909,
          "time": 178.0299062520602,
          "type": "release"
         },
         {
          "queuelength": 908,
          "time": 178.0679837806386,
          "type": "release"
         },
         {
          "queuelength": 907,
          "time": 178.14515285780215,
          "type": "release"
         },
         {
          "queuelength": 906,
          "time": 178.24169344475274,
          "type": "release"
         },
         {
          "queuelength": 906,
          "time": 178.2980525082501,
          "type": "release"
         },
         {
          "queuelength": 905,
          "time": 178.3481291193448,
          "type": "release"
         },
         {
          "queuelength": 904,
          "time": 178.37072746535256,
          "type": "request"
         },
         {
          "queuelength": 905,
          "time": 178.37900545803362,
          "type": "release"
         },
         {
          "queuelength": 904,
          "time": 178.38366915415148,
          "type": "release"
         },
         {
          "queuelength": 903,
          "time": 178.41946055336956,
          "type": "release"
         },
         {
          "queuelength": 902,
          "time": 178.4299561263901,
          "type": "release"
         },
         {
          "queuelength": 901,
          "time": 178.4669997629092,
          "type": "request"
         },
         {
          "queuelength": 902,
          "time": 178.49147645964203,
          "type": "request"
         },
         {
          "queuelength": 902,
          "time": 178.53349851179095,
          "type": "release"
         },
         {
          "queuelength": 902,
          "time": 178.53496155791456,
          "type": "release"
         },
         {
          "queuelength": 901,
          "time": 178.61190507127435,
          "type": "release"
         },
         {
          "queuelength": 901,
          "time": 178.68754664175486,
          "type": "request"
         },
         {
          "queuelength": 902,
          "time": 178.6929261720257,
          "type": "request"
         },
         {
          "queuelength": 903,
          "time": 178.71438928437166,
          "type": "release"
         },
         {
          "queuelength": 901,
          "time": 178.7227590079599,
          "type": "release"
         },
         {
          "queuelength": 901,
          "time": 178.7835369107148,
          "type": "release"
         },
         {
          "queuelength": 901,
          "time": 179.72302207000783,
          "type": "release"
         },
         {
          "queuelength": 901,
          "time": 179.74835091367785,
          "type": "request"
         },
         {
          "queuelength": 902,
          "time": 179.76409007845032,
          "type": "request"
         },
         {
          "queuelength": 902,
          "time": 179.79112434194616,
          "type": "release"
         },
         {
          "queuelength": 902,
          "time": 179.80032536341952,
          "type": "request"
         },
         {
          "queuelength": 902,
          "time": 179.80046898890785,
          "type": "release"
         },
         {
          "queuelength": 902,
          "time": 179.81834028858128,
          "type": "request"
         },
         {
          "queuelength": 903,
          "time": 179.87011189627907,
          "type": "request"
         },
         {
          "queuelength": 904,
          "time": 179.87626914340163,
          "type": "request"
         },
         {
          "queuelength": 905,
          "time": 179.88917436641538,
          "type": "request"
         },
         {
          "queuelength": 905,
          "time": 179.89175488204916,
          "type": "release"
         },
         {
          "queuelength": 905,
          "time": 179.90262882649665,
          "type": "request"
         },
         {
          "queuelength": 906,
          "time": 179.9199620586433,
          "type": "release"
         },
         {
          "queuelength": 905,
          "time": 179.9342445074612,
          "type": "release"
         },
         {
          "queuelength": 904,
          "time": 179.9350542258526,
          "type": "request"
         },
         {
          "queuelength": 905,
          "time": 179.9726216462759,
          "type": "request"
         },
         {
          "queuelength": 906,
          "time": 179.9896975978336,
          "type": "request"
         },
         {
          "queuelength": 906,
          "time": 180.04178531637535,
          "type": "release"
         },
         {
          "queuelength": 906,
          "time": 180.06278067037846,
          "type": "request"
         },
         {
          "queuelength": 907,
          "time": 180.07646895195157,
          "type": "request"
         },
         {
          "queuelength": 908,
          "time": 180.09211378901264,
          "type": "request"
         },
         {
          "queuelength": 908,
          "time": 180.11419378707672,
          "type": "release"
         },
         {
          "queuelength": 908,
          "time": 180.17980742557558,
          "type": "request"
         },
         {
          "queuelength": 909,
          "time": 180.20371630599874,
          "type": "request"
         },
         {
          "queuelength": 910,
          "time": 180.25832944129763,
          "type": "request"
         },
         {
          "queuelength": 911,
          "time": 180.25856156870265,
          "type": "request"
         },
         {
          "queuelength": 911,
          "time": 180.2700019930755,
          "type": "release"
         },
         {
          "queuelength": 911,
          "time": 180.32408062017396,
          "type": "release"
         },
         {
          "queuelength": 909,
          "time": 180.33544294445267,
          "type": "release"
         },
         {
          "queuelength": 909,
          "time": 180.33838268842806,
          "type": "request"
         },
         {
          "queuelength": 909,
          "time": 180.43561727338772,
          "type": "release"
         },
         {
          "queuelength": 909,
          "time": 180.46172464086544,
          "type": "release"
         },
         {
          "queuelength": 907,
          "time": 180.50004987955668,
          "type": "release"
         },
         {
          "queuelength": 906,
          "time": 180.52080239273766,
          "type": "release"
         },
         {
          "queuelength": 905,
          "time": 180.57795418094096,
          "type": "release"
         },
         {
          "queuelength": 905,
          "time": 180.5970988718152,
          "type": "request"
         },
         {
          "queuelength": 906,
          "time": 180.62624111985258,
          "type": "request"
         },
         {
          "queuelength": 907,
          "time": 180.63193170406885,
          "type": "request"
         },
         {
          "queuelength": 907,
          "time": 180.66202580561983,
          "type": "release"
         },
         {
          "queuelength": 907,
          "time": 180.71931139801643,
          "type": "release"
         },
         {
          "queuelength": 906,
          "time": 180.7793948536395,
          "type": "request"
         },
         {
          "queuelength": 907,
          "time": 180.79052370134937,
          "type": "request"
         },
         {
          "queuelength": 908,
          "time": 180.85509665463752,
          "type": "request"
         },
         {
          "queuelength": 908,
          "time": 180.86273379776938,
          "type": "release"
         },
         {
          "queuelength": 908,
          "time": 180.89013755939968,
          "type": "request"
         },
         {
          "queuelength": 908,
          "time": 180.91030324796705,
          "type": "release"
         },
         {
          "queuelength": 908,
          "time": 180.95255111886095,
          "type": "release"
         },
         {
          "queuelength": 907,
          "time": 180.95643761417102,
          "type": "release"
         },
         {
          "queuelength": 906,
          "time": 180.96784147627403,
          "type": "release"
         },
         {
          "queuelength": 905,
          "time": 180.96785866481326,
          "type": "request"
         },
         {
          "queuelength": 906,
          "time": 181.09070517317892,
          "type": "request"
         },
         {
          "queuelength": 907,
          "time": 181.1046475546344,
          "type": "release"
         },
         {
          "queuelength": 906,
          "time": 181.12811434650797,
          "type": "release"
         },
         {
          "queuelength": 905,
          "time": 181.15625169450223,
          "type": "release"
         },
         {
          "queuelength": 903,
          "time": 181.1728007651478,
          "type": "release"
         },
         {
          "queuelength": 903,
          "time": 181.23759622866282,
          "type": "request"
         },
         {
          "queuelength": 903,
          "time": 181.24350623092138,
          "type": "release"
         },
         {
          "queuelength": 903,
          "time": 181.24539451055813,
          "type": "request"
         },
         {
          "queuelength": 904,
          "time": 181.2603508766715,
          "type": "request"
         },
         {
          "queuelength": 905,
          "time": 181.36756254566598,
          "type": "request"
         },
         {
          "queuelength": 906,
          "time": 181.3705929460985,
          "type": "request"
         },
         {
          "queuelength": 907,
          "time": 181.39568920980992,
          "type": "request"
         },
         {
          "queuelength": 908,
          "time": 181.41384706026307,
          "type": "request"
         },
         {
          "queuelength": 908,
          "time": 181.41677565986586,
          "type": "release"
         },
         {
          "queuelength": 907,
          "time": 181.46257612497402,
          "type": "release"
         },
         {
          "queuelength": 907,
          "time": 181.53138470592896,
          "type": "release"
         },
         {
          "queuelength": 906,
          "time": 181.5333872877681,
          "type": "request"
         },
         {
          "queuelength": 907,
          "time": 181.55330187021494,
          "type": "request"
         },
         {
          "queuelength": 908,
          "time": 181.55494524795157,
          "type": "request"
         },
         {
          "queuelength": 909,
          "time": 181.57928479013424,
          "type": "request"
         },
         {
          "queuelength": 910,
          "time": 181.57948142667948,
          "type": "release"
         },
         {
          "queuelength": 908,
          "time": 181.61369779207345,
          "type": "release"
         },
         {
          "queuelength": 908,
          "time": 181.62496871231025,
          "type": "request"
         },
         {
          "queuelength": 908,
          "time": 181.63257119573456,
          "type": "release"
         },
         {
          "queuelength": 908,
          "time": 181.71365214082357,
          "type": "request"
         },
         {
          "queuelength": 909,
          "time": 181.72916462091234,
          "type": "release"
         },
         {
          "queuelength": 907,
          "time": 181.77836168923935,
          "type": "release"
         },
         {
          "queuelength": 907,
          "time": 181.7818093222962,
          "type": "request"
         },
         {
          "queuelength": 908,
          "time": 181.79867862719016,
          "type": "request"
         },
         {
          "queuelength": 909,
          "time": 181.81290198298302,
          "type": "request"
         },
         {
          "queuelength": 910,
          "time": 181.8281156673452,
          "type": "request"
         },
         {
          "queuelength": 911,
          "time": 181.95171945019374,
          "type": "release"
         },
         {
          "queuelength": 909,
          "time": 182.00030394865954,
          "type": "release"
         },
         {
          "queuelength": 908,
          "time": 182.02473455093,
          "type": "release"
         },
         {
          "queuelength": 908,
          "time": 182.0637205763188,
          "type": "release"
         },
         {
          "queuelength": 907,
          "time": 182.1100741111361,
          "type": "release"
         },
         {
          "queuelength": 906,
          "time": 182.16597521479736,
          "type": "request"
         },
         {
          "queuelength": 907,
          "time": 182.17546080596782,
          "type": "release"
         },
         {
          "queuelength": 906,
          "time": 182.20228737568476,
          "type": "request"
         },
         {
          "queuelength": 907,
          "time": 182.21719867853867,
          "type": "request"
         },
         {
          "queuelength": 907,
          "time": 182.22979320771316,
          "type": "release"
         },
         {
          "queuelength": 907,
          "time": 182.27146850115616,
          "type": "release"
         },
         {
          "queuelength": 905,
          "time": 182.2783329850718,
          "type": "release"
         },
         {
          "queuelength": 905,
          "time": 182.28600052127564,
          "type": "request"
         },
         {
          "queuelength": 906,
          "time": 182.36590329566945,
          "type": "request"
         },
         {
          "queuelength": 907,
          "time": 182.37915609489824,
          "type": "request"
         },
         {
          "queuelength": 908,
          "time": 182.40873134546578,
          "type": "release"
         },
         {
          "queuelength": 907,
          "time": 182.51604641768108,
          "type": "release"
         },
         {
          "queuelength": 905,
          "time": 182.5221669335258,
          "type": "release"
         },
         {
          "queuelength": 905,
          "time": 182.5392831473692,
          "type": "release"
         },
         {
          "queuelength": 904,
          "time": 182.555295136766,
          "type": "request"
         },
         {
          "queuelength": 905,
          "time": 182.59360001904497,
          "type": "request"
         },
         {
          "queuelength": 906,
          "time": 182.62578998981894,
          "type": "release"
         },
         {
          "queuelength": 905,
          "time": 182.63945204661778,
          "type": "request"
         },
         {
          "queuelength": 906,
          "time": 182.66882971901663,
          "type": "request"
         },
         {
          "queuelength": 907,
          "time": 182.6855957740767,
          "type": "request"
         },
         {
          "queuelength": 908,
          "time": 182.70390531223666,
          "type": "request"
         },
         {
          "queuelength": 909,
          "time": 182.74834196209443,
          "type": "request"
         },
         {
          "queuelength": 910,
          "time": 182.7698080873759,
          "type": "release"
         },
         {
          "queuelength": 909,
          "time": 182.79634920454998,
          "type": "request"
         },
         {
          "queuelength": 909,
          "time": 182.79660167045358,
          "type": "release"
         },
         {
          "queuelength": 909,
          "time": 182.80594401397087,
          "type": "request"
         },
         {
          "queuelength": 910,
          "time": 182.82975395245936,
          "type": "release"
         },
         {
          "queuelength": 909,
          "time": 182.86423378728315,
          "type": "request"
         },
         {
          "queuelength": 910,
          "time": 182.8784386684725,
          "type": "release"
         },
         {
          "queuelength": 909,
          "time": 182.96089417147488,
          "type": "request"
         },
         {
          "queuelength": 909,
          "time": 182.97335718864312,
          "type": "release"
         },
         {
          "queuelength": 909,
          "time": 183.00277955105219,
          "type": "request"
         },
         {
          "queuelength": 909,
          "time": 183.06719685468155,
          "type": "release"
         },
         {
          "queuelength": 909,
          "time": 183.0679837806386,
          "type": "request"
         },
         {
          "queuelength": 909,
          "time": 183.07238445628587,
          "type": "release"
         },
         {
          "queuelength": 909,
          "time": 183.08627676640614,
          "type": "request"
         },
         {
          "queuelength": 910,
          "time": 183.10295204186104,
          "type": "request"
         },
         {
          "queuelength": 911,
          "time": 183.12718473861486,
          "type": "request"
         },
         {
          "queuelength": 911,
          "time": 183.15466558562375,
          "type": "release"
         },
         {
          "queuelength": 910,
          "time": 183.17795790174364,
          "type": "release"
         },
         {
          "queuelength": 910,
          "time": 183.19600688110864,
          "type": "request"
         },
         {
          "queuelength": 911,
          "time": 183.24065295250645,
          "type": "release"
         },
         {
          "queuelength": 909,
          "time": 183.26037605673875,
          "type": "release"
         },
         {
          "queuelength": 908,
          "time": 183.2733525697723,
          "type": "release"
         },
         {
          "queuelength": 908,
          "time": 183.30187008023879,
          "type": "request"
         },
         {
          "queuelength": 909,
          "time": 183.40114366060635,
          "type": "request"
         },
         {
          "queuelength": 910,
          "time": 183.40154307972705,
          "type": "request"
         },
         {
          "queuelength": 910,
          "time": 183.41804409499133,
          "type": "release"
         },
         {
          "queuelength": 910,
          "time": 183.48586700050436,
          "type": "release"
         },
         {
          "queuelength": 908,
          "time": 183.52687737065034,
          "type": "release"
         },
         {
          "queuelength": 908,
          "time": 183.55048996692082,
          "type": "request"
         },
         {
          "queuelength": 909,
          "time": 183.55407421656315,
          "type": "release"
         },
         {
          "queuelength": 908,
          "time": 183.5852887610726,
          "type": "request"
         },
         {
          "queuelength": 909,
          "time": 183.6057399524488,
          "type": "request"
         },
         {
          "queuelength": 909,
          "time": 183.63805962069887,
          "type": "release"
         },
         {
          "queuelength": 909,
          "time": 183.64154683981428,
          "type": "request"
         },
         {
          "queuelength": 909,
          "time": 183.64928955423989,
          "type": "release"
         },
         {
          "queuelength": 909,
          "time": 183.6845118790663,
          "type": "request"
         },
         {
          "queuelength": 909,
          "time": 183.72491059870202,
          "type": "release"
         },
         {
          "queuelength": 909,
          "time": 183.77185920240214,
          "type": "request"
         },
         {
          "queuelength": 910,
          "time": 183.78977713255856,
          "type": "request"
         },
         {
          "queuelength": 911,
          "time": 183.8286070406985,
          "type": "request"
         },
         {
          "queuelength": 912,
          "time": 183.8342713820986,
          "type": "request"
         },
         {
          "queuelength": 912,
          "time": 183.88514464115718,
          "type": "release"
         },
         {
          "queuelength": 911,
          "time": 183.89811527050907,
          "type": "release"
         },
         {
          "queuelength": 911,
          "time": 183.90747341739362,
          "type": "request"
         },
         {
          "queuelength": 912,
          "time": 183.9204142163772,
          "type": "request"
         },
         {
          "queuelength": 913,
          "time": 183.959737792648,
          "type": "request"
         },
         {
          "queuelength": 914,
          "time": 183.96686743553232,
          "type": "release"
         },
         {
          "queuelength": 913,
          "time": 184.00695653377494,
          "type": "request"
         },
         {
          "queuelength": 914,
          "time": 184.09060255333054,
          "type": "request"
         },
         {
          "queuelength": 915,
          "time": 184.09528845945897,
          "type": "request"
         },
         {
          "queuelength": 915,
          "time": 184.1206634677718,
          "type": "release"
         },
         {
          "queuelength": 915,
          "time": 184.1232615408078,
          "type": "request"
         },
         {
          "queuelength": 915,
          "time": 184.1355995295402,
          "type": "release"
         },
         {
          "queuelength": 915,
          "time": 184.13721543133676,
          "type": "request"
         },
         {
          "queuelength": 916,
          "time": 184.1389844519864,
          "type": "release"
         },
         {
          "queuelength": 914,
          "time": 184.1617454339958,
          "type": "release"
         },
         {
          "queuelength": 914,
          "time": 184.16227369603405,
          "type": "request"
         },
         {
          "queuelength": 915,
          "time": 184.18151932558405,
          "type": "release"
         },
         {
          "queuelength": 914,
          "time": 184.20485648143244,
          "type": "request"
         },
         {
          "queuelength": 915,
          "time": 184.23400484151801,
          "type": "request"
         },
         {
          "queuelength": 916,
          "time": 184.24382173493672,
          "type": "request"
         },
         {
          "queuelength": 917,
          "time": 184.2785167640776,
          "type": "request"
         },
         {
          "queuelength": 917,
          "time": 184.32764274459421,
          "type": "release"
         },
         {
          "queuelength": 917,
          "time": 184.35457625773137,
          "type": "request"
         },
         {
          "queuelength": 918,
          "time": 184.38054146008645,
          "type": "request"
         },
         {
          "queuelength": 919,
          "time": 184.38063420193524,
          "type": "request"
         },
         {
          "queuelength": 919,
          "time": 184.38234915109103,
          "type": "release"
         },
         {
          "queuelength": 919,
          "time": 184.4085540442403,
          "type": "release"
         },
         {
          "queuelength": 918,
          "time": 184.43848059008857,
          "type": "request"
         },
         {
          "queuelength": 918,
          "time": 184.53342807175932,
          "type": "release"
         },
         {
          "queuelength": 918,
          "time": 184.57874543522587,
          "type": "release"
         },
         {
          "queuelength": 917,
          "time": 184.61524045241103,
          "type": "release"
         },
         {
          "queuelength": 915,
          "time": 184.64657328760032,
          "type": "release"
         },
         {
          "queuelength": 915,
          "time": 184.6695326629715,
          "type": "request"
         },
         {
          "queuelength": 916,
          "time": 184.6835595030517,
          "type": "request"
         },
         {
          "queuelength": 917,
          "time": 184.68514897395477,
          "type": "request"
         },
         {
          "queuelength": 917,
          "time": 184.72952558068516,
          "type": "release"
         },
         {
          "queuelength": 916,
          "time": 184.74156679004028,
          "type": "release"
         },
         {
          "queuelength": 916,
          "time": 184.7688396150623,
          "type": "request"
         },
         {
          "queuelength": 917,
          "time": 184.77394319232826,
          "type": "request"
         },
         {
          "queuelength": 917,
          "time": 184.7841267124968,
          "type": "release"
         },
         {
          "queuelength": 917,
          "time": 184.79894898653555,
          "type": "release"
         },
         {
          "queuelength": 915,
          "time": 184.83996490462764,
          "type": "release"
         },
         {
          "queuelength": 914,
          "time": 184.85398180063817,
          "type": "release"
         },
         {
          "queuelength": 913,
          "time": 184.8683567173145,
          "type": "release"
         },
         {
          "queuelength": 913,
          "time": 184.889130285725,
          "type": "request"
         },
         {
          "queuelength": 913,
          "time": 184.91472068252392,
          "type": "release"
         },
         {
          "queuelength": 912,
          "time": 184.91501002036307,
          "type": "release"
         },
         {
          "queuelength": 912,
          "time": 184.924124653362,
          "type": "release"
         },
         {
          "queuelength": 911,
          "time": 184.93887413634695,
          "type": "request"
         },
         {
          "queuelength": 911,
          "time": 184.955043908419,
          "type": "release"
         },
         {
          "queuelength": 911,
          "time": 184.96109716420855,
          "type": "request"
         },
         {
          "queuelength": 912,
          "time": 185.024816380689,
          "type": "request"
         },
         {
          "queuelength": 913,
          "time": 185.03413985248653,
          "type": "release"
         },
         {
          "queuelength": 911,
          "time": 185.0496295168887,
          "type": "release"
         },
         {
          "queuelength": 911,
          "time": 185.0560750004778,
          "type": "request"
         },
         {
          "queuelength": 912,
          "time": 185.08278216867447,
          "type": "request"
         },
         {
          "queuelength": 913,
          "time": 185.11030330733615,
          "type": "request"
         },
         {
          "queuelength": 914,
          "time": 185.12989964179033,
          "type": "release"
         },
         {
          "queuelength": 912,
          "time": 185.13054268042376,
          "type": "release"
         },
         {
          "queuelength": 912,
          "time": 185.14279589378745,
          "type": "request"
         },
         {
          "queuelength": 913,
          "time": 185.1618252048279,
          "type": "release"
         },
         {
          "queuelength": 912,
          "time": 185.1804965334789,
          "type": "request"
         },
         {
          "queuelength": 913,
          "time": 185.19962358485515,
          "type": "request"
         },
         {
          "queuelength": 914,
          "time": 185.26214392902497,
          "type": "request"
         },
         {
          "queuelength": 915,
          "time": 185.2700019930755,
          "type": "request"
         },
         {
          "queuelength": 916,
          "time": 185.3010910068248,
          "type": "request"
         },
         {
          "queuelength": 916,
          "time": 185.31839530368217,
          "type": "release"
         },
         {
          "queuelength": 916,
          "time": 185.32011977728706,
          "type": "request"
         },
         {
          "queuelength": 917,
          "time": 185.3324231693707,
          "type": "release"
         },
         {
          "queuelength": 916,
          "time": 185.33791111278492,
          "type": "request"
         },
         {
          "queuelength": 917,
          "time": 185.34400564532976,
          "type": "request"
         },
         {
          "queuelength": 918,
          "time": 185.35108703971798,
          "type": "request"
         },
         {
          "queuelength": 919,
          "time": 185.35626902415314,
          "type": "release"
         },
         {
          "queuelength": 918,
          "time": 185.37057127297768,
          "type": "request"
         },
         {
          "queuelength": 918,
          "time": 185.42598430815062,
          "type": "release"
         },
         {
          "queuelength": 917,
          "time": 185.47115553372095,
          "type": "release"
         },
         {
          "queuelength": 917,
          "time": 185.47261516055886,
          "type": "request"
         },
         {
          "queuelength": 918,
          "time": 185.49285689164935,
          "type": "request"
         },
         {
          "queuelength": 919,
          "time": 185.5247220657233,
          "type": "request"
         },
         {
          "queuelength": 920,
          "time": 185.57567683474073,
          "type": "request"
         },
         {
          "queuelength": 921,
          "time": 185.5949849810335,
          "type": "request"
         },
         {
          "queuelength": 921,
          "time": 185.59619103272132,
          "type": "release"
         },
         {
          "queuelength": 921,
          "time": 185.60167271640404,
          "type": "request"
         },
         {
          "queuelength": 922,
          "time": 185.62740388271334,
          "type": "request"
         },
         {
          "queuelength": 922,
          "time": 185.63475973916485,
          "type": "release"
         },
         {
          "queuelength": 922,
          "time": 185.6503695904397,
          "type": "request"
         },
         {
          "queuelength": 923,
          "time": 185.65171296984352,
          "type": "request"
         },
         {
          "queuelength": 923,
          "time": 185.68806503059082,
          "type": "release"
         },
         {
          "queuelength": 922,
          "time": 185.70786465130647,
          "type": "release"
         },
         {
          "queuelength": 922,
          "time": 185.72787101197872,
          "type": "request"
         },
         {
          "queuelength": 923,
          "time": 185.7438883466013,
          "type": "request"
         },
         {
          "queuelength": 923,
          "time": 185.76684985455407,
          "type": "release"
         },
         {
          "queuelength": 923,
          "time": 185.80462842898325,
          "type": "request"
         },
         {
          "queuelength": 924,
          "time": 185.81185993395874,
          "type": "release"
         },
         {
          "queuelength": 922,
          "time": 185.82009523507247,
          "type": "release"
         },
         {
          "queuelength": 922,
          "time": 185.83685119012574,
          "type": "request"
         },
         {
          "queuelength": 923,
          "time": 185.8621911992845,
          "type": "request"
         },
         {
          "queuelength": 924,
          "time": 185.86772333531172,
          "type": "release"
         },
         {
          "queuelength": 923,
          "time": 186.10607932197277,
          "type": "request"
         },
         {
          "queuelength": 923,
          "time": 186.15310483913217,
          "type": "release"
         },
         {
          "queuelength": 923,
          "time": 186.15585973309584,
          "type": "release"
         },
         {
          "queuelength": 921,
          "time": 186.19037959198738,
          "type": "release"
         },
         {
          "queuelength": 921,
          "time": 186.2472278123958,
          "type": "request"
         },
         {
          "queuelength": 922,
          "time": 186.25958061524562,
          "type": "request"
         },
         {
          "queuelength": 923,
          "time": 186.26591360490352,
          "type": "request"
         },
         {
          "queuelength": 924,
          "time": 186.29584088670092,
          "type": "request"
         },
         {
          "queuelength": 925,
          "time": 186.29610927703968,
          "type": "request"
         },
         {
          "queuelength": 925,
          "time": 186.30354214586814,
          "type": "release"
         },
         {
          "queuelength": 925,
          "time": 186.30790998870003,
          "type": "request"
         },
         {
          "queuelength": 925,
          "time": 186.33176330279775,
          "type": "release"
         },
         {
          "queuelength": 924,
          "time": 186.3594913876462,
          "type": "release"
         },
         {
          "queuelength": 923,
          "time": 186.36064747991946,
          "type": "release"
         },
         {
          "queuelength": 923,
          "time": 186.39292570760907,
          "type": "release"
         },
         {
          "queuelength": 922,
          "time": 186.40374522741718,
          "type": "request"
         },
         {
          "queuelength": 923,
          "time": 186.4288112480626,
          "type": "request"
         },
         {
          "queuelength": 924,
          "time": 186.43009383994456,
          "type": "request"
         },
         {
          "queuelength": 925,
          "time": 186.43260578682967,
          "type": "request"
         },
         {
          "queuelength": 925,
          "time": 186.44575944426919,
          "type": "release"
         },
         {
          "queuelength": 925,
          "time": 186.46144354674934,
          "type": "release"
         },
         {
          "queuelength": 923,
          "time": 186.46170882966413,
          "type": "release"
         },
         {
          "queuelength": 922,
          "time": 186.48222755832683,
          "type": "release"
         },
         {
          "queuelength": 921,
          "time": 186.54710640054407,
          "type": "release"
         },
         {
          "queuelength": 921,
          "time": 186.56277702767022,
          "type": "release"
         },
         {
          "queuelength": 920,
          "time": 186.56589372259978,
          "type": "request"
         },
         {
          "queuelength": 920,
          "time": 186.63443461595372,
          "type": "release"
         },
         {
          "queuelength": 920,
          "time": 186.69009187510818,
          "type": "release"
         },
         {
          "queuelength": 919,
          "time": 186.71374251600736,
          "type": "release"
         },
         {
          "queuelength": 917,
          "time": 186.72241490630893,
          "type": "release"
         },
         {
          "queuelength": 917,
          "time": 186.74115672516714,
          "type": "release"
         },
         {
          "queuelength": 916,
          "time": 186.75045970123642,
          "type": "request"
         },
         {
          "queuelength": 917,
          "time": 186.80565172607058,
          "type": "release"
         },
         {
          "queuelength": 916,
          "time": 186.8094951905572,
          "type": "request"
         },
         {
          "queuelength": 917,
          "time": 186.82483463614233,
          "type": "release"
         },
         {
          "queuelength": 916,
          "time": 186.84398755466913,
          "type": "request"
         },
         {
          "queuelength": 917,
          "time": 186.88224613601324,
          "type": "release"
         },
         {
          "queuelength": 916,
          "time": 186.92461192044928,
          "type": "request"
         },
         {
          "queuelength": 917,
          "time": 186.95005527281768,
          "type": "request"
         },
         {
          "queuelength": 918,
          "time": 186.99291915315655,
          "type": "request"
         },
         {
          "queuelength": 918,
          "time": 187.00513872787553,
          "type": "release"
         },
         {
          "queuelength": 917,
          "time": 187.0225826361656,
          "type": "release"
         },
         {
          "queuelength": 916,
          "time": 187.03436791895936,
          "type": "release"
         },
         {
          "queuelength": 916,
          "time": 187.04319723476817,
          "type": "request"
         },
         {
          "queuelength": 916,
          "time": 187.09520220665178,
          "type": "release"
         },
         {
          "queuelength": 916,
          "time": 187.0969283205747,
          "type": "request"
         },
         {
          "queuelength": 916,
          "time": 187.1082243306936,
          "type": "release"
         },
         {
          "queuelength": 915,
          "time": 187.11518927036497,
          "type": "release"
         },
         {
          "queuelength": 915,
          "time": 187.1514082279257,
          "type": "request"
         },
         {
          "queuelength": 916,
          "time": 187.22130362693892,
          "type": "release"
         },
         {
          "queuelength": 914,
          "time": 187.22579661680965,
          "type": "release"
         },
         {
          "queuelength": 914,
          "time": 187.23268154540546,
          "type": "request"
         },
         {
          "queuelength": 915,
          "time": 187.23918197691683,
          "type": "release"
         },
         {
          "queuelength": 913,
          "time": 187.30846286997144,
          "type": "release"
         },
         {
          "queuelength": 912,
          "time": 187.33943400991848,
          "type": "release"
         },
         {
          "queuelength": 912,
          "time": 187.34860584574412,
          "type": "request"
         },
         {
          "queuelength": 913,
          "time": 187.39014633205824,
          "type": "request"
         },
         {
          "queuelength": 914,
          "time": 187.39053022169838,
          "type": "request"
         },
         {
          "queuelength": 915,
          "time": 187.39404706629287,
          "type": "request"
         },
         {
          "queuelength": 916,
          "time": 187.426427779914,
          "type": "request"
         },
         {
          "queuelength": 917,
          "time": 187.43964092073497,
          "type": "request"
         },
         {
          "queuelength": 917,
          "time": 187.44079318970398,
          "type": "release"
         },
         {
          "queuelength": 916,
          "time": 187.4423426050034,
          "type": "release"
         },
         {
          "queuelength": 916,
          "time": 187.46717841099965,
          "type": "request"
         },
         {
          "queuelength": 917,
          "time": 187.46966146494458,
          "type": "release"
         },
         {
          "queuelength": 916,
          "time": 187.5009245599558,
          "type": "request"
         },
         {
          "queuelength": 916,
          "time": 187.51184045377101,
          "type": "release"
         },
         {
          "queuelength": 916,
          "time": 187.5154174595828,
          "type": "request"
         },
         {
          "queuelength": 917,
          "time": 187.60967561563194,
          "type": "release"
         },
         {
          "queuelength": 916,
          "time": 187.63071136348532,
          "type": "request"
         },
         {
          "queuelength": 916,
          "time": 187.65476924633379,
          "type": "release"
         },
         {
          "queuelength": 915,
          "time": 187.6557882644652,
          "type": "release"
         },
         {
          "queuelength": 915,
          "time": 187.67223687870626,
          "type": "request"
         },
         {
          "queuelength": 916,
          "time": 187.6979959729578,
          "type": "request"
         },
         {
          "queuelength": 916,
          "time": 187.7321121040548,
          "type": "release"
         },
         {
          "queuelength": 916,
          "time": 187.74706491611272,
          "type": "request"
         },
         {
          "queuelength": 917,
          "time": 187.75164642121734,
          "type": "request"
         },
         {
          "queuelength": 918,
          "time": 187.7874615973033,
          "type": "request"
         },
         {
          "queuelength": 919,
          "time": 187.84417584023572,
          "type": "release"
         },
         {
          "queuelength": 917,
          "time": 187.8652358179892,
          "type": "release"
         },
         {
          "queuelength": 917,
          "time": 187.92944087546607,
          "type": "request"
         },
         {
          "queuelength": 918,
          "time": 187.9311492884944,
          "type": "request"
         },
         {
          "queuelength": 919,
          "time": 187.99101162674933,
          "type": "release"
         },
         {
          "queuelength": 917,
          "time": 188.00271933067037,
          "type": "release"
         },
         {
          "queuelength": 917,
          "time": 188.00884059716154,
          "type": "release"
         },
         {
          "queuelength": 916,
          "time": 188.0128892980664,
          "type": "request"
         },
         {
          "queuelength": 917,
          "time": 188.01670346213322,
          "type": "release"
         },
         {
          "queuelength": 916,
          "time": 188.08711945778836,
          "type": "request"
         },
         {
          "queuelength": 917,
          "time": 188.19027605815097,
          "type": "request"
         },
         {
          "queuelength": 918,
          "time": 188.22085925217365,
          "type": "request"
         },
         {
          "queuelength": 919,
          "time": 188.24737830578766,
          "type": "request"
         },
         {
          "queuelength": 920,
          "time": 188.2952855157211,
          "type": "request"
         },
         {
          "queuelength": 920,
          "time": 188.3128893118294,
          "type": "release"
         },
         {
          "queuelength": 919,
          "time": 188.3260851181314,
          "type": "release"
         },
         {
          "queuelength": 919,
          "time": 188.3391126329324,
          "type": "release"
         },
         {
          "queuelength": 918,
          "time": 188.39454433008143,
          "type": "request"
         },
         {
          "queuelength": 919,
          "time": 188.4065352191509,
          "type": "request"
         },
         {
          "queuelength": 919,
          "time": 188.42781766796415,
          "type": "release"
         },
         {
          "queuelength": 919,
          "time": 188.46683988644486,
          "type": "request"
         },
         {
          "queuelength": 920,
          "time": 188.46905115125668,
          "type": "release"
         },
         {
          "queuelength": 919,
          "time": 188.47228995926466,
          "type": "release"
         },
         {
          "queuelength": 918,
          "time": 188.49484456147843,
          "type": "release"
         },
         {
          "queuelength": 917,
          "time": 188.51242183964695,
          "type": "request"
         },
         {
          "queuelength": 917,
          "time": 188.52643083580827,
          "type": "release"
         },
         {
          "queuelength": 917,
          "time": 188.53318410252288,
          "type": "request"
         },
         {
          "queuelength": 918,
          "time": 188.55309867385267,
          "type": "request"
         },
         {
          "queuelength": 918,
          "time": 188.58703399392965,
          "type": "release"
         },
         {
          "queuelength": 917,
          "time": 188.6187936182541,
          "type": "release"
         },
         {
          "queuelength": 917,
          "time": 188.62218119480656,
          "type": "request"
         },
         {
          "queuelength": 918,
          "time": 188.62832404447528,
          "type": "request"
         },
         {
          "queuelength": 918,
          "time": 188.65606506152847,
          "type": "release"
         },
         {
          "queuelength": 918,
          "time": 188.7027086673315,
          "type": "release"
         },
         {
          "queuelength": 917,
          "time": 188.71642594219946,
          "type": "request"
         },
         {
          "queuelength": 917,
          "time": 188.73741221816456,
          "type": "release"
         },
         {
          "queuelength": 916,
          "time": 188.7711114352411,
          "type": "release"
         },
         {
          "queuelength": 916,
          "time": 188.77368905217676,
          "type": "request"
         },
         {
          "queuelength": 917,
          "time": 188.8587295345642,
          "type": "request"
         },
         {
          "queuelength": 918,
          "time": 188.86399793799924,
          "type": "request"
         },
         {
          "queuelength": 919,
          "time": 188.8657055165897,
          "type": "release"
         },
         {
          "queuelength": 918,
          "time": 188.87318882317686,
          "type": "request"
         },
         {
          "queuelength": 919,
          "time": 188.88514464115718,
          "type": "request"
         },
         {
          "queuelength": 920,
          "time": 188.96253509413094,
          "type": "request"
         },
         {
          "queuelength": 921,
          "time": 188.9836382587874,
          "type": "request"
         },
         {
          "queuelength": 922,
          "time": 189.01246980173434,
          "type": "request"
         },
         {
          "queuelength": 923,
          "time": 189.02012143394737,
          "type": "request"
         },
         {
          "queuelength": 924,
          "time": 189.041474981365,
          "type": "request"
         },
         {
          "queuelength": 925,
          "time": 189.0776238488569,
          "type": "request"
         },
         {
          "queuelength": 926,
          "time": 189.09347012393326,
          "type": "release"
         },
         {
          "queuelength": 925,
          "time": 189.10051986759987,
          "type": "release"
         },
         {
          "queuelength": 923,
          "time": 189.13321862973703,
          "type": "release"
         },
         {
          "queuelength": 922,
          "time": 189.16107067910207,
          "type": "release"
         },
         {
          "queuelength": 922,
          "time": 189.2481203664355,
          "type": "request"
         },
         {
          "queuelength": 923,
          "time": 189.27845155811343,
          "type": "release"
         },
         {
          "queuelength": 921,
          "time": 189.28811997705398,
          "type": "release"
         },
         {
          "queuelength": 921,
          "time": 189.3221549755384,
          "type": "request"
         },
         {
          "queuelength": 922,
          "time": 189.3392234307426,
          "type": "release"
         },
         {
          "queuelength": 920,
          "time": 189.37301058385248,
          "type": "release"
         },
         {
          "queuelength": 920,
          "time": 189.43633363403197,
          "type": "request"
         },
         {
          "queuelength": 921,
          "time": 189.443366631533,
          "type": "release"
         },
         {
          "queuelength": 920,
          "time": 189.4461004666646,
          "type": "request"
         },
         {
          "queuelength": 921,
          "time": 189.47892600440798,
          "type": "request"
         },
         {
          "queuelength": 922,
          "time": 189.4861612054749,
          "type": "request"
         },
         {
          "queuelength": 923,
          "time": 189.48791332345206,
          "type": "request"
         },
         {
          "queuelength": 924,
          "time": 189.5009003680966,
          "type": "release"
         },
         {
          "queuelength": 922,
          "time": 189.51789523680074,
          "type": "release"
         },
         {
          "queuelength": 922,
          "time": 189.5448909573615,
          "type": "request"
         },
         {
          "queuelength": 923,
          "time": 189.58379180814944,
          "type": "request"
         },
         {
          "queuelength": 924,
          "time": 189.61584427017178,
          "type": "release"
         },
         {
          "queuelength": 923,
          "time": 189.62170702187768,
          "type": "request"
         },
         {
          "queuelength": 924,
          "time": 189.6364867613882,
          "type": "request"
         },
         {
          "queuelength": 924,
          "time": 189.7442367869602,
          "type": "release"
         },
         {
          "queuelength": 924,
          "time": 189.75446023822587,
          "type": "request"
         },
         {
          "queuelength": 925,
          "time": 189.77191847134006,
          "type": "request"
         },
         {
          "queuelength": 925,
          "time": 189.7836214078614,
          "type": "release"
         },
         {
          "queuelength": 925,
          "time": 189.82265435421346,
          "type": "release"
         },
         {
          "queuelength": 924,
          "time": 189.83869466786263,
          "type": "request"
         },
         {
          "queuelength": 925,
          "time": 189.84819012621116,
          "type": "release"
         },
         {
          "queuelength": 924,
          "time": 189.84888703539826,
          "type": "request"
         },
         {
          "queuelength": 925,
          "time": 189.88773989930613,
          "type": "request"
         },
         {
          "queuelength": 925,
          "time": 189.93700598981212,
          "type": "release"
         },
         {
          "queuelength": 925,
          "time": 189.9387728982029,
          "type": "release"
         },
         {
          "queuelength": 924,
          "time": 189.962871195301,
          "type": "request"
         },
         {
          "queuelength": 924,
          "time": 189.99834339608398,
          "type": "release"
         },
         {
          "queuelength": 924,
          "time": 190.052122401136,
          "type": "request"
         },
         {
          "queuelength": 925,
          "time": 190.05902200618337,
          "type": "request"
         },
         {
          "queuelength": 926,
          "time": 190.09430688574452,
          "type": "request"
         },
         {
          "queuelength": 927,
          "time": 190.1095918816073,
          "type": "release"
         },
         {
          "queuelength": 925,
          "time": 190.11139099986733,
          "type": "release"
         },
         {
          "queuelength": 924,
          "time": 190.14351284790047,
          "type": "release"
         },
         {
          "queuelength": 923,
          "time": 190.15421916914474,
          "type": "release"
         },
         {
          "queuelength": 923,
          "time": 190.17485871678636,
          "type": "release"
         },
         {
          "queuelength": 921,
          "time": 190.18178447593064,
          "type": "release"
         },
         {
          "queuelength": 921,
          "time": 190.1897895296879,
          "type": "request"
         },
         {
          "queuelength": 922,
          "time": 190.22260119962482,
          "type": "request"
         },
         {
          "queuelength": 922,
          "time": 190.22314045570718,
          "type": "release"
         },
         {
          "queuelength": 922,
          "time": 190.22955309578904,
          "type": "release"
         },
         {
          "queuelength": 921,
          "time": 190.23375197219065,
          "type": "request"
         },
         {
          "queuelength": 921,
          "time": 190.27836375820524,
          "type": "release"
         },
         {
          "queuelength": 921,
          "time": 190.28465812975858,
          "type": "request"
         },
         {
          "queuelength": 921,
          "time": 190.3136235512935,
          "type": "release"
         },
         {
          "queuelength": 920,
          "time": 190.3255820628222,
          "type": "release"
         },
         {
          "queuelength": 920,
          "time": 190.40716173410573,
          "type": "request"
         },
         {
          "queuelength": 921,
          "time": 190.4091262711258,
          "type": "request"
         },
         {
          "queuelength": 922,
          "time": 190.41367163938588,
          "type": "request"
         },
         {
          "queuelength": 923,
          "time": 190.45600546365117,
          "type": "request"
         },
         {
          "queuelength": 924,
          "time": 190.51200627199265,
          "type": "release"
         },
         {
          "queuelength": 923,
          "time": 190.52020093681725,
          "type": "request"
         },
         {
          "queuelength": 924,
          "time": 190.54807301208683,
          "type": "request"
         },
         {
          "queuelength": 925,
          "time": 190.5614268209061,
          "type": "request"
         },
         {
          "queuelength": 926,
          "time": 190.57114227046986,
          "type": "request"
         },
         {
          "queuelength": 927,
          "time": 190.59268643131236,
          "type": "request"
         },
         {
          "queuelength": 928,
          "time": 190.59619103272132,
          "type": "request"
         },
         {
          "queuelength": 928,
          "time": 190.6413895691067,
          "type": "release"
         },
         {
          "queuelength": 928,
          "time": 190.65590601005016,
          "type": "request"
         },
         {
          "queuelength": 929,
          "time": 190.69301200750385,
          "type": "request"
         },
         {
          "queuelength": 929,
          "time": 190.70713076861225,
          "type": "release"
         },
         {
          "queuelength": 929,
          "time": 190.72065649876862,
          "type": "request"
         },
         {
          "queuelength": 930,
          "time": 190.72281679002768,
          "type": "release"
         },
         {
          "queuelength": 929,
          "time": 190.72328313285246,
          "type": "request"
         },
         {
          "queuelength": 930,
          "time": 190.73168239227954,
          "type": "request"
         },
         {
          "queuelength": 931,
          "time": 190.75622605264627,
          "type": "request"
         },
         {
          "queuelength": 932,
          "time": 190.75707617493774,
          "type": "release"
         },
         {
          "queuelength": 930,
          "time": 190.80138257284582,
          "type": "release"
         },
         {
          "queuelength": 929,
          "time": 190.808307589375,
          "type": "release"
         },
         {
          "queuelength": 929,
          "time": 190.8128251930834,
          "type": "release"
         },
         {
          "queuelength": 928,
          "time": 190.81775139962136,
          "type": "release"
         },
         {
          "queuelength": 927,
          "time": 190.8539487366882,
          "type": "request"
         },
         {
          "queuelength": 928,
          "time": 190.89307622779944,
          "type": "request"
         },
         {
          "queuelength": 929,
          "time": 190.9465898880847,
          "type": "request"
         },
         {
          "queuelength": 929,
          "time": 191.02612056511637,
          "type": "release"
         },
         {
          "queuelength": 928,
          "time": 191.06302922778704,
          "type": "release"
         },
         {
          "queuelength": 928,
          "time": 191.06366484743907,
          "type": "release"
         },
         {
          "queuelength": 927,
          "time": 191.09179369860587,
          "type": "release"
         },
         {
          "queuelength": 926,
          "time": 191.1688276457104,
          "type": "request"
         },
         {
          "queuelength": 926,
          "time": 191.19061114235717,
          "type": "release"
         },
         {
          "queuelength": 925,
          "time": 191.1935230199299,
          "type": "release"
         },
         {
          "queuelength": 924,
          "time": 191.1961511682039,
          "type": "release"
         },
         {
          "queuelength": 924,
          "time": 191.27427907122186,
          "type": "request"
         },
         {
          "queuelength": 925,
          "time": 191.31555288908447,
          "type": "request"
         },
         {
          "queuelength": 925,
          "time": 191.37162870524313,
          "type": "release"
         },
         {
          "queuelength": 925,
          "time": 191.37252054091334,
          "type": "release"
         },
         {
          "queuelength": 924,
          "time": 191.38418042374104,
          "type": "release"
         },
         {
          "queuelength": 923,
          "time": 191.46103802267552,
          "type": "release"
         },
         {
          "queuelength": 921,
          "time": 191.48618583280958,
          "type": "release"
         },
         {
          "queuelength": 921,
          "time": 191.50979640231176,
          "type": "request"
         },
         {
          "queuelength": 922,
          "time": 191.50987966117953,
          "type": "request"
         },
         {
          "queuelength": 922,
          "time": 191.51834171903886,
          "type": "release"
         },
         {
          "queuelength": 921,
          "time": 191.57512862581154,
          "type": "release"
         },
         {
          "queuelength": 920,
          "time": 191.5805841092962,
          "type": "release"
         },
         {
          "queuelength": 920,
          "time": 191.6293364388185,
          "type": "release"
         },
         {
          "queuelength": 919,
          "time": 191.7376666451634,
          "type": "request"
         },
         {
          "queuelength": 919,
          "time": 191.74388754897507,
          "type": "release"
         },
         {
          "queuelength": 919,
          "time": 191.7508139934509,
          "type": "release"
         },
         {
          "queuelength": 917,
          "time": 191.78774797278498,
          "type": "release"
         },
         {
          "queuelength": 917,
          "time": 191.79292781200826,
          "type": "request"
         },
         {
          "queuelength": 918,
          "time": 191.80227378024443,
          "type": "request"
         },
         {
          "queuelength": 918,
          "time": 191.81078967395,
          "type": "release"
         },
         {
          "queuelength": 917,
          "time": 191.83498178696294,
          "type": "release"
         },
         {
          "queuelength": 916,
          "time": 191.87250384149166,
          "type": "release"
         },
         {
          "queuelength": 915,
          "time": 191.88696843675126,
          "type": "release"
         },
         {
          "queuelength": 914,
          "time": 191.89495843607912,
          "type": "release"
         },
         {
          "queuelength": 914,
          "time": 191.91156289113118,
          "type": "release"
         },
         {
          "queuelength": 913,
          "time": 191.91318024788373,
          "type": "release"
         },
         {
          "queuelength": 912,
          "time": 191.96256450229635,
          "type": "request"
         },
         {
          "queuelength": 913,
          "time": 191.99918903502623,
          "type": "request"
         },
         {
          "queuelength": 914,
          "time": 192.01455166252975,
          "type": "release"
         },
         {
          "queuelength": 913,
          "time": 192.0225826361656,
          "type": "request"
         },
         {
          "queuelength": 914,
          "time": 192.0230170452578,
          "type": "release"
         },
         {
          "queuelength": 913,
          "time": 192.03408922664588,
          "type": "request"
         },
         {
          "queuelength": 914,
          "time": 192.04458633278853,
          "type": "request"
         },
         {
          "queuelength": 915,
          "time": 192.05390809204556,
          "type": "request"
         },
         {
          "queuelength": 915,
          "time": 192.0701471439552,
          "type": "release"
         },
         {
          "queuelength": 915,
          "time": 192.11518927036497,
          "type": "request"
         },
         {
          "queuelength": 916,
          "time": 192.12419096318587,
          "type": "request"
         },
         {
          "queuelength": 917,
          "time": 192.1319300909685,
          "type": "release"
         },
         {
          "queuelength": 915,
          "time": 192.16731851144675,
          "type": "release"
         },
         {
          "queuelength": 915,
          "time": 192.18250471493351,
          "type": "release"
         },
         {
          "queuelength": 914,
          "time": 192.20114461255488,
          "type": "request"
         },
         {
          "queuelength": 914,
          "time": 192.2129700961745,
          "type": "release"
         },
         {
          "queuelength": 913,
          "time": 192.26658967363957,
          "type": "release"
         },
         {
          "queuelength": 913,
          "time": 192.3265661564534,
          "type": "request"
         },
         {
          "queuelength": 914,
          "time": 192.38819619979677,
          "type": "request"
         },
         {
          "queuelength": 914,
          "time": 192.40692836894473,
          "type": "release"
         },
         {
          "queuelength": 914,
          "time": 192.44232264131352,
          "type": "request"
         },
         {
          "queuelength": 915,
          "time": 192.4423426050034,
          "type": "request"
         },
         {
          "queuelength": 915,
          "time": 192.46538640806187,
          "type": "release"
         },
         {
          "queuelength": 915,
          "time": 192.53267312628807,
          "type": "request"
         },
         {
          "queuelength": 915,
          "time": 192.54182406018563,
          "type": "release"
         },
         {
          "queuelength": 914,
          "time": 192.5618734978122,
          "type": "release"
         },
         {
          "queuelength": 914,
          "time": 192.5855755142952,
          "type": "request"
         },
         {
          "queuelength": 915,
          "time": 192.59977939428128,
          "type": "release"
         },
         {
          "queuelength": 913,
          "time": 192.60751694766822,
          "type": "release"
         },
         {
          "queuelength": 913,
          "time": 192.6079229503831,
          "type": "request"
         },
         {
          "queuelength": 914,
          "time": 192.6164499776195,
          "type": "release"
         },
         {
          "queuelength": 912,
          "time": 192.62116967342507,
          "type": "release"
         },
         {
          "queuelength": 912,
          "time": 192.67155327037094,
          "type": "request"
         },
         {
          "queuelength": 913,
          "time": 192.69826148003534,
          "type": "request"
         },
         {
          "queuelength": 913,
          "time": 192.70566234056298,
          "type": "release"
         },
         {
          "queuelength": 913,
          "time": 192.71957983194434,
          "type": "release"
         },
         {
          "queuelength": 911,
          "time": 192.7719887727897,
          "type": "release"
         },
         {
          "queuelength": 910,
          "time": 192.77746713130367,
          "type": "release"
         },
         {
          "queuelength": 909,
          "time": 192.8009144191307,
          "type": "release"
         },
         {
          "queuelength": 909,
          "time": 192.8168659344641,
          "type": "request"
         },
         {
          "queuelength": 909,
          "time": 192.8177381090079,
          "type": "release"
         },
         {
          "queuelength": 909,
          "time": 192.8227787002103,
          "type": "request"
         },
         {
          "queuelength": 910,
          "time": 192.83659798727783,
          "type": "request"
         },
         {
          "queuelength": 911,
          "time": 192.8775560717263,
          "type": "request"
         },
         {
          "queuelength": 911,
          "time": 192.9123939588266,
          "type": "release"
         },
         {
          "queuelength": 911,
          "time": 192.9501394759985,
          "type": "request"
         },
         {
          "queuelength": 911,
          "time": 193.0097723601225,
          "type": "release"
         },
         {
          "queuelength": 910,
          "time": 193.03458010211722,
          "type": "release"
         },
         {
          "queuelength": 909,
          "time": 193.050281011687,
          "type": "release"
         },
         {
          "queuelength": 909,
          "time": 193.0899159180096,
          "type": "release"
         },
         {
          "queuelength": 908,
          "time": 193.0953553105806,
          "type": "request"
         },
         {
          "queuelength": 909,
          "time": 193.16237379577223,
          "type": "release"
         },
         {
          "queuelength": 907,
          "time": 193.18564854419412,
          "type": "release"
         },
         {
          "queuelength": 907,
          "time": 193.20277189761669,
          "type": "release"
         },
         {
          "queuelength": 906,
          "time": 193.27162037379026,
          "type": "release"
         },
         {
          "queuelength": 904,
          "time": 193.2953816685999,
          "type": "release"
         },
         {
          "queuelength": 904,
          "time": 193.30512560715206,
          "type": "release"
         },
         {
          "queuelength": 902,
          "time": 193.3053730592777,
          "type": "release"
         },
         {
          "queuelength": 902,
          "time": 193.3090670673235,
          "type": "request"
         },
         {
          "queuelength": 903,
          "time": 193.3094518330215,
          "type": "request"
         },
         {
          "queuelength": 903,
          "time": 193.31308561853,
          "type": "release"
         },
         {
          "queuelength": 903,
          "time": 193.31839662625578,
          "type": "release"
         },
         {
          "queuelength": 902,
          "time": 193.33787025086167,
          "type": "request"
         },
         {
          "queuelength": 903,
          "time": 193.344620464944,
          "type": "release"
         },
         {
          "queuelength": 902,
          "time": 193.3628230992182,
          "type": "release"
         },
         {
          "queuelength": 901,
          "time": 193.38578496730673,
          "type": "release"
         },
         {
          "queuelength": 901,
          "time": 193.43804687856053,
          "type": "release"
         },
         {
          "queuelength": 901,
          "time": 193.51514848394683,
          "type": "request"
         },
         {
          "queuelength": 901,
          "time": 193.5874928393271,
          "type": "release"
         },
         {
          "queuelength": 901,
          "time": 193.63308089047982,
          "type": "request"
         },
         {
          "queuelength": 902,
          "time": 193.63829092354052,
          "type": "request"
         },
         {
          "queuelength": 903,
          "time": 193.64719157843774,
          "type": "release"
         },
         {
          "queuelength": 902,
          "time": 193.68836218612364,
          "type": "request"
         },
         {
          "queuelength": 903,
          "time": 193.7112310487554,
          "type": "release"
         },
         {
          "queuelength": 902,
          "time": 193.71500572089235,
          "type": "request"
         },
         {
          "queuelength": 903,
          "time": 193.74787619325195,
          "type": "request"
         },
         {
          "queuelength": 904,
          "time": 193.78525309754806,
          "type": "request"
         },
         {
          "queuelength": 904,
          "time": 193.79829732802472,
          "type": "release"
         },
         {
          "queuelength": 904,
          "time": 193.8228145887683,
          "type": "release"
         },
         {
          "queuelength": 903,
          "time": 193.84093554730262,
          "type": "request"
         },
         {
          "queuelength": 903,
          "time": 193.88167478594062,
          "type": "release"
         },
         {
          "queuelength": 902,
          "time": 193.88288952183615,
          "type": "release"
         },
         {
          "queuelength": 902,
          "time": 193.88311207167192,
          "type": "request"
         },
         {
          "queuelength": 903,
          "time": 193.91169768740968,
          "type": "request"
         },
         {
          "queuelength": 904,
          "time": 193.9135702982416,
          "type": "request"
         },
         {
          "queuelength": 904,
          "time": 193.9317551450336,
          "type": "release"
         },
         {
          "queuelength": 904,
          "time": 193.93266183587238,
          "type": "request"
         },
         {
          "queuelength": 905,
          "time": 193.96004760052597,
          "type": "request"
         },
         {
          "queuelength": 905,
          "time": 193.96626319652168,
          "type": "release"
         },
         {
          "queuelength": 905,
          "time": 194.006162249526,
          "type": "request"
         },
         {
          "queuelength": 906,
          "time": 194.03130166755523,
          "type": "release"
         },
         {
          "queuelength": 904,
          "time": 194.06879515526015,
          "type": "release"
         },
         {
          "queuelength": 904,
          "time": 194.06951970306616,
          "type": "release"
         },
         {
          "queuelength": 903,
          "time": 194.11425569685736,
          "type": "request"
         },
         {
          "queuelength": 904,
          "time": 194.12614671661711,
          "type": "release"
         },
         {
          "queuelength": 903,
          "time": 194.15234218343505,
          "type": "release"
         },
         {
          "queuelength": 902,
          "time": 194.1594038778567,
          "type": "request"
         },
         {
          "queuelength": 903,
          "time": 194.22249584774332,
          "type": "request"
         },
         {
          "queuelength": 904,
          "time": 194.23029220899798,
          "type": "request"
         },
         {
          "queuelength": 904,
          "time": 194.25956938640124,
          "type": "release"
         },
         {
          "queuelength": 904,
          "time": 194.30376051535544,
          "type": "request"
         },
         {
          "queuelength": 905,
          "time": 194.32530306028076,
          "type": "request"
         },
         {
          "queuelength": 905,
          "time": 194.32739392244963,
          "type": "release"
         },
         {
          "queuelength": 904,
          "time": 194.38316241188457,
          "type": "release"
         },
         {
          "queuelength": 903,
          "time": 194.42178485762733,
          "type": "release"
         },
         {
          "queuelength": 903,
          "time": 194.43941377174207,
          "type": "release"
         },
         {
          "queuelength": 902,
          "time": 194.5582818167199,
          "type": "request"
         },
         {
          "queuelength": 903,
          "time": 194.55890805733216,
          "type": "request"
         },
         {
          "queuelength": 904,
          "time": 194.59568639711384,
          "type": "release"
         },
         {
          "queuelength": 902,
          "time": 194.66989086497406,
          "type": "release"
         },
         {
          "queuelength": 901,
          "time": 194.67455914256283,
          "type": "release"
         },
         {
          "queuelength": 901,
          "time": 195.2230888272395,
          "type": "request"
         },
         {
          "queuelength": 901,
          "time": 195.26461999438925,
          "type": "release"
         },
         {
          "queuelength": 901,
          "time": 195.31476796704533,
          "type": "request"
         },
         {
          "queuelength": 902,
          "time": 195.31908509889016,
          "type": "release"
         }
        ]
       },
       "encoding": {
        "x": {
         "bin": {
          "maxbins": 25
         },
         "field": "time",
         "type": "quantitative"
        },
        "y": {
         "aggregate": "count",
         "type": "quantitative"
        }
       },
       "mark": "bar"
      },
      "image/png": "[encoded data removed]",
      "text/plain": [
       "<VegaLite 2 object>\n",
       "\n",
       "If you see this message, it means the renderer has not been properly enabled\n",
       "for the frontend that you are using. For more information, see\n",
       "https://altair-viz.github.io/user_guide/troubleshooting.html\n"
      ]
     },
     "execution_count": 33,
     "metadata": {},
     "output_type": "execute_result"
    }
   ],
   "source": [
    "# so there was a peak in the beginning of the day and the end of the day.  Pass a bin() object to \n",
    "# have finer control over the number of bins\n",
    "\n",
    "alt.Chart(data).mark_bar().encode(\n",
    "    alt.X(\"time:Q\", bin=alt.Bin(maxbins=25)),\n",
    "    y='count()',\n",
    ")\n"
   ]
  },
  {
   "cell_type": "code",
   "execution_count": null,
   "metadata": {},
   "outputs": [],
   "source": []
  }
 ],
 "metadata": {
  "kernelspec": {
   "display_name": "Python 3",
   "language": "python",
   "name": "python3"
  },
  "language_info": {
   "codemirror_mode": {
    "name": "ipython",
    "version": 3
   },
   "file_extension": ".py",
   "mimetype": "text/x-python",
   "name": "python",
   "nbconvert_exporter": "python",
   "pygments_lexer": "ipython3",
   "version": "3.6.5"
  }
 },
 "nbformat": 4,
 "nbformat_minor": 2
}
